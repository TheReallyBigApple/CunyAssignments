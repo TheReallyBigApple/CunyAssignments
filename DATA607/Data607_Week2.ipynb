{
  "nbformat": 4,
  "nbformat_minor": 0,
  "metadata": {
    "kernelspec": {
      "display_name": "Python 3",
      "language": "python",
      "name": "python3"
    },
    "language_info": {
      "codemirror_mode": {
        "name": "ipython",
        "version": 3
      },
      "file_extension": ".py",
      "mimetype": "text/x-python",
      "name": "python",
      "nbconvert_exporter": "python",
      "pygments_lexer": "ipython3",
      "version": "3.8.5"
    },
    "colab": {
      "name": "Data607_Week2.ipynb",
      "provenance": [],
      "collapsed_sections": [],
      "include_colab_link": true
    }
  },
  "cells": [
    {
      "cell_type": "markdown",
      "metadata": {
        "id": "view-in-github",
        "colab_type": "text"
      },
      "source": [
        "<a href=\"https://colab.research.google.com/github/TheReallyBigApple/CunyAssignments/blob/main/DATA607/Data607_Week2.ipynb\" target=\"_parent\"><img src=\"https://colab.research.google.com/assets/colab-badge.svg\" alt=\"Open In Colab\"/></a>"
      ]
    },
    {
      "cell_type": "markdown",
      "metadata": {
        "id": "KqFXE6zXfc17"
      },
      "source": [
        "# Data607_Week2\n",
        "\n",
        "Tom Buonora\n",
        "September 4, 2021\n",
        "\n",
        "<br><br><br><br>\n",
        "\n",
        "<center><font size=\"7\" color=\"purple\">Movie Ratings : Friends vs. IMDB</font></center>\n",
        "\n",
        "<br><br><br><br><br>"
      ]
    },
    {
      "cell_type": "markdown",
      "metadata": {
        "id": "3bedrycLfc1_"
      },
      "source": [
        "This exercise queries a small dataset from MySQL to look at how 5 friends rated 6 movies.\n",
        "The question is how do our friends ratings compare to IMDB.\n",
        "The schema is normalized across 3 tables as follow.\n",
        "\n",
        "<br><br><br><br>\n",
        "\n",
        "Click on the links to see the files:\n",
        "\n",
        "<br><br>\n",
        "\n",
        "<table>\n",
        "  <tr>\n",
        "    <th>Description</th>\n",
        "    <th>DB Table</th>\n",
        "    <th>CSV File</th>\n",
        "  </tr>\n",
        "  <tr>\n",
        "    <td>6 Movies</td>\n",
        "    <td>movies</td>\n",
        "    <td><a href=\"https://github.com/TheReallyBigApple/CunyAssignments/blob/main/DATA607/607_Movies.csv\"> 607_Movies.csv</td>\n",
        "  </tr>\n",
        "    <tr>\n",
        "        <td>5 Friends</td>\n",
        "        <td>people</td>\n",
        "      <td><a href=\"https://github.com/TheReallyBigApple/CunyAssignments/blob/main/DATA607/607_People.csv\">607_People.csv</td>\n",
        "    </tr>\n",
        "     <tr>\n",
        "         <td>Movie,Person, Rating</td>\n",
        "         <td>ratings</td>\n",
        "     <td><a href=\"https://github.com/TheReallyBigApple/CunyAssignments/blob/main/DATA607/607_Ratings.csv\">607_Ratings.csv</td>\n",
        "    </tr>\n",
        "</table>\n",
        "\n",
        "<br><br><br><br>\n",
        "All Database code is [here](https://github.com/TheReallyBigApple/CunyAssignments/blob/main/DATA607/607_week2.sql)\n",
        "<br><br><br><br>\n"
      ]
    },
    {
      "cell_type": "code",
      "metadata": {
        "id": "42JPYn8Bfc2A"
      },
      "source": [
        "import os\n",
        "import mysql.connector\n",
        "from mysql.connector import Error\n",
        "from IPython.display import display, HTML,display_html \n",
        "import pandas as pd"
      ],
      "execution_count": null,
      "outputs": []
    },
    {
      "cell_type": "markdown",
      "metadata": {
        "id": "I6cu7Pngfc2B"
      },
      "source": [
        "<br><br><br><br>\n",
        "\n",
        "The ratings file has 30 entries but some of my friends havent seen the movie yet so they have a blank rating.\n",
        "<br>\n",
        "We will handle those in the R code.\n",
        "<br>\n",
        "\n",
        "1) Get password from the environment\n",
        "<br>\n"
      ]
    },
    {
      "cell_type": "code",
      "metadata": {
        "id": "uYL54Mnwfc2B"
      },
      "source": [
        "KEY='DATA607_PASSWORD'\n",
        "mysql_password = os.getenv(KEY)\n",
        "# to set password, as administrator, setx -m  DATA607_PASSWORD <password>"
      ],
      "execution_count": null,
      "outputs": []
    },
    {
      "cell_type": "markdown",
      "metadata": {
        "id": "1IOVl7ajfc2C"
      },
      "source": [
        "<br>\n",
        "2) Connect to database\n",
        "<br>"
      ]
    },
    {
      "cell_type": "code",
      "metadata": {
        "id": "HjbOuVxcfc2C",
        "outputId": "86231d88-43a2-4017-8be8-e697cf2a6b68"
      },
      "source": [
        "\n",
        "try:\n",
        "        conn = mysql.connector.connect(host='localhost',\n",
        "                                       database='DATA607',\n",
        "                                       user='root',\n",
        "                                       password=mysql_password)\n",
        "        if conn.is_connected():\n",
        "            print('Connected to MySQL database')\n",
        "\n",
        "\n",
        "        cursor = conn.cursor()\n",
        "      \n",
        "\n",
        "except Error as e:\n",
        "        print(\"Failed to connect to database \" , e)\n",
        "        \n",
        "   \n"
      ],
      "execution_count": null,
      "outputs": [
        {
          "name": "stdout",
          "output_type": "stream",
          "text": [
            "Connected to MySQL database\n"
          ]
        }
      ]
    },
    {
      "cell_type": "markdown",
      "metadata": {
        "id": "5y1w_7TLfc2E"
      },
      "source": [
        "<br>\n",
        "3) Query each table into data frames.\n",
        "<br>"
      ]
    },
    {
      "cell_type": "code",
      "metadata": {
        "id": "Fmgh77p3fc2F"
      },
      "source": [
        "try:\n",
        "    cursor.execute(\"select * from movies\")\n",
        "    movies_df = pd.DataFrame(cursor.fetchall())\n",
        "except Error as e:\n",
        "    print(\"Failed to select from movies \" , e)\n",
        "\n",
        "try:\n",
        "    cursor.execute(\"select * from people\")\n",
        "    people_df = pd.DataFrame(cursor.fetchall())\n",
        "except Error as e:\n",
        "    print(\"Failed to select from people \" , e)\n",
        "\n",
        "try:\n",
        "    cursor.execute(\"select * from ratings\")\n",
        "    ratings_df = pd.DataFrame(cursor.fetchall())\n",
        "except Error as e:\n",
        "    print(\"Failed to select from ratings \" , e)\n",
        "    \n",
        "\n",
        "conn.close()"
      ],
      "execution_count": null,
      "outputs": []
    },
    {
      "cell_type": "markdown",
      "metadata": {
        "id": "M6yJuhSqfc2G"
      },
      "source": [
        "<br>\n",
        "4) Restore the column headers\n",
        "<br>"
      ]
    },
    {
      "cell_type": "code",
      "metadata": {
        "id": "LBvgvvyUfc2G"
      },
      "source": [
        "movies_df.columns = ['id', 'name', 'imdb_rating', 'lead_actor']\n",
        "people_df.columns = ['id', 'name']\n",
        "ratings_df.columns = ['people_id', 'movie_id', 'rating']"
      ],
      "execution_count": null,
      "outputs": []
    },
    {
      "cell_type": "markdown",
      "metadata": {
        "id": "l_eB7PUpfc2G"
      },
      "source": [
        "<br>\n",
        "5) Remove the carriage returns\n",
        "<br>"
      ]
    },
    {
      "cell_type": "code",
      "metadata": {
        "id": "ABx4yEA1fc2G"
      },
      "source": [
        "movies_df['lead_actor'] = movies_df['lead_actor'].str.strip()\n",
        "people_df['name'] = people_df['name'].str.strip()"
      ],
      "execution_count": null,
      "outputs": []
    },
    {
      "cell_type": "markdown",
      "metadata": {
        "id": "fuW4kvEgfc2H"
      },
      "source": [
        "<br>\n",
        "6) Display tables\n",
        "<br>"
      ]
    },
    {
      "cell_type": "code",
      "metadata": {
        "id": "UVU6hbu0fc2H",
        "outputId": "d7faf211-8a34-4aad-ed3c-f926f0bc3c6a"
      },
      "source": [
        "df1_styler = movies_df.head(n=3).style.set_table_attributes(\"style='display:inline'\").set_caption('Movies')\n",
        "df2_styler = people_df.head(n=3).style.set_table_attributes(\"style='display:inline'\").set_caption('People')\n",
        "\n",
        "space = \"\\xa0\" * 50\n",
        "display_html(df1_styler._repr_html_()+space+df2_styler._repr_html_(), raw=True)"
      ],
      "execution_count": null,
      "outputs": [
        {
          "data": {
            "text/html": [
              "<style  type=\"text/css\" >\n",
              "</style><table id=\"T_1c450e0e_0de5_11ec_a56b_ec5c68b952e8\" style='display:inline'><caption>Movies</caption><thead>    <tr>        <th class=\"blank level0\" ></th>        <th class=\"col_heading level0 col0\" >id</th>        <th class=\"col_heading level0 col1\" >name</th>        <th class=\"col_heading level0 col2\" >imdb_rating</th>        <th class=\"col_heading level0 col3\" >lead_actor</th>    </tr></thead><tbody>\n",
              "                <tr>\n",
              "                        <th id=\"T_1c450e0e_0de5_11ec_a56b_ec5c68b952e8level0_row0\" class=\"row_heading level0 row0\" >0</th>\n",
              "                        <td id=\"T_1c450e0e_0de5_11ec_a56b_ec5c68b952e8row0_col0\" class=\"data row0 col0\" >1</td>\n",
              "                        <td id=\"T_1c450e0e_0de5_11ec_a56b_ec5c68b952e8row0_col1\" class=\"data row0 col1\" >I Care a lot</td>\n",
              "                        <td id=\"T_1c450e0e_0de5_11ec_a56b_ec5c68b952e8row0_col2\" class=\"data row0 col2\" >6.300000</td>\n",
              "                        <td id=\"T_1c450e0e_0de5_11ec_a56b_ec5c68b952e8row0_col3\" class=\"data row0 col3\" >Rosamund Pike</td>\n",
              "            </tr>\n",
              "            <tr>\n",
              "                        <th id=\"T_1c450e0e_0de5_11ec_a56b_ec5c68b952e8level0_row1\" class=\"row_heading level0 row1\" >1</th>\n",
              "                        <td id=\"T_1c450e0e_0de5_11ec_a56b_ec5c68b952e8row1_col0\" class=\"data row1 col0\" >2</td>\n",
              "                        <td id=\"T_1c450e0e_0de5_11ec_a56b_ec5c68b952e8row1_col1\" class=\"data row1 col1\" >State of Play</td>\n",
              "                        <td id=\"T_1c450e0e_0de5_11ec_a56b_ec5c68b952e8row1_col2\" class=\"data row1 col2\" >7.100000</td>\n",
              "                        <td id=\"T_1c450e0e_0de5_11ec_a56b_ec5c68b952e8row1_col3\" class=\"data row1 col3\" >Ben Affleck</td>\n",
              "            </tr>\n",
              "            <tr>\n",
              "                        <th id=\"T_1c450e0e_0de5_11ec_a56b_ec5c68b952e8level0_row2\" class=\"row_heading level0 row2\" >2</th>\n",
              "                        <td id=\"T_1c450e0e_0de5_11ec_a56b_ec5c68b952e8row2_col0\" class=\"data row2 col0\" >3</td>\n",
              "                        <td id=\"T_1c450e0e_0de5_11ec_a56b_ec5c68b952e8row2_col1\" class=\"data row2 col1\" >The Interpreter</td>\n",
              "                        <td id=\"T_1c450e0e_0de5_11ec_a56b_ec5c68b952e8row2_col2\" class=\"data row2 col2\" >6.400000</td>\n",
              "                        <td id=\"T_1c450e0e_0de5_11ec_a56b_ec5c68b952e8row2_col3\" class=\"data row2 col3\" >Nicole Kidman</td>\n",
              "            </tr>\n",
              "    </tbody></table>                                                  <style  type=\"text/css\" >\n",
              "</style><table id=\"T_1c450e0f_0de5_11ec_8947_ec5c68b952e8\" style='display:inline'><caption>People</caption><thead>    <tr>        <th class=\"blank level0\" ></th>        <th class=\"col_heading level0 col0\" >id</th>        <th class=\"col_heading level0 col1\" >name</th>    </tr></thead><tbody>\n",
              "                <tr>\n",
              "                        <th id=\"T_1c450e0f_0de5_11ec_8947_ec5c68b952e8level0_row0\" class=\"row_heading level0 row0\" >0</th>\n",
              "                        <td id=\"T_1c450e0f_0de5_11ec_8947_ec5c68b952e8row0_col0\" class=\"data row0 col0\" >1</td>\n",
              "                        <td id=\"T_1c450e0f_0de5_11ec_8947_ec5c68b952e8row0_col1\" class=\"data row0 col1\" >Tom</td>\n",
              "            </tr>\n",
              "            <tr>\n",
              "                        <th id=\"T_1c450e0f_0de5_11ec_8947_ec5c68b952e8level0_row1\" class=\"row_heading level0 row1\" >1</th>\n",
              "                        <td id=\"T_1c450e0f_0de5_11ec_8947_ec5c68b952e8row1_col0\" class=\"data row1 col0\" >2</td>\n",
              "                        <td id=\"T_1c450e0f_0de5_11ec_8947_ec5c68b952e8row1_col1\" class=\"data row1 col1\" >Vera</td>\n",
              "            </tr>\n",
              "            <tr>\n",
              "                        <th id=\"T_1c450e0f_0de5_11ec_8947_ec5c68b952e8level0_row2\" class=\"row_heading level0 row2\" >2</th>\n",
              "                        <td id=\"T_1c450e0f_0de5_11ec_8947_ec5c68b952e8row2_col0\" class=\"data row2 col0\" >3</td>\n",
              "                        <td id=\"T_1c450e0f_0de5_11ec_8947_ec5c68b952e8row2_col1\" class=\"data row2 col1\" >Mom</td>\n",
              "            </tr>\n",
              "    </tbody></table>"
            ]
          },
          "metadata": {},
          "output_type": "display_data"
        }
      ]
    },
    {
      "cell_type": "code",
      "metadata": {
        "id": "Pq-55Awffc2I",
        "outputId": "2ffb0212-908e-467b-c832-506049cd828a"
      },
      "source": [
        "ratings_df.head(n=5).style \\\n",
        "   .set_caption('Ratings') \\\n",
        "  .highlight_null('lightgray')"
      ],
      "execution_count": null,
      "outputs": [
        {
          "data": {
            "text/html": [
              "<style  type=\"text/css\" >\n",
              "#T_1c4795d9_0de5_11ec_982b_ec5c68b952e8row3_col2,#T_1c4795d9_0de5_11ec_982b_ec5c68b952e8row4_col2{\n",
              "            background-color:  lightgray;\n",
              "        }</style><table id=\"T_1c4795d9_0de5_11ec_982b_ec5c68b952e8\" ><caption>Ratings</caption><thead>    <tr>        <th class=\"blank level0\" ></th>        <th class=\"col_heading level0 col0\" >people_id</th>        <th class=\"col_heading level0 col1\" >movie_id</th>        <th class=\"col_heading level0 col2\" >rating</th>    </tr></thead><tbody>\n",
              "                <tr>\n",
              "                        <th id=\"T_1c4795d9_0de5_11ec_982b_ec5c68b952e8level0_row0\" class=\"row_heading level0 row0\" >0</th>\n",
              "                        <td id=\"T_1c4795d9_0de5_11ec_982b_ec5c68b952e8row0_col0\" class=\"data row0 col0\" >1</td>\n",
              "                        <td id=\"T_1c4795d9_0de5_11ec_982b_ec5c68b952e8row0_col1\" class=\"data row0 col1\" >1</td>\n",
              "                        <td id=\"T_1c4795d9_0de5_11ec_982b_ec5c68b952e8row0_col2\" class=\"data row0 col2\" >4.000000</td>\n",
              "            </tr>\n",
              "            <tr>\n",
              "                        <th id=\"T_1c4795d9_0de5_11ec_982b_ec5c68b952e8level0_row1\" class=\"row_heading level0 row1\" >1</th>\n",
              "                        <td id=\"T_1c4795d9_0de5_11ec_982b_ec5c68b952e8row1_col0\" class=\"data row1 col0\" >1</td>\n",
              "                        <td id=\"T_1c4795d9_0de5_11ec_982b_ec5c68b952e8row1_col1\" class=\"data row1 col1\" >2</td>\n",
              "                        <td id=\"T_1c4795d9_0de5_11ec_982b_ec5c68b952e8row1_col2\" class=\"data row1 col2\" >3.000000</td>\n",
              "            </tr>\n",
              "            <tr>\n",
              "                        <th id=\"T_1c4795d9_0de5_11ec_982b_ec5c68b952e8level0_row2\" class=\"row_heading level0 row2\" >2</th>\n",
              "                        <td id=\"T_1c4795d9_0de5_11ec_982b_ec5c68b952e8row2_col0\" class=\"data row2 col0\" >1</td>\n",
              "                        <td id=\"T_1c4795d9_0de5_11ec_982b_ec5c68b952e8row2_col1\" class=\"data row2 col1\" >3</td>\n",
              "                        <td id=\"T_1c4795d9_0de5_11ec_982b_ec5c68b952e8row2_col2\" class=\"data row2 col2\" >5.000000</td>\n",
              "            </tr>\n",
              "            <tr>\n",
              "                        <th id=\"T_1c4795d9_0de5_11ec_982b_ec5c68b952e8level0_row3\" class=\"row_heading level0 row3\" >3</th>\n",
              "                        <td id=\"T_1c4795d9_0de5_11ec_982b_ec5c68b952e8row3_col0\" class=\"data row3 col0\" >1</td>\n",
              "                        <td id=\"T_1c4795d9_0de5_11ec_982b_ec5c68b952e8row3_col1\" class=\"data row3 col1\" >4</td>\n",
              "                        <td id=\"T_1c4795d9_0de5_11ec_982b_ec5c68b952e8row3_col2\" class=\"data row3 col2\" >nan</td>\n",
              "            </tr>\n",
              "            <tr>\n",
              "                        <th id=\"T_1c4795d9_0de5_11ec_982b_ec5c68b952e8level0_row4\" class=\"row_heading level0 row4\" >4</th>\n",
              "                        <td id=\"T_1c4795d9_0de5_11ec_982b_ec5c68b952e8row4_col0\" class=\"data row4 col0\" >1</td>\n",
              "                        <td id=\"T_1c4795d9_0de5_11ec_982b_ec5c68b952e8row4_col1\" class=\"data row4 col1\" >5</td>\n",
              "                        <td id=\"T_1c4795d9_0de5_11ec_982b_ec5c68b952e8row4_col2\" class=\"data row4 col2\" >nan</td>\n",
              "            </tr>\n",
              "    </tbody></table>"
            ],
            "text/plain": [
              "<pandas.io.formats.style.Styler at 0x19a16c79af0>"
            ]
          },
          "execution_count": 153,
          "metadata": {},
          "output_type": "execute_result"
        }
      ]
    },
    {
      "cell_type": "markdown",
      "metadata": {
        "id": "yo_zyiSCfc2I"
      },
      "source": [
        "<br>\n",
        "6) Remove the null records\n",
        "<br>"
      ]
    },
    {
      "cell_type": "code",
      "metadata": {
        "id": "p1lhWqsifc2I"
      },
      "source": [
        "ratings_df=ratings_df.dropna(subset=['rating'])"
      ],
      "execution_count": null,
      "outputs": []
    },
    {
      "cell_type": "markdown",
      "metadata": {
        "id": "4gp4MItWfc2I"
      },
      "source": [
        "<br>\n",
        "7) Merge the 3 dataframes into one\n",
        "<br>"
      ]
    },
    {
      "cell_type": "code",
      "metadata": {
        "id": "WKu4iYNrfc2I"
      },
      "source": [
        "merged_df = pd.merge(movie_df,ratings_df, left_on=['id'],right_on=['movie_id'])\n",
        "merged_df = pd.merge(people_df,merged_df, left_on=['id'],right_on=['people_id'])\n",
        "merged_df = merged_df[[\"name_x\", \"name_y\",\"imdb_rating\", \"rating\"]]\n",
        "merged_df.columns = ['Friend', 'Movie', 'imdb_rating', 'rating']"
      ],
      "execution_count": null,
      "outputs": []
    },
    {
      "cell_type": "markdown",
      "metadata": {
        "id": "LEfcIyICfc2J"
      },
      "source": [
        "<br>\n",
        "8) Now answer the question.\n",
        "<br>"
      ]
    },
    {
      "cell_type": "code",
      "metadata": {
        "id": "DcJ5XOxGfc2J"
      },
      "source": [
        "\n",
        "agg_func_count = {\n",
        "        'rating': ['count', 'mean'],\n",
        "        'imdb_rating':['first']\n",
        "        }\n",
        "answer_df = merged_df.groupby(['Movie']).agg(agg_func_count)\n",
        "answer_df.columns = ['n_ratings', 'avg rating', 'imdb rating']\n",
        "\n",
        "\n",
        "                                       "
      ],
      "execution_count": null,
      "outputs": []
    },
    {
      "cell_type": "code",
      "metadata": {
        "id": "_Tk1Jyq3fc2J",
        "outputId": "df7aca66-5b49-48f5-bb7e-58cb6b01f582"
      },
      "source": [
        "answer_df"
      ],
      "execution_count": null,
      "outputs": [
        {
          "data": {
            "text/html": [
              "<div>\n",
              "<style scoped>\n",
              "    .dataframe tbody tr th:only-of-type {\n",
              "        vertical-align: middle;\n",
              "    }\n",
              "\n",
              "    .dataframe tbody tr th {\n",
              "        vertical-align: top;\n",
              "    }\n",
              "\n",
              "    .dataframe thead th {\n",
              "        text-align: right;\n",
              "    }\n",
              "</style>\n",
              "<table border=\"1\" class=\"dataframe\">\n",
              "  <thead>\n",
              "    <tr style=\"text-align: right;\">\n",
              "      <th></th>\n",
              "      <th>n_ratings</th>\n",
              "      <th>avg rating</th>\n",
              "      <th>imdb rating</th>\n",
              "    </tr>\n",
              "    <tr>\n",
              "      <th>Movie</th>\n",
              "      <th></th>\n",
              "      <th></th>\n",
              "      <th></th>\n",
              "    </tr>\n",
              "  </thead>\n",
              "  <tbody>\n",
              "    <tr>\n",
              "      <th>I Care a lot</th>\n",
              "      <td>5</td>\n",
              "      <td>3.400000</td>\n",
              "      <td>6.3</td>\n",
              "    </tr>\n",
              "    <tr>\n",
              "      <th>Respect</th>\n",
              "      <td>3</td>\n",
              "      <td>3.333333</td>\n",
              "      <td>6.6</td>\n",
              "    </tr>\n",
              "    <tr>\n",
              "      <th>Selena</th>\n",
              "      <td>4</td>\n",
              "      <td>2.750000</td>\n",
              "      <td>6.3</td>\n",
              "    </tr>\n",
              "    <tr>\n",
              "      <th>State of Play</th>\n",
              "      <td>4</td>\n",
              "      <td>3.750000</td>\n",
              "      <td>7.1</td>\n",
              "    </tr>\n",
              "    <tr>\n",
              "      <th>The Farewell</th>\n",
              "      <td>4</td>\n",
              "      <td>4.000000</td>\n",
              "      <td>7.6</td>\n",
              "    </tr>\n",
              "    <tr>\n",
              "      <th>The Interpreter</th>\n",
              "      <td>2</td>\n",
              "      <td>4.500000</td>\n",
              "      <td>6.4</td>\n",
              "    </tr>\n",
              "  </tbody>\n",
              "</table>\n",
              "</div>"
            ],
            "text/plain": [
              "                 n_ratings  avg rating  imdb rating\n",
              "Movie                                              \n",
              "I Care a lot             5    3.400000          6.3\n",
              "Respect                  3    3.333333          6.6\n",
              "Selena                   4    2.750000          6.3\n",
              "State of Play            4    3.750000          7.1\n",
              "The Farewell             4    4.000000          7.6\n",
              "The Interpreter          2    4.500000          6.4"
            ]
          },
          "execution_count": 157,
          "metadata": {},
          "output_type": "execute_result"
        }
      ]
    },
    {
      "cell_type": "markdown",
      "metadata": {
        "id": "JGSnoffhfc2K"
      },
      "source": [
        "\n",
        "The same exercise was done in R [here](https://github.com/TheReallyBigApple/CunyAssignments/blob/main/DATA607/Data607_Week2.html)"
      ]
    }
  ]
}