{
 "cells": [
  {
   "cell_type": "markdown",
   "metadata": {},
   "source": [
    "<html lang=\"en\">\n",
    "\n",
    "    \n",
    "\n",
    "<style>\n",
    "        body{\n",
    "            background-color: rgb(238, 238, 238) !important;\n",
    "        }\n",
    "        h2 {\n",
    "            font-family:Arial, Helvetica, sans-serif;\n",
    "            font-weight: bold;\n",
    "            text-indent: 20%;\n",
    "        }\n",
    "        h3 {\n",
    "            font-family:Arial, Helvetica, sans-serif;\n",
    "            font-size: 140%;\n",
    "            font-weight: bold;\n",
    "            color: purple;\n",
    "        }\n",
    "</style>\n",
    "\n",
    "    \n",
    "\n",
    "    \n",
    "<br><br><br><br><br><br><br><br>\n",
    "    \n",
    "<br><br><br><br><br><br><br><br>\n",
    "\n",
    "   \n",
    "\n",
    "<font size=7 color=\"black\">\n",
    "        <center>                     Exoplanet Orbits : A Statistical Analysis.</center>\n",
    "    </font>\n",
    "    \n",
    "    \n",
    "<br><br><br><br><br><br><br><br>\n",
    "    \n",
    "<br><br><br><br><br><br><br><br>\n",
    "    \n",
    "    \n",
    "    \n",
    "\n",
    "\n",
    "\n",
    "<br><br><br><br><br><br><br><br><br><br><br><br><br><br><br>\n",
    "    \n"
   ]
  },
  {
   "cell_type": "markdown",
   "metadata": {},
   "source": [
    "\n",
    "*********************\n",
    "   \n",
    "# Kepler 442 b    \n",
    " \n",
    "**********************\n",
    "\n",
    " <br><br>    \n",
    "<img src=\"https://github.com/TheReallyBigApple/CunyAssignments/raw/main/DATA607/FinalProject/Kepler-442b_and_Earth.jpg\" alt=\"Kepler 442 b\" style=\"float:center\" width=\"800\" height=\"600\" title=\"Kepler 442 b and Earth.\"  >\n",
    " <br><br> \n",
    "Above is an artists rendition of Kepler-442b and a picture of the planet Earth. Kepler-442b is an Earth-sized exoplanet.\n",
    "It is likely rocky, and exists within the habitable zone of its K-type main-sequence star. It exists 1206 light-years away from us, in the constellation Lyra. Out of the 4565 exoplanets discovered to date, Kepler 442 b is described as being perhaps the most Earth-like exoplanet so far discovered.<a name=cite-one></a><a href=\"#bib-one\">&#91;1&#93;</a>\n",
    "\n",
    "Kepler 442 b takes 113 days to complete an orbit of its sun. It has an orbital inclination of 90, meaning it orbits at a 90 degree angle from our line of sight. It has an orbital eccentricity of 0.04, nearly a perfect circle. \n",
    "\n",
    " <br><br>  <br><br> \n"
   ]
  },
  {
   "cell_type": "markdown",
   "metadata": {},
   "source": [
    "<br><br><br><br>\n",
    "\n",
    "***\n",
    "\n",
    "# Project Overview\n",
    "\n",
    "***\n",
    "This project will conduct an analysis on the orbits of exoplanets, and along the way we will examine some of the more interesting cases. We will focus specifically on the duration of orbits, as they are the most reliable of attributions in the field of exoplanet research.\n",
    "<br><br>\n",
    "We will use the [**TAP query service **](https://exoplanetarchive.ipac.caltech.edu/docs/TAP/usingTAP.html) from the online exoplanet archive sponsored by IPAC Caltech.\n",
    "<br><br>\n",
    "\n",
    "IPAC was established in 1985 on the campus of the California Institute of Technology as the \"Infrared Processing & Analysis Center\".<a name=cite-two></a><a href=\"#bib-two\">&#91;3&#93;</a> It has since grown and now partners with NASA, NSF, JPL and the world-wide research community to advance exploration of our Universe. <a name=cite-three></a><a href=\"#bib-three\">&#91;3&#93;</a>\n",
    "\n",
    "This project will be looking at the distribution of orbits thus far discovered, and attempt to answer why such\n",
    "distributions exist. Notably, this report will show why inferential statistics is not yet a suitable tool, except to provide insight to the conclusions we would otherwise be making on purely anectodal analysis.\n",
    "    \n",
    "<br><br>"
   ]
  },
  {
   "attachments": {},
   "cell_type": "markdown",
   "metadata": {},
   "source": [
    "<br><br><br><br>\n",
    "\n",
    "***\n",
    "# Our Solar System\n",
    "***\n",
    "\n",
    "**Before we begin, lets take a look at the orbits from our own system**\n",
    "<br><br>\n",
    "\n",
    "\n",
    "\n",
    "\n",
    "\n",
    "Planet\t| Obliquity\t|\tEccen\t| Inclination  |\tAU   |  Days\n",
    "------- | --------- | --------- | ----------   | ------- | ------ \n",
    "mercury\t|\t 0.03\t|\t0.205\t|\t  7.0\t   |\t0.4\t |\t  88\n",
    "venus\t|  177.40\t|\t0.007\t|\t  3.4\t   |\t0.7  |\t 225\n",
    "earth\t|\t23.40\t|\t0.017\t|\t  0.0  \t   |\t1.0  |   365\n",
    "mars\t|\t25.20\t|\t0.094\t|\t  1.9\t   |\t1.5  |\t 687\n",
    "jupiter\t|\t 3.10\t|\t0.049\t|\t  1.3\t   |\t5.2\t |\t4343\n",
    "saturn\t|\t26.70\t|\t0.057\t|\t  2.5\t   |\t9.5\t | 10767\n",
    "uranus\t|\t97.80\t|\t0.046\t|\t  0.8\t   |   19.1\t | 30660\n",
    "neptune\t|\t28.30\t|\t0.011\t|\t  1.8 \t   |   30.0\t | 60225\n",
    "\n",
    "\n",
    "Data for this table provided by the NASA Space Science Data Coordinated Archive<a name=cite-four></a><a href=\"#bib-four\">&#91;3&#93;</a>\n",
    "\n",
    "\n",
    "<br><br>\n",
    "# Glossary\n",
    "<br>\n",
    "\n",
    " <dl>\n",
    "         <dt>&emsp;&emsp;Days</dt>\n",
    "         <dd>&emsp;&emsp; &emsp;&emsp; number of Earth days for a planet to orbit its star</dd>\n",
    "        <br>\n",
    "         <dt>&emsp;&emsp;AU</dt>\n",
    "         <dd>&emsp;&emsp; &emsp;&emsp; number of Astronomical Units the planet is away from its star.\n",
    "             An Astronomical Unit is the distance the Earth is from the sun\n",
    "        </dd>\n",
    "            <br>\n",
    "         <dt>&emsp;&emsp;Inclination</dt>\n",
    "         <dd>&emsp;&emsp; &emsp;&emsp; angle in degrees at which a planets orbit around its star is tilted\n",
    "           relative to the ecliptic plane. Since the ecliptic plane is defined \n",
    "        <br>             \n",
    "        &emsp;&emsp; &emsp;&emsp;  as the plane containing the Earth's orbit, the Earth's inclination is therefore 0\n",
    "       </dd>\n",
    "            <br>\n",
    "     <dt>&emsp;&emsp;Eccentricity</dt>\n",
    "    <dd>&emsp;&emsp; &emsp;&emsp; how far a planet's orbit about the is from being circular, scaled from 0 to 1, where 0 is a perfect circle\n",
    "         </dd>\n",
    "            <br>\n",
    "        <dt>&emsp;&emsp;Obliquity</dt>\n",
    "    <dd>&emsp;&emsp; &emsp;&emsp; angle in degrees the axis of a planet is tilted relative to the planet's orbit. Our obliquity of 23 degrees is what causes our seasons\n",
    "         </dd>\n",
    "      </dl>      \n",
    "     \n"
   ]
  },
  {
   "cell_type": "markdown",
   "metadata": {},
   "source": [
    "***\n",
    "# TAP Data Server Class\n",
    "***\n",
    "\n",
    "First import the packages."
   ]
  },
  {
   "cell_type": "code",
   "execution_count": 203,
   "metadata": {},
   "outputs": [
    {
     "name": "stdout",
     "output_type": "stream",
     "text": [
      "Running on Python version  3.8.5\n"
     ]
    }
   ],
   "source": [
    "import pandas as pd\n",
    "import requests\n",
    "import os\n",
    "import numpy as np\n",
    "import sys\n",
    "import statistics\n",
    "import matplotlib.pyplot as plt\n",
    "from IPython.display import HTML\n",
    "\n",
    "print(\"Running on Python version \", sys.version.__str__()[0:5])   # 3.8.5"
   ]
  },
  {
   "cell_type": "markdown",
   "metadata": {},
   "source": [
    "<br><br><br><br>\n",
    "***\n",
    "<br>\n",
    "\n",
    "**The DataServer class handles data retrieval from the exoplanet archive**\n",
    "\n",
    "**The TAP service is a freely available web service. No API key is required.**\n",
    "\n",
    "**This class saves off the total data set in a csv file and a cached data frame.**\n",
    "\n",
    "**Additionaly it provides queries on the cached data frame.**\n",
    "\n",
    "<br>\n",
    "***\n",
    "<br>\n",
    "\n"
   ]
  },
  {
   "cell_type": "code",
   "execution_count": 204,
   "metadata": {},
   "outputs": [],
   "source": [
    "\n",
    "\n",
    "\n",
    "class TAPDataServer(object):\n",
    "    def __init__(self):\n",
    "        self.data_df = pd.DataFrame(columns=[\"planet\",\"facility\",\"locale\", \"method\", \\\n",
    "                                             \"instrument\", \"orb_eccentricity\",\"orb_inclination\", \\\n",
    "                                                 \"orb_days\", \"orb_aus\", \"pl_radius\", \"pl_mass\", \"pl_dens\", \\\n",
    "                                                     \"ra\", \"dec\", \"mag\",\"rel_date\",\"pub_date\",\"star\"])\n",
    "\n",
    "\n",
    "    \n",
    "    # convert the text string to a data frame\n",
    "    def convert_response_to_df(self,results):\n",
    "        results_list=results.splitlines()\n",
    "        results_list.pop(0)         # remove the headers\n",
    "        \n",
    "        \n",
    "        for results_row in results_list:\n",
    "                fields=results_row.split(',')\n",
    "                \n",
    "                planet=fields[0]\n",
    "                planet=planet.replace(\"\\\"\", \"\")\n",
    "                \n",
    "                facility=fields[1]\n",
    "                facility=facility.replace(\"\\\"\", \"\")\n",
    "                \n",
    "                locale=fields[2]\n",
    "                locale=locale.replace(\"\\\"\", \"\")\n",
    "                \n",
    "                method=fields[3]\n",
    "                method=method.replace(\"\\\"\", \"\")\n",
    "                \n",
    "                instrument=fields[4]\n",
    "                instrument=instrument.replace(\"\\\"\", \"\")\n",
    "                \n",
    "                orb_eccentricity=fields[5]\n",
    "                orb_inclination=fields[6]\n",
    "                \n",
    "                orb_days=fields[7]\n",
    "                # orb_days=int(float(orb_days))\n",
    "                \n",
    "                orb_aus=fields[8]\n",
    "                # orb_aus=float(orb_aus)\n",
    "                \n",
    "                pl_radius=fields[9]\n",
    "                pl_mass=fields[10]\n",
    "                pl_dens=fields[11]\n",
    "                ra=fields[12]\n",
    "                dec=fields[13]\n",
    "                mag=fields[14]\n",
    "                rel_date=fields[15]\n",
    "                rel_date=rel_date.replace(\"\\\"\", \"\")\n",
    "                pub_date=fields[16]\n",
    "                pub_date=pub_date.replace(\"\\\"\", \"\")\n",
    "                \n",
    "                star=fields[17]\n",
    "                star=star.replace(\"\\\"\", \"\")\n",
    "                \n",
    "                self.data_df = self.data_df.append({\"planet\": planet, \"method\" : method, \"facility\" : facility, \\\n",
    "                                          \"locale\" : locale, \"instrument\" :instrument, \"orb_eccentricity\" : orb_eccentricity, \\\n",
    "                                              \"orb_inclination\" : orb_inclination, \"orb_days\":orb_days, \"orb_aus\" : orb_aus, \\\n",
    "                                                  \"pl_radius\":pl_radius, \"pl_mass\": pl_mass, \"pl_dens\":pl_dens, \\\n",
    "                                                      \"ra\": ra, \"dec\": dec, \"mag\": mag, \\\n",
    "                                                        \"rel_date\" : rel_date, \"pub_date\": pub_date, \"star\": star\n",
    "                                          },ignore_index=True)\n",
    "        \n",
    "        self.data_df.replace(\"\", np.nan, inplace=True)\n",
    "        # self.data_df.orb_days=int(float(self.data_df.orb_days))\n",
    "        self.data_df['orb_days'] = pd.to_numeric(self.data_df['orb_days'], errors='coerce')\n",
    "       \n",
    "        \n",
    "        num_records=len(self.data_df)\n",
    "        print(\"Records returned : \", num_records)\n",
    "        return self.data_df\n",
    "    \n",
    "    \n",
    "\n",
    "\n",
    "\n",
    "    \n",
    "    \n",
    "    \n",
    "    def get_data(self):\n",
    "        if (len(self.data_df)>0):\n",
    "            print(\"Returning cached data\")\n",
    "            return self.data_df\n",
    "        \n",
    "        base_url=\"https://exoplanetarchive.ipac.caltech.edu/TAP/\"\n",
    "        \n",
    "        select_url=\"sync?query=select+pl_name,disc_facility,disc_locale,discoverymethod,disc_instrument,\"\n",
    "        select_url=select_url+\"pl_orbeccen,pl_orbincl,pl_orbper,pl_orbsmax,\"\n",
    "        select_url=select_url+\"pl_rade,pl_masse,pl_dens,\"\n",
    "        select_url=select_url+\"ra,dec,sy_gaiamag,+\"\n",
    "        select_url=select_url+\"releasedate,disc_pubdate,hostname+\"\n",
    "        where_url=\"from+ps+where+default_flag+=+1+and+pl_controv_flag+=+0\"\n",
    "        where_url=where_url+\"+order+by+pl_name+desc+&format=csv\"\n",
    "        \n",
    "        url=base_url+select_url+where_url\n",
    "        \n",
    "        try :\n",
    "            response = requests.get(url)\n",
    "        except requests.exceptions.RequestException as e:\n",
    "            raise SystemExit(e)\n",
    "        \n",
    "        if (response.status_code != requests.codes.ok):\n",
    "            print(\"Response status code not ok : \", response.status_code)\n",
    "            \n",
    "        f = open(\"ps_all.csv\", \"w\")\n",
    "        f.write(response.text)\n",
    "        f.close()\n",
    "        \n",
    "        return self.convert_response_to_df(response.text)\n",
    "\n",
    "\n",
    "    def get_orb_days(self):\n",
    "        if (len(self.data_df)==0):\n",
    "            print(\"Error : No Data in Cache\")\n",
    "        return self.data_df.loc[self.data_df['orb_days'].notnull()]\n",
    "   \n",
    "    def get_by_star(self,star):\n",
    "        if (len(self.data_df)==0):\n",
    "            print(\"Error : No Data in Cache\")\n",
    "        return self.data_df.loc[self.data_df['star']==star]\n",
    "\n",
    "    "
   ]
  },
  {
   "cell_type": "markdown",
   "metadata": {},
   "source": [
    "<br><br><br><br>\n",
    "***\n",
    "# Helper Functions\n",
    "***\n"
   ]
  },
  {
   "cell_type": "code",
   "execution_count": 205,
   "metadata": {},
   "outputs": [],
   "source": [
    "\n",
    "def calculate_z_score(x_bar, mu, sigma):\n",
    "    denominator = x_bar - mu\n",
    "    numerator = sigma\n",
    "    return denominator / numerator\n",
    "\n",
    "\n",
    "\n",
    "\n",
    "def analyze_z_score(mu, df, prec=0):\n",
    "    orb_mean=statistics.mean(df['orb_days'])\n",
    "    orb_stddev=statistics.stdev(df['orb_days'])\n",
    "    \n",
    "\n",
    "\n",
    "    earth_z_score= calculate_z_score(mu, orb_mean, orb_stddev)\n",
    "\n",
    "    if (prec==0):\n",
    "        orb_mean=int(orb_mean)\n",
    "        orb_stddev=int(orb_stddev)\n",
    "        prec=3\n",
    "        \n",
    "    orb_stat_df = pd.DataFrame([[orb_mean, orb_stddev, earth_z_score]], columns = ['Mean', 'Std Dev','Earth Z Score'])\n",
    "    \n",
    "\n",
    "        \n",
    "    display_without_index(orb_stat_df, prec)\n",
    "    return\n",
    "\n",
    "\n",
    "\n",
    "\n",
    "def plot_log_distribution(df):\n",
    "    log_df=np.log(df[\"orb_days\"])\n",
    "    plot_distribution(log_df)\n",
    "    return log_df\n",
    "    \n",
    "\n",
    "def plot_distribution(y,bins=20):\n",
    "    plt.hist(y, bins=20)\n",
    "    plt.show()\n",
    "\n",
    "    \n",
    "    \n",
    "    # the HTML function of IPython allows us to display a table without an index\n",
    "    # you can control precision but only on all numbers\n",
    "def display_without_index(df, prec=3):\n",
    "    if (prec==0):\n",
    "        pd.set_option('display.float_format', lambda x: '%d' % x)\n",
    "    else:\n",
    "        lam_str=\"lambda x: '%.\" + str(prec) + \"f' % x\"\n",
    "        pd.set_option('display.float_format', eval(lam_str))\n",
    "        \n",
    "    display(HTML(df.to_html(index=False)))\n",
    "    pd.reset_option(\"^display\")\n",
    "    \n",
    "    \n",
    "    \n",
    "    \n",
    "    # designed to display the 5 longest orbits (in earth days)\n",
    "def display_the_biggest(df,n=5):\n",
    "    yhead_df=df.sort_values('orb_days',ascending=False).head(n=n)\n",
    "    display(HTML(yhead_df[[\"planet\", \"method\", \"orb_days\",\"rel_date\"]].to_html(index=False)))\n",
    "    pd.reset_option(\"^display\")\n",
    "    "
   ]
  },
  {
   "cell_type": "markdown",
   "metadata": {},
   "source": [
    "<br><br><br><br>\n",
    "**Retrieve data from the TAP service. Call get_orb_days to get only planets that have a known orbital period.**\n",
    "<br>"
   ]
  },
  {
   "cell_type": "code",
   "execution_count": 206,
   "metadata": {},
   "outputs": [
    {
     "name": "stdout",
     "output_type": "stream",
     "text": [
      "Records returned :  4551\n"
     ]
    }
   ],
   "source": [
    "\n",
    "exo_data_server=TAPDataServer()\n",
    "\n",
    "exo_df= exo_data_server.get_data()\n",
    "\n",
    "exo_days_df = exo_data_server.get_orb_days()"
   ]
  },
  {
   "cell_type": "markdown",
   "metadata": {},
   "source": [
    "<br><br><br><br>\n",
    "**Get the mean and standard deviation of the orbital period. Calculate the Earths Z-Score.**\n",
    "<br>"
   ]
  },
  {
   "cell_type": "code",
   "execution_count": 207,
   "metadata": {},
   "outputs": [
    {
     "data": {
      "text/html": [
       "<table border=\"1\" class=\"dataframe\">\n",
       "  <thead>\n",
       "    <tr style=\"text-align: right;\">\n",
       "      <th>Mean</th>\n",
       "      <th>Std Dev</th>\n",
       "      <th>Earth Z Score</th>\n",
       "    </tr>\n",
       "  </thead>\n",
       "  <tbody>\n",
       "    <tr>\n",
       "      <td>95350</td>\n",
       "      <td>6068050</td>\n",
       "      <td>-0.016</td>\n",
       "    </tr>\n",
       "  </tbody>\n",
       "</table>"
      ],
      "text/plain": [
       "<IPython.core.display.HTML object>"
      ]
     },
     "metadata": {},
     "output_type": "display_data"
    }
   ],
   "source": [
    "analyze_z_score(365, exo_days_df)"
   ]
  },
  {
   "cell_type": "markdown",
   "metadata": {},
   "source": [
    "<br><br><br><br>\n",
    "**An average orbit takes 260 years. Thats pretty crazy. And a standard deviation of 16,000 years is even crazier.**\n",
    "**Lets look at a histogram.**\n",
    "<br>"
   ]
  },
  {
   "cell_type": "code",
   "execution_count": 208,
   "metadata": {},
   "outputs": [
    {
     "data": {
      "image/png": "[encoded data removed]",
      "text/plain": [
       "<Figure size 432x288 with 1 Axes>"
      ]
     },
     "metadata": {
      "needs_background": "light"
     },
     "output_type": "display_data"
    }
   ],
   "source": [
    "plot_distribution(exo_days_df[\"orb_days\"])\n"
   ]
  },
  {
   "cell_type": "markdown",
   "metadata": {},
   "source": [
    "<br>\n",
    "\n",
    "**The above looks like we have an orbit that lasts 400 million days, and everything else is close to zero.\n",
    "Thats crazy. The histogram isnt very helpful. To see exactly how many planets fall within each histogram\n",
    "bin, we need drill into numpys histogram object. To suppress the scientific format, we are going to define\n",
    "the float format as %d for integer**\n",
    "<br>\n"
   ]
  },
  {
   "cell_type": "code",
   "execution_count": 209,
   "metadata": {},
   "outputs": [
    {
     "data": {
      "text/html": [
       "<table border=\"1\" class=\"dataframe\">\n",
       "  <thead>\n",
       "    <tr style=\"text-align: right;\">\n",
       "      <th>bins</th>\n",
       "      <th>freq</th>\n",
       "    </tr>\n",
       "  </thead>\n",
       "  <tbody>\n",
       "    <tr>\n",
       "      <td>0</td>\n",
       "      <td>4391</td>\n",
       "    </tr>\n",
       "    <tr>\n",
       "      <td>20100000</td>\n",
       "      <td>0</td>\n",
       "    </tr>\n",
       "    <tr>\n",
       "      <td>40200000</td>\n",
       "      <td>0</td>\n",
       "    </tr>\n",
       "    <tr>\n",
       "      <td>60300000</td>\n",
       "      <td>0</td>\n",
       "    </tr>\n",
       "    <tr>\n",
       "      <td>80400000</td>\n",
       "      <td>0</td>\n",
       "    </tr>\n",
       "    <tr>\n",
       "      <td>100500000</td>\n",
       "      <td>0</td>\n",
       "    </tr>\n",
       "    <tr>\n",
       "      <td>120600000</td>\n",
       "      <td>0</td>\n",
       "    </tr>\n",
       "    <tr>\n",
       "      <td>140700000</td>\n",
       "      <td>0</td>\n",
       "    </tr>\n",
       "    <tr>\n",
       "      <td>160800000</td>\n",
       "      <td>0</td>\n",
       "    </tr>\n",
       "    <tr>\n",
       "      <td>180900000</td>\n",
       "      <td>0</td>\n",
       "    </tr>\n",
       "    <tr>\n",
       "      <td>201000000</td>\n",
       "      <td>0</td>\n",
       "    </tr>\n",
       "    <tr>\n",
       "      <td>221100000</td>\n",
       "      <td>0</td>\n",
       "    </tr>\n",
       "    <tr>\n",
       "      <td>241200000</td>\n",
       "      <td>0</td>\n",
       "    </tr>\n",
       "    <tr>\n",
       "      <td>261300000</td>\n",
       "      <td>0</td>\n",
       "    </tr>\n",
       "    <tr>\n",
       "      <td>281400000</td>\n",
       "      <td>0</td>\n",
       "    </tr>\n",
       "    <tr>\n",
       "      <td>301500000</td>\n",
       "      <td>0</td>\n",
       "    </tr>\n",
       "    <tr>\n",
       "      <td>321600000</td>\n",
       "      <td>0</td>\n",
       "    </tr>\n",
       "    <tr>\n",
       "      <td>341700000</td>\n",
       "      <td>0</td>\n",
       "    </tr>\n",
       "    <tr>\n",
       "      <td>361800000</td>\n",
       "      <td>0</td>\n",
       "    </tr>\n",
       "    <tr>\n",
       "      <td>381900000</td>\n",
       "      <td>1</td>\n",
       "    </tr>\n",
       "  </tbody>\n",
       "</table>"
      ],
      "text/plain": [
       "<IPython.core.display.HTML object>"
      ]
     },
     "metadata": {},
     "output_type": "display_data"
    }
   ],
   "source": [
    "hist, bin_edges = np.histogram(exo_days_df[\"orb_days\"], bins=20)\n",
    "bins_df = pd.DataFrame(bin_edges, columns=['bins'])\n",
    "bins_df['freq']=pd.DataFrame(hist, columns=['freq'])\n",
    "display_without_index(bins_df.dropna(),0)\n"
   ]
  },
  {
   "cell_type": "markdown",
   "metadata": {},
   "source": [
    "<br><br><br><br>\n",
    "**Lets take a look at the one planet that takes 11 million years to complete one orbit.**\n",
    "<br>"
   ]
  },
  {
   "cell_type": "markdown",
   "metadata": {},
   "source": [
    "\n",
    "\n",
    "\n",
    "\n",
    "<br><br>\n",
    "***\n",
    "\n",
    "# COCONUTS-2 b\n",
    "\n",
    "***\n",
    "\n",
    "\n",
    "<br><br>\n",
    "\n",
    "<figure>\n",
    "  <img src=\"https://github.com/TheReallyBigApple/CunyAssignments/raw/main/DATA607/FinalProject/coconuts2b.webp\" alt=\"coconuts 2b\" style=\"width:100%\">\n",
    "  <figcaption>Artists rendition of coconuts 2-b.</figcaption>\n",
    "</figure>\n",
    "\n",
    "<br><br>\n",
    "Coconuts is so named by the program \"COol Companions ON Ultrawide orbitTS\", at University of Hawaii.<a href=\"#bib-two\">&#91;4&#93;</a> \n",
    "This program is a low volume research on objects detected over 500 AUs from a star.\n",
    "\n",
    "Coconuts 2Its only 35 light years from us. A relative neighbor. \n",
    "\n",
    "Coconuts-2 b is a gas giant exoplanet that orbits an M-type star.  Its mass is equal to over 6 Jupiters!\n",
    "\n",
    "It is 7506 AU from its star ( or put another way its 7500 times further from its sun than Earth is ) and it takes 1101369 years to complete one orbit of its star !\n",
    "\n",
    "Although it was first noticed in 2011, it was thought to be a planet without a sun. Its amazing but true orbit was announced just this past year, in 2021.\n",
    "<br><br>\n"
   ]
  },
  {
   "cell_type": "code",
   "execution_count": 210,
   "metadata": {},
   "outputs": [
    {
     "data": {
      "text/html": [
       "<table border=\"1\" class=\"dataframe\">\n",
       "  <thead>\n",
       "    <tr style=\"text-align: right;\">\n",
       "      <th>planet</th>\n",
       "      <th>star</th>\n",
       "      <th>facility</th>\n",
       "      <th>locale</th>\n",
       "      <th>method</th>\n",
       "      <th>orb_days</th>\n",
       "      <th>rel_date</th>\n",
       "    </tr>\n",
       "  </thead>\n",
       "  <tbody>\n",
       "    <tr>\n",
       "      <td>COCONUTS-2 b</td>\n",
       "      <td>COCONUTS-2 A</td>\n",
       "      <td>NASA Infrared Telescope Facility (IRTF)</td>\n",
       "      <td>Ground</td>\n",
       "      <td>Imaging</td>\n",
       "      <td>402000000</td>\n",
       "      <td>2021-08-16</td>\n",
       "    </tr>\n",
       "  </tbody>\n",
       "</table>"
      ],
      "text/plain": [
       "<IPython.core.display.HTML object>"
      ]
     },
     "metadata": {},
     "output_type": "display_data"
    }
   ],
   "source": [
    "coconuts_df=exo_days_df[exo_days_df[\"planet\"]==\"COCONUTS-2 b\"][[\"planet\", \"star\", \"facility\", \"locale\", \"method\", \"orb_days\",\"rel_date\"]]\n",
    "display_without_index(coconuts_df,0)"
   ]
  },
  {
   "cell_type": "markdown",
   "metadata": {},
   "source": [
    "<br><br><br><br>\n",
    "**If we look at the longest, orbits, we notice they are all recent, and they were discovered via direct imaging.\n",
    "This technique is capable of detecting exoplanets without the need of repeating transits to confirm our measurements.**\n",
    "<br>"
   ]
  },
  {
   "cell_type": "code",
   "execution_count": 211,
   "metadata": {},
   "outputs": [
    {
     "data": {
      "text/html": [
       "<table border=\"1\" class=\"dataframe\">\n",
       "  <thead>\n",
       "    <tr style=\"text-align: right;\">\n",
       "      <th>planet</th>\n",
       "      <th>method</th>\n",
       "      <th>orb_days</th>\n",
       "      <th>rel_date</th>\n",
       "    </tr>\n",
       "  </thead>\n",
       "  <tbody>\n",
       "    <tr>\n",
       "      <td>COCONUTS-2 b</td>\n",
       "      <td>Imaging</td>\n",
       "      <td>402000000.0</td>\n",
       "      <td>2021-08-16</td>\n",
       "    </tr>\n",
       "    <tr>\n",
       "      <td>CFHTWIR-Oph 98 b</td>\n",
       "      <td>Imaging</td>\n",
       "      <td>8040000.0</td>\n",
       "      <td>2021-05-17</td>\n",
       "    </tr>\n",
       "    <tr>\n",
       "      <td>Oph 11 b</td>\n",
       "      <td>Imaging</td>\n",
       "      <td>7300000.0</td>\n",
       "      <td>2016-03-10</td>\n",
       "    </tr>\n",
       "    <tr>\n",
       "      <td>HR 8799 b</td>\n",
       "      <td>Imaging</td>\n",
       "      <td>170000.0</td>\n",
       "      <td>2014-05-14</td>\n",
       "    </tr>\n",
       "    <tr>\n",
       "      <td>HR 8799 c</td>\n",
       "      <td>Imaging</td>\n",
       "      <td>69000.0</td>\n",
       "      <td>2014-05-14</td>\n",
       "    </tr>\n",
       "  </tbody>\n",
       "</table>"
      ],
      "text/plain": [
       "<IPython.core.display.HTML object>"
      ]
     },
     "metadata": {},
     "output_type": "display_data"
    }
   ],
   "source": [
    "# yhead_df=exo_days_df.sort_values('orb_days',ascending=False).head(n=5)\n",
    "# print(yhead_df[[\"planet\", \"method\", \"orb_days\",\"rel_date\"]].to_string(index=False))\n",
    "# display(yhead_df[[\"planet\", \"method\", \"orb_days\",\"rel_date\"]])\n",
    "display_the_biggest(exo_days_df)"
   ]
  },
  {
   "cell_type": "markdown",
   "metadata": {},
   "source": [
    "<br><br><br><br>\n",
    "**Lets compare the orbits by the various methods that astronomers use**\n",
    "<br>"
   ]
  },
  {
   "cell_type": "code",
   "execution_count": 212,
   "metadata": {},
   "outputs": [
    {
     "data": {
      "text/html": [
       "<table border=\"1\" class=\"dataframe\">\n",
       "  <thead>\n",
       "    <tr style=\"text-align: right;\">\n",
       "      <th>method</th>\n",
       "      <th>count</th>\n",
       "      <th>mean</th>\n",
       "      <th>min</th>\n",
       "      <th>max</th>\n",
       "    </tr>\n",
       "  </thead>\n",
       "  <tbody>\n",
       "    <tr>\n",
       "      <td>Transit</td>\n",
       "      <td>3435</td>\n",
       "      <td>25.811</td>\n",
       "      <td>0.180</td>\n",
       "      <td>3650.000</td>\n",
       "    </tr>\n",
       "    <tr>\n",
       "      <td>Radial Velocity</td>\n",
       "      <td>891</td>\n",
       "      <td>1071.052</td>\n",
       "      <td>0.737</td>\n",
       "      <td>39000.000</td>\n",
       "    </tr>\n",
       "    <tr>\n",
       "      <td>Transit Timing Variations</td>\n",
       "      <td>22</td>\n",
       "      <td>210.058</td>\n",
       "      <td>2.156</td>\n",
       "      <td>2500.000</td>\n",
       "    </tr>\n",
       "    <tr>\n",
       "      <td>Eclipse Timing Variations</td>\n",
       "      <td>14</td>\n",
       "      <td>4008.042</td>\n",
       "      <td>237.690</td>\n",
       "      <td>10220.000</td>\n",
       "    </tr>\n",
       "    <tr>\n",
       "      <td>Imaging</td>\n",
       "      <td>9</td>\n",
       "      <td>46404559.889</td>\n",
       "      <td>7336.500</td>\n",
       "      <td>402000000.000</td>\n",
       "    </tr>\n",
       "    <tr>\n",
       "      <td>Microlensing</td>\n",
       "      <td>8</td>\n",
       "      <td>3002.250</td>\n",
       "      <td>1224.000</td>\n",
       "      <td>5480.000</td>\n",
       "    </tr>\n",
       "    <tr>\n",
       "      <td>Pulsar Timing</td>\n",
       "      <td>6</td>\n",
       "      <td>1721.738</td>\n",
       "      <td>0.091</td>\n",
       "      <td>10140.000</td>\n",
       "    </tr>\n",
       "    <tr>\n",
       "      <td>Orbital Brightness Modulation</td>\n",
       "      <td>4</td>\n",
       "      <td>2.154</td>\n",
       "      <td>1.545</td>\n",
       "      <td>3.295</td>\n",
       "    </tr>\n",
       "    <tr>\n",
       "      <td>Pulsation Timing Variations</td>\n",
       "      <td>2</td>\n",
       "      <td>1005.000</td>\n",
       "      <td>840.000</td>\n",
       "      <td>1170.000</td>\n",
       "    </tr>\n",
       "    <tr>\n",
       "      <td>Astrometry</td>\n",
       "      <td>1</td>\n",
       "      <td>246.360</td>\n",
       "      <td>246.360</td>\n",
       "      <td>246.360</td>\n",
       "    </tr>\n",
       "  </tbody>\n",
       "</table>"
      ],
      "text/plain": [
       "<IPython.core.display.HTML object>"
      ]
     },
     "metadata": {},
     "output_type": "display_data"
    }
   ],
   "source": [
    "# the group by object is very convenient\n",
    "# the agg function returns a multi indexed dataframe\n",
    "# in order to make the column names more \"normal\"\n",
    "#   reset_columns() and columns are both used\n",
    "\n",
    "orb_grouped_obj = exo_days_df.groupby('method')\n",
    "# pd.set_option(\"display.precision\", 2)\n",
    "pd.options.display.float_format = '{:,.0f}'.format\n",
    "# this indicates that Imaging captures extreme orbits\n",
    "orb_stats_df=orb_grouped_obj.agg({'orb_days': ['count', 'mean', 'min', 'max']})\n",
    "orb_stats_df=orb_stats_df.reset_index()\n",
    "orb_stats_df.columns= ['method', 'count', 'mean', 'min', 'max']\n",
    "orb_stats_df=orb_stats_df.sort_values('count',ascending=False)\n",
    "display_without_index(orb_stats_df)\n"
   ]
  },
  {
   "cell_type": "markdown",
   "metadata": {},
   "source": [
    "<br><br><br><br>\n",
    "**Lets remove Coconust 2-B and see what the distribution looks like now.**\n",
    "<br>"
   ]
  },
  {
   "cell_type": "code",
   "execution_count": 213,
   "metadata": {},
   "outputs": [
    {
     "data": {
      "image/png": "[encoded data removed]",
      "text/plain": [
       "<Figure size 432x288 with 1 Axes>"
      ]
     },
     "metadata": {
      "needs_background": "light"
     },
     "output_type": "display_data"
    }
   ],
   "source": [
    "exo_days_df=exo_days_df[(exo_days_df[\"planet\"]!='COCONUTS-2 b')]\n",
    "plot_distribution(exo_days_df[\"orb_days\"])"
   ]
  },
  {
   "cell_type": "code",
   "execution_count": 214,
   "metadata": {},
   "outputs": [
    {
     "data": {
      "text/html": [
       "<table border=\"1\" class=\"dataframe\">\n",
       "  <thead>\n",
       "    <tr style=\"text-align: right;\">\n",
       "      <th>planet</th>\n",
       "      <th>method</th>\n",
       "      <th>orb_days</th>\n",
       "      <th>rel_date</th>\n",
       "    </tr>\n",
       "  </thead>\n",
       "  <tbody>\n",
       "    <tr>\n",
       "      <td>CFHTWIR-Oph 98 b</td>\n",
       "      <td>Imaging</td>\n",
       "      <td>8040000.0</td>\n",
       "      <td>2021-05-17</td>\n",
       "    </tr>\n",
       "    <tr>\n",
       "      <td>Oph 11 b</td>\n",
       "      <td>Imaging</td>\n",
       "      <td>7300000.0</td>\n",
       "      <td>2016-03-10</td>\n",
       "    </tr>\n",
       "    <tr>\n",
       "      <td>HR 8799 b</td>\n",
       "      <td>Imaging</td>\n",
       "      <td>170000.0</td>\n",
       "      <td>2014-05-14</td>\n",
       "    </tr>\n",
       "    <tr>\n",
       "      <td>HR 8799 c</td>\n",
       "      <td>Imaging</td>\n",
       "      <td>69000.0</td>\n",
       "      <td>2014-05-14</td>\n",
       "    </tr>\n",
       "    <tr>\n",
       "      <td>HD 66428 c</td>\n",
       "      <td>Radial Velocity</td>\n",
       "      <td>39000.0</td>\n",
       "      <td>2021-09-20</td>\n",
       "    </tr>\n",
       "  </tbody>\n",
       "</table>"
      ],
      "text/plain": [
       "<IPython.core.display.HTML object>"
      ]
     },
     "metadata": {},
     "output_type": "display_data"
    }
   ],
   "source": [
    "display_the_biggest(exo_days_df)"
   ]
  },
  {
   "cell_type": "markdown",
   "metadata": {},
   "source": [
    "<br><br><br><br>\n",
    "**So now CFHTWIR-Oph 98 b and Oph 11 b which were previously grouped in the lowest bin are now the outliers.**\n",
    "**Would it help if we scaled the remaining planets according to the log function?**\n",
    "<br>"
   ]
  },
  {
   "cell_type": "code",
   "execution_count": 215,
   "metadata": {},
   "outputs": [
    {
     "data": {
      "image/png": "[encoded data removed]",
      "text/plain": [
       "<Figure size 432x288 with 1 Axes>"
      ]
     },
     "metadata": {
      "needs_background": "light"
     },
     "output_type": "display_data"
    },
    {
     "data": {
      "text/plain": [
       "0       4.918154\n",
       "1       7.151846\n",
       "2       5.485867\n",
       "3       1.529752\n",
       "4       5.721950\n",
       "          ...   \n",
       "4546    6.682735\n",
       "4547    7.480654\n",
       "4548    5.224886\n",
       "4549    6.246533\n",
       "4550    5.786989\n",
       "Name: orb_days, Length: 4391, dtype: float64"
      ]
     },
     "execution_count": 215,
     "metadata": {},
     "output_type": "execute_result"
    }
   ],
   "source": [
    "exo_log_series=plot_log_distribution(exo_days_df)           # returns a series"
   ]
  },
  {
   "cell_type": "markdown",
   "metadata": {},
   "source": [
    "<br><br><br><br>\n",
    "**The log function returns whatever exponent to raise e to, which would result in the number.\n",
    "So for example, CFHTWIR-Oph 98 has an orbit of 8040000 days. So e to the power of 15 = 8040000.\n",
    "The log functions is a good way scale down highly disparate numbers that dont fit into a plot well.**\n",
    "<br><br>\n",
    "**Lets remove the next few planets with large orbits and try again.**"
   ]
  },
  {
   "cell_type": "code",
   "execution_count": 216,
   "metadata": {},
   "outputs": [
    {
     "data": {
      "image/png": "[encoded data removed]",
      "text/plain": [
       "<Figure size 432x288 with 1 Axes>"
      ]
     },
     "metadata": {
      "needs_background": "light"
     },
     "output_type": "display_data"
    },
    {
     "data": {
      "text/html": [
       "<table border=\"1\" class=\"dataframe\">\n",
       "  <thead>\n",
       "    <tr style=\"text-align: right;\">\n",
       "      <th>planet</th>\n",
       "      <th>method</th>\n",
       "      <th>orb_days</th>\n",
       "      <th>rel_date</th>\n",
       "    </tr>\n",
       "  </thead>\n",
       "  <tbody>\n",
       "    <tr>\n",
       "      <td>HD 66428 c</td>\n",
       "      <td>Radial Velocity</td>\n",
       "      <td>39000.0</td>\n",
       "      <td>2021-09-20</td>\n",
       "    </tr>\n",
       "    <tr>\n",
       "      <td>HR 8799 d</td>\n",
       "      <td>Imaging</td>\n",
       "      <td>37000.0</td>\n",
       "      <td>2014-05-14</td>\n",
       "    </tr>\n",
       "    <tr>\n",
       "      <td>HD 26161 b</td>\n",
       "      <td>Radial Velocity</td>\n",
       "      <td>32000.0</td>\n",
       "      <td>2021-09-20</td>\n",
       "    </tr>\n",
       "    <tr>\n",
       "      <td>HR 5183 b</td>\n",
       "      <td>Radial Velocity</td>\n",
       "      <td>27000.0</td>\n",
       "      <td>2019-09-26</td>\n",
       "    </tr>\n",
       "    <tr>\n",
       "      <td>HD 145675 c</td>\n",
       "      <td>Radial Velocity</td>\n",
       "      <td>25000.0</td>\n",
       "      <td>2021-09-20</td>\n",
       "    </tr>\n",
       "  </tbody>\n",
       "</table>"
      ],
      "text/plain": [
       "<IPython.core.display.HTML object>"
      ]
     },
     "metadata": {},
     "output_type": "display_data"
    }
   ],
   "source": [
    "\n",
    "exo_days_df=exo_days_df[(exo_days_df[\"planet\"]!='CFHTWIR-Oph 98 b') & \\\n",
    "                   (exo_days_df[\"planet\"]!='Oph 11 b') & \\\n",
    "                       (exo_days_df[\"planet\"]!='HR 8799 b') & \\\n",
    "                          (exo_days_df[\"planet\"]!='HR 8799 c')  ]\n",
    "\n",
    "plot_distribution(exo_days_df[\"orb_days\"])\n",
    "\n",
    "display_the_biggest(exo_days_df)\n"
   ]
  },
  {
   "cell_type": "markdown",
   "metadata": {},
   "source": [
    "<br><br><br><br>\n",
    "**Lets create a logarithmic distribution, then we can start to compare some standard deviations.**\n",
    "<br>"
   ]
  },
  {
   "cell_type": "code",
   "execution_count": 217,
   "metadata": {},
   "outputs": [
    {
     "data": {
      "image/png": "[encoded data removed]",
      "text/plain": [
       "<Figure size 432x288 with 1 Axes>"
      ]
     },
     "metadata": {
      "needs_background": "light"
     },
     "output_type": "display_data"
    }
   ],
   "source": [
    "exo_log_series=plot_log_distribution(exo_days_df)           # returns a series"
   ]
  },
  {
   "cell_type": "code",
   "execution_count": 218,
   "metadata": {},
   "outputs": [
    {
     "data": {
      "text/html": [
       "<table border=\"1\" class=\"dataframe\">\n",
       "  <thead>\n",
       "    <tr style=\"text-align: right;\">\n",
       "      <th>Mean</th>\n",
       "      <th>Std Dev</th>\n",
       "      <th>Earth Z Score</th>\n",
       "    </tr>\n",
       "  </thead>\n",
       "  <tbody>\n",
       "    <tr>\n",
       "      <td>2.888</td>\n",
       "      <td>1.975</td>\n",
       "      <td>1.525</td>\n",
       "    </tr>\n",
       "  </tbody>\n",
       "</table>"
      ],
      "text/plain": [
       "<IPython.core.display.HTML object>"
      ]
     },
     "metadata": {},
     "output_type": "display_data"
    }
   ],
   "source": [
    "# To calculate z score, the x_bar would be the log(365) \n",
    "analyze_z_score(np.log(365), pd.DataFrame(exo_log_series, columns = ['orb_days']), 3)\n"
   ]
  },
  {
   "cell_type": "markdown",
   "metadata": {},
   "source": [
    "**Revisiting the outlier question, if we continue to eliminate the top 5% again and again, we continue\n",
    "to revisit highly skewed histograms, where in fact if we were to segregate the planets with orbits under 50 days we get... **"
   ]
  },
  {
   "cell_type": "code",
   "execution_count": 220,
   "metadata": {},
   "outputs": [
    {
     "name": "stdout",
     "output_type": "stream",
     "text": [
      "Orbit durations > 50 :  985\n",
      "Orbit durations < 50 :  3402\n",
      "The percentage of planets with orbits greater than 50 days is 22.45% \n"
     ]
    }
   ],
   "source": [
    "\n",
    "exo_day_gt_50=exo_days_df[(exo_days_df[\"orb_days\"]>50)]\n",
    "exo_day_lt_50=exo_days_df[(exo_days_df[\"orb_days\"]<50)]\n",
    "print(\"Orbit durations > 50 : \", len(exo_day_gt_50))\n",
    "print(\"Orbit durations < 50 : \", len(exo_day_lt_50))\n",
    "\n",
    "\n",
    "txt = \"The percentage of planets with orbits greater than 50 days is {:0.2%} \"\n",
    "print(txt.format(len(exo_day_gt_50)/len(exo_days_df)))\n",
    "\n",
    "\n",
    "exo_days_df= exo_days_df[(exo_days_df[\"orb_days\"]<50)]\n"
   ]
  },
  {
   "cell_type": "code",
   "execution_count": 221,
   "metadata": {},
   "outputs": [
    {
     "data": {
      "image/png": "[encoded data removed]",
      "text/plain": [
       "<Figure size 432x288 with 1 Axes>"
      ]
     },
     "metadata": {
      "needs_background": "light"
     },
     "output_type": "display_data"
    }
   ],
   "source": [
    "plot_distribution(exo_days_df[\"orb_days\"])"
   ]
  },
  {
   "cell_type": "markdown",
   "metadata": {},
   "source": [
    "***\n",
    "# Sampling Bias of the Transmit Method\n",
    "***\n",
    "\n",
    "to do: create stacked bar chart"
   ]
  },
  {
   "cell_type": "markdown",
   "metadata": {},
   "source": [
    "***\n",
    "# The Trappist System\n",
    "***\n",
    "\n",
    "\n",
    "\n",
    "**All seven planets discovered in orbit around the red dwarf star TRAPPIST-1 could easily fit inside the orbit of Mercury.\n",
    "All seven of them are similar in size to the Earth. The furthest one has the longest orbit at just 19 Earth days. Scientists believe they may all be rocky. Since the star is so faint, they think its the inner planets that might be habitable. They are so close to each other that if you were stand on any of the other planets, you might see all 6 of your neighbors by eye sight and some of them would be quite large.**\n",
    "\n",
    "<figure>\n",
    "  <img src=\"https://github.com/TheReallyBigApple/CunyAssignments/raw/main/DATA607/FinalProject/ssc2017-01b.jpg\" alt=\"coconuts 2b\" style=\"width:100%\">\n",
    "  <figcaption>Artists rendition of the Trappist system.</figcaption>\n",
    "</figure>\n",
    "\n",
    "\n"
   ]
  },
  {
   "cell_type": "code",
   "execution_count": 224,
   "metadata": {},
   "outputs": [
    {
     "data": {
      "text/html": [
       "<table border=\"1\" class=\"dataframe\">\n",
       "  <thead>\n",
       "    <tr style=\"text-align: right;\">\n",
       "      <th>planet</th>\n",
       "      <th>method</th>\n",
       "      <th>orb_days</th>\n",
       "      <th>orb_eccentricity</th>\n",
       "      <th>orb_inclination</th>\n",
       "      <th>orb_aus</th>\n",
       "    </tr>\n",
       "  </thead>\n",
       "  <tbody>\n",
       "    <tr>\n",
       "      <td>TRAPPIST-1 h</td>\n",
       "      <td>Transit</td>\n",
       "      <td>18.773</td>\n",
       "      <td>NaN</td>\n",
       "      <td>89.805</td>\n",
       "      <td>0.061890</td>\n",
       "    </tr>\n",
       "    <tr>\n",
       "      <td>TRAPPIST-1 g</td>\n",
       "      <td>Transit</td>\n",
       "      <td>12.352</td>\n",
       "      <td>NaN</td>\n",
       "      <td>89.742</td>\n",
       "      <td>0.046830</td>\n",
       "    </tr>\n",
       "    <tr>\n",
       "      <td>TRAPPIST-1 f</td>\n",
       "      <td>Transit</td>\n",
       "      <td>9.208</td>\n",
       "      <td>NaN</td>\n",
       "      <td>89.740</td>\n",
       "      <td>0.038490</td>\n",
       "    </tr>\n",
       "    <tr>\n",
       "      <td>TRAPPIST-1 e</td>\n",
       "      <td>Transit</td>\n",
       "      <td>6.101</td>\n",
       "      <td>NaN</td>\n",
       "      <td>89.793</td>\n",
       "      <td>0.029250</td>\n",
       "    </tr>\n",
       "    <tr>\n",
       "      <td>TRAPPIST-1 d</td>\n",
       "      <td>Transit</td>\n",
       "      <td>4.049</td>\n",
       "      <td>NaN</td>\n",
       "      <td>89.896</td>\n",
       "      <td>0.022270</td>\n",
       "    </tr>\n",
       "    <tr>\n",
       "      <td>TRAPPIST-1 c</td>\n",
       "      <td>Transit</td>\n",
       "      <td>2.422</td>\n",
       "      <td>NaN</td>\n",
       "      <td>89.778</td>\n",
       "      <td>0.015800</td>\n",
       "    </tr>\n",
       "    <tr>\n",
       "      <td>TRAPPIST-1 b</td>\n",
       "      <td>Transit</td>\n",
       "      <td>1.511</td>\n",
       "      <td>NaN</td>\n",
       "      <td>89.728</td>\n",
       "      <td>0.011540</td>\n",
       "    </tr>\n",
       "  </tbody>\n",
       "</table>"
      ],
      "text/plain": [
       "<IPython.core.display.HTML object>"
      ]
     },
     "metadata": {},
     "output_type": "display_data"
    }
   ],
   "source": [
    "trap_df=exo_data_server.get_by_star(\"TRAPPIST-1\")\n",
    "display_without_index(trap_df[[\"planet\",\"method\", \"orb_days\", \"orb_eccentricity\",\"orb_inclination\",\"orb_aus\"]]) "
   ]
  },
  {
   "cell_type": "markdown",
   "metadata": {},
   "source": [
    "**These are the kind of planets that the transit method is very good at capturing. The planets of the Trappist system are constantly crossing the path of its sun**"
   ]
  },
  {
   "cell_type": "markdown",
   "metadata": {},
   "source": [
    "\n",
    "***\n",
    "# Conclusion\n",
    "***\n",
    "<br>\n",
    "Despite the impressive and exciting progress in the field of exoplanet research, \n",
    "we cant really use inferential statistics yet. Our data is biased towards the technological capabilities\n",
    "weve thus far been using. Maybe in a 100 years we can.\n",
    "<br>\n",
    "Also if the goal is to understand orbits, then you would like to also consider non-planetary objects.\n",
    "<br>\n",
    "However this study illustrates that different technologies and different programs are focusing in on\n",
    "particular types of planets. There is a fantastic spectrum of objects orbiting their host stars.\n",
    "<br>\n"
   ]
  },
  {
   "cell_type": "markdown",
   "metadata": {},
   "source": [
    "\n",
    "\n",
    "***\n",
    "# References\n",
    "***\n",
    "<br>\n",
    "\n",
    "<li>\n",
    "    <a name=bib-one></a><a href=\"#cite_one\"></a><b>[1]</b>Clavin, Whitney; Chou, Felicia; Johnson, Michele (6 January 2015).<a href=\"http://www.jpl.nasa.gov/news/news.php?release=2015-003\">\"NASA's Kepler Marks 1,000th Exoplanet Discovery, Uncovers More Small Worlds in Habitable Zones\". NASA. Retrieved 6 January 2015</a>\n",
    "</li>\n",
    "<br>\n",
    "\n",
    "    \n",
    "    \n",
    "<br>\n",
    "    <li><a name=bib-two></a><a href=\"#cite_two\"></a><b>[2]</b>IPAC Caltech <a href=\"https://www.ipac.caltech.edu/page/history\">\"IPAC History\"</a></li>\n",
    "<br>\n",
    "\n",
    "    \n",
    "    \n",
    "<br>\n",
    "<li><a name=bib-three></a><a href=\"#cite_three\"></a><b>[3]</b>IPAC Caltech <a href=\"https://www.ipac.caltech.edu/page/mission\">\"IPAC Mission\"</a>\n",
    "</li>\n",
    "<br>\n",
    "\n",
    "\n",
    "<br>   \n",
    "<li>\n",
    "    <a name=bib-four></a><a href=\"#cite_four\"></a><b>[4]</b>Dr. David R. Williams (21 October 2019)<a href=\"https://nssdc.gsfc.nasa.gov/planetary/factsheet/\">\"Planetery Fact Sheet\". NASA. Retrieved 6 January 2015</a>\n",
    "</li>\n",
    "<br>    \n",
    " \n",
    "\n",
    "<br>\n",
    "<li><a name=bib-five></a><a href=\"#cite_five\"></a><b>[5]</b>ZJ Zhang<a href=\"https://zjzhang42.github.io/coconuts.html\">\"COol Companions ON Ultrawide orbiTS (COCONUTS)\"</a>\n",
    "</li>\n",
    "<br>\n",
    "\n",
    "\n",
    "\n",
    "<br>\n",
    "<li><a name=bib-six></a><a href=\"#cite_six\"></a><b>[6]</b>Spitzer Space Telescope<a href=\"https://exoplanets.nasa.gov/trappist1/#Poster\">\"Abstract Concept of TRAPPIST-1 System\"</a>\n",
    "</li>\n",
    "<br>"
   ]
  }
 ],
 "metadata": {
  "kernelspec": {
   "display_name": "Python 3",
   "language": "python",
   "name": "python3"
  },
  "language_info": {
   "codemirror_mode": {
    "name": "ipython",
    "version": 3
   },
   "file_extension": ".py",
   "mimetype": "text/x-python",
   "name": "python",
   "nbconvert_exporter": "python",
   "pygments_lexer": "ipython3",
   "version": "3.8.5"
  },
  "toc": {
   "base_numbering": 1,
   "nav_menu": {},
   "number_sections": true,
   "sideBar": true,
   "skip_h1_title": false,
   "title_cell": "Table of Contents",
   "title_sidebar": "Contents",
   "toc_cell": false,
   "toc_position": {},
   "toc_section_display": true,
   "toc_window_display": true
  },
  "varInspector": {
   "cols": {
    "lenName": 16,
    "lenType": 16,
    "lenVar": 40
   },
   "kernels_config": {
    "python": {
     "delete_cmd_postfix": "",
     "delete_cmd_prefix": "del ",
     "library": "var_list.py",
     "varRefreshCmd": "print(var_dic_list())"
    },
    "r": {
     "delete_cmd_postfix": ") ",
     "delete_cmd_prefix": "rm(",
     "library": "var_list.r",
     "varRefreshCmd": "cat(var_dic_list()) "
    }
   },
   "types_to_exclude": [
    "module",
    "function",
    "builtin_function_or_method",
    "instance",
    "_Feature"
   ],
   "window_display": false
  }
 },
 "nbformat": 4,
 "nbformat_minor": 4
}
