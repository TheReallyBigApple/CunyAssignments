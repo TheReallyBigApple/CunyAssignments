{
 "cells": [
  {
   "cell_type": "markdown",
   "metadata": {},
   "source": [
    "<br><br>\n",
    "\n",
    "<center><u><font size=\"5\" color=\"blue\">Probability Question</font></u></center>\n",
    "\n",
    "\n",
    "<br>\n",
    "\n",
    "\n",
    "\n",
    "`Calculate the probability that 5 independent random selections of an integer from \n",
    "the set of integers {1, 2, 3, 4, 5} will result in three 4s and two 5s in any order. `\n",
    "\n",
    "<br>\n",
    "\n",
    "<b>We will approach this first through combinatrics...</b>\n",
    "\n",
    "<br><br>\n",
    "\n",
    "<pre>\n",
    "\t\t\t\n",
    "\t\t\tThis is 5 choose 5 with replacement\n",
    "            Order doesnt matter, that is {4,4,4,5,5} and {5,4,5,4,4} are both success\n",
    "            \n",
    "</pre>\n",
    "            \n",
    "\n",
    "<br>\n",
    "\n",
    "First use itertools.product to create a <i>Cartesian Product</i> to get all possible permutaitons.\n",
    "\n",
    "<br>"
   ]
  },
  {
   "cell_type": "code",
   "execution_count": 1,
   "metadata": {},
   "outputs": [
    {
     "name": "stdout",
     "output_type": "stream",
     "text": [
      "There are  3125  total permutations if we select 5 times with replacement\n"
     ]
    }
   ],
   "source": [
    "from itertools import product \n",
    "total_perms=len(list(product([1,2,3,4,5], repeat=5))) \n",
    "print(\"There are \", total_perms, \" total permutations if we select 5 times with replacement\")"
   ]
  },
  {
   "cell_type": "markdown",
   "metadata": {},
   "source": [
    "<br>\n",
    "\n",
    "Then get the number of {4,4,4,5,5} sorts. \n",
    "\n",
    "This is tricky because we have one number repeating 3 times and another number repeating 2 times.\n",
    "\n",
    "We dont want the total permutations of five numbers, just the 5 sorts out of the 3125 total permutations.\n",
    "\n",
    "We can do this by factoring out 3! and 2! from 5!\n",
    "\n",
    "<br>"
   ]
  },
  {
   "cell_type": "code",
   "execution_count": 6,
   "metadata": {},
   "outputs": [
    {
     "name": "stdout",
     "output_type": "stream",
     "text": [
      "There are  10.0  total sorts from 3 fours and 2 fives\n"
     ]
    }
   ],
   "source": [
    "import math\n",
    "\n",
    "total_sorts=math.factorial(5)/(math.factorial(3)*math.factorial(2))\n",
    "\n",
    "print(\"There are \", total_sorts, \" total sorts from 3 fours and 2 fives\")\n"
   ]
  },
  {
   "cell_type": "code",
   "execution_count": 7,
   "metadata": {},
   "outputs": [
    {
     "name": "stdout",
     "output_type": "stream",
     "text": [
      "The probability then is  0.0032\n"
     ]
    }
   ],
   "source": [
    "\n",
    "print(\"The probability then is \", total_sorts/total_perms)\n"
   ]
  },
  {
   "cell_type": "markdown",
   "metadata": {},
   "source": [
    "<br>\n",
    "\n",
    "<b>Now we will use simultation to help validate our combinatric solution...</b>\n",
    "\n",
    "<br>\n"
   ]
  },
  {
   "cell_type": "code",
   "execution_count": 9,
   "metadata": {},
   "outputs": [
    {
     "name": "stdout",
     "output_type": "stream",
     "text": [
      "3231  success and  996769  fails. Probability =  0.003231\n"
     ]
    }
   ],
   "source": [
    "\n",
    "success=0\n",
    "fail=0\n",
    "n=1000000\n",
    "\n",
    "for x in range(n):\n",
    "    res=np.random.choice(a=[1,2,3,4,5], size =5)\n",
    "    fours=sum(1 for i in res if i == 4)\n",
    "    fives=sum(1 for i in res if i == 5)\n",
    "    if fours==3  and fives==2:\n",
    "        success=success+1\n",
    "    else:\n",
    "        fail=fail+1\n",
    "    \n",
    "print(success, \" success and \", fail, \" fails. Probability = \" , success/n)"
   ]
  },
  {
   "cell_type": "markdown",
   "metadata": {},
   "source": [
    "<br>\n",
    "\n",
    "<b>One more method...loop through the products and just count the number of 3 fours and 2 fives</b>\n",
    "\n",
    "<br>"
   ]
  },
  {
   "cell_type": "code",
   "execution_count": 10,
   "metadata": {},
   "outputs": [
    {
     "name": "stdout",
     "output_type": "stream",
     "text": [
      "All fours\n",
      "All fives\n",
      "Success = 10  and Faile =  3115  =  0.0032\n"
     ]
    }
   ],
   "source": [
    "success=0\n",
    "fail=0\n",
    "for res in product([1,2,3,4,5], repeat=5):\n",
    "    if res.count(4)==3  and res.count(5)==2:\n",
    "        success=success+1\n",
    "    else:\n",
    "        fail=fail+1\n",
    "    if (res.count(5)==5):\n",
    "        print(\"All fives\")\n",
    "    if (res.count(4)==5):\n",
    "        print(\"All fours\")        \n",
    "\n",
    "print(\"Success =\" , success, \" and Faile = \", fail, \" = \" , success/(success+fail))\n"
   ]
  }
 ],
 "metadata": {
  "kernelspec": {
   "display_name": "Python 3",
   "language": "python",
   "name": "python3"
  },
  "language_info": {
   "codemirror_mode": {
    "name": "ipython",
    "version": 3
   },
   "file_extension": ".py",
   "mimetype": "text/x-python",
   "name": "python",
   "nbconvert_exporter": "python",
   "pygments_lexer": "ipython3",
   "version": "3.8.5"
  },
  "toc": {
   "base_numbering": 1,
   "nav_menu": {},
   "number_sections": true,
   "sideBar": true,
   "skip_h1_title": false,
   "title_cell": "Table of Contents",
   "title_sidebar": "Contents",
   "toc_cell": false,
   "toc_position": {},
   "toc_section_display": true,
   "toc_window_display": false
  },
  "varInspector": {
   "cols": {
    "lenName": 16,
    "lenType": 16,
    "lenVar": 40
   },
   "kernels_config": {
    "python": {
     "delete_cmd_postfix": "",
     "delete_cmd_prefix": "del ",
     "library": "var_list.py",
     "varRefreshCmd": "print(var_dic_list())"
    },
    "r": {
     "delete_cmd_postfix": ") ",
     "delete_cmd_prefix": "rm(",
     "library": "var_list.r",
     "varRefreshCmd": "cat(var_dic_list()) "
    }
   },
   "types_to_exclude": [
    "module",
    "function",
    "builtin_function_or_method",
    "instance",
    "_Feature"
   ],
   "window_display": false
  }
 },
 "nbformat": 4,
 "nbformat_minor": 4
}
