{
 "cells": [
  {
   "cell_type": "markdown",
   "metadata": {},
   "source": [
    "<br><br>\n",
    "\n",
    "<center><u><font size=\"5\" color=\"blue\">Correlation of oil prices and the CPI/PPI</font></u></center>\n",
    "\n",
    "\n",
    "<br>\n",
    "\n",
    "First of all, lets note the subtle difference between the CPI and the PPI\n",
    "\n",
    "<br>\n",
    "\n",
    "\n",
    "\n",
    "<b><u>CPI</u></b>  :   measures the cost of goods and services to consumers \n",
    "\n",
    "\n",
    "<b><u>PPI</u></b>  :   measures the cost of the output that goes directly to consumers  \n",
    "\n",
    "<b><u>Inflation Rate</u></b>  :  the rate in which the index move \n",
    "\n",
    "\n",
    "<br><br>\n",
    "\n",
    "<pre>\n",
    "\t\t\t\n",
    "\t\t\tCPI includes rent PPI does not\n",
    "\t\t\tCPI includes medical services paid for directly by consumers however\n",
    "\t\t\tPPI includes medical services sold to the servicers\n",
    "            \n",
    "</pre>\n",
    "            \n",
    "\n",
    "The U.S. BUREAU OF LABOR STATISTICS has a good article on the differences [here](https://www.bls.gov/ppi/methodology-reports/comparing-the-producer-price-index-for-personal-consumption-with-the-us-all-items-cpi-for-all-urban-consumers.htm) \n",
    "\n",
    "<br><br>\n",
    "\n",
    "The actual number is ratio to the average of goods and services from 1982 to 1984 with a reference base of 100.\n",
    "\n",
    "<br>\n",
    "\n",
    "There are many CPIs and PPIs but we can calculate the actual inflation rate by taking the delta of any 2 and dividing by the first.\n",
    "\n",
    "<br>\n"
   ]
  },
  {
   "cell_type": "code",
   "execution_count": 6,
   "metadata": {},
   "outputs": [
    {
     "data": {
      "text/plain": [
       "'%8.49'"
      ]
     },
     "execution_count": 6,
     "metadata": {},
     "output_type": "execute_result"
    }
   ],
   "source": [
    "def calculate_inflation_rate(prev, current):\n",
    "    return \"%{:.3}\".format( (current-prev)/prev  * 100 ) \n",
    "\n",
    "\n",
    "calculate_inflation_rate(271,294)"
   ]
  },
  {
   "cell_type": "markdown",
   "metadata": {},
   "source": [
    "<br>\n",
    "\n",
    "Here we download oil prices automatically from the U.S. Energy Administration.\n",
    "\n",
    "<br>"
   ]
  },
  {
   "cell_type": "code",
   "execution_count": 7,
   "metadata": {},
   "outputs": [],
   "source": [
    "# import requests\n",
    "URL = \"https://www.eia.gov/dnav/pet/hist_xls/RWTCm.xls\"\n",
    "# response = requests.get(URL)\n",
    "\n",
    "from urllib import request\n",
    "response = request.urlretrieve(URL, \"oil_prices.xls\")"
   ]
  },
  {
   "cell_type": "code",
   "execution_count": 8,
   "metadata": {},
   "outputs": [
    {
     "data": {
      "text/plain": [
       "'C:\\\\Users\\\\arono\\\\source\\\\python\\\\DATA618'"
      ]
     },
     "execution_count": 8,
     "metadata": {},
     "output_type": "execute_result"
    }
   ],
   "source": [
    "import os\n",
    "os.getcwd()"
   ]
  },
  {
   "cell_type": "code",
   "execution_count": 22,
   "metadata": {},
   "outputs": [],
   "source": [
    "import pandas as pd \n",
    "file=\"oil_prices.xls\"\n",
    "\n",
    "oil_prices = pd.read_excel(file, sheet_name='Data 1')\n"
   ]
  },
  {
   "cell_type": "code",
   "execution_count": 23,
   "metadata": {},
   "outputs": [],
   "source": [
    "oil_prices=oil_prices.iloc[4:443,:]\n",
    "oil_prices.columns = ['date', 'price']\n",
    "oil_prices.reset_index(drop=True, inplace=True)"
   ]
  },
  {
   "cell_type": "code",
   "execution_count": 24,
   "metadata": {},
   "outputs": [
    {
     "data": {
      "text/html": [
       "<div>\n",
       "<style scoped>\n",
       "    .dataframe tbody tr th:only-of-type {\n",
       "        vertical-align: middle;\n",
       "    }\n",
       "\n",
       "    .dataframe tbody tr th {\n",
       "        vertical-align: top;\n",
       "    }\n",
       "\n",
       "    .dataframe thead th {\n",
       "        text-align: right;\n",
       "    }\n",
       "</style>\n",
       "<table border=\"1\" class=\"dataframe\">\n",
       "  <thead>\n",
       "    <tr style=\"text-align: right;\">\n",
       "      <th></th>\n",
       "      <th>date</th>\n",
       "      <th>price</th>\n",
       "    </tr>\n",
       "  </thead>\n",
       "  <tbody>\n",
       "    <tr>\n",
       "      <th>0</th>\n",
       "      <td>1986-03-15 00:00:00</td>\n",
       "      <td>12.61</td>\n",
       "    </tr>\n",
       "    <tr>\n",
       "      <th>1</th>\n",
       "      <td>1986-04-15 00:00:00</td>\n",
       "      <td>12.84</td>\n",
       "    </tr>\n",
       "    <tr>\n",
       "      <th>2</th>\n",
       "      <td>1986-05-15 00:00:00</td>\n",
       "      <td>15.38</td>\n",
       "    </tr>\n",
       "    <tr>\n",
       "      <th>3</th>\n",
       "      <td>1986-06-15 00:00:00</td>\n",
       "      <td>13.43</td>\n",
       "    </tr>\n",
       "    <tr>\n",
       "      <th>4</th>\n",
       "      <td>1986-07-15 00:00:00</td>\n",
       "      <td>11.59</td>\n",
       "    </tr>\n",
       "  </tbody>\n",
       "</table>\n",
       "</div>"
      ],
      "text/plain": [
       "                  date  price\n",
       "0  1986-03-15 00:00:00  12.61\n",
       "1  1986-04-15 00:00:00  12.84\n",
       "2  1986-05-15 00:00:00  15.38\n",
       "3  1986-06-15 00:00:00  13.43\n",
       "4  1986-07-15 00:00:00  11.59"
      ]
     },
     "execution_count": 24,
     "metadata": {},
     "output_type": "execute_result"
    }
   ],
   "source": [
    "oil_prices.iloc[0:5,:]"
   ]
  },
  {
   "cell_type": "markdown",
   "metadata": {},
   "source": [
    "<br>\n",
    "\n",
    "I didnt find a direct download but you can manually pull CPI historical data from these 2 sites\n",
    "\n",
    "[Monthly Data](https://www.usinflationcalculator.com/inflation/consumer-price-index-and-annual-percent-changes-from-1913-to-2008)\n",
    "\n",
    "<br>\n",
    "\n",
    "[Yearly Averages](https://www.minneapolisfed.org/about-us/monetary-policy/inflation-calculator/consumer-price-index-1913-)\n",
    "\n",
    "\n",
    "<br>\n"
   ]
  },
  {
   "cell_type": "code",
   "execution_count": 34,
   "metadata": {},
   "outputs": [
    {
     "data": {
      "text/html": [
       "<div>\n",
       "<style scoped>\n",
       "    .dataframe tbody tr th:only-of-type {\n",
       "        vertical-align: middle;\n",
       "    }\n",
       "\n",
       "    .dataframe tbody tr th {\n",
       "        vertical-align: top;\n",
       "    }\n",
       "\n",
       "    .dataframe thead th {\n",
       "        text-align: right;\n",
       "    }\n",
       "</style>\n",
       "<table border=\"1\" class=\"dataframe\">\n",
       "  <thead>\n",
       "    <tr style=\"text-align: right;\">\n",
       "      <th></th>\n",
       "      <th>Year</th>\n",
       "      <th>Jan</th>\n",
       "      <th>Feb</th>\n",
       "      <th>Mar</th>\n",
       "      <th>Apr</th>\n",
       "      <th>May</th>\n",
       "      <th>June</th>\n",
       "      <th>July</th>\n",
       "      <th>Aug</th>\n",
       "      <th>Sep</th>\n",
       "      <th>Oct</th>\n",
       "      <th>Nov</th>\n",
       "      <th>Dec</th>\n",
       "      <th>Avg</th>\n",
       "      <th>Dec-Dec</th>\n",
       "      <th>Avg-Avg</th>\n",
       "    </tr>\n",
       "  </thead>\n",
       "  <tbody>\n",
       "    <tr>\n",
       "      <th>0</th>\n",
       "      <td>1913.0</td>\n",
       "      <td>9.8</td>\n",
       "      <td>9.8</td>\n",
       "      <td>9.8</td>\n",
       "      <td>9.8</td>\n",
       "      <td>9.7</td>\n",
       "      <td>9.8</td>\n",
       "      <td>9.9</td>\n",
       "      <td>9.9</td>\n",
       "      <td>10.0</td>\n",
       "      <td>10.0</td>\n",
       "      <td>10.1</td>\n",
       "      <td>10.0</td>\n",
       "      <td>9.9</td>\n",
       "      <td>–</td>\n",
       "      <td>–</td>\n",
       "    </tr>\n",
       "    <tr>\n",
       "      <th>1</th>\n",
       "      <td>1914.0</td>\n",
       "      <td>10.0</td>\n",
       "      <td>9.9</td>\n",
       "      <td>9.9</td>\n",
       "      <td>9.8</td>\n",
       "      <td>9.9</td>\n",
       "      <td>9.9</td>\n",
       "      <td>10.0</td>\n",
       "      <td>10.2</td>\n",
       "      <td>10.2</td>\n",
       "      <td>10.1</td>\n",
       "      <td>10.2</td>\n",
       "      <td>10.1</td>\n",
       "      <td>10.0</td>\n",
       "      <td>1</td>\n",
       "      <td>1</td>\n",
       "    </tr>\n",
       "    <tr>\n",
       "      <th>2</th>\n",
       "      <td>1915.0</td>\n",
       "      <td>10.1</td>\n",
       "      <td>10.0</td>\n",
       "      <td>9.9</td>\n",
       "      <td>10.0</td>\n",
       "      <td>10.1</td>\n",
       "      <td>10.1</td>\n",
       "      <td>10.1</td>\n",
       "      <td>10.1</td>\n",
       "      <td>10.1</td>\n",
       "      <td>10.2</td>\n",
       "      <td>10.3</td>\n",
       "      <td>10.3</td>\n",
       "      <td>10.1</td>\n",
       "      <td>2</td>\n",
       "      <td>1</td>\n",
       "    </tr>\n",
       "    <tr>\n",
       "      <th>3</th>\n",
       "      <td>1916.0</td>\n",
       "      <td>10.4</td>\n",
       "      <td>10.4</td>\n",
       "      <td>10.5</td>\n",
       "      <td>10.6</td>\n",
       "      <td>10.7</td>\n",
       "      <td>10.8</td>\n",
       "      <td>10.8</td>\n",
       "      <td>10.9</td>\n",
       "      <td>11.1</td>\n",
       "      <td>11.3</td>\n",
       "      <td>11.5</td>\n",
       "      <td>11.6</td>\n",
       "      <td>10.9</td>\n",
       "      <td>12.6</td>\n",
       "      <td>7.9</td>\n",
       "    </tr>\n",
       "    <tr>\n",
       "      <th>4</th>\n",
       "      <td>1917.0</td>\n",
       "      <td>11.7</td>\n",
       "      <td>12.0</td>\n",
       "      <td>12.0</td>\n",
       "      <td>12.6</td>\n",
       "      <td>12.8</td>\n",
       "      <td>13.0</td>\n",
       "      <td>12.8</td>\n",
       "      <td>13.0</td>\n",
       "      <td>13.3</td>\n",
       "      <td>13.5</td>\n",
       "      <td>13.5</td>\n",
       "      <td>13.7</td>\n",
       "      <td>12.8</td>\n",
       "      <td>18.1</td>\n",
       "      <td>17.4</td>\n",
       "    </tr>\n",
       "  </tbody>\n",
       "</table>\n",
       "</div>"
      ],
      "text/plain": [
       "     Year   Jan   Feb   Mar   Apr   May  June  July   Aug   Sep   Oct   Nov  \\\n",
       "0  1913.0   9.8   9.8   9.8   9.8   9.7   9.8   9.9   9.9  10.0  10.0  10.1   \n",
       "1  1914.0  10.0   9.9   9.9   9.8   9.9   9.9  10.0  10.2  10.2  10.1  10.2   \n",
       "2  1915.0  10.1  10.0   9.9  10.0  10.1  10.1  10.1  10.1  10.1  10.2  10.3   \n",
       "3  1916.0  10.4  10.4  10.5  10.6  10.7  10.8  10.8  10.9  11.1  11.3  11.5   \n",
       "4  1917.0  11.7  12.0  12.0  12.6  12.8  13.0  12.8  13.0  13.3  13.5  13.5   \n",
       "\n",
       "    Dec   Avg Dec-Dec Avg-Avg  \n",
       "0  10.0   9.9       –       –  \n",
       "1  10.1  10.0       1       1  \n",
       "2  10.3  10.1       2       1  \n",
       "3  11.6  10.9    12.6     7.9  \n",
       "4  13.7  12.8    18.1    17.4  "
      ]
     },
     "execution_count": 34,
     "metadata": {},
     "output_type": "execute_result"
    }
   ],
   "source": [
    "file_name='CPI.xlsx'\n",
    "\n",
    "df = pd.read_excel(file_name, header=1)\n",
    "\n",
    "\n",
    "df.head()"
   ]
  },
  {
   "cell_type": "code",
   "execution_count": 37,
   "metadata": {},
   "outputs": [],
   "source": [
    "df2=df.iloc[:,1:13]    # select colomns Jan thru Dec\n",
    "df3=df2.to_numpy().flatten()    # flatten to a numpy array\n",
    "df4 = pd.DataFrame(df3)\n",
    "#  to start in March 1986, get rid of 73 years + 2 months\n",
    "start=73*12+2\n",
    "cpi=df4.iloc[start:1316,:]"
   ]
  },
  {
   "cell_type": "code",
   "execution_count": 43,
   "metadata": {},
   "outputs": [],
   "source": [
    "cpi.columns = ['cpi_index'] \n",
    "cpi.reset_index(drop=True, inplace=True)"
   ]
  },
  {
   "cell_type": "code",
   "execution_count": 44,
   "metadata": {},
   "outputs": [],
   "source": [
    "oil_cpi_df = pd.concat([oil_prices, cpi['cpi_index']], axis=\"columns\")"
   ]
  },
  {
   "cell_type": "code",
   "execution_count": 45,
   "metadata": {},
   "outputs": [
    {
     "data": {
      "text/html": [
       "<div>\n",
       "<style scoped>\n",
       "    .dataframe tbody tr th:only-of-type {\n",
       "        vertical-align: middle;\n",
       "    }\n",
       "\n",
       "    .dataframe tbody tr th {\n",
       "        vertical-align: top;\n",
       "    }\n",
       "\n",
       "    .dataframe thead th {\n",
       "        text-align: right;\n",
       "    }\n",
       "</style>\n",
       "<table border=\"1\" class=\"dataframe\">\n",
       "  <thead>\n",
       "    <tr style=\"text-align: right;\">\n",
       "      <th></th>\n",
       "      <th>date</th>\n",
       "      <th>price</th>\n",
       "      <th>cpi_index</th>\n",
       "    </tr>\n",
       "  </thead>\n",
       "  <tbody>\n",
       "    <tr>\n",
       "      <th>0</th>\n",
       "      <td>1986-03-15 00:00:00</td>\n",
       "      <td>12.61</td>\n",
       "      <td>108.8</td>\n",
       "    </tr>\n",
       "    <tr>\n",
       "      <th>1</th>\n",
       "      <td>1986-04-15 00:00:00</td>\n",
       "      <td>12.84</td>\n",
       "      <td>108.6</td>\n",
       "    </tr>\n",
       "    <tr>\n",
       "      <th>2</th>\n",
       "      <td>1986-05-15 00:00:00</td>\n",
       "      <td>15.38</td>\n",
       "      <td>108.9</td>\n",
       "    </tr>\n",
       "    <tr>\n",
       "      <th>3</th>\n",
       "      <td>1986-06-15 00:00:00</td>\n",
       "      <td>13.43</td>\n",
       "      <td>109.5</td>\n",
       "    </tr>\n",
       "    <tr>\n",
       "      <th>4</th>\n",
       "      <td>1986-07-15 00:00:00</td>\n",
       "      <td>11.59</td>\n",
       "      <td>109.5</td>\n",
       "    </tr>\n",
       "  </tbody>\n",
       "</table>\n",
       "</div>"
      ],
      "text/plain": [
       "                  date  price  cpi_index\n",
       "0  1986-03-15 00:00:00  12.61      108.8\n",
       "1  1986-04-15 00:00:00  12.84      108.6\n",
       "2  1986-05-15 00:00:00  15.38      108.9\n",
       "3  1986-06-15 00:00:00  13.43      109.5\n",
       "4  1986-07-15 00:00:00  11.59      109.5"
      ]
     },
     "execution_count": 45,
     "metadata": {},
     "output_type": "execute_result"
    }
   ],
   "source": [
    "oil_cpi_df.head()"
   ]
  },
  {
   "cell_type": "markdown",
   "metadata": {},
   "source": [
    "<br>\n",
    "\n",
    "CPI as we see, is a lot less volatile than the price of oil alone.\n",
    "\n",
    "<br>"
   ]
  },
  {
   "cell_type": "code",
   "execution_count": 57,
   "metadata": {},
   "outputs": [
    {
     "data": {
      "image/png": "[encoded data removed]",
      "text/plain": [
       "<Figure size 864x432 with 2 Axes>"
      ]
     },
     "metadata": {
      "needs_background": "light"
     },
     "output_type": "display_data"
    }
   ],
   "source": [
    "\n",
    "import matplotlib as mpl \n",
    "import matplotlib.pyplot as plt \n",
    "\n",
    "months_3_Loc = mpl.dates.MonthLocator(interval=36)\n",
    "xFmt = mpl.dates.DateFormatter('%Y-%m')\n",
    "\n",
    "\n",
    "fig, ax = plt.subplots(nrows=1, ncols=2, sharey=False, tight_layout=True, figsize=(12, 6))\n",
    "\n",
    "ax[0].plot_date(oil_cpi_df.date,oil_cpi_df.price, '-' )\n",
    "ax[0].xaxis.set_major_locator(months_3_Loc) \n",
    "ax[0].xaxis.set_minor_formatter(xFmt)  \n",
    "ax[0].set(ylabel=\"Oil Price\", xlabel='')\n",
    "ax[0].set_title('Price of Oil')\n",
    "plt.setp(ax[0].get_xticklabels(), rotation=45, ha='right')  # have to force the rotation here\n",
    "\n",
    "ax[1].plot_date(oil_cpi_df.date,oil_cpi_df.cpi_index, '-' )\n",
    "ax[1].xaxis.set_major_locator(months_3_Loc) \n",
    "ax[1].xaxis.set_minor_formatter(xFmt)  \n",
    "ax[1].set(ylabel=\"CPI Index\", xlabel='')\n",
    "ax[1].set_title('CPI Index')\n",
    "\n",
    "plt.xticks(rotation = 45, ha='right') \n",
    "\n",
    "plt.show()\n"
   ]
  },
  {
   "cell_type": "code",
   "execution_count": 62,
   "metadata": {},
   "outputs": [
    {
     "data": {
      "text/plain": [
       "0.7497761623397062"
      ]
     },
     "execution_count": 62,
     "metadata": {},
     "output_type": "execute_result"
    }
   ],
   "source": [
    "oil_cpi_df['price'] = oil_cpi_df.price.astype(float)\n",
    "oil_cpi_df[\"price\"].corr(oil_cpi_df[\"cpi_index\"])"
   ]
  },
  {
   "cell_type": "markdown",
   "metadata": {},
   "source": [
    "<br>\n",
    "\n",
    "If you start playing with time periods, the correlation number varies\n",
    "\n",
    "<br>"
   ]
  },
  {
   "cell_type": "code",
   "execution_count": 77,
   "metadata": {},
   "outputs": [
    {
     "data": {
      "text/plain": [
       "0.0011917465918747916"
      ]
     },
     "execution_count": 77,
     "metadata": {},
     "output_type": "execute_result"
    }
   ],
   "source": [
    "oil_cpi_df.iloc[219:437,1].corr(oil_cpi_df.iloc[219:437,2])"
   ]
  },
  {
   "cell_type": "code",
   "execution_count": 117,
   "metadata": {},
   "outputs": [
    {
     "data": {
      "text/plain": [
       "0.8044820509862992"
      ]
     },
     "execution_count": 117,
     "metadata": {},
     "output_type": "execute_result"
    }
   ],
   "source": [
    "oil_cpi_df.iloc[0:300,1].corr(oil_cpi_df.iloc[0:300,2])"
   ]
  },
  {
   "cell_type": "code",
   "execution_count": 112,
   "metadata": {},
   "outputs": [
    {
     "data": {
      "text/plain": [
       "-0.3330267361784557"
      ]
     },
     "execution_count": 112,
     "metadata": {},
     "output_type": "execute_result"
    }
   ],
   "source": [
    "from datetime import datetime\n",
    "\n",
    "start = datetime.strptime(\"1990-01-01\",\"%Y-%m-%d\")\n",
    "end = datetime.strptime(\"2000-01-01\",\"%Y-%m-%d\")\n",
    "mask = (oil_cpi_df['date']  > start) & (oil_cpi_df['date']  <= end)\n",
    "the_nineties = oil_cpi_df.loc[mask]\n",
    "the_nineties[\"price\"].corr(the_nineties[\"cpi_index\"])"
   ]
  },
  {
   "cell_type": "code",
   "execution_count": 113,
   "metadata": {},
   "outputs": [
    {
     "data": {
      "text/plain": [
       "0.5290107639184654"
      ]
     },
     "execution_count": 113,
     "metadata": {},
     "output_type": "execute_result"
    }
   ],
   "source": [
    "start = datetime.strptime(\"1980-01-01\",\"%Y-%m-%d\")\n",
    "end = datetime.strptime(\"1990-01-01\",\"%Y-%m-%d\")\n",
    "mask = (oil_cpi_df['date']  > start) & (oil_cpi_df['date']  <= end)\n",
    "the_eighties = oil_cpi_df.loc[mask]\n",
    "the_eighties[\"price\"].corr(the_eighties[\"cpi_index\"])"
   ]
  },
  {
   "cell_type": "code",
   "execution_count": 114,
   "metadata": {},
   "outputs": [
    {
     "data": {
      "text/plain": [
       "0.4442101966763914"
      ]
     },
     "execution_count": 114,
     "metadata": {},
     "output_type": "execute_result"
    }
   ],
   "source": [
    "start = datetime.strptime(\"2000-01-01\",\"%Y-%m-%d\")\n",
    "mask = (oil_cpi_df['date']  > start) \n",
    "the_2000s = oil_cpi_df.loc[mask]\n",
    "the_2000s[\"price\"].corr(the_2000s[\"cpi_index\"])"
   ]
  },
  {
   "cell_type": "markdown",
   "metadata": {},
   "source": [
    "\n",
    "<b><u>Conclusion</u></b>  :  \n",
    "\n",
    "\n",
    "<br><br>\n",
    "\n",
    "<pre>\n",
    "\t\t\t\n",
    "\t\t\tThe correlation is strong, but there are a lot of caveats. \n",
    "            \n",
    "            The article makes some sensible points. For example, the economy is more service driven now.\n",
    "            \n",
    "            It didnt really try to explain why oil inflation causes general inflation or vica versa.\n",
    "            \n",
    "            It seems to me oil inflation occurs more by choice of the OPEC leaders than by supply chain dynamics,\n",
    "               at least compared to general inflation. And it makes sense that when oil prices increase, it\n",
    "                   drives a wide range of inflationary pressures.\n",
    "            \n",
    "            \n",
    "</pre>"
   ]
  }
 ],
 "metadata": {
  "kernelspec": {
   "display_name": "Python 3",
   "language": "python",
   "name": "python3"
  },
  "language_info": {
   "codemirror_mode": {
    "name": "ipython",
    "version": 3
   },
   "file_extension": ".py",
   "mimetype": "text/x-python",
   "name": "python",
   "nbconvert_exporter": "python",
   "pygments_lexer": "ipython3",
   "version": "3.8.5"
  },
  "toc": {
   "base_numbering": 1,
   "nav_menu": {},
   "number_sections": true,
   "sideBar": true,
   "skip_h1_title": false,
   "title_cell": "Table of Contents",
   "title_sidebar": "Contents",
   "toc_cell": false,
   "toc_position": {},
   "toc_section_display": true,
   "toc_window_display": false
  },
  "varInspector": {
   "cols": {
    "lenName": 16,
    "lenType": 16,
    "lenVar": 40
   },
   "kernels_config": {
    "python": {
     "delete_cmd_postfix": "",
     "delete_cmd_prefix": "del ",
     "library": "var_list.py",
     "varRefreshCmd": "print(var_dic_list())"
    },
    "r": {
     "delete_cmd_postfix": ") ",
     "delete_cmd_prefix": "rm(",
     "library": "var_list.r",
     "varRefreshCmd": "cat(var_dic_list()) "
    }
   },
   "types_to_exclude": [
    "module",
    "function",
    "builtin_function_or_method",
    "instance",
    "_Feature"
   ],
   "window_display": false
  }
 },
 "nbformat": 4,
 "nbformat_minor": 4
}
