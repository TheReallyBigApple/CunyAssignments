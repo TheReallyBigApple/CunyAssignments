{
  "nbformat": 4,
  "nbformat_minor": 0,
  "metadata": {
    "kernelspec": {
      "display_name": "Python 3",
      "language": "python",
      "name": "python3"
    },
    "language_info": {
      "codemirror_mode": {
        "name": "ipython",
        "version": 3
      },
      "file_extension": ".py",
      "mimetype": "text/x-python",
      "name": "python",
      "nbconvert_exporter": "python",
      "pygments_lexer": "ipython3",
      "version": "3.8.5"
    },
    "colab": {
      "name": "chap11.ipynb",
      "provenance": [],
      "include_colab_link": true
    }
  },
  "cells": [
    {
      "cell_type": "markdown",
      "metadata": {
        "id": "view-in-github",
        "colab_type": "text"
      },
      "source": [
        "<a href=\"https://colab.research.google.com/github/TheReallyBigApple/CunyAssignments/blob/main/Data604/chap11.ipynb\" target=\"_parent\"><img src=\"https://colab.research.google.com/assets/colab-badge.svg\" alt=\"Open In Colab\"/></a>"
      ]
    },
    {
      "cell_type": "markdown",
      "metadata": {
        "id": "RTSoP97CC_UA"
      },
      "source": [
        "#                       CUNY MSDS Data604 Week 5\n",
        "#                            Tom Buonora\n",
        "\n",
        "\n",
        "\n",
        "# Modeling and Simulation in Python\n",
        "\n",
        "Chapter 11\n",
        "\n",
        "Copyright 2017 Allen Downey\n",
        "\n",
        "License: [Creative Commons Attribution 4.0 International](https://creativecommons.org/licenses/by/4.0)"
      ]
    },
    {
      "cell_type": "code",
      "metadata": {
        "id": "Yfv5RyJVC_UC"
      },
      "source": [
        "# Configure Jupyter so figures appear in the notebook\n",
        "%matplotlib inline\n",
        "\n",
        "# Configure Jupyter to display the assigned value after an assignment\n",
        "%config InteractiveShell.ast_node_interactivity='last_expr_or_assign'\n",
        "\n",
        "# import functions from the modsim.py module\n",
        "from modsim import *"
      ],
      "execution_count": null,
      "outputs": []
    },
    {
      "cell_type": "markdown",
      "metadata": {
        "id": "SyI2nAyHC_UD"
      },
      "source": [
        "### SIR implementation\n",
        "\n",
        "We'll use a `State` object to represent the number (or fraction) of people in each compartment."
      ]
    },
    {
      "cell_type": "code",
      "metadata": {
        "id": "2aryEbddC_UD",
        "outputId": "9b38e611-5d6a-4484-db6c-d3c80645f1d2"
      },
      "source": [
        "init = State(S=89, I=1, R=0)"
      ],
      "execution_count": null,
      "outputs": [
        {
          "output_type": "execute_result",
          "data": {
            "text/html": [
              "<div>\n",
              "<style scoped>\n",
              "    .dataframe tbody tr th:only-of-type {\n",
              "        vertical-align: middle;\n",
              "    }\n",
              "\n",
              "    .dataframe tbody tr th {\n",
              "        vertical-align: top;\n",
              "    }\n",
              "\n",
              "    .dataframe thead th {\n",
              "        text-align: right;\n",
              "    }\n",
              "</style>\n",
              "<table border=\"1\" class=\"dataframe\">\n",
              "  <thead>\n",
              "    <tr style=\"text-align: right;\">\n",
              "      <th></th>\n",
              "      <th>values</th>\n",
              "    </tr>\n",
              "  </thead>\n",
              "  <tbody>\n",
              "    <tr>\n",
              "      <th>S</th>\n",
              "      <td>89</td>\n",
              "    </tr>\n",
              "    <tr>\n",
              "      <th>I</th>\n",
              "      <td>1</td>\n",
              "    </tr>\n",
              "    <tr>\n",
              "      <th>R</th>\n",
              "      <td>0</td>\n",
              "    </tr>\n",
              "  </tbody>\n",
              "</table>\n",
              "</div>"
            ],
            "text/plain": [
              "S    89\n",
              "I     1\n",
              "R     0\n",
              "dtype: int64"
            ]
          },
          "metadata": {
            "tags": []
          },
          "execution_count": 25
        }
      ]
    },
    {
      "cell_type": "markdown",
      "metadata": {
        "id": "c-XQleLPC_UE"
      },
      "source": [
        "To convert from number of people to fractions, we divide through by the total."
      ]
    },
    {
      "cell_type": "code",
      "metadata": {
        "id": "Ne_VuyUcC_UE",
        "outputId": "240e8781-fbcd-4109-b9e0-9e96d7e9a0b1"
      },
      "source": [
        "init /= sum(init)"
      ],
      "execution_count": null,
      "outputs": [
        {
          "output_type": "execute_result",
          "data": {
            "text/html": [
              "<div>\n",
              "<style scoped>\n",
              "    .dataframe tbody tr th:only-of-type {\n",
              "        vertical-align: middle;\n",
              "    }\n",
              "\n",
              "    .dataframe tbody tr th {\n",
              "        vertical-align: top;\n",
              "    }\n",
              "\n",
              "    .dataframe thead th {\n",
              "        text-align: right;\n",
              "    }\n",
              "</style>\n",
              "<table border=\"1\" class=\"dataframe\">\n",
              "  <thead>\n",
              "    <tr style=\"text-align: right;\">\n",
              "      <th></th>\n",
              "      <th>values</th>\n",
              "    </tr>\n",
              "  </thead>\n",
              "  <tbody>\n",
              "    <tr>\n",
              "      <th>S</th>\n",
              "      <td>0.988889</td>\n",
              "    </tr>\n",
              "    <tr>\n",
              "      <th>I</th>\n",
              "      <td>0.011111</td>\n",
              "    </tr>\n",
              "    <tr>\n",
              "      <th>R</th>\n",
              "      <td>0.000000</td>\n",
              "    </tr>\n",
              "  </tbody>\n",
              "</table>\n",
              "</div>"
            ],
            "text/plain": [
              "S    0.988889\n",
              "I    0.011111\n",
              "R    0.000000\n",
              "dtype: float64"
            ]
          },
          "metadata": {
            "tags": []
          },
          "execution_count": 26
        }
      ]
    },
    {
      "cell_type": "markdown",
      "metadata": {
        "id": "lY5TX8rTC_UE"
      },
      "source": [
        "`make_system` creates a `System` object with the given parameters."
      ]
    },
    {
      "cell_type": "code",
      "metadata": {
        "id": "bOQLkFXxC_UF"
      },
      "source": [
        "def make_system(beta, gamma):\n",
        "    \"\"\"Make a system object for the SIR model.\n",
        "    \n",
        "    beta: contact rate in days\n",
        "    gamma: recovery rate in days\n",
        "    \n",
        "    returns: System object\n",
        "    \"\"\"\n",
        "    init = State(S=89, I=1, R=0)\n",
        "    init /= sum(init)\n",
        "\n",
        "    t0 = 0\n",
        "    t_end = 7 * 14\n",
        "\n",
        "    return System(init=init, t0=t0, t_end=t_end,\n",
        "                  beta=beta, gamma=gamma)"
      ],
      "execution_count": null,
      "outputs": []
    },
    {
      "cell_type": "markdown",
      "metadata": {
        "id": "HxzZKLg3C_UF"
      },
      "source": [
        "Here's an example with hypothetical values for `beta` and `gamma`."
      ]
    },
    {
      "cell_type": "code",
      "metadata": {
        "id": "71o9Atf-C_UF",
        "outputId": "437118ea-6fcb-42bc-dfc6-79e5a08bb36a"
      },
      "source": [
        "tc = 3      # time between contacts in days \n",
        "tr = 4      # recovery time in days\n",
        "\n",
        "beta = 1 / tc      # contact rate in per day\n",
        "gamma = 1 / tr     # recovery rate in per day\n",
        "\n",
        "system = make_system(beta, gamma)"
      ],
      "execution_count": null,
      "outputs": [
        {
          "output_type": "execute_result",
          "data": {
            "text/html": [
              "<div>\n",
              "<style scoped>\n",
              "    .dataframe tbody tr th:only-of-type {\n",
              "        vertical-align: middle;\n",
              "    }\n",
              "\n",
              "    .dataframe tbody tr th {\n",
              "        vertical-align: top;\n",
              "    }\n",
              "\n",
              "    .dataframe thead th {\n",
              "        text-align: right;\n",
              "    }\n",
              "</style>\n",
              "<table border=\"1\" class=\"dataframe\">\n",
              "  <thead>\n",
              "    <tr style=\"text-align: right;\">\n",
              "      <th></th>\n",
              "      <th>values</th>\n",
              "    </tr>\n",
              "  </thead>\n",
              "  <tbody>\n",
              "    <tr>\n",
              "      <th>init</th>\n",
              "      <td>S    0.988889\n",
              "I    0.011111\n",
              "R    0.000000\n",
              "dtyp...</td>\n",
              "    </tr>\n",
              "    <tr>\n",
              "      <th>t0</th>\n",
              "      <td>0</td>\n",
              "    </tr>\n",
              "    <tr>\n",
              "      <th>t_end</th>\n",
              "      <td>98</td>\n",
              "    </tr>\n",
              "    <tr>\n",
              "      <th>beta</th>\n",
              "      <td>0.333333</td>\n",
              "    </tr>\n",
              "    <tr>\n",
              "      <th>gamma</th>\n",
              "      <td>0.25</td>\n",
              "    </tr>\n",
              "  </tbody>\n",
              "</table>\n",
              "</div>"
            ],
            "text/plain": [
              "init     S    0.988889\n",
              "I    0.011111\n",
              "R    0.000000\n",
              "dtyp...\n",
              "t0                                                       0\n",
              "t_end                                                   98\n",
              "beta                                              0.333333\n",
              "gamma                                                 0.25\n",
              "dtype: object"
            ]
          },
          "metadata": {
            "tags": []
          },
          "execution_count": 28
        }
      ]
    },
    {
      "cell_type": "markdown",
      "metadata": {
        "id": "qdVHi5RRC_UG"
      },
      "source": [
        "The update function takes the state during the current time step and returns the state during the next time step."
      ]
    },
    {
      "cell_type": "code",
      "metadata": {
        "id": "Otkj6My_C_UG"
      },
      "source": [
        "def update_func(state, t, system):\n",
        "    \"\"\"Update the SIR model.\n",
        "    \n",
        "    state: State with variables S, I, R\n",
        "    t: time step\n",
        "    system: System with beta and gamma\n",
        "    \n",
        "    returns: State object\n",
        "    \"\"\"\n",
        "    s, i, r = state\n",
        "\n",
        "       # note both infected and recoverd are influenced are multiples of infected\n",
        "    #  so once i becomes low enough, all 3 values stabilize\n",
        "    infected = system.beta * i * s    \n",
        "    recovered = system.gamma * i\n",
        "    \n",
        "    s -= infected\n",
        "    i += infected - recovered\n",
        "    r += recovered\n",
        "    \n",
        "    return State(S=s, I=i, R=r)"
      ],
      "execution_count": null,
      "outputs": []
    },
    {
      "cell_type": "markdown",
      "metadata": {
        "id": "Y-WJjyaXC_UG"
      },
      "source": [
        "To run a single time step, we call it like this:"
      ]
    },
    {
      "cell_type": "code",
      "metadata": {
        "id": "LhoRKRFnC_UG",
        "outputId": "2360147c-17fe-4ab0-912c-28aed88a356a"
      },
      "source": [
        "state = update_func(init, 0, system)"
      ],
      "execution_count": null,
      "outputs": [
        {
          "output_type": "execute_result",
          "data": {
            "text/html": [
              "<div>\n",
              "<style scoped>\n",
              "    .dataframe tbody tr th:only-of-type {\n",
              "        vertical-align: middle;\n",
              "    }\n",
              "\n",
              "    .dataframe tbody tr th {\n",
              "        vertical-align: top;\n",
              "    }\n",
              "\n",
              "    .dataframe thead th {\n",
              "        text-align: right;\n",
              "    }\n",
              "</style>\n",
              "<table border=\"1\" class=\"dataframe\">\n",
              "  <thead>\n",
              "    <tr style=\"text-align: right;\">\n",
              "      <th></th>\n",
              "      <th>values</th>\n",
              "    </tr>\n",
              "  </thead>\n",
              "  <tbody>\n",
              "    <tr>\n",
              "      <th>S</th>\n",
              "      <td>0.985226</td>\n",
              "    </tr>\n",
              "    <tr>\n",
              "      <th>I</th>\n",
              "      <td>0.011996</td>\n",
              "    </tr>\n",
              "    <tr>\n",
              "      <th>R</th>\n",
              "      <td>0.002778</td>\n",
              "    </tr>\n",
              "  </tbody>\n",
              "</table>\n",
              "</div>"
            ],
            "text/plain": [
              "S    0.985226\n",
              "I    0.011996\n",
              "R    0.002778\n",
              "dtype: float64"
            ]
          },
          "metadata": {
            "tags": []
          },
          "execution_count": 30
        }
      ]
    },
    {
      "cell_type": "markdown",
      "metadata": {
        "id": "2MdgcS0wC_UH"
      },
      "source": [
        "Now we can run a simulation by calling the update function for each time step."
      ]
    },
    {
      "cell_type": "code",
      "metadata": {
        "id": "_TW66BtlC_UH"
      },
      "source": [
        "def run_simulation(system, update_func):\n",
        "    \"\"\"Runs a simulation of the system.\n",
        "    \n",
        "    system: System object\n",
        "    update_func: function that updates state\n",
        "    \n",
        "    returns: State object for final state\n",
        "    \"\"\"\n",
        "    state = system.init\n",
        "    \n",
        "    for t in linrange(system.t0, system.t_end):\n",
        "        state = update_func(state, t, system)\n",
        "        \n",
        "    return state"
      ],
      "execution_count": null,
      "outputs": []
    },
    {
      "cell_type": "markdown",
      "metadata": {
        "id": "YRzcw65AC_UH"
      },
      "source": [
        "The result is the state of the system at `t_end`"
      ]
    },
    {
      "cell_type": "code",
      "metadata": {
        "scrolled": true,
        "id": "TnPh-tlAC_UH",
        "outputId": "59cfc117-9445-47ed-a89c-620b86ce0101"
      },
      "source": [
        "run_simulation(system, update_func)"
      ],
      "execution_count": null,
      "outputs": [
        {
          "output_type": "execute_result",
          "data": {
            "text/html": [
              "<div>\n",
              "<style scoped>\n",
              "    .dataframe tbody tr th:only-of-type {\n",
              "        vertical-align: middle;\n",
              "    }\n",
              "\n",
              "    .dataframe tbody tr th {\n",
              "        vertical-align: top;\n",
              "    }\n",
              "\n",
              "    .dataframe thead th {\n",
              "        text-align: right;\n",
              "    }\n",
              "</style>\n",
              "<table border=\"1\" class=\"dataframe\">\n",
              "  <thead>\n",
              "    <tr style=\"text-align: right;\">\n",
              "      <th></th>\n",
              "      <th>values</th>\n",
              "    </tr>\n",
              "  </thead>\n",
              "  <tbody>\n",
              "    <tr>\n",
              "      <th>S</th>\n",
              "      <td>0.520568</td>\n",
              "    </tr>\n",
              "    <tr>\n",
              "      <th>I</th>\n",
              "      <td>0.000666</td>\n",
              "    </tr>\n",
              "    <tr>\n",
              "      <th>R</th>\n",
              "      <td>0.478766</td>\n",
              "    </tr>\n",
              "  </tbody>\n",
              "</table>\n",
              "</div>"
            ],
            "text/plain": [
              "S    0.520568\n",
              "I    0.000666\n",
              "R    0.478766\n",
              "dtype: float64"
            ]
          },
          "metadata": {
            "tags": []
          },
          "execution_count": 32
        }
      ]
    },
    {
      "cell_type": "markdown",
      "metadata": {
        "id": "ay9choV0C_UH"
      },
      "source": [
        "**Exercise**  Suppose the time between contacts is 4 days and the recovery time is 5 days.  After 14 weeks, how many students, total, have been infected?\n",
        "\n",
        "Hint: what is the change in `S` between the beginning and the end of the simulation?"
      ]
    },
    {
      "cell_type": "code",
      "metadata": {
        "id": "0mgQ1Mn7C_UI",
        "outputId": "02953501-ce6b-4fef-87c0-da1c3b9304ad"
      },
      "source": [
        "beta = 1 / 4      # contact rate in per day\n",
        "gamma = 1 / 5     # recovery rate in per day\n",
        "\n",
        "system = make_system(beta, gamma)\n",
        "run_simulation(system, update_func)\n",
        "\n",
        "\n",
        "new_state = run_simulation(system, update_func)\n",
        "\n",
        "print (90 - (np.int(new_state['S'] * 90)), \" students have been infected\")\n",
        "\n",
        "print (np.int(new_state['R'] * 90), \" students have recovered\")\n"
      ],
      "execution_count": null,
      "outputs": [
        {
          "output_type": "stream",
          "text": [
            "36  students have been infected\n",
            "34  students have recovered\n"
          ],
          "name": "stdout"
        }
      ]
    },
    {
      "cell_type": "markdown",
      "metadata": {
        "id": "7oe6nKXnC_UI"
      },
      "source": [
        "### Using TimeSeries objects"
      ]
    },
    {
      "cell_type": "markdown",
      "metadata": {
        "id": "-Ld2Fw1kC_UI"
      },
      "source": [
        "If we want to store the state of the system at each time step, we can use one `TimeSeries` object for each state variable."
      ]
    },
    {
      "cell_type": "code",
      "metadata": {
        "id": "1ypZX1wiC_UI"
      },
      "source": [
        "def run_simulation(system, update_func):\n",
        "    \"\"\"Runs a simulation of the system.\n",
        "    \n",
        "    Add three Series objects to the System: S, I, R\n",
        "    \n",
        "    system: System object\n",
        "    update_func: function that updates state\n",
        "    \"\"\"\n",
        "    S = TimeSeries()\n",
        "    I = TimeSeries()\n",
        "    R = TimeSeries()\n",
        "\n",
        "    state = system.init\n",
        "    t0 = system.t0\n",
        "    S[t0], I[t0], R[t0] = state\n",
        "    \n",
        "    for t in linrange(system.t0, system.t_end):\n",
        "        state = update_func(state, t, system)\n",
        "        S[t+1], I[t+1], R[t+1] = state\n",
        "    \n",
        "    return S, I, R"
      ],
      "execution_count": null,
      "outputs": []
    },
    {
      "cell_type": "markdown",
      "metadata": {
        "id": "TKaS5wmOC_UJ"
      },
      "source": [
        "Here's how we call it."
      ]
    },
    {
      "cell_type": "code",
      "metadata": {
        "id": "HNk1HuioC_UJ"
      },
      "source": [
        "tc = 3      # time between contacts in days \n",
        "tr = 4      # recovery time in days\n",
        "\n",
        "beta = 1 / tc      # contact rate in per day\n",
        "gamma = 1 / tr     # recovery rate in per day\n",
        "\n",
        "system = make_system(beta, gamma)\n",
        "S, I, R = run_simulation(system, update_func)"
      ],
      "execution_count": null,
      "outputs": []
    },
    {
      "cell_type": "markdown",
      "metadata": {
        "id": "O8mheD1PC_UJ"
      },
      "source": [
        "And then we can plot the results."
      ]
    },
    {
      "cell_type": "code",
      "metadata": {
        "id": "Nkad-q3WC_UK"
      },
      "source": [
        "def plot_results(S, I, R):\n",
        "    \"\"\"Plot the results of a SIR model.\n",
        "    \n",
        "    S: TimeSeries\n",
        "    I: TimeSeries\n",
        "    R: TimeSeries\n",
        "    \"\"\"\n",
        "    plot(S, '--', label='Susceptible')\n",
        "    plot(I, '-', label='Infected')\n",
        "    plot(R, ':', label='Recovered')\n",
        "    decorate(xlabel='Time (days)',\n",
        "             ylabel='Fraction of population')\n"
      ],
      "execution_count": null,
      "outputs": []
    },
    {
      "cell_type": "markdown",
      "metadata": {
        "id": "aeAtnnc7C_UK"
      },
      "source": [
        "Here's what they look like."
      ]
    },
    {
      "cell_type": "code",
      "metadata": {
        "id": "zOmby2vmC_UK",
        "outputId": "eafff9b8-a7c3-4e53-ffa3-af198b2c9d5f"
      },
      "source": [
        "plot_results(S, I, R)\n",
        "savefig('C:\\\\Users\\\\arono\\\\CUNY\\\\DATA604_Python\\\\Homework\\\\chap11-fig01.pdf')"
      ],
      "execution_count": null,
      "outputs": [
        {
          "output_type": "stream",
          "text": [
            "Saving figure to file C:\\Users\\arono\\CUNY\\DATA604_Python\\Homework\\chap11-fig01.pdf\n"
          ],
          "name": "stdout"
        },
        {
          "output_type": "display_data",
          "data": {
            "image/png": "[encoded data removed]",
            "text/plain": [
              "<Figure size 432x288 with 1 Axes>"
            ]
          },
          "metadata": {
            "tags": [],
            "needs_background": "light"
          }
        }
      ]
    },
    {
      "cell_type": "markdown",
      "metadata": {
        "id": "kijY8ZoQC_UK"
      },
      "source": [
        "### Using a DataFrame"
      ]
    },
    {
      "cell_type": "markdown",
      "metadata": {
        "id": "VPLy55EDC_UK"
      },
      "source": [
        "Instead of making three `TimeSeries` objects, we can use one `DataFrame`.\n",
        "\n",
        "We have to use `row` to selects rows, rather than columns.  But then Pandas does the right thing, matching up the state variables with the columns of the `DataFrame`."
      ]
    },
    {
      "cell_type": "code",
      "metadata": {
        "id": "uphDBQJ4C_UK"
      },
      "source": [
        "def run_simulation(system, update_func):\n",
        "    \"\"\"Runs a simulation of the system.\n",
        "        \n",
        "    system: System object\n",
        "    update_func: function that updates state\n",
        "    \n",
        "    returns: TimeFrame\n",
        "    \"\"\"\n",
        "    frame = TimeFrame(columns=system.init.index)\n",
        "    frame.row[system.t0] = system.init\n",
        "    \n",
        "    for t in linrange(system.t0, system.t_end):\n",
        "        frame.row[t+1] = update_func(frame.row[t], t, system)\n",
        "    \n",
        "    return frame"
      ],
      "execution_count": null,
      "outputs": []
    },
    {
      "cell_type": "markdown",
      "metadata": {
        "id": "2nm6FzlNC_UL"
      },
      "source": [
        "Here's how we run it, and what the result looks like."
      ]
    },
    {
      "cell_type": "code",
      "metadata": {
        "id": "DOz6p4IVC_UL",
        "outputId": "7923c728-f350-4266-e16d-55c83fea0be6"
      },
      "source": [
        "tc = 3      # time between contacts in days \n",
        "tr = 4      # recovery time in days\n",
        "\n",
        "beta = 1 / tc      # contact rate in per day\n",
        "gamma = 1 / tr     # recovery rate in per day\n",
        "\n",
        "system = make_system(beta, gamma)\n",
        "results = run_simulation(system, update_func)\n",
        "results.head()"
      ],
      "execution_count": null,
      "outputs": [
        {
          "output_type": "execute_result",
          "data": {
            "text/html": [
              "<div>\n",
              "<style scoped>\n",
              "    .dataframe tbody tr th:only-of-type {\n",
              "        vertical-align: middle;\n",
              "    }\n",
              "\n",
              "    .dataframe tbody tr th {\n",
              "        vertical-align: top;\n",
              "    }\n",
              "\n",
              "    .dataframe thead th {\n",
              "        text-align: right;\n",
              "    }\n",
              "</style>\n",
              "<table border=\"1\" class=\"dataframe\">\n",
              "  <thead>\n",
              "    <tr style=\"text-align: right;\">\n",
              "      <th></th>\n",
              "      <th>S</th>\n",
              "      <th>I</th>\n",
              "      <th>R</th>\n",
              "    </tr>\n",
              "  </thead>\n",
              "  <tbody>\n",
              "    <tr>\n",
              "      <th>0</th>\n",
              "      <td>0.988889</td>\n",
              "      <td>0.011111</td>\n",
              "      <td>0.000000</td>\n",
              "    </tr>\n",
              "    <tr>\n",
              "      <th>1</th>\n",
              "      <td>0.985226</td>\n",
              "      <td>0.011996</td>\n",
              "      <td>0.002778</td>\n",
              "    </tr>\n",
              "    <tr>\n",
              "      <th>2</th>\n",
              "      <td>0.981287</td>\n",
              "      <td>0.012936</td>\n",
              "      <td>0.005777</td>\n",
              "    </tr>\n",
              "    <tr>\n",
              "      <th>3</th>\n",
              "      <td>0.977055</td>\n",
              "      <td>0.013934</td>\n",
              "      <td>0.009011</td>\n",
              "    </tr>\n",
              "    <tr>\n",
              "      <th>4</th>\n",
              "      <td>0.972517</td>\n",
              "      <td>0.014988</td>\n",
              "      <td>0.012494</td>\n",
              "    </tr>\n",
              "  </tbody>\n",
              "</table>\n",
              "</div>"
            ],
            "text/plain": [
              "          S         I         R\n",
              "0  0.988889  0.011111  0.000000\n",
              "1  0.985226  0.011996  0.002778\n",
              "2  0.981287  0.012936  0.005777\n",
              "3  0.977055  0.013934  0.009011\n",
              "4  0.972517  0.014988  0.012494"
            ]
          },
          "metadata": {
            "tags": []
          },
          "execution_count": 39
        }
      ]
    },
    {
      "cell_type": "markdown",
      "metadata": {
        "id": "EPlFIPB1C_UL"
      },
      "source": [
        "We can extract the results and plot them."
      ]
    },
    {
      "cell_type": "code",
      "metadata": {
        "id": "8hqQs-wRC_UL",
        "outputId": "07dd4737-55c1-426d-c797-f1d8fdd7764d"
      },
      "source": [
        "plot_results(results.S, results.I, results.R)"
      ],
      "execution_count": null,
      "outputs": [
        {
          "output_type": "display_data",
          "data": {
            "image/png": "[encoded data removed]",
            "text/plain": [
              "<Figure size 432x288 with 1 Axes>"
            ]
          },
          "metadata": {
            "tags": [],
            "needs_background": "light"
          }
        }
      ]
    },
    {
      "cell_type": "markdown",
      "metadata": {
        "id": "lQX03hxRC_UL"
      },
      "source": [
        "## Exercises\n",
        "\n",
        "**Exercise**  Suppose the time between contacts is 4 days and the recovery time is 5 days.  Simulate this scenario for 14 weeks and plot the results."
      ]
    },
    {
      "cell_type": "code",
      "metadata": {
        "id": "7NU18tbqC_UM",
        "outputId": "db86126d-4cad-4b1b-8caa-8d5d20837c8c"
      },
      "source": [
        "\n",
        "beta = 1 / 4      # contact rate in per day\n",
        "gamma = 1 / 5     # recovery rate in per day\n",
        "\n",
        "system = make_system(beta, gamma)\n",
        "results = run_simulation(system, update_func)\n",
        "plot_results(results.S, results.I, results.R)"
      ],
      "execution_count": null,
      "outputs": [
        {
          "output_type": "display_data",
          "data": {
            "image/png": "[encoded data removed]",
            "text/plain": [
              "<Figure size 432x288 with 1 Axes>"
            ]
          },
          "metadata": {
            "tags": [],
            "needs_background": "light"
          }
        }
      ]
    }
  ]
}