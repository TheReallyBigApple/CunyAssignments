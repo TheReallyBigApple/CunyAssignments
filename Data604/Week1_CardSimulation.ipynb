{
  "nbformat": 4,
  "nbformat_minor": 0,
  "metadata": {
    "colab": {
      "name": "Untitled2.ipynb",
      "provenance": [],
      "collapsed_sections": [],
      "authorship_tag": "ABX9TyNcKjqZTQdr/WEob3pBm9dA",
      "include_colab_link": true
    },
    "kernelspec": {
      "name": "python3",
      "display_name": "Python 3"
    },
    "language_info": {
      "name": "python"
    }
  },
  "cells": [
    {
      "cell_type": "markdown",
      "metadata": {
        "id": "view-in-github",
        "colab_type": "text"
      },
      "source": [
        "<a href=\"https://colab.research.google.com/github/TheReallyBigApple/CunyAssignments/blob/main/Data604/Week1_CardSimulation.ipynb\" target=\"_parent\"><img src=\"https://colab.research.google.com/assets/colab-badge.svg\" alt=\"Open In Colab\"/></a>"
      ]
    },
    {
      "cell_type": "code",
      "metadata": {
        "id": "AsxbBwzUVacz"
      },
      "source": [
        "#   CUNY MSDS Data604 Week 1 - Tom Buonora\n",
        "\n",
        "\n",
        "# Simple Simulation of obtaining a Flush in 1 million hands"
      ],
      "execution_count": 1,
      "outputs": []
    },
    {
      "cell_type": "code",
      "metadata": {
        "id": "8oB0ZGG1WiJZ"
      },
      "source": [
        "import random"
      ],
      "execution_count": 2,
      "outputs": []
    },
    {
      "cell_type": "markdown",
      "metadata": {
        "id": "D9fYrSNPV6x1"
      },
      "source": [
        "Function to initialize a deck of cards"
      ]
    },
    {
      "cell_type": "code",
      "metadata": {
        "id": "-cn6o_z3Vvx1"
      },
      "source": [
        "def set_new_deck():\n",
        "    deck= []\n",
        "    suits = ['Hearts', 'Diamonds', 'Clubs', 'Spades']\n",
        "    values = ['A', '2', '3', '4', '5', '6', '7', '8', '9', '10', 'J', 'Q', 'K']\n",
        "    for suit in suits:\n",
        "        for value in values:\n",
        "            deck.append(value + ' of ' + suit)\n",
        "    return deck"
      ],
      "execution_count": 3,
      "outputs": []
    },
    {
      "cell_type": "markdown",
      "metadata": {
        "id": "cBK1w_MQV_5x"
      },
      "source": [
        "Function to deal one hand from a fresh deck"
      ]
    },
    {
      "cell_type": "code",
      "metadata": {
        "id": "GJNzZb6_WF9J"
      },
      "source": [
        "def deal(deck):\n",
        "        deal_list = []\n",
        "        \n",
        "        for x in range(5):\n",
        "            y=random.randint(0,51-x)\n",
        "            deal_list.append(deck[y])\n",
        "            deck.remove(deck[y])\n",
        "        return deal_list"
      ],
      "execution_count": 4,
      "outputs": []
    },
    {
      "cell_type": "markdown",
      "metadata": {
        "id": "LmBWYn9gWHBn"
      },
      "source": [
        "Function that determines if a hand is a flush (each third word in the string is the same). Note this is any flush including royal flush and straight flush."
      ]
    },
    {
      "cell_type": "code",
      "metadata": {
        "id": "7hzvqCobWPdU"
      },
      "source": [
        "def is_flush(hand):\n",
        "    if (hand[0].split()[2] == \\\n",
        "        hand[1].split()[2] == \\\n",
        "        hand[2].split()[2] == \\\n",
        "        hand[3].split()[2] == \\\n",
        "        hand[4].split()[2]):\n",
        "        return True\n",
        "    else:\n",
        "        return False"
      ],
      "execution_count": 5,
      "outputs": []
    },
    {
      "cell_type": "markdown",
      "metadata": {
        "id": "HxKK_hhgW82P"
      },
      "source": [
        "Just for show, here is a sample hand"
      ]
    },
    {
      "cell_type": "code",
      "metadata": {
        "colab": {
          "base_uri": "https://localhost:8080/"
        },
        "id": "Nm8nF_48W_pH",
        "outputId": "6983e103-570d-4aab-cedd-56d675486791"
      },
      "source": [
        "new_deck = set_new_deck()\n",
        "deal(new_deck)"
      ],
      "execution_count": 6,
      "outputs": [
        {
          "output_type": "execute_result",
          "data": {
            "text/plain": [
              "['3 of Hearts', 'K of Diamonds', '8 of Clubs', '3 of Spades', '9 of Diamonds']"
            ]
          },
          "metadata": {
            "tags": []
          },
          "execution_count": 6
        }
      ]
    },
    {
      "cell_type": "markdown",
      "metadata": {
        "id": "FSehkI48WVT5"
      },
      "source": [
        "Main code"
      ]
    },
    {
      "cell_type": "code",
      "metadata": {
        "colab": {
          "base_uri": "https://localhost:8080/"
        },
        "id": "lgi2fgZGWXvT",
        "outputId": "4e54e0fa-dcfe-4b27-9347-e90701404f86"
      },
      "source": [
        "\n",
        "flush_count=0\n",
        "hand_count=100000\n",
        "\n",
        "for i in range(hand_count):\n",
        "    new_deck = set_new_deck()\n",
        "    hand = deal(new_deck)\n",
        "\n",
        "    if (is_flush(hand)):\n",
        "        flush_count+=1\n",
        "     #   print(cards)\n",
        "        \n",
        "print(\"In a simulation of \", hand_count, \" hands, \", flush_count, \" or \", flush_count *100/hand_count, \"% were flushes \")\n"
      ],
      "execution_count": 7,
      "outputs": [
        {
          "output_type": "stream",
          "text": [
            "In a simulation of  100000  hands,  195  or  0.195 % were flushes \n"
          ],
          "name": "stdout"
        }
      ]
    }
  ]
}