{
  "nbformat": 4,
  "nbformat_minor": 0,
  "metadata": {
    "kernelspec": {
      "display_name": "Python 3",
      "language": "python",
      "name": "python3"
    },
    "language_info": {
      "codemirror_mode": {
        "name": "ipython",
        "version": 3
      },
      "file_extension": ".py",
      "mimetype": "text/x-python",
      "name": "python",
      "nbconvert_exporter": "python",
      "pygments_lexer": "ipython3",
      "version": "3.7.9"
    },
    "colab": {
      "name": "chap04.ipynb",
      "provenance": [],
      "collapsed_sections": [],
      "include_colab_link": true
    }
  },
  "cells": [
    {
      "cell_type": "markdown",
      "metadata": {
        "id": "view-in-github",
        "colab_type": "text"
      },
      "source": [
        "<a href=\"https://colab.research.google.com/github/TheReallyBigApple/CunyAssignments/blob/main/Data604/chap04.ipynb\" target=\"_parent\"><img src=\"https://colab.research.google.com/assets/colab-badge.svg\" alt=\"Open In Colab\"/></a>"
      ]
    },
    {
      "cell_type": "markdown",
      "metadata": {
        "id": "rmyUMWFASCsV"
      },
      "source": [
        "#                       CUNY MSDS Data604 Week 2\n",
        "#                            Tom Buonora\n",
        "\n",
        "# Chapter 4"
      ]
    },
    {
      "cell_type": "markdown",
      "metadata": {
        "tags": [],
        "id": "rz1OsVrLSCsX"
      },
      "source": [
        "*Modeling and Simulation in Python*\n",
        "\n",
        "Copyright 2021 Allen Downey\n",
        "\n",
        "License: [Creative Commons Attribution-NonCommercial-ShareAlike 4.0 International](https://creativecommons.org/licenses/by-nc-sa/4.0/)"
      ]
    },
    {
      "cell_type": "code",
      "metadata": {
        "tags": [],
        "id": "zcxlzG7ESCsX"
      },
      "source": [
        "# check if the libraries we need are installed\n",
        "\n",
        "try:\n",
        "    import pint\n",
        "except ImportError:\n",
        "    !pip install pint\n",
        "    import pint\n",
        "    \n",
        "try:\n",
        "    from modsim import *\n",
        "except ImportError:\n",
        "    !pip install modsimpy\n",
        "    from modsim import *"
      ],
      "execution_count": 37,
      "outputs": []
    },
    {
      "cell_type": "markdown",
      "metadata": {
        "id": "1Y_Qz2ZnSCsY"
      },
      "source": [
        "## Returning values"
      ]
    },
    {
      "cell_type": "markdown",
      "metadata": {
        "id": "wCqqGulHSCsY"
      },
      "source": [
        "Here's a simple function that returns a value:"
      ]
    },
    {
      "cell_type": "code",
      "metadata": {
        "id": "iZtTXCOwSCsY"
      },
      "source": [
        "def add_five(x):\n",
        "    return x + 5"
      ],
      "execution_count": 38,
      "outputs": []
    },
    {
      "cell_type": "markdown",
      "metadata": {
        "id": "u_BAqQ3sSCsY"
      },
      "source": [
        "And here's how we call it."
      ]
    },
    {
      "cell_type": "code",
      "metadata": {
        "id": "QXvdPBZVSCsZ"
      },
      "source": [
        "y = add_five(3)"
      ],
      "execution_count": 39,
      "outputs": []
    },
    {
      "cell_type": "markdown",
      "metadata": {
        "id": "zeUKXRflSCsZ"
      },
      "source": [
        "If you run a function on the last line of a cell, Jupyter displays the result:"
      ]
    },
    {
      "cell_type": "code",
      "metadata": {
        "colab": {
          "base_uri": "https://localhost:8080/"
        },
        "id": "zKXhGhqXSCsZ",
        "outputId": "312735ed-7ef9-4f9e-aadf-552edbc45a68"
      },
      "source": [
        "add_five(5)"
      ],
      "execution_count": 40,
      "outputs": [
        {
          "output_type": "execute_result",
          "data": {
            "text/plain": [
              "10"
            ]
          },
          "metadata": {
            "tags": []
          },
          "execution_count": 40
        }
      ]
    },
    {
      "cell_type": "markdown",
      "metadata": {
        "id": "DcRWD1D7SCsZ"
      },
      "source": [
        "But that can be a bad habit, because usually if you call a function and don't assign the result in a variable, the result gets discarded.\n",
        "\n",
        "In the following example, Jupyter shows the second result, but the first result just disappears."
      ]
    },
    {
      "cell_type": "code",
      "metadata": {
        "colab": {
          "base_uri": "https://localhost:8080/"
        },
        "id": "zn0KbzUlSCsa",
        "outputId": "f1e9aa07-9dd0-403f-d4c8-f7d72f1ae12e"
      },
      "source": [
        "add_five(3)\n",
        "add_five(5)"
      ],
      "execution_count": 41,
      "outputs": [
        {
          "output_type": "execute_result",
          "data": {
            "text/plain": [
              "10"
            ]
          },
          "metadata": {
            "tags": []
          },
          "execution_count": 41
        }
      ]
    },
    {
      "cell_type": "markdown",
      "metadata": {
        "id": "GIX8T8UzSCsa"
      },
      "source": [
        "When you call a function that returns a variable, it is generally a good idea to assign the result to a variable."
      ]
    },
    {
      "cell_type": "code",
      "metadata": {
        "colab": {
          "base_uri": "https://localhost:8080/"
        },
        "id": "9n8ZBDDXSCsc",
        "outputId": "a430c82d-691a-45b1-8626-f35d9af947b3"
      },
      "source": [
        "y1 = add_five(3)\n",
        "y2 = add_five(5)\n",
        "\n",
        "print(y1, y2)"
      ],
      "execution_count": 42,
      "outputs": [
        {
          "output_type": "stream",
          "text": [
            "8 10\n"
          ],
          "name": "stdout"
        }
      ]
    },
    {
      "cell_type": "markdown",
      "metadata": {
        "id": "d8_2qoaKSCsc"
      },
      "source": [
        "**Exercise:** Write a function called `make_state` that creates a `State` object with the state variables `olin=10` and `wellesley=2`, and then returns the new `State` object.\n",
        "\n",
        "Write a line of code that calls `make_state` and assigns the result to a variable named `init`."
      ]
    },
    {
      "cell_type": "code",
      "metadata": {
        "id": "Zy_Ev4PbSCsc"
      },
      "source": [
        "def make_state():\n",
        "    return State(olin=10, wellesley=2)"
      ],
      "execution_count": 43,
      "outputs": []
    },
    {
      "cell_type": "code",
      "metadata": {
        "id": "jIYzXu3qSCsc"
      },
      "source": [
        "init=make_state()"
      ],
      "execution_count": 44,
      "outputs": []
    },
    {
      "cell_type": "markdown",
      "metadata": {
        "id": "8ZK3Im2LSCsc"
      },
      "source": [
        "## Running simulations"
      ]
    },
    {
      "cell_type": "markdown",
      "metadata": {
        "id": "-f3qagGFSCsc"
      },
      "source": [
        "Here's the code from the previous notebook."
      ]
    },
    {
      "cell_type": "code",
      "metadata": {
        "id": "I5WXs3o-SCsd"
      },
      "source": [
        "def step(state, p1, p2):\n",
        "    \"\"\"Simulate one minute of time.\n",
        "    \n",
        "    state: bikeshare State object\n",
        "    p1: probability of an Olin->Wellesley customer arrival\n",
        "    p2: probability of a Wellesley->Olin customer arrival\n",
        "    \"\"\"\n",
        "    if flip(p1):\n",
        "        bike_to_wellesley(state)\n",
        "    \n",
        "    if flip(p2):\n",
        "        bike_to_olin(state)\n",
        "        \n",
        "def bike_to_wellesley(state):\n",
        "    \"\"\"Move one bike from Olin to Wellesley.\n",
        "    \n",
        "    state: bikeshare State object\n",
        "    \"\"\"\n",
        "    if state.olin == 0:\n",
        "        state.olin_empty += 1\n",
        "        return\n",
        "    state.olin -= 1\n",
        "    state.wellesley += 1\n",
        "    \n",
        "def bike_to_olin(state):\n",
        "    \"\"\"Move one bike from Wellesley to Olin.\n",
        "    \n",
        "    state: bikeshare State object\n",
        "    \"\"\"\n",
        "    if state.wellesley == 0:\n",
        "        state.wellesley_empty += 1\n",
        "        return\n",
        "    state.wellesley -= 1\n",
        "    state.olin += 1\n",
        "    \n",
        "def decorate_bikeshare():\n",
        "    \"\"\"Add a title and label the axes.\"\"\"\n",
        "    decorate(title='Olin-Wellesley Bikeshare',\n",
        "             xlabel='Time step (min)', \n",
        "             ylabel='Number of bikes')"
      ],
      "execution_count": 45,
      "outputs": []
    },
    {
      "cell_type": "markdown",
      "metadata": {
        "id": "u_zqreRhSCsd"
      },
      "source": [
        "Here's a modified version of `run_simulation` that creates a `State` object, runs the simulation, and returns the `State` object."
      ]
    },
    {
      "cell_type": "code",
      "metadata": {
        "id": "6nXvcHNRSCsd"
      },
      "source": [
        "def run_simulation(p1, p2, num_steps):\n",
        "    \"\"\"Simulate the given number of time steps.\n",
        "    \n",
        "    p1: probability of an Olin->Wellesley customer arrival\n",
        "    p2: probability of a Wellesley->Olin customer arrival\n",
        "    num_steps: number of time steps\n",
        "    \"\"\"\n",
        "    state = State(olin=10, wellesley=2, \n",
        "                  olin_empty=0, wellesley_empty=0)\n",
        "                    \n",
        "    for i in range(num_steps):\n",
        "        step(state, p1, p2)\n",
        "        \n",
        "    return state"
      ],
      "execution_count": 46,
      "outputs": []
    },
    {
      "cell_type": "markdown",
      "metadata": {
        "id": "sT0WPsuBSCsd"
      },
      "source": [
        "Now `run_simulation` doesn't plot anything:"
      ]
    },
    {
      "cell_type": "code",
      "metadata": {
        "id": "2rbuljHSSCsd"
      },
      "source": [
        "state = run_simulation(0.4, 0.2, 60)"
      ],
      "execution_count": 47,
      "outputs": []
    },
    {
      "cell_type": "markdown",
      "metadata": {
        "id": "7BYRb_WlSCse"
      },
      "source": [
        "But after the simulation, we can read the metrics from the `State` object."
      ]
    },
    {
      "cell_type": "code",
      "metadata": {
        "colab": {
          "base_uri": "https://localhost:8080/"
        },
        "id": "oOM3G2gmSCse",
        "outputId": "9209dd32-1b31-49d0-a170-df683936babe"
      },
      "source": [
        "state.olin_empty"
      ],
      "execution_count": 48,
      "outputs": [
        {
          "output_type": "execute_result",
          "data": {
            "text/plain": [
              "1"
            ]
          },
          "metadata": {
            "tags": []
          },
          "execution_count": 48
        }
      ]
    },
    {
      "cell_type": "markdown",
      "metadata": {
        "id": "NCjt0xzOSCse"
      },
      "source": [
        "Now we can run simulations with different values for the parameters.  When `p1` is small, we probably don't run out of bikes at Olin."
      ]
    },
    {
      "cell_type": "code",
      "metadata": {
        "colab": {
          "base_uri": "https://localhost:8080/"
        },
        "id": "y_9slZ51SCse",
        "outputId": "68a680f3-afb6-4383-d8db-efaaebe4aa3f"
      },
      "source": [
        "# olin_empty is the number of times bike_to_wellesley was called but there were no bikes at Olin\n",
        "state = run_simulation(0.2, 0.2, 60)\n",
        "state.olin_empty"
      ],
      "execution_count": 49,
      "outputs": [
        {
          "output_type": "execute_result",
          "data": {
            "text/plain": [
              "0"
            ]
          },
          "metadata": {
            "tags": []
          },
          "execution_count": 49
        }
      ]
    },
    {
      "cell_type": "markdown",
      "metadata": {
        "id": "BH82qFRESCse"
      },
      "source": [
        "When `p1` is large, we probably do."
      ]
    },
    {
      "cell_type": "code",
      "metadata": {
        "colab": {
          "base_uri": "https://localhost:8080/"
        },
        "id": "_s0ugRZmSCse",
        "outputId": "ce01f139-d052-4186-c9d1-1d5cd2ce039a"
      },
      "source": [
        "state = run_simulation(0.6, 0.2, 60)\n",
        "state.olin_empty"
      ],
      "execution_count": 50,
      "outputs": [
        {
          "output_type": "execute_result",
          "data": {
            "text/plain": [
              "8"
            ]
          },
          "metadata": {
            "tags": []
          },
          "execution_count": 50
        }
      ]
    },
    {
      "cell_type": "markdown",
      "metadata": {
        "id": "1n95B7zlSCsf"
      },
      "source": [
        "## More for loops"
      ]
    },
    {
      "cell_type": "markdown",
      "metadata": {
        "id": "S7eUEtCwSCsf"
      },
      "source": [
        "`linspace` creates a NumPy array of equally spaced numbers."
      ]
    },
    {
      "cell_type": "code",
      "metadata": {
        "id": "jvlrUfniSCsf"
      },
      "source": [
        "p1_array = linspace(0, 1, 5)"
      ],
      "execution_count": 51,
      "outputs": []
    },
    {
      "cell_type": "markdown",
      "metadata": {
        "id": "1e-50FnCSCsf"
      },
      "source": [
        "We can use an array in a `for` loop, like this:"
      ]
    },
    {
      "cell_type": "code",
      "metadata": {
        "colab": {
          "base_uri": "https://localhost:8080/"
        },
        "id": "W7f7UHBgSCsf",
        "outputId": "afab0c90-c35b-4ccd-8b82-c30f30777df1"
      },
      "source": [
        "for p1 in p1_array:\n",
        "    print(p1)"
      ],
      "execution_count": 52,
      "outputs": [
        {
          "output_type": "stream",
          "text": [
            "0.0\n",
            "0.25\n",
            "0.5\n",
            "0.75\n",
            "1.0\n"
          ],
          "name": "stdout"
        }
      ]
    },
    {
      "cell_type": "markdown",
      "metadata": {
        "id": "tzwBK9BLSCsf"
      },
      "source": [
        "This will come in handy in the next section.\n",
        "\n",
        "`linspace` is defined in `modsim.py`.  You can get the documentation using `help`."
      ]
    },
    {
      "cell_type": "code",
      "metadata": {
        "colab": {
          "base_uri": "https://localhost:8080/"
        },
        "id": "WjI7BRxjSCsf",
        "outputId": "192bd5b0-cee0-4087-b65d-f32a0f813fa0"
      },
      "source": [
        "help(linspace)"
      ],
      "execution_count": 53,
      "outputs": [
        {
          "output_type": "stream",
          "text": [
            "Help on function linspace in module modsim.modsim:\n",
            "\n",
            "linspace(start, stop, num=50, **options)\n",
            "    Returns an array of evenly-spaced values in the interval [start, stop].\n",
            "    \n",
            "    start: first value\n",
            "    stop: last value\n",
            "    num: number of values\n",
            "    \n",
            "    Also accepts the same keyword arguments as np.linspace.  See\n",
            "    https://docs.scipy.org/doc/numpy/reference/generated/numpy.linspace.html\n",
            "    \n",
            "    returns: array or Quantity\n",
            "\n"
          ],
          "name": "stdout"
        }
      ]
    },
    {
      "cell_type": "markdown",
      "metadata": {
        "id": "QutVqTu6SCsf"
      },
      "source": [
        "`linspace` is based on a NumPy function with the same name.  [Click here](https://docs.scipy.org/doc/numpy/reference/generated/numpy.linspace.html) to read more about how to use it."
      ]
    },
    {
      "cell_type": "markdown",
      "metadata": {
        "id": "aozpb77RSCsg"
      },
      "source": [
        "**Exercise:** \n",
        "Use `linspace` to make an array of 10 equally spaced numbers from 1 to 10 (including both)."
      ]
    },
    {
      "cell_type": "code",
      "metadata": {
        "colab": {
          "base_uri": "https://localhost:8080/"
        },
        "id": "ddlNuFR6SCsg",
        "outputId": "062b8d9d-04c1-407f-eaa0-d78899b670bd"
      },
      "source": [
        "linspace(start=1, stop=10, num=10)"
      ],
      "execution_count": 54,
      "outputs": [
        {
          "output_type": "execute_result",
          "data": {
            "text/plain": [
              "array([ 1.,  2.,  3.,  4.,  5.,  6.,  7.,  8.,  9., 10.])"
            ]
          },
          "metadata": {
            "tags": []
          },
          "execution_count": 54
        }
      ]
    },
    {
      "cell_type": "markdown",
      "metadata": {
        "id": "UsLTSUEZSCsg"
      },
      "source": [
        "**Exercise:** The `modsim` library provides a related function called `linrange`.  You can view the documentation by running the following cell:"
      ]
    },
    {
      "cell_type": "code",
      "metadata": {
        "colab": {
          "base_uri": "https://localhost:8080/"
        },
        "id": "VW67ypQsSCsg",
        "outputId": "0169d98b-4029-425f-f6ab-e9431180a8c5"
      },
      "source": [
        "help(linrange)"
      ],
      "execution_count": 55,
      "outputs": [
        {
          "output_type": "stream",
          "text": [
            "Help on function linrange in module modsim.modsim:\n",
            "\n",
            "linrange(start=0, stop=None, step=1, endpoint=False, **options)\n",
            "    Returns an array of evenly-spaced values in an interval.\n",
            "    \n",
            "    By default, the last value in the array is `stop-step`\n",
            "    (at least approximately).\n",
            "    If you provide the keyword argument `endpoint=True`,\n",
            "    the last value in the array is `stop`.\n",
            "    \n",
            "    This function works best if the space between start and stop\n",
            "    is divisible by step; otherwise the results might be surprising.\n",
            "    \n",
            "    start: first value\n",
            "    stop: last value\n",
            "    step: space between values\n",
            "    \n",
            "    returns: NumPy array\n",
            "\n"
          ],
          "name": "stdout"
        }
      ]
    },
    {
      "cell_type": "markdown",
      "metadata": {
        "id": "oKaG6E--SCsg"
      },
      "source": [
        "Use `linrange` to make an array of numbers from 1 to 11 with a step size of 2."
      ]
    },
    {
      "cell_type": "code",
      "metadata": {
        "colab": {
          "base_uri": "https://localhost:8080/"
        },
        "id": "93BagGNaSCsh",
        "outputId": "d39e743c-4914-40d5-88f8-7ef9b1dd017b"
      },
      "source": [
        "\n",
        "linrange(start=1, stop=11, step=2, endpoint=True)"
      ],
      "execution_count": 56,
      "outputs": [
        {
          "output_type": "execute_result",
          "data": {
            "text/plain": [
              "array([ 1,  3,  5,  7,  9, 11])"
            ]
          },
          "metadata": {
            "tags": []
          },
          "execution_count": 56
        }
      ]
    },
    {
      "cell_type": "markdown",
      "metadata": {
        "id": "hNXnHVesSCsh"
      },
      "source": [
        "## Sweeping parameters"
      ]
    },
    {
      "cell_type": "markdown",
      "metadata": {
        "id": "501dLJ7KSCsh"
      },
      "source": [
        "`p1_array` contains a range of values for `p1`."
      ]
    },
    {
      "cell_type": "code",
      "metadata": {
        "id": "Et3crp7nSCsh"
      },
      "source": [
        "p2 = 0.2\n",
        "num_steps = 60\n",
        "p1_array = linspace(0, 1, 11)"
      ],
      "execution_count": 57,
      "outputs": []
    },
    {
      "cell_type": "markdown",
      "metadata": {
        "id": "Sx7wdnAjSCsh"
      },
      "source": [
        "The following loop runs a simulation for each value of `p1` in `p1_array`; after each simulation, it prints the number of unhappy customers at the Olin station:"
      ]
    },
    {
      "cell_type": "code",
      "metadata": {
        "colab": {
          "base_uri": "https://localhost:8080/"
        },
        "id": "qzi4CDGgSCsh",
        "outputId": "18b78f19-3839-486a-a52a-78b565ff8ea3"
      },
      "source": [
        "for p1 in p1_array:\n",
        "    state = run_simulation(p1, p2, num_steps)\n",
        "    print(p1, state.olin_empty)"
      ],
      "execution_count": 58,
      "outputs": [
        {
          "output_type": "stream",
          "text": [
            "0.0 0\n",
            "0.1 0\n",
            "0.2 0\n",
            "0.30000000000000004 0\n",
            "0.4 11\n",
            "0.5 7\n",
            "0.6000000000000001 16\n",
            "0.7000000000000001 25\n",
            "0.8 22\n",
            "0.9 30\n",
            "1.0 37\n"
          ],
          "name": "stdout"
        }
      ]
    },
    {
      "cell_type": "markdown",
      "metadata": {
        "id": "BxblQBYnSCsh"
      },
      "source": [
        "Now we can do the same thing, but storing the results in a `SweepSeries` instead of printing them.\n",
        "\n"
      ]
    },
    {
      "cell_type": "code",
      "metadata": {
        "id": "PxnkiGPKSCsi"
      },
      "source": [
        "sweep = SweepSeries()\n",
        "\n",
        "for p1 in p1_array:\n",
        "    state = run_simulation(p1, p2, num_steps)\n",
        "    sweep[p1] = state.olin_empty"
      ],
      "execution_count": 59,
      "outputs": []
    },
    {
      "cell_type": "markdown",
      "metadata": {
        "id": "r6SfKlNWSCsi"
      },
      "source": [
        "And then we can plot the results."
      ]
    },
    {
      "cell_type": "code",
      "metadata": {
        "colab": {
          "base_uri": "https://localhost:8080/",
          "height": 288
        },
        "id": "5Pqehj6zSCsi",
        "outputId": "17fe7116-abd1-4cff-9a29-46dd83f80ea3"
      },
      "source": [
        "plot(sweep, label='Olin')\n",
        "\n",
        "# p1 is the rate we add a bike to Wellesely, so the higher p1, the faster olin is empty, thus the higher is olin_empty\n",
        "decorate(title='Olin-Wellesley Bikeshare',\n",
        "         xlabel='Arrival rate at Olin (to Wellesley in customers/min)', \n",
        "         ylabel='Number of unhappy customers')"
      ],
      "execution_count": 60,
      "outputs": [
        {
          "output_type": "display_data",
          "data": {
            "image/png": "[encoded data removed]",
            "text/plain": [
              "<Figure size 432x288 with 1 Axes>"
            ]
          },
          "metadata": {
            "tags": []
          }
        }
      ]
    },
    {
      "cell_type": "markdown",
      "metadata": {
        "id": "kMeSqrM-SCsi"
      },
      "source": [
        "## Exercises\n",
        "\n",
        "**Exercise:** Wrap this code in a function named `sweep_p1` that takes an array called `p1_array` as a parameter.  It should create a new `SweepSeries`, run a simulation for each value of `p1` in `p1_array`, store the results in the `SweepSeries`, and return the `SweepSeries`.\n",
        "\n",
        "Use your function to plot the number of unhappy customers at Olin as a function of `p1`.  Label the axes."
      ]
    },
    {
      "cell_type": "code",
      "metadata": {
        "id": "33QPgUngSCsi"
      },
      "source": [
        "def sweep_p1(p1_array):\n",
        "  sweep = SweepSeries()\n",
        "\n",
        "  for p1 in p1_array:\n",
        "    state = run_simulation(p1, p2, num_steps)\n",
        "    sweep[p1] = state.olin_empty\n",
        "  return sweep\n"
      ],
      "execution_count": 61,
      "outputs": []
    },
    {
      "cell_type": "code",
      "metadata": {
        "id": "h_8RFN6DSCsi",
        "colab": {
          "base_uri": "https://localhost:8080/",
          "height": 342
        },
        "outputId": "bf08f8fd-9729-4adc-b8f0-1c8dbd725aef"
      },
      "source": [
        "\n",
        "\n",
        "p1_array = linspace(0, 1, 11)\n",
        "\n",
        "new_sweep=sweep_p1(p1_array)\n",
        "\n",
        "plot(new_sweep, label='Olin')\n",
        "\n",
        "decorate(title='Olin-Wellesley Bikeshare',\n",
        "         xlabel='Arrival rate at Olin (to Wellesley in customers/min)', \n",
        "         ylabel='New Number of unhappy customers at Olin')"
      ],
      "execution_count": 62,
      "outputs": [
        {
          "output_type": "display_data",
          "data": {
            "image/png": "[encoded data removed]",
            "text/plain": [
              "<Figure size 432x288 with 1 Axes>"
            ]
          },
          "metadata": {
            "tags": []
          }
        }
      ]
    },
    {
      "cell_type": "markdown",
      "metadata": {
        "id": "eFMPC8leSCsi"
      },
      "source": [
        "**Exercise:** Write a function called `sweep_p2` that runs simulations with `p1=0.5` and a range of values for `p2`.  It should store the results in a `SweepSeries` and return the `SweepSeries`.\n"
      ]
    },
    {
      "cell_type": "code",
      "metadata": {
        "id": "icvjSL0lSCsj"
      },
      "source": [
        "# set the bike rate to Olin to .5 so \n",
        "#   we should have happier bikers at Olin looking to bike to Wellesley\n",
        "\n",
        "def sweep_p2(p1_array):\n",
        "  sweep = SweepSeries()\n",
        "  p2 = 0.5\n",
        "  num_steps = 60\n",
        "\n",
        "  for p1 in p1_array:\n",
        "    state = run_simulation(p1, p2, num_steps)\n",
        "    sweep[p1] = state.olin_empty\n",
        "  return sweep"
      ],
      "execution_count": 63,
      "outputs": []
    },
    {
      "cell_type": "code",
      "metadata": {
        "id": "9EpDvoncSCsj"
      },
      "source": [
        "# Solution goes here"
      ],
      "execution_count": 64,
      "outputs": []
    },
    {
      "cell_type": "markdown",
      "metadata": {
        "id": "RJmSsa2vSCsj"
      },
      "source": [
        "## Optional Exercises\n",
        "\n",
        "The following two exercises are a little more challenging.  If you are comfortable with what you have learned so far, you should give them a try.  If you feel like you have your hands full, you might want to skip them for now.\n",
        "\n",
        "**Exercise:** Because our simulations are random, the results vary from one run to another, and the results of a parameter sweep tend to be noisy.  We can get a clearer picture of the relationship between a parameter and a metric by running multiple simulations with the same parameter and taking the average of the results.\n",
        "\n",
        "Write a function called `run_multiple_simulations` that takes as parameters `p1`, `p2`, `num_steps`, and `num_runs`.\n",
        "\n",
        "`num_runs` specifies how many times it should call `run_simulation`.\n",
        "\n",
        "After each run, it should store the total number of unhappy customers (at Olin or Wellesley) in a `TimeSeries`.  At the end, it should return the `TimeSeries`.\n",
        "\n",
        "Test your function with parameters\n",
        "\n",
        "```\n",
        "p1 = 0.3\n",
        "p2 = 0.3\n",
        "num_steps = 60\n",
        "num_runs = 10\n",
        "```\n",
        "\n",
        "Display the resulting `TimeSeries` and use the `mean` function provided by the `TimeSeries` object to compute the average number of unhappy customers (see Section 2.7)."
      ]
    },
    {
      "cell_type": "code",
      "metadata": {
        "id": "wZDiahqVSCsj"
      },
      "source": [
        "def run_multiple_simulations(p1, p2, num_steps, num_runs):\n",
        "    ts_unhappy=TimeSeries()\n",
        "                \n",
        "    \n",
        "    for i in range(num_runs):\n",
        "        state = run_simulation(p1, p2, num_steps)\n",
        "        ts_unhappy[i] = state.olin_empty + state.wellesley_empty\n",
        "\n",
        "    return ts_unhappy"
      ],
      "execution_count": 65,
      "outputs": []
    },
    {
      "cell_type": "code",
      "metadata": {
        "id": "Vfgeqd-GSCsj",
        "colab": {
          "base_uri": "https://localhost:8080/"
        },
        "outputId": "e664f00a-721a-4b89-fa0e-3220d2b65fb9"
      },
      "source": [
        "p1 = 0.3\n",
        "p2 = 0.3\n",
        "num_steps = 60\n",
        "num_runs = 10\n",
        "ts=run_multiple_simulations(p1,p2,num_steps,num_runs)\n",
        "\n",
        "print(\"The average number of disappointed bike riders is \", ts.mean())\n",
        "       "
      ],
      "execution_count": 66,
      "outputs": [
        {
          "output_type": "stream",
          "text": [
            "The average number of disappointed bike riders is  1.5\n"
          ],
          "name": "stdout"
        }
      ]
    },
    {
      "cell_type": "markdown",
      "metadata": {
        "id": "enOs5Ow3SCsj"
      },
      "source": [
        "**Exercise:**  Continuting the previous exercise, use `run_multiple_simulations` to run simulations with a range of values for `p1` and\n",
        "\n",
        "```\n",
        "p2 = 0.3\n",
        "num_steps = 60\n",
        "num_runs = 20\n",
        "```\n",
        "\n",
        "Store the results in a `SweepSeries`, then plot the average number of unhappy customers as a function of `p1`.  Label the axes.\n",
        "\n",
        "What value of `p1` minimizes the average number of unhappy customers?"
      ]
    },
    {
      "cell_type": "code",
      "metadata": {
        "scrolled": true,
        "id": "uYq4tTkYSCsj"
      },
      "source": [
        "p2 = 0.3\n",
        "num_steps = 60\n",
        "num_runs = 20\n",
        "p1_array = linspace(0, 1, 11)\n",
        "\n",
        "ts_mean=TimeSeries()\n",
        "\n",
        "for p1 in p1_array:\n",
        "    ts=run_multiple_simulations(p1,p2,num_steps,num_runs)\n",
        "    ts_mean[p1]=ts.mean()"
      ],
      "execution_count": 67,
      "outputs": []
    },
    {
      "cell_type": "code",
      "metadata": {
        "id": "ijN5-DPySCsk",
        "colab": {
          "base_uri": "https://localhost:8080/",
          "height": 288
        },
        "outputId": "fe3d2aaa-e5c0-4793-f243-3d8c8af74750"
      },
      "source": [
        "plot(ts_mean, label='Average Unhappy Riders')\n",
        "\n",
        "decorate(title='Olin-Wellesley Bikeshare',\n",
        "         xlabel='Arrival rate at Olin (to Wellesley in customers/min)', \n",
        "         ylabel='Average unhappy customers')"
      ],
      "execution_count": 68,
      "outputs": [
        {
          "output_type": "display_data",
          "data": {
            "image/png": "[encoded data removed]",
            "text/plain": [
              "<Figure size 432x288 with 1 Axes>"
            ]
          },
          "metadata": {
            "tags": []
          }
        }
      ]
    },
    {
      "cell_type": "markdown",
      "metadata": {
        "id": "mG1-TN-Hu28U"
      },
      "source": [
        "<br><br>\n",
        " <font color=\"purple\"> The optimal rate of customers at Olin looking for a bike is around .35. It makes sense that we want the rates to be equal, but since we start with just 2 bikes at Wellesley we may prefer a higher p1 rate. </font>\n",
        " <br><br>\n"
      ]
    }
  ]
}