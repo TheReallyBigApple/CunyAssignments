{
  "nbformat": 4,
  "nbformat_minor": 0,
  "metadata": {
    "kernelspec": {
      "display_name": "Python 3",
      "language": "python",
      "name": "python3"
    },
    "language_info": {
      "codemirror_mode": {
        "name": "ipython",
        "version": 3
      },
      "file_extension": ".py",
      "mimetype": "text/x-python",
      "name": "python",
      "nbconvert_exporter": "python",
      "pygments_lexer": "ipython3",
      "version": "3.7.3"
    },
    "colab": {
      "name": "queue.ipynb",
      "provenance": [],
      "collapsed_sections": [],
      "include_colab_link": true
    }
  },
  "cells": [
    {
      "cell_type": "markdown",
      "metadata": {
        "id": "view-in-github",
        "colab_type": "text"
      },
      "source": [
        "<a href=\"https://colab.research.google.com/github/TheReallyBigApple/CunyAssignments/blob/main/Data604/queue.ipynb\" target=\"_parent\"><img src=\"https://colab.research.google.com/assets/colab-badge.svg\" alt=\"Open In Colab\"/></a>"
      ]
    },
    {
      "cell_type": "markdown",
      "metadata": {
        "id": "Io2baVdaUKti"
      },
      "source": [
        "#                       CUNY MSDS Data604 Week 5\n",
        "#                            Tom Buonora\n",
        "\n",
        "# Modeling and Simulation in Python\n",
        "\n",
        "Case Study: Queueing theory\n",
        "\n",
        "Copyright 2017 Allen Downey\n",
        "\n",
        "License: [Creative Commons Attribution 4.0 International](https://creativecommons.org/licenses/by/4.0)\n"
      ]
    },
    {
      "cell_type": "code",
      "metadata": {
        "colab": {
          "base_uri": "https://localhost:8080/"
        },
        "id": "CYxK-b9HUKtl",
        "outputId": "43652820-e57f-44fd-97a1-ca314ffdc3ef"
      },
      "source": [
        "# Configure Jupyter so figures appear in the notebook\n",
        "%matplotlib inline\n",
        "\n",
        "# Configure Jupyter to display the assigned value after an assignment\n",
        "%config InteractiveShell.ast_node_interactivity='last_expr_or_assign'\n",
        "\n",
        "from os.path import basename, exists\n",
        "\n",
        "def download(url):\n",
        "    filename = basename(url)\n",
        "    if not exists(filename):\n",
        "        from urllib.request import urlretrieve\n",
        "        local, _ = urlretrieve(url, filename)\n",
        "        print('Downloaded ' + local)\n",
        "    \n",
        "download('https://raw.githubusercontent.com/AllenDowney/' +\n",
        "         'ModSimPy/master/modsim.py')\n",
        "\n",
        "# import functions from the modsim.py module\n",
        "from modsim import *\n",
        "\n",
        "# set the random number generator\n",
        "np.random.seed(7)"
      ],
      "execution_count": 2,
      "outputs": [
        {
          "output_type": "stream",
          "text": [
            "ERROR:root:The 'ast_node_interactivity' trait of a Shell instance expected any of ['all', 'last', 'last_expr', 'none'], not the str 'last_expr_or_assign'.\n"
          ],
          "name": "stderr"
        },
        {
          "output_type": "stream",
          "text": [
            "Downloaded modsim.py\n"
          ],
          "name": "stdout"
        }
      ]
    },
    {
      "cell_type": "markdown",
      "metadata": {
        "id": "Wl9XPDciUKtl"
      },
      "source": [
        "## One queue or two?\n",
        "\n",
        "This notebook presents a solution to an exercise from *Modeling and Simulation in Python*.  It uses features from the first four chapters to answer a question related to queueing theory, which is the study of systems that involve waiting in lines, also known as \"queues\".\n",
        "\n",
        "Suppose you are designing the checkout area for a new store.  There is room for two checkout counters and a waiting area for customers.  You can make two lines, one for each counter, or one line that serves both counters.\n",
        "\n",
        "In theory, you might expect a single line to be better, but it has some practical drawbacks: in order to maintain a single line, you would have to install rope barriers, and customers might be put off by what seems to be a longer line, even if it moves faster.\n",
        "\n",
        "So you'd like to check whether the single line is really better and by how much.  Simulation can help answer this question.\n",
        "\n",
        "As we did in the bikeshare model, we'll assume that a customer is equally likely to arrive during any timestep.  I'll denote this probability using the Greek letter lambda, $\\lambda$, or the variable name `lam`.  The value of $\\lambda$ probably varies from day to day, so we'll have to consider a range of possibilities.\n",
        "\n",
        "Based on data from other stores, you know that it takes 5 minutes for a customer to check out, on average.  But checkout times are highly variable: most customers take less than 5 minutes, but some take substantially more.  A simple way to model this variability is to assume that when a customer is checking out, they have the same probability of finishing up during each time step.  I'll denote this probability using the Greek letter mu, $\\mu$, or the variable name `mu`.\n",
        "\n",
        "If we choose $\\mu=1/5$, the average number of time steps for each checkout will be 5 minutes, which is consistent with the data."
      ]
    },
    {
      "cell_type": "markdown",
      "metadata": {
        "id": "mAVEU6O9UKtm"
      },
      "source": [
        "### One server, one queue\n",
        "\n",
        "Write a function called `make_system` that takes `lam` and `mu` as parameters and returns a `System` object with variables `lam`, `mu`, and `duration`.  Set `duration`, which is the number of time steps to simulate, to 10 hours, expressed in minutes. "
      ]
    },
    {
      "cell_type": "code",
      "metadata": {
        "id": "bYmILDC7UKtm"
      },
      "source": [
        "# lam : the arrival rate\n",
        "# mu : the departure rate\n",
        "\n",
        "def  make_system(lam,  mu):\n",
        "    system = System(lam=lam, mu=mu, duration=10*60)\n",
        "    return system"
      ],
      "execution_count": 3,
      "outputs": []
    },
    {
      "cell_type": "markdown",
      "metadata": {
        "id": "Hn0_HXtYUKtm"
      },
      "source": [
        "Test this function by creating a `System` object with `lam=1/8` and `mu=1/5`."
      ]
    },
    {
      "cell_type": "code",
      "metadata": {
        "colab": {
          "base_uri": "https://localhost:8080/"
        },
        "id": "IzQf8sIpUKtm",
        "outputId": "59407a7a-f5fb-420d-de02-d2dcb84e98ad"
      },
      "source": [
        "s = make_system(lam=1/8,mu=1/5)\n",
        "print(s)"
      ],
      "execution_count": 4,
      "outputs": [
        {
          "output_type": "stream",
          "text": [
            "System(duration=600, lam=0.125, mu=0.2)\n"
          ],
          "name": "stdout"
        }
      ]
    },
    {
      "cell_type": "markdown",
      "metadata": {
        "id": "sotcqilyUKtn"
      },
      "source": [
        "Write an update function that takes as parameters `x`, which is the total number of customer in the store, including the one checking out; `t`, which is the number of minutes that have elapsed in the simulation, and `system`, which is a `System` object.\n",
        "\n",
        "If there's a customer checking out, it should use `flip` to decide whether they are done.  And it should use `flip` to decide if a new customer has arrived.\n",
        "\n",
        "It should return the total number of customers at the end of the time step.\n"
      ]
    },
    {
      "cell_type": "code",
      "metadata": {
        "id": "kUrSLiswUKtn"
      },
      "source": [
        "# This function represents one unit of time\n",
        "#       x : no. of customers in store, including the one checkingout\n",
        "#       t : minutes elapsed\n",
        "#       s : system of arrival and departure rates\n",
        "\n",
        "def update_func(x, t, s):\n",
        "    if x > 0:\n",
        "        if flip(s.mu):\n",
        "            x=x-1\n",
        "\n",
        "    if flip(s.lam):\n",
        "        x=x+1\n",
        "    return x\n",
        "        "
      ],
      "execution_count": 5,
      "outputs": []
    },
    {
      "cell_type": "markdown",
      "metadata": {
        "id": "8CG3ahoqUKtn"
      },
      "source": [
        "Test your function by calling it with `x=1`, `t=0`, and the `System` object you created.  If you run it a few times, you should see different results."
      ]
    },
    {
      "cell_type": "code",
      "metadata": {
        "colab": {
          "base_uri": "https://localhost:8080/"
        },
        "id": "TaOyZhIRUKto",
        "outputId": "d36040d5-2a0b-49b3-be16-0d702e456971"
      },
      "source": [
        "x= update_func(x=1, t=0, s=s)\n",
        "print(x)\n",
        "x= update_func(x=1, t=0, s=s)\n",
        "print(x)\n",
        "x= update_func(x=1, t=0, s=s)\n",
        "print(x)"
      ],
      "execution_count": 6,
      "outputs": [
        {
          "output_type": "stream",
          "text": [
            "0\n",
            "1\n",
            "1\n"
          ],
          "name": "stdout"
        }
      ]
    },
    {
      "cell_type": "markdown",
      "metadata": {
        "id": "PQt1E6F7UKto"
      },
      "source": [
        "Now we can run the simulation.  Here's a version of `run_simulation` that creates a `TimeSeries` with the total number of customers in the store, including the one checking out."
      ]
    },
    {
      "cell_type": "code",
      "metadata": {
        "id": "KdFX3wbkUKto"
      },
      "source": [
        "def run_simulation(system, update_func):\n",
        "    \"\"\"Simulate a queueing system.\n",
        "    \n",
        "    system: System object\n",
        "    update_func: function object\n",
        "    \"\"\"\n",
        "    x = 0\n",
        "    results = TimeSeries()\n",
        "    results[0] = x\n",
        "    \n",
        "    for t in linrange(0, system.duration):\n",
        "        x = update_func(x, t, system)\n",
        "        results[t+1] = x\n",
        "\n",
        "    return results"
      ],
      "execution_count": 7,
      "outputs": []
    },
    {
      "cell_type": "markdown",
      "metadata": {
        "id": "snuAUYf_UKto"
      },
      "source": [
        "Call `run_simulation` with your update function and plot the results."
      ]
    },
    {
      "cell_type": "code",
      "metadata": {
        "colab": {
          "base_uri": "https://localhost:8080/",
          "height": 282
        },
        "id": "m_GhHwrdUKto",
        "outputId": "caa34441-8b49-4a8e-e179-a9e6bc1f219b"
      },
      "source": [
        "r = run_simulation(s, update_func)\n",
        "import matplotlib.pyplot as plt\n",
        "plt.plot(r)"
      ],
      "execution_count": 10,
      "outputs": [
        {
          "output_type": "execute_result",
          "data": {
            "text/plain": [
              "[<matplotlib.lines.Line2D at 0x7fa8672e3290>]"
            ]
          },
          "metadata": {
            "tags": []
          },
          "execution_count": 10
        },
        {
          "output_type": "display_data",
          "data": {
            "image/png": "[encoded data removed]",
            "text/plain": [
              "<Figure size 432x288 with 1 Axes>"
            ]
          },
          "metadata": {
            "tags": [],
            "needs_background": "light"
          }
        }
      ]
    },
    {
      "cell_type": "markdown",
      "metadata": {
        "id": "SZ64p1gGUKtp"
      },
      "source": [
        "After the simulation, we can compute `L`, which is the average number of customers in the system, and `W`, which is the average time customers spend in the store.  `L` and `W` are related by Little's Law:\n",
        "\n",
        "$L = \\lambda W$\n",
        "\n",
        "Where $\\lambda$ is the arrival rate.  Here's a function that computes them."
      ]
    },
    {
      "cell_type": "code",
      "metadata": {
        "id": "3UQGGUBqUKtp"
      },
      "source": [
        "def compute_metrics(results, system):\n",
        "    \"\"\"Compute average number of customers and wait time.\n",
        "    \n",
        "    results: TimeSeries of queue lengths\n",
        "    system: System object\n",
        "    \n",
        "    returns: L, W\n",
        "    \"\"\"\n",
        "    L = results.mean()\n",
        "    W = L / system.lam\n",
        "    return L, W"
      ],
      "execution_count": 16,
      "outputs": []
    },
    {
      "cell_type": "markdown",
      "metadata": {
        "id": "95S38ABqUKtp"
      },
      "source": [
        "Call `compute_metrics` with the results from your simulation."
      ]
    },
    {
      "cell_type": "code",
      "metadata": {
        "id": "U0-gkwmDUKtp"
      },
      "source": [
        "L,W = compute_metrics(r,s)\n",
        "print(\"The mean of results is \", L)\n",
        "print(\"The mean divided by arrival rate is the average time spent in the store\", W)"
      ],
      "execution_count": null,
      "outputs": []
    },
    {
      "cell_type": "markdown",
      "metadata": {
        "id": "yhEcqHXfUKtq"
      },
      "source": [
        "### Parameter sweep\n",
        "\n",
        "Since we don't know the actual value of $\\lambda$, we can sweep through a range of possibilities, from 10% to 80% of the completion rate, $\\mu$.  (If customers arrive faster than the completion rate, the queue grows without bound.  In that case the metrics `L` and `W` just depend on how long the store is open.)\n",
        "\n",
        "Create an array of values for `lam`."
      ]
    },
    {
      "cell_type": "code",
      "metadata": {
        "colab": {
          "base_uri": "https://localhost:8080/"
        },
        "id": "r7LkL6oTUKtq",
        "outputId": "00c12a02-51c9-411c-ce79-27c4d5659a64"
      },
      "source": [
        "l_array = np.arange(0.1*s.mu, 0.8*s.mu, .01)\n",
        "print(s.mu)\n",
        "print(l_array)"
      ],
      "execution_count": 13,
      "outputs": [
        {
          "output_type": "stream",
          "text": [
            "0.2\n",
            "[0.02 0.03 0.04 0.05 0.06 0.07 0.08 0.09 0.1  0.11 0.12 0.13 0.14 0.15\n",
            " 0.16]\n"
          ],
          "name": "stdout"
        }
      ]
    },
    {
      "cell_type": "markdown",
      "metadata": {
        "id": "dX7yql90UKtq"
      },
      "source": [
        "Write a function that takes an array of values for `lam`, a single value for `mu`, and an update function.\n",
        "\n",
        "For each value of `lam`, it should run a simulation, compute `L` and `W`, and store the value of `W` in a `SweepSeries`.\n",
        "\n",
        "It should return the `SweepSeries`."
      ]
    },
    {
      "cell_type": "code",
      "metadata": {
        "id": "5frDGJxnUKtq"
      },
      "source": [
        "def sweep_lam(l_array, mu, update_func):\n",
        "  s = SweepSeries()\n",
        "\n",
        "  for l in l_array:\n",
        "    system = make_system(l, mu)\n",
        "    results = run_simulation(system, update_func)\n",
        "    L, W = compute_metrics(results, system)\n",
        "    s[l] = W\n",
        "\n",
        "  return s\n",
        "\n"
      ],
      "execution_count": 11,
      "outputs": []
    },
    {
      "cell_type": "markdown",
      "metadata": {
        "id": "G0pcvWw3UKtq"
      },
      "source": [
        "Call your function to generate a `SweepSeries`, and plot it."
      ]
    },
    {
      "cell_type": "code",
      "metadata": {
        "id": "BSkcyde8UKtq"
      },
      "source": [
        "r = sweep_lam(l_array, s.mu, update_func)\n"
      ],
      "execution_count": 21,
      "outputs": []
    },
    {
      "cell_type": "markdown",
      "metadata": {
        "id": "gdyd3GbhDlwf"
      },
      "source": [
        "<br><font color=\"purple\">I tried this a few times. Its choppy but as arrival rate increases, W increases. </font><br>"
      ]
    },
    {
      "cell_type": "code",
      "metadata": {
        "colab": {
          "base_uri": "https://localhost:8080/",
          "height": 282
        },
        "id": "Ckwysv0WUKtr",
        "outputId": "1208a0cc-ff60-4e9c-fd08-ee374c9e2ef8"
      },
      "source": [
        "plt.plot(r)"
      ],
      "execution_count": 22,
      "outputs": [
        {
          "output_type": "execute_result",
          "data": {
            "text/plain": [
              "[<matplotlib.lines.Line2D at 0x7fa866ccb9d0>]"
            ]
          },
          "metadata": {
            "tags": []
          },
          "execution_count": 22
        },
        {
          "output_type": "display_data",
          "data": {
            "image/png": "[encoded data removed]",
            "text/plain": [
              "<Figure size 432x288 with 1 Axes>"
            ]
          },
          "metadata": {
            "tags": [],
            "needs_background": "light"
          }
        }
      ]
    },
    {
      "cell_type": "markdown",
      "metadata": {
        "id": "8gnir1_8UKtr"
      },
      "source": [
        "If we imagine that this range of values represents arrival rates on different days, we can use the average value of `W`, for a range of values of `lam`, to compare different queueing strategies."
      ]
    },
    {
      "cell_type": "code",
      "metadata": {
        "colab": {
          "base_uri": "https://localhost:8080/"
        },
        "id": "gFqgYo0NUKtr",
        "outputId": "8e221073-a190-4fe2-8c14-3d5888dad225"
      },
      "source": [
        "W_avg = r.mean()\n",
        "W_avg"
      ],
      "execution_count": 36,
      "outputs": [
        {
          "output_type": "execute_result",
          "data": {
            "text/plain": [
              "8.053519124532412"
            ]
          },
          "metadata": {
            "tags": []
          },
          "execution_count": 36
        }
      ]
    },
    {
      "cell_type": "markdown",
      "metadata": {
        "id": "7IU_t62wUKtr"
      },
      "source": [
        "### Analysis\n",
        "\n",
        "The model I chose for this system is a common model in queueing theory, in part because many of its properties can be derived analytically.\n",
        "\n",
        "In particular, we can derive the average time in the store as a function of $\\mu$ and $\\lambda$:\n",
        "\n",
        "$W = 1 / (\\mu - \\lambda)$\n",
        "\n",
        "The following function plots the theoretical value of $W$ as a function of $\\lambda$."
      ]
    },
    {
      "cell_type": "code",
      "metadata": {
        "id": "j80O5lSnUKtr"
      },
      "source": [
        "def plot_W(lam_array, mu):\n",
        "    \"\"\"Plot the theoretical mean wait time.\n",
        "    \n",
        "    lam_array: array of values for `lam`\n",
        "    mu: probability of finishing a checkout\n",
        "    \"\"\"\n",
        "    W = 1 / (mu - lam_array)\n",
        "    plt.plot(lam_array, W, 'g-')"
      ],
      "execution_count": 40,
      "outputs": []
    },
    {
      "cell_type": "markdown",
      "metadata": {
        "id": "oU2HBAKeUKtr"
      },
      "source": [
        "Use this function to plot the theoretical results, then plot your simulation results again on the same graph.  How do they compare?"
      ]
    },
    {
      "cell_type": "code",
      "metadata": {
        "colab": {
          "base_uri": "https://localhost:8080/",
          "height": 265
        },
        "id": "uJmDYMdxUKtr",
        "outputId": "f7f5df13-8b4d-41ad-bb76-cd200372692e"
      },
      "source": [
        "plot_W(l_array, s.mu)"
      ],
      "execution_count": 41,
      "outputs": [
        {
          "output_type": "display_data",
          "data": {
            "image/png": "[encoded data removed]",
            "text/plain": [
              "<Figure size 432x288 with 1 Axes>"
            ]
          },
          "metadata": {
            "tags": [],
            "needs_background": "light"
          }
        }
      ]
    },
    {
      "cell_type": "markdown",
      "metadata": {
        "id": "2wNuEZCz3FAj"
      },
      "source": [
        "<br><font color=\"purple\">As the arrival rate increases relative to departure rate the longer customers must wait</font><br>\n",
        "\n",
        "<br><font color=\"purple\">If I compare this W plot to the previous W plot, they are a different calculation. The previous one was schochastic and choppy, this one was has no random element to it</font><br>"
      ]
    },
    {
      "cell_type": "markdown",
      "metadata": {
        "id": "RuObia7lUKts"
      },
      "source": [
        "### Multiple servers\n",
        "\n",
        "Now let's try the other two queueing strategies:\n",
        "\n",
        "1.  One queue with two checkout counters.\n",
        "2.  Two queues, one for each counter.\n",
        "\n",
        "The following figure shows the three scenarios:\n",
        "\n",
        "![](diagrams/queue.png)\n",
        "\n",
        "Write an update function for one queue with two servers."
      ]
    },
    {
      "cell_type": "code",
      "metadata": {
        "id": "q7FUyaMnUKts"
      },
      "source": [
        "\n",
        "\n",
        "   # do the same thing only handle departures on 2 queues\n",
        "def update_func2(x, t, system):\n",
        "  \n",
        "    if x > 1 and flip(system.mu):\n",
        "        x -= 1\n",
        "    \n",
        "    if x > 0 and flip(system.mu):\n",
        "        x = x - 1\n",
        "\n",
        "    if flip(system.lam):\n",
        "        x = x + 1\n",
        "        \n",
        "    return x\n"
      ],
      "execution_count": 42,
      "outputs": []
    },
    {
      "cell_type": "markdown",
      "metadata": {
        "id": "XM7t7nlwUKts"
      },
      "source": [
        "Use this update function to simulate the system, plot the results, and print the metrics."
      ]
    },
    {
      "cell_type": "code",
      "metadata": {
        "colab": {
          "base_uri": "https://localhost:8080/",
          "height": 282
        },
        "id": "tlIE95OEUKts",
        "outputId": "ee2051a2-4529-43fe-efe1-2e866ef8e769"
      },
      "source": [
        "r = run_simulation(s, update_func2)\n",
        "plt.plot(r)\n",
        "  "
      ],
      "execution_count": 44,
      "outputs": [
        {
          "output_type": "execute_result",
          "data": {
            "text/plain": [
              "[<matplotlib.lines.Line2D at 0x7f5134d7d290>]"
            ]
          },
          "metadata": {
            "tags": []
          },
          "execution_count": 44
        },
        {
          "output_type": "display_data",
          "data": {
            "image/png": "[encoded data removed]",
            "text/plain": [
              "<Figure size 432x288 with 1 Axes>"
            ]
          },
          "metadata": {
            "tags": [],
            "needs_background": "light"
          }
        }
      ]
    },
    {
      "cell_type": "markdown",
      "metadata": {
        "id": "J5WjA0A7UKts"
      },
      "source": [
        "Since we have two checkout counters now, we can consider values for $\\lambda$ that exceed $\\mu$.\n",
        "\n",
        "Create a new array of values for `lam` from 10% to 160% of `mu`."
      ]
    },
    {
      "cell_type": "code",
      "metadata": {
        "colab": {
          "base_uri": "https://localhost:8080/"
        },
        "id": "kPbPkdpvUKts",
        "outputId": "31f5c270-7068-439e-e174-01c237579b71"
      },
      "source": [
        "\n",
        "l_array = np.arange(0.1*s.mu, 1.6*s.mu, .01)\n",
        "print(l_array)"
      ],
      "execution_count": 25,
      "outputs": [
        {
          "output_type": "stream",
          "text": [
            "[0.02 0.03 0.04 0.05 0.06 0.07 0.08 0.09 0.1  0.11 0.12 0.13 0.14 0.15\n",
            " 0.16 0.17 0.18 0.19 0.2  0.21 0.22 0.23 0.24 0.25 0.26 0.27 0.28 0.29\n",
            " 0.3  0.31 0.32]\n"
          ],
          "name": "stdout"
        }
      ]
    },
    {
      "cell_type": "markdown",
      "metadata": {
        "id": "eFaU6xbPUKts"
      },
      "source": [
        "Use your sweep function to simulate the two server, one queue scenario with a range of values for `lam`.\n",
        "\n",
        "Plot the results and print the average value of `W` across all values of `lam`."
      ]
    },
    {
      "cell_type": "code",
      "metadata": {
        "colab": {
          "base_uri": "https://localhost:8080/",
          "height": 282
        },
        "id": "kGfG_OWeUKts",
        "outputId": "062d2e17-da0c-449f-ce83-15d76df7dd3e"
      },
      "source": [
        "r = sweep_lam(l_array, s.mu, update_func)\n",
        "plt.plot(r)"
      ],
      "execution_count": 26,
      "outputs": [
        {
          "output_type": "execute_result",
          "data": {
            "text/plain": [
              "[<matplotlib.lines.Line2D at 0x7fa866c2fd50>]"
            ]
          },
          "metadata": {
            "tags": []
          },
          "execution_count": 26
        },
        {
          "output_type": "display_data",
          "data": {
            "image/png": "[encoded data removed]",
            "text/plain": [
              "<Figure size 432x288 with 1 Axes>"
            ]
          },
          "metadata": {
            "tags": [],
            "needs_background": "light"
          }
        }
      ]
    },
    {
      "cell_type": "code",
      "metadata": {
        "colab": {
          "base_uri": "https://localhost:8080/"
        },
        "id": "5ZeX0r04UKtt",
        "outputId": "d91b809f-da39-4eaf-8863-8d2bb319ce33"
      },
      "source": [
        "W_avg = r.mean()\n",
        "W_avg"
      ],
      "execution_count": 47,
      "outputs": [
        {
          "output_type": "execute_result",
          "data": {
            "text/plain": [
              "44.284591575145804"
            ]
          },
          "metadata": {
            "tags": []
          },
          "execution_count": 47
        }
      ]
    },
    {
      "cell_type": "markdown",
      "metadata": {
        "id": "AL-x-RVmUKtt"
      },
      "source": [
        "### Multiple queues\n",
        "\n",
        "To simulate the scenario with two separate queues, we need two state variables to keep track of customers in each queue.\n",
        "\n",
        "Write an update function that takes `x1`, `x2`, `t`, and `system` as parameters and returns `x1` and `x2` as return values.  f you are not sure how to return more than one return value, see `compute_metrics`.\n",
        "\n",
        "When a customer arrives, which queue do they join?"
      ]
    },
    {
      "cell_type": "code",
      "metadata": {
        "id": "iuspAveUUKtt"
      },
      "source": [
        "def update_func3(x1, x2, t, s):\n",
        "    if x1 > 0 and flip(s.mu):\n",
        "        x1 -= 1\n",
        "\n",
        "    if x2 > 0 and flip(s.mu):\n",
        "        x2 -= 1\n",
        "\n",
        "    if flip(s.lam):\n",
        "        if x1 < x2:\n",
        "            x1 += 1\n",
        "        else:\n",
        "            x2 += 1\n",
        "    return x1, x2"
      ],
      "execution_count": 27,
      "outputs": []
    },
    {
      "cell_type": "markdown",
      "metadata": {
        "id": "M6fegFxZUKtt"
      },
      "source": [
        "Write a version of `run_simulation` that works with this update function."
      ]
    },
    {
      "cell_type": "code",
      "metadata": {
        "id": "b1H_PsAwUKtt"
      },
      "source": [
        "def run_simulation2(system, update_func):\n",
        "    x1, x2 = 0, 0\n",
        "    results = TimeSeries()\n",
        "    results[0] = x1 + x2\n",
        "    \n",
        "    for t in linrange(0, system.duration):\n",
        "        x1, x2 = update_func(x1, x2, t, system)\n",
        "        results[t+1] = x1 + x2\n",
        "        \n",
        "    return results "
      ],
      "execution_count": 32,
      "outputs": []
    },
    {
      "cell_type": "markdown",
      "metadata": {
        "id": "6TGSezwyUKtt"
      },
      "source": [
        "Test your functions by running a simulation with a single value of `lam`."
      ]
    },
    {
      "cell_type": "code",
      "metadata": {
        "colab": {
          "base_uri": "https://localhost:8080/"
        },
        "id": "56zep9uUUKtt",
        "outputId": "520b86fe-82c2-49ca-f20f-0f95025da2b4"
      },
      "source": [
        "s.lam=.5\n",
        "run_simulation2(s, update_func3)"
      ],
      "execution_count": 35,
      "outputs": [
        {
          "output_type": "execute_result",
          "data": {
            "text/plain": [
              "Time\n",
              "0       0\n",
              "1       1\n",
              "2       1\n",
              "3       1\n",
              "4       1\n",
              "       ..\n",
              "597    65\n",
              "598    63\n",
              "599    64\n",
              "600    64\n",
              "601    64\n",
              "Name: Quantity, Length: 602, dtype: int64"
            ]
          },
          "metadata": {
            "tags": []
          },
          "execution_count": 35
        }
      ]
    },
    {
      "cell_type": "markdown",
      "metadata": {
        "id": "XP5jYbYMUKtu"
      },
      "source": [
        "Sweep a range of values for `lam`, plot the results, and print the average wait time across all values of `lam`.\n",
        "\n",
        "How do the results compare to the scenario with two servers and one queue."
      ]
    },
    {
      "cell_type": "code",
      "metadata": {
        "id": "S1VP1S-nUKtu"
      },
      "source": [
        "l_array = np.arange(0.1*s.mu, s.mu, .01)\n"
      ],
      "execution_count": null,
      "outputs": []
    },
    {
      "cell_type": "code",
      "metadata": {
        "id": "79ib5qb2UKtu"
      },
      "source": [
        "\n",
        "def sweep_lam2(l_array, mu, update_func):\n",
        "  s = SweepSeries()\n",
        "\n",
        "  for l in l_array:\n",
        "    system = make_system(l, mu)\n",
        "    results = run_simulation2(system, update_func)\n",
        "    L, W = compute_metrics(results, system)\n",
        "   \n",
        "    s[l] = W\n",
        "\n",
        "  return s"
      ],
      "execution_count": 36,
      "outputs": []
    },
    {
      "cell_type": "code",
      "metadata": {
        "colab": {
          "base_uri": "https://localhost:8080/",
          "height": 282
        },
        "id": "8D088e6hUKtu",
        "outputId": "b3fcc66a-9aa9-482a-bcfb-5f00a40b5abc"
      },
      "source": [
        "\n",
        "r = sweep_lam2(l_array, s.mu, update_func3)\n",
        "plt.plot(r)\n"
      ],
      "execution_count": 39,
      "outputs": [
        {
          "output_type": "execute_result",
          "data": {
            "text/plain": [
              "[<matplotlib.lines.Line2D at 0x7fa866afa6d0>]"
            ]
          },
          "metadata": {
            "tags": []
          },
          "execution_count": 39
        },
        {
          "output_type": "display_data",
          "data": {
            "image/png": "[encoded data removed]",
            "text/plain": [
              "<Figure size 432x288 with 1 Axes>"
            ]
          },
          "metadata": {
            "tags": [],
            "needs_background": "light"
          }
        }
      ]
    },
    {
      "cell_type": "markdown",
      "metadata": {
        "id": "zl5Pd4qGI2yR"
      },
      "source": [
        "<br><font color=\"purple\">This stochastic W plot shows a lower overall wait time</font><br>"
      ]
    },
    {
      "cell_type": "code",
      "metadata": {
        "id": "QRl032WzUKtu"
      },
      "source": [
        ""
      ],
      "execution_count": null,
      "outputs": []
    }
  ]
}