{
  "nbformat": 4,
  "nbformat_minor": 0,
  "metadata": {
    "kernelspec": {
      "display_name": "Python 3",
      "language": "python",
      "name": "python3"
    },
    "language_info": {
      "codemirror_mode": {
        "name": "ipython",
        "version": 3
      },
      "file_extension": ".py",
      "mimetype": "text/x-python",
      "name": "python",
      "nbconvert_exporter": "python",
      "pygments_lexer": "ipython3",
      "version": "3.8.5"
    },
    "colab": {
      "name": "salmon.ipynb",
      "provenance": [],
      "include_colab_link": true
    }
  },
  "cells": [
    {
      "cell_type": "markdown",
      "metadata": {
        "id": "view-in-github",
        "colab_type": "text"
      },
      "source": [
        "<a href=\"https://colab.research.google.com/github/TheReallyBigApple/CunyAssignments/blob/main/Data604/salmon.ipynb\" target=\"_parent\"><img src=\"https://colab.research.google.com/assets/colab-badge.svg\" alt=\"Open In Colab\"/></a>"
      ]
    },
    {
      "cell_type": "markdown",
      "metadata": {
        "id": "7Jl0noWTVWU1"
      },
      "source": [
        "#                       CUNY MSDS Data604 Week 5\n",
        "#                            Tom Buonora\n",
        "\n",
        "# Modeling and Simulation in Python\n",
        "\n",
        "Case Study: Predicting salmon returns\n",
        "\n",
        "This case study is based on a ModSim student project by Josh Deng and Erika Lu.\n",
        "\n",
        "Copyright 2017 Allen Downey\n",
        "\n",
        "License: [Creative Commons Attribution 4.0 International](https://creativecommons.org/licenses/by/4.0)\n"
      ]
    },
    {
      "cell_type": "code",
      "metadata": {
        "id": "cRyMMbImVWU2"
      },
      "source": [
        "# Configure Jupyter so figures appear in the notebook\n",
        "%matplotlib inline\n",
        "\n",
        "# Configure Jupyter to display the assigned value after an assignment\n",
        "%config InteractiveShell.ast_node_interactivity='last_expr_or_assign'\n",
        "\n",
        "# import functions from the modsim.py module\n",
        "from modsim import *"
      ],
      "execution_count": null,
      "outputs": []
    },
    {
      "cell_type": "markdown",
      "metadata": {
        "id": "a3S6lOarVWU2"
      },
      "source": [
        "### Can we predict salmon populations?\n",
        "\n",
        "Each year the [U.S. Atlantic Salmon Assessment Committee](https://www.nefsc.noaa.gov/USASAC/Reports/USASAC2018-Report-30-2017-Activities.pdf) reports estimates of salmon populations in oceans and rivers in the northeastern United States.  The reports are useful for monitoring changes in these populations, but they generally do not include predictions.\n",
        "\n",
        "The goal of this case study is to model year-to-year changes in population, evaluate how predictable these changes are, and estimate the probability that a particular population will increase or decrease in the next 10 years.\n",
        "\n",
        "As an example, I'll use data from page 18 of the 2017 report, which provides population estimates for the Narraguagus and Sheepscot Rivers in Maine.\n",
        "\n",
        "![USASAC_Report_2017_Page18](data/USASAC_Report_2017_Page18.png)\n",
        "\n",
        "At the end of this notebook, I make some suggestions for extracting data from a PDF document automatically, but for this example I will keep it simple and type it in.\n",
        "\n",
        "Here are the population estimates for the Narraguagus River:"
      ]
    },
    {
      "cell_type": "code",
      "metadata": {
        "id": "iUswZsq2VWU2"
      },
      "source": [
        "pops = [2749, 2845, 4247, 1843, 2562, 1774, 1201, 1284, 1287, 2339, 1177, 962, 1176, 2149, 1404, 969, 1237, 1615, 1201];"
      ],
      "execution_count": null,
      "outputs": []
    },
    {
      "cell_type": "markdown",
      "metadata": {
        "id": "FrzRTJG0VWU3"
      },
      "source": [
        "To get this data into a Pandas Series, I'll also make a range of years to use as an index."
      ]
    },
    {
      "cell_type": "code",
      "metadata": {
        "id": "XvjChk1vVWU3",
        "outputId": "e7561f3a-71be-4ba2-868b-bd6762c7eb65"
      },
      "source": [
        "years = range(1997, 2016)"
      ],
      "execution_count": null,
      "outputs": [
        {
          "output_type": "execute_result",
          "data": {
            "text/plain": [
              "range(1997, 2016)"
            ]
          },
          "metadata": {
            "tags": []
          },
          "execution_count": 3
        }
      ]
    },
    {
      "cell_type": "markdown",
      "metadata": {
        "id": "xOru51RBVWU3"
      },
      "source": [
        "And here's the series."
      ]
    },
    {
      "cell_type": "code",
      "metadata": {
        "id": "ArNV5QxbVWU4",
        "outputId": "01b4696e-e5d7-4a7e-e73c-a70de88a630d"
      },
      "source": [
        "pop_series = TimeSeries(pops, index=years, dtype=np.float64)"
      ],
      "execution_count": null,
      "outputs": [
        {
          "output_type": "execute_result",
          "data": {
            "text/html": [
              "<div>\n",
              "<style scoped>\n",
              "    .dataframe tbody tr th:only-of-type {\n",
              "        vertical-align: middle;\n",
              "    }\n",
              "\n",
              "    .dataframe tbody tr th {\n",
              "        vertical-align: top;\n",
              "    }\n",
              "\n",
              "    .dataframe thead th {\n",
              "        text-align: right;\n",
              "    }\n",
              "</style>\n",
              "<table border=\"1\" class=\"dataframe\">\n",
              "  <thead>\n",
              "    <tr style=\"text-align: right;\">\n",
              "      <th></th>\n",
              "      <th>values</th>\n",
              "    </tr>\n",
              "  </thead>\n",
              "  <tbody>\n",
              "    <tr>\n",
              "      <th>1997</th>\n",
              "      <td>2749.0</td>\n",
              "    </tr>\n",
              "    <tr>\n",
              "      <th>1998</th>\n",
              "      <td>2845.0</td>\n",
              "    </tr>\n",
              "    <tr>\n",
              "      <th>1999</th>\n",
              "      <td>4247.0</td>\n",
              "    </tr>\n",
              "    <tr>\n",
              "      <th>2000</th>\n",
              "      <td>1843.0</td>\n",
              "    </tr>\n",
              "    <tr>\n",
              "      <th>2001</th>\n",
              "      <td>2562.0</td>\n",
              "    </tr>\n",
              "    <tr>\n",
              "      <th>2002</th>\n",
              "      <td>1774.0</td>\n",
              "    </tr>\n",
              "    <tr>\n",
              "      <th>2003</th>\n",
              "      <td>1201.0</td>\n",
              "    </tr>\n",
              "    <tr>\n",
              "      <th>2004</th>\n",
              "      <td>1284.0</td>\n",
              "    </tr>\n",
              "    <tr>\n",
              "      <th>2005</th>\n",
              "      <td>1287.0</td>\n",
              "    </tr>\n",
              "    <tr>\n",
              "      <th>2006</th>\n",
              "      <td>2339.0</td>\n",
              "    </tr>\n",
              "    <tr>\n",
              "      <th>2007</th>\n",
              "      <td>1177.0</td>\n",
              "    </tr>\n",
              "    <tr>\n",
              "      <th>2008</th>\n",
              "      <td>962.0</td>\n",
              "    </tr>\n",
              "    <tr>\n",
              "      <th>2009</th>\n",
              "      <td>1176.0</td>\n",
              "    </tr>\n",
              "    <tr>\n",
              "      <th>2010</th>\n",
              "      <td>2149.0</td>\n",
              "    </tr>\n",
              "    <tr>\n",
              "      <th>2011</th>\n",
              "      <td>1404.0</td>\n",
              "    </tr>\n",
              "    <tr>\n",
              "      <th>2012</th>\n",
              "      <td>969.0</td>\n",
              "    </tr>\n",
              "    <tr>\n",
              "      <th>2013</th>\n",
              "      <td>1237.0</td>\n",
              "    </tr>\n",
              "    <tr>\n",
              "      <th>2014</th>\n",
              "      <td>1615.0</td>\n",
              "    </tr>\n",
              "    <tr>\n",
              "      <th>2015</th>\n",
              "      <td>1201.0</td>\n",
              "    </tr>\n",
              "  </tbody>\n",
              "</table>\n",
              "</div>"
            ],
            "text/plain": [
              "1997    2749.0\n",
              "1998    2845.0\n",
              "1999    4247.0\n",
              "2000    1843.0\n",
              "2001    2562.0\n",
              "2002    1774.0\n",
              "2003    1201.0\n",
              "2004    1284.0\n",
              "2005    1287.0\n",
              "2006    2339.0\n",
              "2007    1177.0\n",
              "2008     962.0\n",
              "2009    1176.0\n",
              "2010    2149.0\n",
              "2011    1404.0\n",
              "2012     969.0\n",
              "2013    1237.0\n",
              "2014    1615.0\n",
              "2015    1201.0\n",
              "dtype: float64"
            ]
          },
          "metadata": {
            "tags": []
          },
          "execution_count": 4
        }
      ]
    },
    {
      "cell_type": "markdown",
      "metadata": {
        "id": "9jPm7LW6VWU4"
      },
      "source": [
        "Here's what it looks like:"
      ]
    },
    {
      "cell_type": "code",
      "metadata": {
        "id": "OOy3O4wHVWU4",
        "outputId": "8af83e37-a6f3-46a6-8e7d-b3370c3a3101"
      },
      "source": [
        "def plot_population(series):\n",
        "    plot(series, label='Estimated population')\n",
        "    decorate(xlabel='Year', \n",
        "             ylabel='Population estimate', \n",
        "             title='Narraguacus River',\n",
        "             ylim=[0, 5000])\n",
        "    \n",
        "plot_population(pop_series)"
      ],
      "execution_count": null,
      "outputs": [
        {
          "output_type": "display_data",
          "data": {
            "image/png": "[encoded data removed]",
            "text/plain": [
              "<Figure size 432x288 with 1 Axes>"
            ]
          },
          "metadata": {
            "tags": []
          }
        }
      ]
    },
    {
      "cell_type": "markdown",
      "metadata": {
        "id": "v2KMBgF8VWU5"
      },
      "source": [
        "## Modeling changes\n",
        "\n",
        "To see how the population changes from year-to-year, I'll use `ediff1d` to compute the absolute difference between each year and the next.\n"
      ]
    },
    {
      "cell_type": "code",
      "metadata": {
        "id": "FEJGPEwBVWU5",
        "outputId": "4c71908b-b2d3-458f-d937-20e9a3b1f450"
      },
      "source": [
        "abs_diffs = np.ediff1d(pop_series, to_end=0)"
      ],
      "execution_count": null,
      "outputs": [
        {
          "output_type": "execute_result",
          "data": {
            "text/plain": [
              "array([   96.,  1402., -2404.,   719.,  -788.,  -573.,    83.,     3.,\n",
              "        1052., -1162.,  -215.,   214.,   973.,  -745.,  -435.,   268.,\n",
              "         378.,  -414.,     0.])"
            ]
          },
          "metadata": {
            "tags": []
          },
          "execution_count": 6
        }
      ]
    },
    {
      "cell_type": "markdown",
      "metadata": {
        "id": "m0_JqK8lVWU5"
      },
      "source": [
        "We can compute relative differences by dividing by the original series elementwise."
      ]
    },
    {
      "cell_type": "code",
      "metadata": {
        "id": "WoMi9vVvVWU5",
        "outputId": "e9528bb6-447d-4bdf-c902-1885800b81ba"
      },
      "source": [
        "rel_diffs = abs_diffs / pop_series"
      ],
      "execution_count": null,
      "outputs": [
        {
          "output_type": "execute_result",
          "data": {
            "text/plain": [
              "1997    0.034922\n",
              "1998    0.492794\n",
              "1999   -0.566047\n",
              "2000    0.390125\n",
              "2001   -0.307572\n",
              "2002   -0.322999\n",
              "2003    0.069109\n",
              "2004    0.002336\n",
              "2005    0.817405\n",
              "2006   -0.496794\n",
              "2007   -0.182668\n",
              "2008    0.222453\n",
              "2009    0.827381\n",
              "2010   -0.346673\n",
              "2011   -0.309829\n",
              "2012    0.276574\n",
              "2013    0.305578\n",
              "2014   -0.256347\n",
              "2015    0.000000\n",
              "dtype: float64"
            ]
          },
          "metadata": {
            "tags": []
          },
          "execution_count": 7
        }
      ]
    },
    {
      "cell_type": "markdown",
      "metadata": {
        "id": "t-GVp1d0VWU6"
      },
      "source": [
        "Or we can use the `modsim` function `compute_rel_diff`:"
      ]
    },
    {
      "cell_type": "code",
      "metadata": {
        "id": "9llEMbnWVWU6",
        "outputId": "71c5209a-d2a5-41e6-ee67-6d28b6f0ee74"
      },
      "source": [
        "rel_diffs = compute_rel_diff(pop_series)"
      ],
      "execution_count": null,
      "outputs": [
        {
          "output_type": "execute_result",
          "data": {
            "text/plain": [
              "1997    0.034922\n",
              "1998    0.492794\n",
              "1999   -0.566047\n",
              "2000    0.390125\n",
              "2001   -0.307572\n",
              "2002   -0.322999\n",
              "2003    0.069109\n",
              "2004    0.002336\n",
              "2005    0.817405\n",
              "2006   -0.496794\n",
              "2007   -0.182668\n",
              "2008    0.222453\n",
              "2009    0.827381\n",
              "2010   -0.346673\n",
              "2011   -0.309829\n",
              "2012    0.276574\n",
              "2013    0.305578\n",
              "2014   -0.256347\n",
              "2015    0.000000\n",
              "dtype: float64"
            ]
          },
          "metadata": {
            "tags": []
          },
          "execution_count": 8
        }
      ]
    },
    {
      "cell_type": "markdown",
      "metadata": {
        "id": "CxgjdGdGVWU6"
      },
      "source": [
        "These relative differences are observed annual net growth rates.  So let's drop the `0` and save them."
      ]
    },
    {
      "cell_type": "code",
      "metadata": {
        "id": "N6Le3F8CVWU6",
        "outputId": "c666c127-f999-43c5-b655-582fa3cdb1b6"
      },
      "source": [
        "rates = rel_diffs.drop(2015)"
      ],
      "execution_count": null,
      "outputs": [
        {
          "output_type": "execute_result",
          "data": {
            "text/plain": [
              "1997    0.034922\n",
              "1998    0.492794\n",
              "1999   -0.566047\n",
              "2000    0.390125\n",
              "2001   -0.307572\n",
              "2002   -0.322999\n",
              "2003    0.069109\n",
              "2004    0.002336\n",
              "2005    0.817405\n",
              "2006   -0.496794\n",
              "2007   -0.182668\n",
              "2008    0.222453\n",
              "2009    0.827381\n",
              "2010   -0.346673\n",
              "2011   -0.309829\n",
              "2012    0.276574\n",
              "2013    0.305578\n",
              "2014   -0.256347\n",
              "dtype: float64"
            ]
          },
          "metadata": {
            "tags": []
          },
          "execution_count": 9
        }
      ]
    },
    {
      "cell_type": "markdown",
      "metadata": {
        "id": "fuTss0OyVWU6"
      },
      "source": [
        "A simple way to model this system is to draw a random value from this series of observed rates each year.  We can use the NumPy function `choice` to make a random choice from a series."
      ]
    },
    {
      "cell_type": "code",
      "metadata": {
        "id": "DT5WmNzHVWU7",
        "outputId": "437c9e9a-9755-4df6-eeea-fe40300406f4"
      },
      "source": [
        "np.random.choice(rates)"
      ],
      "execution_count": null,
      "outputs": [
        {
          "output_type": "execute_result",
          "data": {
            "text/plain": [
              "0.27657378740970073"
            ]
          },
          "metadata": {
            "tags": []
          },
          "execution_count": 10
        }
      ]
    },
    {
      "cell_type": "markdown",
      "metadata": {
        "id": "L022gmjpVWU7"
      },
      "source": [
        "## Simulation\n",
        "\n",
        "Now we can simulate the system by drawing random growth rates from the series of observed rates.\n",
        "\n",
        "I'll start the simulation in 2015."
      ]
    },
    {
      "cell_type": "code",
      "metadata": {
        "id": "EztO6yQxVWU7",
        "outputId": "5e9ba6c3-388f-4720-f0a6-128dfe8195c1"
      },
      "source": [
        "t_0 = 2015\n",
        "p_0 = pop_series[t_0]"
      ],
      "execution_count": null,
      "outputs": [
        {
          "output_type": "execute_result",
          "data": {
            "text/plain": [
              "1201.0"
            ]
          },
          "metadata": {
            "tags": []
          },
          "execution_count": 11
        }
      ]
    },
    {
      "cell_type": "markdown",
      "metadata": {
        "id": "yGjBCpMsVWU7"
      },
      "source": [
        "Create a `System` object with variables `t_0`, `p_0`, `rates`, and `duration=10` years. \n",
        "\n",
        "The series of observed rates is one big parameter of the model."
      ]
    },
    {
      "cell_type": "code",
      "metadata": {
        "id": "fLJ1hYagVWU7",
        "outputId": "d3735f26-510c-4109-c494-1696a95a359b"
      },
      "source": [
        "system = System(t_0=t_0,\n",
        "                p_0=p_0,\n",
        "                duration=10,\n",
        "                rates=rates)"
      ],
      "execution_count": null,
      "outputs": [
        {
          "output_type": "execute_result",
          "data": {
            "text/html": [
              "<div>\n",
              "<style scoped>\n",
              "    .dataframe tbody tr th:only-of-type {\n",
              "        vertical-align: middle;\n",
              "    }\n",
              "\n",
              "    .dataframe tbody tr th {\n",
              "        vertical-align: top;\n",
              "    }\n",
              "\n",
              "    .dataframe thead th {\n",
              "        text-align: right;\n",
              "    }\n",
              "</style>\n",
              "<table border=\"1\" class=\"dataframe\">\n",
              "  <thead>\n",
              "    <tr style=\"text-align: right;\">\n",
              "      <th></th>\n",
              "      <th>values</th>\n",
              "    </tr>\n",
              "  </thead>\n",
              "  <tbody>\n",
              "    <tr>\n",
              "      <th>t_0</th>\n",
              "      <td>2015</td>\n",
              "    </tr>\n",
              "    <tr>\n",
              "      <th>p_0</th>\n",
              "      <td>1201</td>\n",
              "    </tr>\n",
              "    <tr>\n",
              "      <th>duration</th>\n",
              "      <td>10</td>\n",
              "    </tr>\n",
              "    <tr>\n",
              "      <th>rates</th>\n",
              "      <td>1997    0.034922\n",
              "1998    0.492794\n",
              "1999   -0.56...</td>\n",
              "    </tr>\n",
              "  </tbody>\n",
              "</table>\n",
              "</div>"
            ],
            "text/plain": [
              "t_0                                                      2015\n",
              "p_0                                                      1201\n",
              "duration                                                   10\n",
              "rates       1997    0.034922\n",
              "1998    0.492794\n",
              "1999   -0.56...\n",
              "dtype: object"
            ]
          },
          "metadata": {
            "tags": []
          },
          "execution_count": 12
        }
      ]
    },
    {
      "cell_type": "markdown",
      "metadata": {
        "id": "7zowBI7NVWU8"
      },
      "source": [
        "Write an update functon that takes as parameters `pop`, `t`, and `system`.\n",
        "It should choose a random growth rate, compute the change in population, and return the new population."
      ]
    },
    {
      "cell_type": "code",
      "metadata": {
        "id": "8QgTzIehVWU8"
      },
      "source": [
        "def update_func1(pop, t, system):\n",
        "    rand_rate = np.random.choice(system.rates)\n",
        "    new_pop = pop * (1+ rand_rate)\n",
        "           \n",
        "    return new_pop"
      ],
      "execution_count": null,
      "outputs": []
    },
    {
      "cell_type": "markdown",
      "metadata": {
        "id": "cRLxjPLYVWU8"
      },
      "source": [
        "Test your update function and run it a few times"
      ]
    },
    {
      "cell_type": "code",
      "metadata": {
        "id": "NSMqnZreVWU8",
        "outputId": "13321e6e-1e45-44de-8fc5-38279e30fe03"
      },
      "source": [
        "update_func1(p_0, t_0, system)"
      ],
      "execution_count": null,
      "outputs": [
        {
          "output_type": "execute_result",
          "data": {
            "text/plain": [
              "1203.806074766355"
            ]
          },
          "metadata": {
            "tags": []
          },
          "execution_count": 14
        }
      ]
    },
    {
      "cell_type": "markdown",
      "metadata": {
        "id": "nDtaRo5GVWU8"
      },
      "source": [
        "Here's a version of `run_simulation` that stores the results in a `TimeSeries` and returns it."
      ]
    },
    {
      "cell_type": "code",
      "metadata": {
        "id": "fGJ5fMbpVWU8"
      },
      "source": [
        "def run_simulation(system, update_func):\n",
        "    \"\"\"Simulate a queueing system.\n",
        "    \n",
        "    system: System object\n",
        "    update_func: function object\n",
        "    \"\"\"\n",
        "    t_0 = system.t_0\n",
        "    t_end = t_0 + system.duration\n",
        "    \n",
        "    results = TimeSeries()\n",
        "    results[t_0] = system.p_0\n",
        "    \n",
        "    for t in linrange(t_0, t_end):\n",
        "        results[t+1] = update_func(results[t], t, system)\n",
        "\n",
        "    return results"
      ],
      "execution_count": null,
      "outputs": []
    },
    {
      "cell_type": "markdown",
      "metadata": {
        "id": "jiMc-5IkVWU9"
      },
      "source": [
        "Use `run_simulation` to run generate a prediction for the next 10 years.\n",
        "\n",
        "The plot your prediction along with the original data.  Your prediction should pick up where the data leave off."
      ]
    },
    {
      "cell_type": "code",
      "metadata": {
        "id": "TsR5kOxnVWU9",
        "outputId": "b4f7bd2d-028a-41e3-eeba-7d6b8752260e"
      },
      "source": [
        "run_simulation(system, update_func1)"
      ],
      "execution_count": null,
      "outputs": [
        {
          "output_type": "execute_result",
          "data": {
            "text/html": [
              "<div>\n",
              "<style scoped>\n",
              "    .dataframe tbody tr th:only-of-type {\n",
              "        vertical-align: middle;\n",
              "    }\n",
              "\n",
              "    .dataframe tbody tr th {\n",
              "        vertical-align: top;\n",
              "    }\n",
              "\n",
              "    .dataframe thead th {\n",
              "        text-align: right;\n",
              "    }\n",
              "</style>\n",
              "<table border=\"1\" class=\"dataframe\">\n",
              "  <thead>\n",
              "    <tr style=\"text-align: right;\">\n",
              "      <th></th>\n",
              "      <th>values</th>\n",
              "    </tr>\n",
              "  </thead>\n",
              "  <tbody>\n",
              "    <tr>\n",
              "      <th>2015</th>\n",
              "      <td>1201.000000</td>\n",
              "    </tr>\n",
              "    <tr>\n",
              "      <th>2016</th>\n",
              "      <td>828.895299</td>\n",
              "    </tr>\n",
              "    <tr>\n",
              "      <th>2017</th>\n",
              "      <td>1506.438310</td>\n",
              "    </tr>\n",
              "    <tr>\n",
              "      <th>2018</th>\n",
              "      <td>1610.546869</td>\n",
              "    </tr>\n",
              "    <tr>\n",
              "      <th>2019</th>\n",
              "      <td>2102.694578</td>\n",
              "    </tr>\n",
              "    <tr>\n",
              "      <th>2020</th>\n",
              "      <td>3138.890641</td>\n",
              "    </tr>\n",
              "    <tr>\n",
              "      <th>2021</th>\n",
              "      <td>2173.455112</td>\n",
              "    </tr>\n",
              "    <tr>\n",
              "      <th>2022</th>\n",
              "      <td>1616.296960</td>\n",
              "    </tr>\n",
              "    <tr>\n",
              "      <th>2023</th>\n",
              "      <td>1055.970652</td>\n",
              "    </tr>\n",
              "    <tr>\n",
              "      <th>2024</th>\n",
              "      <td>458.242032</td>\n",
              "    </tr>\n",
              "    <tr>\n",
              "      <th>2025</th>\n",
              "      <td>198.855678</td>\n",
              "    </tr>\n",
              "  </tbody>\n",
              "</table>\n",
              "</div>"
            ],
            "text/plain": [
              "2015    1201.000000\n",
              "2016     828.895299\n",
              "2017    1506.438310\n",
              "2018    1610.546869\n",
              "2019    2102.694578\n",
              "2020    3138.890641\n",
              "2021    2173.455112\n",
              "2022    1616.296960\n",
              "2023    1055.970652\n",
              "2024     458.242032\n",
              "2025     198.855678\n",
              "dtype: float64"
            ]
          },
          "metadata": {
            "tags": []
          },
          "execution_count": 16
        }
      ]
    },
    {
      "cell_type": "markdown",
      "metadata": {
        "id": "Lm943hHCVWU9"
      },
      "source": [
        "To get a sense of how much the results vary, we can run the model several times and plot all of the results."
      ]
    },
    {
      "cell_type": "code",
      "metadata": {
        "id": "PL5meE_jVWU9"
      },
      "source": [
        "def plot_many_simulations(system, update_func, iters):\n",
        "    \"\"\"Runs simulations and plots the results.\n",
        "    \n",
        "    system: System object\n",
        "    update_func: function object\n",
        "    iters: number of simulations to run\n",
        "    \"\"\"\n",
        "    for i in range(iters):\n",
        "        results = run_simulation(system, update_func)\n",
        "        plot(results, color='gray', linewidth=5, alpha=0.1)"
      ],
      "execution_count": null,
      "outputs": []
    },
    {
      "cell_type": "markdown",
      "metadata": {
        "id": "Pvz49ovdVWU-"
      },
      "source": [
        "The plot option `alpha=0.1` makes the lines semi-transparent, so they are darker where they overlap.\n",
        "\n",
        "Run `plot_many_simulations` with your update function and `iters=30`.  Also plot the original data."
      ]
    },
    {
      "cell_type": "code",
      "metadata": {
        "id": "S9k6-ObZVWU-",
        "outputId": "db2c7b8f-b40e-402e-b7db-18fca3f99a18"
      },
      "source": [
        "plot_many_simulations(system, update_func1, 30)"
      ],
      "execution_count": null,
      "outputs": [
        {
          "output_type": "display_data",
          "data": {
            "image/png": "[encoded data removed]",
            "text/plain": [
              "<Figure size 432x288 with 1 Axes>"
            ]
          },
          "metadata": {
            "tags": []
          }
        }
      ]
    },
    {
      "cell_type": "markdown",
      "metadata": {
        "id": "dzAdBGkXVWU-"
      },
      "source": [
        "The results are highly variable: according to this model, the population might continue to decline over the next 10 years, or it might recover and grow rapidly!\n",
        "\n",
        "It's hard to say how seriously we should take this model.  There are many factors that influence salmon populations that are not included in the model.  For example, if the population starts to grow quickly, it might be limited by resource limits, predators, or fishing.  If the population starts to fall, humans might restrict fishing and stock the river with farmed fish.\n",
        "\n",
        "So these results should probably not be considered useful predictions.  However, there might be something useful we can do, which is to estimate the probability that the population will increase or decrease in the next 10 years.  "
      ]
    },
    {
      "cell_type": "markdown",
      "metadata": {
        "id": "V5Sgo9rYVWU-"
      },
      "source": [
        "## Distribution of net changes\n",
        "\n",
        "To describe the distribution of net changes, write a function called `run_many_simulations` that runs many simulations, saves the final populations in a `ModSimSeries`, and returns the `ModSimSeries`.\n"
      ]
    },
    {
      "cell_type": "code",
      "metadata": {
        "id": "6R1FdVFCVWU-"
      },
      "source": [
        "\n",
        "def run_many_simulations(system, update_func, iters):\n",
        "    \"\"\"Runs simulations and report final populations.\n",
        "    \n",
        "    system: System object\n",
        "    update_func: function object\n",
        "    iters: number of simulations to run\n",
        "    \n",
        "    returns: series of final populations\n",
        "    \"\"\"\n",
        "    \n",
        "    many_results = ModSimSeries()\n",
        "    for i in range(iters):\n",
        "        results = run_simulation(system, update_func)\n",
        "        many_results[i]=results[results.index[-1]]\n",
        "    return many_results\n",
        "        "
      ],
      "execution_count": null,
      "outputs": []
    },
    {
      "cell_type": "code",
      "metadata": {
        "id": "dmysdgK_VWU-",
        "outputId": "6bb71ee7-9bd1-4ba4-bce3-0204a4c36bf7"
      },
      "source": [
        "run_many_simulations(system, update_func1, 4)"
      ],
      "execution_count": null,
      "outputs": [
        {
          "output_type": "execute_result",
          "data": {
            "text/html": [
              "<div>\n",
              "<style scoped>\n",
              "    .dataframe tbody tr th:only-of-type {\n",
              "        vertical-align: middle;\n",
              "    }\n",
              "\n",
              "    .dataframe tbody tr th {\n",
              "        vertical-align: top;\n",
              "    }\n",
              "\n",
              "    .dataframe thead th {\n",
              "        text-align: right;\n",
              "    }\n",
              "</style>\n",
              "<table border=\"1\" class=\"dataframe\">\n",
              "  <thead>\n",
              "    <tr style=\"text-align: right;\">\n",
              "      <th></th>\n",
              "      <th>values</th>\n",
              "    </tr>\n",
              "  </thead>\n",
              "  <tbody>\n",
              "    <tr>\n",
              "      <th>0</th>\n",
              "      <td>568.502446</td>\n",
              "    </tr>\n",
              "    <tr>\n",
              "      <th>1</th>\n",
              "      <td>321.331043</td>\n",
              "    </tr>\n",
              "    <tr>\n",
              "      <th>2</th>\n",
              "      <td>3443.708071</td>\n",
              "    </tr>\n",
              "    <tr>\n",
              "      <th>3</th>\n",
              "      <td>1528.402952</td>\n",
              "    </tr>\n",
              "  </tbody>\n",
              "</table>\n",
              "</div>"
            ],
            "text/plain": [
              "0     568.502446\n",
              "1     321.331043\n",
              "2    3443.708071\n",
              "3    1528.402952\n",
              "dtype: float64"
            ]
          },
          "metadata": {
            "tags": []
          },
          "execution_count": 20
        }
      ]
    },
    {
      "cell_type": "markdown",
      "metadata": {
        "id": "Iy2Oc0o-VWU_"
      },
      "source": [
        "Test your function by running it with `iters=5`."
      ]
    },
    {
      "cell_type": "code",
      "metadata": {
        "id": "CA7h3BeXVWU_",
        "outputId": "246596b2-d0a1-4246-b9eb-fa14a2ffcad0"
      },
      "source": [
        "run_many_simulations(system, update_func1, 5)"
      ],
      "execution_count": null,
      "outputs": [
        {
          "output_type": "execute_result",
          "data": {
            "text/html": [
              "<div>\n",
              "<style scoped>\n",
              "    .dataframe tbody tr th:only-of-type {\n",
              "        vertical-align: middle;\n",
              "    }\n",
              "\n",
              "    .dataframe tbody tr th {\n",
              "        vertical-align: top;\n",
              "    }\n",
              "\n",
              "    .dataframe thead th {\n",
              "        text-align: right;\n",
              "    }\n",
              "</style>\n",
              "<table border=\"1\" class=\"dataframe\">\n",
              "  <thead>\n",
              "    <tr style=\"text-align: right;\">\n",
              "      <th></th>\n",
              "      <th>values</th>\n",
              "    </tr>\n",
              "  </thead>\n",
              "  <tbody>\n",
              "    <tr>\n",
              "      <th>0</th>\n",
              "      <td>1471.053397</td>\n",
              "    </tr>\n",
              "    <tr>\n",
              "      <th>1</th>\n",
              "      <td>4037.670445</td>\n",
              "    </tr>\n",
              "    <tr>\n",
              "      <th>2</th>\n",
              "      <td>694.584948</td>\n",
              "    </tr>\n",
              "    <tr>\n",
              "      <th>3</th>\n",
              "      <td>2423.167007</td>\n",
              "    </tr>\n",
              "    <tr>\n",
              "      <th>4</th>\n",
              "      <td>14338.257778</td>\n",
              "    </tr>\n",
              "  </tbody>\n",
              "</table>\n",
              "</div>"
            ],
            "text/plain": [
              "0     1471.053397\n",
              "1     4037.670445\n",
              "2      694.584948\n",
              "3     2423.167007\n",
              "4    14338.257778\n",
              "dtype: float64"
            ]
          },
          "metadata": {
            "tags": []
          },
          "execution_count": 21
        }
      ]
    },
    {
      "cell_type": "markdown",
      "metadata": {
        "id": "Fc6RQKpjVWVA"
      },
      "source": [
        "Now we can run 1000 simulations and describe the distribution of the results."
      ]
    },
    {
      "cell_type": "code",
      "metadata": {
        "id": "4BxiW07OVWVB",
        "outputId": "0cc9b5a0-6e94-401d-bdec-713cd5bab524"
      },
      "source": [
        "last_pops = run_many_simulations(system, update_func1, 1000)\n",
        "last_pops.describe()"
      ],
      "execution_count": null,
      "outputs": [
        {
          "output_type": "execute_result",
          "data": {
            "text/plain": [
              "count     1000.000000\n",
              "mean      1665.682041\n",
              "std       3019.510472\n",
              "min         18.769171\n",
              "25%        293.789431\n",
              "50%        724.980079\n",
              "75%       1820.059202\n",
              "max      47247.913436\n",
              "dtype: float64"
            ]
          },
          "metadata": {
            "tags": []
          },
          "execution_count": 22
        }
      ]
    },
    {
      "cell_type": "markdown",
      "metadata": {
        "id": "zBbjoUAzVWVB"
      },
      "source": [
        "If we substract off the initial population, we get the distribution of changes."
      ]
    },
    {
      "cell_type": "code",
      "metadata": {
        "id": "g-yKc5yPVWVB",
        "outputId": "88ee2646-2695-4abd-a63d-2611266f2a7a"
      },
      "source": [
        "net_changes = last_pops - p_0\n",
        "net_changes.describe()"
      ],
      "execution_count": null,
      "outputs": [
        {
          "output_type": "execute_result",
          "data": {
            "text/plain": [
              "count     1000.000000\n",
              "mean       464.682041\n",
              "std       3019.510472\n",
              "min      -1182.230829\n",
              "25%       -907.210569\n",
              "50%       -476.019921\n",
              "75%        619.059202\n",
              "max      46046.913436\n",
              "dtype: float64"
            ]
          },
          "metadata": {
            "tags": []
          },
          "execution_count": 23
        }
      ]
    },
    {
      "cell_type": "markdown",
      "metadata": {
        "id": "0tMKVRUBVWVB"
      },
      "source": [
        "The median is negative, which indicates that the population decreases more often than it increases.\n",
        "\n",
        "We can be more specific by counting the number of runs where `net_changes` is positive."
      ]
    },
    {
      "cell_type": "code",
      "metadata": {
        "id": "5eBoYjW0VWVB",
        "outputId": "3b72fd33-de72-4918-9871-6109068f4264"
      },
      "source": [
        "np.sum(net_changes > 0)"
      ],
      "execution_count": null,
      "outputs": [
        {
          "output_type": "execute_result",
          "data": {
            "text/plain": [
              "348"
            ]
          },
          "metadata": {
            "tags": []
          },
          "execution_count": 24
        }
      ]
    },
    {
      "cell_type": "markdown",
      "metadata": {
        "id": "gT0bmF3jVWVB"
      },
      "source": [
        "Or we can use `mean` to compute the fraction of runs where `net_changes` is positive."
      ]
    },
    {
      "cell_type": "code",
      "metadata": {
        "id": "JVefkVULVWVC",
        "outputId": "b47aec3b-4426-4e48-bb9f-8bd0ac99adde"
      },
      "source": [
        "np.mean(net_changes > 0)"
      ],
      "execution_count": null,
      "outputs": [
        {
          "output_type": "execute_result",
          "data": {
            "text/plain": [
              "0.348"
            ]
          },
          "metadata": {
            "tags": []
          },
          "execution_count": 25
        }
      ]
    },
    {
      "cell_type": "markdown",
      "metadata": {
        "id": "gxHdQyOHVWVC"
      },
      "source": [
        "And here's the fraction where it's negative."
      ]
    },
    {
      "cell_type": "code",
      "metadata": {
        "id": "s8u7bdkvVWVC",
        "outputId": "edde5077-5e93-48e3-d2b9-88ed7130ee1d"
      },
      "source": [
        "np.mean(net_changes < 0)"
      ],
      "execution_count": null,
      "outputs": [
        {
          "output_type": "execute_result",
          "data": {
            "text/plain": [
              "0.652"
            ]
          },
          "metadata": {
            "tags": []
          },
          "execution_count": 26
        }
      ]
    },
    {
      "cell_type": "markdown",
      "metadata": {
        "id": "H_4xVEgAVWVC"
      },
      "source": [
        "So, based on observed past changes, this model predicts that the population is more likely to decrease than increase over the next 10 years, by about 2:1."
      ]
    },
    {
      "cell_type": "markdown",
      "metadata": {
        "id": "dcQvIXbAVWVC"
      },
      "source": [
        "## A refined model\n",
        "\n",
        "There are a few ways we could improve the model.\n",
        "\n",
        "1.  It looks like there might be cyclic behavior in the past data, with a period of 4-5 years.  We could extend the model to include this effect.\n",
        "\n",
        "2.  Older data might not be as relevant for prediction as newer data, so we could give more weight to newer data.\n",
        "\n",
        "The second option is easier to implement, so let's try it.\n",
        "\n",
        "I'll use `linspace` to create an array of \"weights\" for the observed rates.  The probability that I choose each rate will be proportional to these weights.\n",
        "\n",
        "The weights have to add up to 1, so I divide through by the total."
      ]
    },
    {
      "cell_type": "code",
      "metadata": {
        "id": "CQHcIM_TVWVC",
        "outputId": "84ea07d7-523f-4c32-b130-2c4c247ef34d"
      },
      "source": [
        "weights = linspace(0, 1, len(rates))\n",
        "weights /= sum(weights)\n",
        "plot(weights)\n",
        "decorate(xlabel='Index into the rates array',\n",
        "         ylabel='Weight')"
      ],
      "execution_count": null,
      "outputs": [
        {
          "output_type": "display_data",
          "data": {
            "image/png": "[encoded data removed]",
            "text/plain": [
              "<Figure size 432x288 with 1 Axes>"
            ]
          },
          "metadata": {
            "tags": []
          }
        }
      ]
    },
    {
      "cell_type": "markdown",
      "metadata": {
        "id": "fsfqlCm0VWVC"
      },
      "source": [
        "I'll add the weights to the `System` object, since they are parameters of the model."
      ]
    },
    {
      "cell_type": "code",
      "metadata": {
        "id": "nplJDi-hVWVD"
      },
      "source": [
        "#  # weights is now 0 to .11 by about .0065 each\n",
        "system.weights = weights"
      ],
      "execution_count": null,
      "outputs": []
    },
    {
      "cell_type": "markdown",
      "metadata": {
        "id": "wML1hKP3VWVD"
      },
      "source": [
        "We can pass these weights as a parameter to `np.random.choice` (see the [documentation](https://docs.scipy.org/doc/numpy/reference/generated/numpy.random.choice.html))"
      ]
    },
    {
      "cell_type": "code",
      "metadata": {
        "id": "R0oPMk_gVWVD",
        "outputId": "71bca015-79b0-4303-b22c-a46b8a940c4d"
      },
      "source": [
        "np.random.choice(system.rates, p=system.weights)"
      ],
      "execution_count": null,
      "outputs": [
        {
          "output_type": "execute_result",
          "data": {
            "text/plain": [
              "0.3055780113177041"
            ]
          },
          "metadata": {
            "tags": []
          },
          "execution_count": 29
        }
      ]
    },
    {
      "cell_type": "markdown",
      "metadata": {
        "id": "TJmMR-2wVWVD"
      },
      "source": [
        "Write an update function that takes the weights into account."
      ]
    },
    {
      "cell_type": "code",
      "metadata": {
        "id": "I-1Ze6lqVWVD"
      },
      "source": [
        "def update_func4(pop, t, system):\n",
        "    rand_rate = np.random.choice(system.rates, p=system.weights)\n",
        "    new_pop = pop * (1+ rand_rate)\n",
        "           \n",
        "    return new_pop"
      ],
      "execution_count": null,
      "outputs": []
    },
    {
      "cell_type": "markdown",
      "metadata": {
        "id": "jUWzD3tCVWVE"
      },
      "source": [
        "Use `plot_many_simulations` to plot the results."
      ]
    },
    {
      "cell_type": "code",
      "metadata": {
        "id": "IvXZt2F_VWVE",
        "outputId": "1c0e5a40-ba42-452f-b6d2-6ca94f0d7271"
      },
      "source": [
        "plot_many_simulations(system, update_func4, 1000)"
      ],
      "execution_count": null,
      "outputs": [
        {
          "output_type": "display_data",
          "data": {
            "image/png": "[encoded data removed]",
            "text/plain": [
              "<Figure size 432x288 with 1 Axes>"
            ]
          },
          "metadata": {
            "tags": []
          }
        }
      ]
    },
    {
      "cell_type": "markdown",
      "metadata": {
        "id": "FtLmsGuNVWVE"
      },
      "source": [
        "Use `run_many_simulations` to collect the results and `describe` to summarize the distribution of net changes."
      ]
    },
    {
      "cell_type": "code",
      "metadata": {
        "id": "Z19WNqvCVWVE",
        "outputId": "28fb4dad-c622-4fba-9636-b0959ef49aa4"
      },
      "source": [
        "weighted_pops = run_many_simulations(system, update_func4, 1000)\n",
        "weighted_pops.describe()"
      ],
      "execution_count": null,
      "outputs": [
        {
          "output_type": "execute_result",
          "data": {
            "text/plain": [
              "count     1000.000000\n",
              "mean      1765.464204\n",
              "std       3123.020802\n",
              "min          9.904239\n",
              "25%        344.599004\n",
              "50%        860.850975\n",
              "75%       1952.418326\n",
              "max      45275.489194\n",
              "dtype: float64"
            ]
          },
          "metadata": {
            "tags": []
          },
          "execution_count": 32
        }
      ]
    },
    {
      "cell_type": "markdown",
      "metadata": {
        "id": "BRi6F3NPVWVE"
      },
      "source": [
        "Does the refined model have much effect on the probability of population decline?"
      ]
    },
    {
      "cell_type": "code",
      "metadata": {
        "id": "ijgHoIa5VWVE",
        "outputId": "49c555f7-63a8-4b7d-a52e-19094873ba6e"
      },
      "source": [
        "plot_many_simulations(system, update_func1, 1000)"
      ],
      "execution_count": null,
      "outputs": [
        {
          "output_type": "display_data",
          "data": {
            "image/png": "[encoded data removed]",
            "text/plain": [
              "<Figure size 432x288 with 1 Axes>"
            ]
          },
          "metadata": {
            "tags": []
          }
        }
      ]
    },
    {
      "cell_type": "code",
      "metadata": {
        "id": "rKTIb8teVWVF",
        "outputId": "d0131df0-b297-48a9-888d-50c0524bd6ab"
      },
      "source": [
        "non_weighted_pops = run_many_simulations(system, update_func1, 1000)\n",
        "non_weighted_pops.describe()"
      ],
      "execution_count": null,
      "outputs": [
        {
          "output_type": "execute_result",
          "data": {
            "text/plain": [
              "count     1000.000000\n",
              "mean      1806.987462\n",
              "std       4010.523845\n",
              "min         17.935018\n",
              "25%        304.191923\n",
              "50%        764.004722\n",
              "75%       1830.150895\n",
              "max      69859.888618\n",
              "dtype: float64"
            ]
          },
          "metadata": {
            "tags": []
          },
          "execution_count": 34
        }
      ]
    },
    {
      "cell_type": "markdown",
      "metadata": {
        "id": "nKgBsXdDVWVF"
      },
      "source": [
        "<br><font color=\"purple\">Hard to say since they both are random, but it does appear there is more variance from the extra weights</font><br>"
      ]
    },
    {
      "cell_type": "markdown",
      "metadata": {
        "id": "xLqpTfqWVWVF"
      },
      "source": [
        "## Extracting data from a PDF document\n",
        "\n",
        "The following section uses `tabula-py` to get data from a PDF document.\n",
        "\n",
        "If you don't already have it installed, and you are using Anaconda, you can install it by running the following command in a Terminal or Git Bash:\n",
        "\n",
        "```\n",
        "conda install -c conda-forge tabula-py\n",
        "```"
      ]
    },
    {
      "cell_type": "code",
      "metadata": {
        "id": "s9pEbQQBVWVF"
      },
      "source": [
        "from tabula import read_pdf"
      ],
      "execution_count": null,
      "outputs": []
    },
    {
      "cell_type": "code",
      "metadata": {
        "id": "VO3LQPcmVWVF",
        "outputId": "dc1f8c4f-c5bb-4c7b-dca7-09a310407591"
      },
      "source": [
        "df = read_pdf('C:\\\\Users\\\\arono\\\\CUNY\\\\DATA604_Python\\\\ModSimPy-master\\\\notebooks\\\\data\\\\USASAC2018-Report-30-2017-Activities-Page11.pdf')"
      ],
      "execution_count": null,
      "outputs": [
        {
          "output_type": "stream",
          "text": [
            "'pages' argument isn't specified.Will extract only from page 1 by default.\n"
          ],
          "name": "stderr"
        },
        {
          "output_type": "execute_result",
          "data": {
            "text/plain": [
              "[    Unnamed: 0   1 SW    2SW  3SW  Repeat  Total Hatchery  Natural\n",
              " 0         1997    278  1,492    8      36  1,814    1,296      518\n",
              " 1         1998    340  1,477    3      42  1,862    1,146      716\n",
              " 2         1999    402  1,136    3      26  1,567      959      608\n",
              " 3         2000    292    535    0      20    847      562      285\n",
              " 4         2001    269    804    7       4  1,084      833      251\n",
              " 5         2002    437    505    2      23    967      832      135\n",
              " 6         2003    233  1,185    3       6  1,427    1,238      189\n",
              " 7         2004    319  1,266   21      24  1,630    1,395      235\n",
              " 8         2005    317    945    0      10  1,272    1,019      253\n",
              " 9         2006    442  1,007    2       5  1,456    1,167      289\n",
              " 10        2007    299    958    3       1  1,261      940      321\n",
              " 11        2008    812  1,758   12      23  2,605    2,191      414\n",
              " 12        2009    243  2,065   16      16  2,340    2,017      323\n",
              " 13        2010    552  1,081    2      16  1,651    1,468      183\n",
              " 14        2011  1,084  3,053   26      15  4,178    3,560      618\n",
              " 15        2012     26    879   31       5    941      731      210\n",
              " 16        2013     78    525    3       5    611      413      198\n",
              " 17        2014    110    334    3       3    450      304      146\n",
              " 18        2015    150    761    9       1    921      739      182\n",
              " 19        2016    232    389    2       3    626      448      178\n",
              " 20        2017    363    663   13       2   1041      806      235]"
            ]
          },
          "metadata": {
            "tags": []
          },
          "execution_count": 39
        }
      ]
    },
    {
      "cell_type": "code",
      "metadata": {
        "id": "5Ck01rJbVWVF"
      },
      "source": [
        ""
      ],
      "execution_count": null,
      "outputs": []
    }
  ]
}