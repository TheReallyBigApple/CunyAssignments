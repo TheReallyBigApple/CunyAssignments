{
  "nbformat": 4,
  "nbformat_minor": 0,
  "metadata": {
    "kernelspec": {
      "display_name": "Python 3",
      "language": "python",
      "name": "python3"
    },
    "language_info": {
      "codemirror_mode": {
        "name": "ipython",
        "version": 3
      },
      "file_extension": ".py",
      "mimetype": "text/x-python",
      "name": "python",
      "nbconvert_exporter": "python",
      "pygments_lexer": "ipython3",
      "version": "3.7.9"
    },
    "colab": {
      "name": "chap09.ipynb",
      "provenance": [],
      "collapsed_sections": [],
      "include_colab_link": true
    }
  },
  "cells": [
    {
      "cell_type": "markdown",
      "metadata": {
        "id": "view-in-github",
        "colab_type": "text"
      },
      "source": [
        "<a href=\"https://colab.research.google.com/github/TheReallyBigApple/CunyAssignments/blob/main/Data604/chap09.ipynb\" target=\"_parent\"><img src=\"https://colab.research.google.com/assets/colab-badge.svg\" alt=\"Open In Colab\"/></a>"
      ]
    },
    {
      "cell_type": "markdown",
      "metadata": {
        "id": "dMUCaL093B8u"
      },
      "source": [
        "#                       CUNY MSDS Data604 Week 4\n",
        "#                            Tom Buonora\n",
        "\n",
        "# Chapter 9"
      ]
    },
    {
      "cell_type": "markdown",
      "metadata": {
        "tags": [],
        "id": "TmYBbUv93B8v"
      },
      "source": [
        "*Modeling and Simulation in Python*\n",
        "\n",
        "Copyright 2021 Allen Downey\n",
        "\n",
        "License: [Creative Commons Attribution-NonCommercial-ShareAlike 4.0 International](https://creativecommons.org/licenses/by-nc-sa/4.0/)"
      ]
    },
    {
      "cell_type": "code",
      "metadata": {
        "tags": [],
        "colab": {
          "base_uri": "https://localhost:8080/"
        },
        "id": "zImPQjni3B8v",
        "outputId": "854016e0-aad0-4b4d-c59f-155195323000"
      },
      "source": [
        "# check if the libraries we need are installed\n",
        "\n",
        "try:\n",
        "    import pint\n",
        "except ImportError:\n",
        "    !pip install pint\n",
        "    import pint\n",
        "    \n",
        "try:\n",
        "    from modsim import *\n",
        "except ImportError:\n",
        "    !pip install modsimpy\n",
        "    from modsim import *"
      ],
      "execution_count": 1,
      "outputs": [
        {
          "output_type": "stream",
          "text": [
            "Collecting pint\n",
            "\u001b[?25l  Downloading https://files.pythonhosted.org/packages/33/de/53a77b82553579affab7438d299f850acbc1c4dd741c5ce52594513cb0ef/Pint-0.17-py2.py3-none-any.whl (204kB)\n",
            "\r\u001b[K     |█▋                              | 10kB 8.7MB/s eta 0:00:01\r\u001b[K     |███▏                            | 20kB 12.9MB/s eta 0:00:01\r\u001b[K     |████▉                           | 30kB 16.4MB/s eta 0:00:01\r\u001b[K     |██████▍                         | 40kB 19.0MB/s eta 0:00:01\r\u001b[K     |████████                        | 51kB 20.3MB/s eta 0:00:01\r\u001b[K     |█████████▋                      | 61kB 21.0MB/s eta 0:00:01\r\u001b[K     |███████████▏                    | 71kB 20.6MB/s eta 0:00:01\r\u001b[K     |████████████▉                   | 81kB 21.3MB/s eta 0:00:01\r\u001b[K     |██████████████▍                 | 92kB 22.3MB/s eta 0:00:01\r\u001b[K     |████████████████                | 102kB 23.5MB/s eta 0:00:01\r\u001b[K     |█████████████████▋              | 112kB 23.5MB/s eta 0:00:01\r\u001b[K     |███████████████████▏            | 122kB 23.5MB/s eta 0:00:01\r\u001b[K     |████████████████████▉           | 133kB 23.5MB/s eta 0:00:01\r\u001b[K     |██████████████████████▍         | 143kB 23.5MB/s eta 0:00:01\r\u001b[K     |████████████████████████        | 153kB 23.5MB/s eta 0:00:01\r\u001b[K     |█████████████████████████▋      | 163kB 23.5MB/s eta 0:00:01\r\u001b[K     |███████████████████████████▏    | 174kB 23.5MB/s eta 0:00:01\r\u001b[K     |████████████████████████████▊   | 184kB 23.5MB/s eta 0:00:01\r\u001b[K     |██████████████████████████████▍ | 194kB 23.5MB/s eta 0:00:01\r\u001b[K     |████████████████████████████████| 204kB 23.5MB/s eta 0:00:01\r\u001b[K     |████████████████████████████████| 215kB 23.5MB/s \n",
            "\u001b[?25hRequirement already satisfied: importlib-metadata; python_version < \"3.8\" in /usr/local/lib/python3.7/dist-packages (from pint) (4.5.0)\n",
            "Requirement already satisfied: packaging in /usr/local/lib/python3.7/dist-packages (from pint) (20.9)\n",
            "Requirement already satisfied: typing-extensions>=3.6.4; python_version < \"3.8\" in /usr/local/lib/python3.7/dist-packages (from importlib-metadata; python_version < \"3.8\"->pint) (3.7.4.3)\n",
            "Requirement already satisfied: zipp>=0.5 in /usr/local/lib/python3.7/dist-packages (from importlib-metadata; python_version < \"3.8\"->pint) (3.4.1)\n",
            "Requirement already satisfied: pyparsing>=2.0.2 in /usr/local/lib/python3.7/dist-packages (from packaging->pint) (2.4.7)\n",
            "Installing collected packages: pint\n",
            "Successfully installed pint-0.17\n",
            "Collecting modsimpy\n",
            "  Downloading https://files.pythonhosted.org/packages/ee/ef/c170df0ee5311cda90a10fc71d1610b9a1cb2241fadbf04bf0f57ff161e9/modsimpy-1.1.3.tar.gz\n",
            "Building wheels for collected packages: modsimpy\n",
            "  Building wheel for modsimpy (setup.py) ... \u001b[?25l\u001b[?25hdone\n",
            "  Created wheel for modsimpy: filename=modsimpy-1.1.3-cp37-none-any.whl size=20356 sha256=a4abab56621f90c46b302609270801902df99e27856d8a37a9112fccfa5e67cd\n",
            "  Stored in directory: /root/.cache/pip/wheels/59/34/ac/e82f103fbfb5d961b1a4d2b8e89bb6629a4c0b242e5373cbfa\n",
            "Successfully built modsimpy\n",
            "Installing collected packages: modsimpy\n",
            "Successfully installed modsimpy-1.1.3\n"
          ],
          "name": "stdout"
        }
      ]
    },
    {
      "cell_type": "markdown",
      "metadata": {
        "id": "D5RxlmCh3B8w"
      },
      "source": [
        "The following displays SymPy expressions and provides the option of showing results in LaTeX format."
      ]
    },
    {
      "cell_type": "code",
      "metadata": {
        "id": "DtHGbed-3B8w"
      },
      "source": [
        "from sympy.printing import latex\n",
        "\n",
        "def show(expr, show_latex=False):\n",
        "    \"\"\"Display a SymPy expression.\n",
        "    \n",
        "    expr: SymPy expression\n",
        "    show_latex: boolean\n",
        "    \"\"\"\n",
        "    if show_latex:\n",
        "        print(latex(expr))\n",
        "    return expr"
      ],
      "execution_count": 2,
      "outputs": []
    },
    {
      "cell_type": "markdown",
      "metadata": {
        "id": "u-QW5uHf3B8x"
      },
      "source": [
        "### Analysis with SymPy"
      ]
    },
    {
      "cell_type": "markdown",
      "metadata": {
        "id": "xqVzneSq3B8x"
      },
      "source": [
        "Create a symbol for time."
      ]
    },
    {
      "cell_type": "code",
      "metadata": {
        "colab": {
          "base_uri": "https://localhost:8080/",
          "height": 38
        },
        "id": "uUf9NR2c3B8x",
        "outputId": "48461590-50bd-42f1-bdfa-f017e5abdde4"
      },
      "source": [
        "import sympy as sp\n",
        "\n",
        "t = sp.symbols('t')\n",
        "t"
      ],
      "execution_count": 3,
      "outputs": [
        {
          "output_type": "execute_result",
          "data": {
            "text/latex": "$\\displaystyle t$",
            "text/plain": [
              "t"
            ]
          },
          "metadata": {
            "tags": []
          },
          "execution_count": 3
        }
      ]
    },
    {
      "cell_type": "markdown",
      "metadata": {
        "id": "NzP26vqN3B8x"
      },
      "source": [
        "If you combine symbols and numbers, you get symbolic expressions."
      ]
    },
    {
      "cell_type": "code",
      "metadata": {
        "colab": {
          "base_uri": "https://localhost:8080/",
          "height": 38
        },
        "id": "wiCk791O3B8y",
        "outputId": "1db7daa9-1d6f-4ea1-c98b-f784c6369c06"
      },
      "source": [
        "expr = t + 1\n",
        "expr"
      ],
      "execution_count": 4,
      "outputs": [
        {
          "output_type": "execute_result",
          "data": {
            "text/latex": "$\\displaystyle t + 1$",
            "text/plain": [
              "t + 1"
            ]
          },
          "metadata": {
            "tags": []
          },
          "execution_count": 4
        }
      ]
    },
    {
      "cell_type": "markdown",
      "metadata": {
        "id": "vXV3dM7b3B8y"
      },
      "source": [
        "The result is an `Add` object, which just represents the sum without trying to compute it."
      ]
    },
    {
      "cell_type": "code",
      "metadata": {
        "colab": {
          "base_uri": "https://localhost:8080/"
        },
        "id": "JJcnXGTj3B8y",
        "outputId": "e38f027f-02a3-42ec-e03b-f14a2764e6c1"
      },
      "source": [
        "type(expr)"
      ],
      "execution_count": 5,
      "outputs": [
        {
          "output_type": "execute_result",
          "data": {
            "text/plain": [
              "sympy.core.add.Add"
            ]
          },
          "metadata": {
            "tags": []
          },
          "execution_count": 5
        }
      ]
    },
    {
      "cell_type": "markdown",
      "metadata": {
        "id": "1jknfURI3B8y"
      },
      "source": [
        "`subs` can be used to replace a symbol with a number, which allows the addition to proceed."
      ]
    },
    {
      "cell_type": "code",
      "metadata": {
        "colab": {
          "base_uri": "https://localhost:8080/",
          "height": 37
        },
        "id": "pife-ZJ63B8y",
        "outputId": "af39333f-50c8-49d9-c7dc-5a377aad93c2"
      },
      "source": [
        "expr.subs(t, 2)"
      ],
      "execution_count": 6,
      "outputs": [
        {
          "output_type": "execute_result",
          "data": {
            "text/latex": "$\\displaystyle 3$",
            "text/plain": [
              "3"
            ]
          },
          "metadata": {
            "tags": []
          },
          "execution_count": 6
        }
      ]
    },
    {
      "cell_type": "markdown",
      "metadata": {
        "id": "mdW10AsT3B8z"
      },
      "source": [
        "`f` is a special class of symbol that represents a function."
      ]
    },
    {
      "cell_type": "code",
      "metadata": {
        "colab": {
          "base_uri": "https://localhost:8080/"
        },
        "id": "Hom2wN7n3B8z",
        "outputId": "e88093f8-f529-4698-95a9-afe6021b97d3"
      },
      "source": [
        "f = sp.Function('f')\n",
        "f"
      ],
      "execution_count": 7,
      "outputs": [
        {
          "output_type": "execute_result",
          "data": {
            "text/plain": [
              "f"
            ]
          },
          "metadata": {
            "tags": []
          },
          "execution_count": 7
        }
      ]
    },
    {
      "cell_type": "markdown",
      "metadata": {
        "id": "1Ik6KOjs3B8z"
      },
      "source": [
        "The type of `f` is `UndefinedFunction`"
      ]
    },
    {
      "cell_type": "code",
      "metadata": {
        "colab": {
          "base_uri": "https://localhost:8080/"
        },
        "id": "Yctl2LbK3B8z",
        "outputId": "6bfcda17-159e-412b-cb74-b69f0bec73f4"
      },
      "source": [
        "type(f)"
      ],
      "execution_count": 8,
      "outputs": [
        {
          "output_type": "execute_result",
          "data": {
            "text/plain": [
              "sympy.core.function.UndefinedFunction"
            ]
          },
          "metadata": {
            "tags": []
          },
          "execution_count": 8
        }
      ]
    },
    {
      "cell_type": "markdown",
      "metadata": {
        "id": "NidXkOUl3B8z"
      },
      "source": [
        "SymPy understands that `f(t)` means `f` evaluated at `t`, but it doesn't try to evaluate it yet."
      ]
    },
    {
      "cell_type": "code",
      "metadata": {
        "colab": {
          "base_uri": "https://localhost:8080/",
          "height": 38
        },
        "id": "rhms-E-M3B8z",
        "outputId": "5c000c4f-4093-402a-c671-0ffb9722fb7d"
      },
      "source": [
        "f(t)"
      ],
      "execution_count": 9,
      "outputs": [
        {
          "output_type": "execute_result",
          "data": {
            "text/latex": "$\\displaystyle f{\\left(t \\right)}$",
            "text/plain": [
              "f(t)"
            ]
          },
          "metadata": {
            "tags": []
          },
          "execution_count": 9
        }
      ]
    },
    {
      "cell_type": "markdown",
      "metadata": {
        "id": "zrZi90Ri3B80"
      },
      "source": [
        "`diff` returns a `Derivative` object that represents the time derivative of `f`"
      ]
    },
    {
      "cell_type": "code",
      "metadata": {
        "colab": {
          "base_uri": "https://localhost:8080/",
          "height": 52
        },
        "id": "jdNoHTs03B80",
        "outputId": "10d74319-c426-4883-938a-3ecd91dbe459"
      },
      "source": [
        "dfdt = sp.diff(f(t), t)\n",
        "dfdt"
      ],
      "execution_count": 10,
      "outputs": [
        {
          "output_type": "execute_result",
          "data": {
            "text/latex": "$\\displaystyle \\frac{d}{d t} f{\\left(t \\right)}$",
            "text/plain": [
              "Derivative(f(t), t)"
            ]
          },
          "metadata": {
            "tags": []
          },
          "execution_count": 10
        }
      ]
    },
    {
      "cell_type": "code",
      "metadata": {
        "colab": {
          "base_uri": "https://localhost:8080/"
        },
        "id": "9466vCjd3B80",
        "outputId": "06532a6f-b572-46c4-ac5b-c178a413b2e0"
      },
      "source": [
        "type(dfdt)"
      ],
      "execution_count": 11,
      "outputs": [
        {
          "output_type": "execute_result",
          "data": {
            "text/plain": [
              "sympy.core.function.Derivative"
            ]
          },
          "metadata": {
            "tags": []
          },
          "execution_count": 11
        }
      ]
    },
    {
      "cell_type": "markdown",
      "metadata": {
        "id": "_fbMsJTv3B80"
      },
      "source": [
        "We need a symbol for `alpha`"
      ]
    },
    {
      "cell_type": "code",
      "metadata": {
        "colab": {
          "base_uri": "https://localhost:8080/",
          "height": 38
        },
        "id": "YhrOLmTJ3B80",
        "outputId": "fefc34fd-ce8b-4ce6-f30e-f51d00b42e2d"
      },
      "source": [
        "alpha = sp.symbols('alpha')\n",
        "alpha"
      ],
      "execution_count": 12,
      "outputs": [
        {
          "output_type": "execute_result",
          "data": {
            "text/latex": "$\\displaystyle \\alpha$",
            "text/plain": [
              "alpha"
            ]
          },
          "metadata": {
            "tags": []
          },
          "execution_count": 12
        }
      ]
    },
    {
      "cell_type": "markdown",
      "metadata": {
        "id": "0IojmUBY3B80"
      },
      "source": [
        "Now we can write the differential equation for proportional growth."
      ]
    },
    {
      "cell_type": "code",
      "metadata": {
        "colab": {
          "base_uri": "https://localhost:8080/",
          "height": 52
        },
        "id": "KSPDTO_h3B80",
        "outputId": "e4a3772b-606c-4dd3-92d2-d30c9af101a2"
      },
      "source": [
        "eq1 = sp.Eq(dfdt, alpha*f(t))\n",
        "eq1"
      ],
      "execution_count": 13,
      "outputs": [
        {
          "output_type": "execute_result",
          "data": {
            "text/latex": "$\\displaystyle \\frac{d}{d t} f{\\left(t \\right)} = \\alpha f{\\left(t \\right)}$",
            "text/plain": [
              "Eq(Derivative(f(t), t), alpha*f(t))"
            ]
          },
          "metadata": {
            "tags": []
          },
          "execution_count": 13
        }
      ]
    },
    {
      "cell_type": "markdown",
      "metadata": {
        "id": "2XxFvjO93B81"
      },
      "source": [
        "And use `dsolve` to solve it.  The result is the general solution."
      ]
    },
    {
      "cell_type": "code",
      "metadata": {
        "colab": {
          "base_uri": "https://localhost:8080/",
          "height": 38
        },
        "id": "ithCOQ_C3B81",
        "outputId": "50e861a2-b5c1-4644-9487-bac14886eaa9"
      },
      "source": [
        "solution_eq = sp.dsolve(eq1)\n",
        "solution_eq"
      ],
      "execution_count": 14,
      "outputs": [
        {
          "output_type": "execute_result",
          "data": {
            "text/latex": "$\\displaystyle f{\\left(t \\right)} = C_{1} e^{\\alpha t}$",
            "text/plain": [
              "Eq(f(t), C1*exp(alpha*t))"
            ]
          },
          "metadata": {
            "tags": []
          },
          "execution_count": 14
        }
      ]
    },
    {
      "cell_type": "markdown",
      "metadata": {
        "id": "FgV-9HcN3B81"
      },
      "source": [
        "We can tell it's a general solution because it contains an unspecified constant, `C1`.\n",
        "\n",
        "In this example, finding the particular solution is easy: we just replace `C1` with `p_0`"
      ]
    },
    {
      "cell_type": "code",
      "metadata": {
        "id": "rUIZ8Weq3B81"
      },
      "source": [
        "C1, p_0 = sp.symbols('C1 p_0')"
      ],
      "execution_count": 15,
      "outputs": []
    },
    {
      "cell_type": "code",
      "metadata": {
        "colab": {
          "base_uri": "https://localhost:8080/",
          "height": 38
        },
        "id": "yexyBtSP3B81",
        "outputId": "80e13d43-58e8-4818-d8ee-4975087a2168"
      },
      "source": [
        "particular = solution_eq.subs(C1, p_0)\n",
        "particular"
      ],
      "execution_count": 16,
      "outputs": [
        {
          "output_type": "execute_result",
          "data": {
            "text/latex": "$\\displaystyle f{\\left(t \\right)} = p_{0} e^{\\alpha t}$",
            "text/plain": [
              "Eq(f(t), p_0*exp(alpha*t))"
            ]
          },
          "metadata": {
            "tags": []
          },
          "execution_count": 16
        }
      ]
    },
    {
      "cell_type": "markdown",
      "metadata": {
        "id": "KD73Y09-3B81"
      },
      "source": [
        "In the next example, we have to work a little harder to find the particular solution."
      ]
    },
    {
      "cell_type": "markdown",
      "metadata": {
        "id": "4GuBR8dz3B81"
      },
      "source": [
        "### Solving the quadratic growth equation \n",
        "\n",
        "We'll use the (r, K) parameterization, so we'll need two more symbols:"
      ]
    },
    {
      "cell_type": "code",
      "metadata": {
        "id": "l_Z8YGAj3B82"
      },
      "source": [
        "r, K = sp.symbols('r K')"
      ],
      "execution_count": 17,
      "outputs": []
    },
    {
      "cell_type": "markdown",
      "metadata": {
        "id": "kfnKc0XL3B82"
      },
      "source": [
        "Now we can write the differential equation."
      ]
    },
    {
      "cell_type": "code",
      "metadata": {
        "colab": {
          "base_uri": "https://localhost:8080/",
          "height": 57
        },
        "id": "K7fShb9A3B82",
        "outputId": "5a00d631-f92b-4d49-d48a-f14704077610"
      },
      "source": [
        "eq2 = sp.Eq(sp.diff(f(t), t), r * f(t) * (1 - f(t)/K))\n",
        "eq2"
      ],
      "execution_count": 18,
      "outputs": [
        {
          "output_type": "execute_result",
          "data": {
            "text/latex": "$\\displaystyle \\frac{d}{d t} f{\\left(t \\right)} = r \\left(1 - \\frac{f{\\left(t \\right)}}{K}\\right) f{\\left(t \\right)}$",
            "text/plain": [
              "Eq(Derivative(f(t), t), r*(1 - f(t)/K)*f(t))"
            ]
          },
          "metadata": {
            "tags": []
          },
          "execution_count": 18
        }
      ]
    },
    {
      "cell_type": "markdown",
      "metadata": {
        "id": "F8yPvjDP3B82"
      },
      "source": [
        "And solve it."
      ]
    },
    {
      "cell_type": "code",
      "metadata": {
        "colab": {
          "base_uri": "https://localhost:8080/",
          "height": 56
        },
        "id": "pSMbuV7J3B82",
        "outputId": "087bc7f1-3401-48cc-f867-526e6a09cae9"
      },
      "source": [
        "solution_eq = sp.dsolve(eq2)\n",
        "solution_eq"
      ],
      "execution_count": 19,
      "outputs": [
        {
          "output_type": "execute_result",
          "data": {
            "text/latex": "$\\displaystyle f{\\left(t \\right)} = \\frac{K e^{C_{1} K + r t}}{e^{C_{1} K + r t} - 1}$",
            "text/plain": [
              "Eq(f(t), K*exp(C1*K + r*t)/(exp(C1*K + r*t) - 1))"
            ]
          },
          "metadata": {
            "tags": []
          },
          "execution_count": 19
        }
      ]
    },
    {
      "cell_type": "markdown",
      "metadata": {
        "id": "CHHkYaO-3B82"
      },
      "source": [
        "The result, `solution_eq`, contains `rhs`, which is the right-hand side of the solution."
      ]
    },
    {
      "cell_type": "code",
      "metadata": {
        "colab": {
          "base_uri": "https://localhost:8080/",
          "height": 56
        },
        "id": "jnldswRI3B82",
        "outputId": "4f1336fe-fd32-419e-c200-55e14ca250ec"
      },
      "source": [
        "general = solution_eq.rhs\n",
        "general"
      ],
      "execution_count": 20,
      "outputs": [
        {
          "output_type": "execute_result",
          "data": {
            "text/latex": "$\\displaystyle \\frac{K e^{C_{1} K + r t}}{e^{C_{1} K + r t} - 1}$",
            "text/plain": [
              "K*exp(C1*K + r*t)/(exp(C1*K + r*t) - 1)"
            ]
          },
          "metadata": {
            "tags": []
          },
          "execution_count": 20
        }
      ]
    },
    {
      "cell_type": "markdown",
      "metadata": {
        "id": "Z1su3Dn63B83"
      },
      "source": [
        "We can evaluate the right-hand side at $t=0$"
      ]
    },
    {
      "cell_type": "code",
      "metadata": {
        "colab": {
          "base_uri": "https://localhost:8080/",
          "height": 56
        },
        "id": "hTLhUVVL3B83",
        "outputId": "df4c81ca-c07c-4eb9-f911-fcfd8be26703"
      },
      "source": [
        "at_0 = general.subs(t, 0)\n",
        "at_0"
      ],
      "execution_count": 21,
      "outputs": [
        {
          "output_type": "execute_result",
          "data": {
            "text/latex": "$\\displaystyle \\frac{K e^{C_{1} K}}{e^{C_{1} K} - 1}$",
            "text/plain": [
              "K*exp(C1*K)/(exp(C1*K) - 1)"
            ]
          },
          "metadata": {
            "tags": []
          },
          "execution_count": 21
        }
      ]
    },
    {
      "cell_type": "markdown",
      "metadata": {
        "id": "3jvnqfyo3B83"
      },
      "source": [
        "Now we want to find the value of `C1` that makes `f(0) = p_0`.\n",
        "\n",
        "So we'll create the equation `at_0 = p_0` and solve for `C1`.  Because this is just an algebraic identity, not a differential equation, we use `solve`, not `dsolve`.\n",
        "\n",
        "The result from `solve` is a list of solutions.  In this case, [we have reason to expect only one solution](https://en.wikipedia.org/wiki/Picard%E2%80%93Lindel%C3%B6f_theorem), but we still get a list, so we have to use the bracket operator, `[0]`, to select the first one."
      ]
    },
    {
      "cell_type": "code",
      "metadata": {
        "colab": {
          "base_uri": "https://localhost:8080/"
        },
        "id": "hphQxkYt3B83",
        "outputId": "d0942044-8e2a-4ed2-e3ac-257a3abb20cc"
      },
      "source": [
        "solutions = sp.solve(sp.Eq(at_0, p_0), C1)\n",
        "type(solutions), len(solutions)"
      ],
      "execution_count": 22,
      "outputs": [
        {
          "output_type": "execute_result",
          "data": {
            "text/plain": [
              "(list, 1)"
            ]
          },
          "metadata": {
            "tags": []
          },
          "execution_count": 22
        }
      ]
    },
    {
      "cell_type": "code",
      "metadata": {
        "colab": {
          "base_uri": "https://localhost:8080/",
          "height": 66
        },
        "id": "-1h56iOm3B83",
        "outputId": "8568e356-a6c9-4948-8882-8ddadb71935c"
      },
      "source": [
        "value_of_C1 = solutions[0]\n",
        "value_of_C1"
      ],
      "execution_count": 23,
      "outputs": [
        {
          "output_type": "execute_result",
          "data": {
            "text/latex": "$\\displaystyle \\frac{\\log{\\left(- \\frac{p_{0}}{K - p_{0}} \\right)}}{K}$",
            "text/plain": [
              "log(-p_0/(K - p_0))/K"
            ]
          },
          "metadata": {
            "tags": []
          },
          "execution_count": 23
        }
      ]
    },
    {
      "cell_type": "markdown",
      "metadata": {
        "id": "PFy2vqaX3B83"
      },
      "source": [
        "Now in the general solution, we want to replace `C1` with the value of `C1` we just figured out."
      ]
    },
    {
      "cell_type": "code",
      "metadata": {
        "colab": {
          "base_uri": "https://localhost:8080/",
          "height": 70
        },
        "id": "xA2DPTwz3B83",
        "outputId": "e35c2d01-8dec-4c0c-9cfd-805f4be460f4"
      },
      "source": [
        "particular = general.subs(C1, value_of_C1)\n",
        "particular"
      ],
      "execution_count": 24,
      "outputs": [
        {
          "output_type": "execute_result",
          "data": {
            "text/latex": "$\\displaystyle - \\frac{K p_{0} e^{r t}}{\\left(K - p_{0}\\right) \\left(- \\frac{p_{0} e^{r t}}{K - p_{0}} - 1\\right)}$",
            "text/plain": [
              "-K*p_0*exp(r*t)/((K - p_0)*(-p_0*exp(r*t)/(K - p_0) - 1))"
            ]
          },
          "metadata": {
            "tags": []
          },
          "execution_count": 24
        }
      ]
    },
    {
      "cell_type": "markdown",
      "metadata": {
        "id": "qyLi9ssM3B84"
      },
      "source": [
        "The result is complicated, but SymPy provides a method that tries to simplify it."
      ]
    },
    {
      "cell_type": "code",
      "metadata": {
        "colab": {
          "base_uri": "https://localhost:8080/",
          "height": 57
        },
        "id": "yXQah09G3B84",
        "outputId": "8df65ae6-cf09-446d-d0c6-a61799a90c89"
      },
      "source": [
        "particular = sp.simplify(particular)\n",
        "particular"
      ],
      "execution_count": 25,
      "outputs": [
        {
          "output_type": "execute_result",
          "data": {
            "text/latex": "$\\displaystyle \\frac{K p_{0} e^{r t}}{K + p_{0} e^{r t} - p_{0}}$",
            "text/plain": [
              "K*p_0*exp(r*t)/(K + p_0*exp(r*t) - p_0)"
            ]
          },
          "metadata": {
            "tags": []
          },
          "execution_count": 25
        }
      ]
    },
    {
      "cell_type": "markdown",
      "metadata": {
        "id": "RxJIZa9n3B84"
      },
      "source": [
        "Often simplicity is in the eye of the beholder, but that's about as simple as this expression gets.\n",
        "\n",
        "Just to double-check, we can evaluate it at `t=0` and confirm that we get `p_0`"
      ]
    },
    {
      "cell_type": "code",
      "metadata": {
        "colab": {
          "base_uri": "https://localhost:8080/",
          "height": 38
        },
        "id": "M-sy2as33B84",
        "outputId": "5125c7f9-72fc-4731-a6b0-96a2e63127dd"
      },
      "source": [
        "particular.subs(t, 0)"
      ],
      "execution_count": 26,
      "outputs": [
        {
          "output_type": "execute_result",
          "data": {
            "text/latex": "$\\displaystyle p_{0}$",
            "text/plain": [
              "p_0"
            ]
          },
          "metadata": {
            "tags": []
          },
          "execution_count": 26
        }
      ]
    },
    {
      "cell_type": "markdown",
      "metadata": {
        "id": "9lHwSbRb3B85"
      },
      "source": [
        "This solution is called the [logistic function](https://en.wikipedia.org/wiki/Population_growth#Logistic_equation).\n",
        "\n",
        "In some places you'll see it written in a different form:\n",
        "\n",
        "$f(t) = \\frac{K}{1 + A e^{-rt}}$\n",
        "\n",
        "where $A = (K - p_0) / p_0$.\n",
        "\n",
        "We can use SymPy to confirm that these two forms are equivalent.  First we represent the alternative version of the logistic function:"
      ]
    },
    {
      "cell_type": "code",
      "metadata": {
        "colab": {
          "base_uri": "https://localhost:8080/",
          "height": 55
        },
        "id": "hkm_TmVd3B85",
        "outputId": "ecdc43af-a0f7-41ca-9a4b-37ab70c82d7b"
      },
      "source": [
        "A = (K - p_0) / p_0\n",
        "A"
      ],
      "execution_count": 27,
      "outputs": [
        {
          "output_type": "execute_result",
          "data": {
            "text/latex": "$\\displaystyle \\frac{K - p_{0}}{p_{0}}$",
            "text/plain": [
              "(K - p_0)/p_0"
            ]
          },
          "metadata": {
            "tags": []
          },
          "execution_count": 27
        }
      ]
    },
    {
      "cell_type": "code",
      "metadata": {
        "colab": {
          "base_uri": "https://localhost:8080/",
          "height": 63
        },
        "id": "5N6iqpli3B85",
        "outputId": "019d3016-1989-4e1c-a6ef-84b4bbc61b99"
      },
      "source": [
        "logistic = K / (1 + A * sp.exp(-r*t))\n",
        "logistic"
      ],
      "execution_count": 28,
      "outputs": [
        {
          "output_type": "execute_result",
          "data": {
            "text/latex": "$\\displaystyle \\frac{K}{1 + \\frac{\\left(K - p_{0}\\right) e^{- r t}}{p_{0}}}$",
            "text/plain": [
              "K/(1 + (K - p_0)*exp(-r*t)/p_0)"
            ]
          },
          "metadata": {
            "tags": []
          },
          "execution_count": 28
        }
      ]
    },
    {
      "cell_type": "markdown",
      "metadata": {
        "id": "ruxYAMuS3B86"
      },
      "source": [
        "To see whether two expressions are equivalent, we can check whether their difference simplifies to 0."
      ]
    },
    {
      "cell_type": "code",
      "metadata": {
        "scrolled": true,
        "colab": {
          "base_uri": "https://localhost:8080/",
          "height": 37
        },
        "id": "OuPMp_V-3B86",
        "outputId": "757ff797-977c-4080-925f-e96fa684581c"
      },
      "source": [
        "sp.simplify(particular - logistic)"
      ],
      "execution_count": 29,
      "outputs": [
        {
          "output_type": "execute_result",
          "data": {
            "text/latex": "$\\displaystyle 0$",
            "text/plain": [
              "0"
            ]
          },
          "metadata": {
            "tags": []
          },
          "execution_count": 29
        }
      ]
    },
    {
      "cell_type": "markdown",
      "metadata": {
        "id": "zLMdIqzz3B86"
      },
      "source": [
        "This test only works one way: if SymPy says the difference reduces to 0, the expressions are definitely equivalent (and not just numerically close).\n",
        "\n",
        "But if SymPy can't find a way to simplify the result to 0, that doesn't necessarily mean there isn't one.  Testing whether two expressions are equivalent is a surprisingly hard problem; in fact, there is no algorithm that can solve it in general."
      ]
    },
    {
      "cell_type": "markdown",
      "metadata": {
        "id": "lxuDSI6O3B86"
      },
      "source": [
        "### Exercises\n",
        "\n",
        "**Exercise:** Solve the quadratic growth equation using the alternative parameterization\n",
        "\n",
        "$\\frac{df(t)}{dt} = \\alpha f(t) + \\beta f^2(t) $"
      ]
    },
    {
      "cell_type": "code",
      "metadata": {
        "id": "MRze_L-y3B86"
      },
      "source": [
        "alpha, beta = sp.symbols('alpha beta')"
      ],
      "execution_count": 31,
      "outputs": []
    },
    {
      "cell_type": "code",
      "metadata": {
        "colab": {
          "base_uri": "https://localhost:8080/",
          "height": 52
        },
        "id": "toE34WSM3B87",
        "outputId": "9a658c2c-a02a-4795-c325-a7dbaf04d7cf"
      },
      "source": [
        "# the Eq function returns an equality object \n",
        "#   that can be passed to other functions like dsolve\n",
        "#  however if you pass it 2 solvable expressions, \n",
        "#      it will return True or False indicating if they are equal\n",
        "\n",
        "# sp.diff returns an object of type sympy.core.function.Derivative\n",
        "#      which also can be passed to other functions like Eq\n",
        "\n",
        "eq3 = sp.Eq(sp.diff(f(t), t), alpha*f(t) + beta*f(t)**2)\n",
        "eq3"
      ],
      "execution_count": 33,
      "outputs": [
        {
          "output_type": "execute_result",
          "data": {
            "text/latex": "$\\displaystyle \\frac{d}{d t} f{\\left(t \\right)} = \\alpha f{\\left(t \\right)} + \\beta f^{2}{\\left(t \\right)}$",
            "text/plain": [
              "Eq(Derivative(f(t), t), alpha*f(t) + beta*f(t)**2)"
            ]
          },
          "metadata": {
            "tags": []
          },
          "execution_count": 33
        }
      ]
    },
    {
      "cell_type": "code",
      "metadata": {
        "colab": {
          "base_uri": "https://localhost:8080/",
          "height": 62
        },
        "id": "MOBJNYyl3B87",
        "outputId": "3e237602-03e4-4dc3-aa72-b83ad630c38b"
      },
      "source": [
        "# dsolve returns the function, when you pass it the derivative\n",
        "solution_eq = sp.dsolve(eq3)\n",
        "solution_eq"
      ],
      "execution_count": 35,
      "outputs": [
        {
          "output_type": "execute_result",
          "data": {
            "text/latex": "$\\displaystyle f{\\left(t \\right)} = \\frac{\\alpha e^{\\alpha \\left(C_{1} + t\\right)}}{\\beta \\left(1 - e^{\\alpha \\left(C_{1} + t\\right)}\\right)}$",
            "text/plain": [
              "Eq(f(t), alpha*exp(alpha*(C1 + t))/(beta*(1 - exp(alpha*(C1 + t)))))"
            ]
          },
          "metadata": {
            "tags": []
          },
          "execution_count": 35
        }
      ]
    },
    {
      "cell_type": "code",
      "metadata": {
        "colab": {
          "base_uri": "https://localhost:8080/",
          "height": 62
        },
        "id": "5EwBMKs_3B87",
        "outputId": "efc257eb-1d31-449f-ed40-f4dcd5f08656"
      },
      "source": [
        "# isolate the right hand side ( convert to a datatype we can use to sub 0 for t )\n",
        "general = solution_eq.rhs\n",
        "general"
      ],
      "execution_count": 36,
      "outputs": [
        {
          "output_type": "execute_result",
          "data": {
            "text/latex": "$\\displaystyle \\frac{\\alpha e^{\\alpha \\left(C_{1} + t\\right)}}{\\beta \\left(1 - e^{\\alpha \\left(C_{1} + t\\right)}\\right)}$",
            "text/plain": [
              "alpha*exp(alpha*(C1 + t))/(beta*(1 - exp(alpha*(C1 + t))))"
            ]
          },
          "metadata": {
            "tags": []
          },
          "execution_count": 36
        }
      ]
    },
    {
      "cell_type": "code",
      "metadata": {
        "id": "5JKqS_kj3B87"
      },
      "source": [
        "# set t to 0\n",
        "at_0 = general.subs(t, 0)"
      ],
      "execution_count": 37,
      "outputs": []
    },
    {
      "cell_type": "code",
      "metadata": {
        "colab": {
          "base_uri": "https://localhost:8080/",
          "height": 66
        },
        "id": "lmPg6FnH3B87",
        "outputId": "a06e90a1-69d1-4c52-eeaf-080a4def219c"
      },
      "source": [
        "# note: p_0 and C1 are symbols, while at_0 is sympy.core.mul.Mul ( expression )\n",
        "solutions = sp.solve(sp.Eq(at_0, p_0), C1)\n",
        "value_of_C1 = solutions[0]\n",
        "value_of_C1"
      ],
      "execution_count": 40,
      "outputs": [
        {
          "output_type": "execute_result",
          "data": {
            "text/latex": "$\\displaystyle \\frac{\\log{\\left(\\frac{\\beta p_{0}}{\\alpha + \\beta p_{0}} \\right)}}{\\alpha}$",
            "text/plain": [
              "log(beta*p_0/(alpha + beta*p_0))/alpha"
            ]
          },
          "metadata": {
            "tags": []
          },
          "execution_count": 40
        }
      ]
    },
    {
      "cell_type": "code",
      "metadata": {
        "colab": {
          "base_uri": "https://localhost:8080/",
          "height": 57
        },
        "id": "IzYdpV7G3B87",
        "outputId": "cc7d8fc8-4057-4fb9-c7c4-ace736ecbdb6"
      },
      "source": [
        "# Now in the general solution, we want to replace C1 with the value of C1 we just figured out.\n",
        "particular = general.subs(C1, value_of_C1)\n",
        "particular.simplify()"
      ],
      "execution_count": 41,
      "outputs": [
        {
          "output_type": "execute_result",
          "data": {
            "text/latex": "$\\displaystyle \\frac{\\alpha p_{0} e^{\\alpha t}}{\\alpha - \\beta p_{0} e^{\\alpha t} + \\beta p_{0}}$",
            "text/plain": [
              "alpha*p_0*exp(alpha*t)/(alpha - beta*p_0*exp(alpha*t) + beta*p_0)"
            ]
          },
          "metadata": {
            "tags": []
          },
          "execution_count": 41
        }
      ]
    },
    {
      "cell_type": "markdown",
      "metadata": {
        "id": "WeXBX9uz3B87"
      },
      "source": [
        "**Exercise:**  Use [WolframAlpha](https://www.wolframalpha.com/) to solve the quadratic growth model, using either or both forms of parameterization:\n",
        "\n",
        "    df(t) / dt = alpha f(t) + beta f(t)^2\n",
        "\n",
        "or\n",
        "\n",
        "    df(t) / dt = r f(t) (1 - f(t)/K)\n",
        "\n",
        "Find the general solution and also the particular solution where `f(0) = p_0`."
      ]
    },
    {
      "cell_type": "markdown",
      "metadata": {
        "id": "uvzJZhiQGTfy"
      },
      "source": [
        "![MSP4911dg86hic364g5gf6000055ah7h354b99h5eg.gif](data:image/gif;base64,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)"
      ]
    }
  ]
}