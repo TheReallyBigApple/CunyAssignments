{
  "nbformat": 4,
  "nbformat_minor": 0,
  "metadata": {
    "kernelspec": {
      "display_name": "Python 3",
      "language": "python",
      "name": "python3"
    },
    "language_info": {
      "codemirror_mode": {
        "name": "ipython",
        "version": 3
      },
      "file_extension": ".py",
      "mimetype": "text/x-python",
      "name": "python",
      "nbconvert_exporter": "python",
      "pygments_lexer": "ipython3",
      "version": "3.8.5"
    },
    "colab": {
      "name": "chap12.ipynb",
      "provenance": [],
      "collapsed_sections": [
        "UHDU4nhkdmaJ",
        "7FBInxVddmaN",
        "uwa9EF5sdmaP",
        "QMJYp3O9dmaS",
        "f9qyEPoAdmaU"
      ],
      "include_colab_link": true
    }
  },
  "cells": [
    {
      "cell_type": "markdown",
      "metadata": {
        "id": "view-in-github",
        "colab_type": "text"
      },
      "source": [
        "<a href=\"https://colab.research.google.com/github/TheReallyBigApple/CunyAssignments/blob/main/Data604/chap12.ipynb\" target=\"_parent\"><img src=\"https://colab.research.google.com/assets/colab-badge.svg\" alt=\"Open In Colab\"/></a>"
      ]
    },
    {
      "cell_type": "markdown",
      "metadata": {
        "id": "YMSRDT15dmaC"
      },
      "source": [
        "#                       CUNY MSDS Data604 Week 5\n",
        "#                            Tom Buonora\n",
        "\n",
        "# Modeling and Simulation in Python\n",
        "\n",
        "Chapter 12\n",
        "\n",
        "Copyright 2017 Allen Downey\n",
        "\n",
        "License: [Creative Commons Attribution 4.0 International](https://creativecommons.org/licenses/by/4.0)\n"
      ]
    },
    {
      "cell_type": "code",
      "metadata": {
        "id": "LFrcmfZzdmaE"
      },
      "source": [
        "# Configure Jupyter so figures appear in the notebook\n",
        "%matplotlib inline\n",
        "\n",
        "# Configure Jupyter to display the assigned value after an assignment\n",
        "%config InteractiveShell.ast_node_interactivity='last_expr_or_assign'\n",
        "\n",
        "# import functions from the modsim.py module\n",
        "from modsim import *"
      ],
      "execution_count": null,
      "outputs": []
    },
    {
      "cell_type": "markdown",
      "metadata": {
        "id": "k2aG_SokdmaF"
      },
      "source": [
        "### Code\n",
        "\n",
        "Here's the code from the previous notebook that we'll need."
      ]
    },
    {
      "cell_type": "code",
      "metadata": {
        "id": "KpV5-NFvdmaF"
      },
      "source": [
        "def make_system(beta, gamma):\n",
        "    \"\"\"Make a system object for the SIR model.\n",
        "    \n",
        "    beta: contact rate in days\n",
        "    gamma: recovery rate in days\n",
        "    \n",
        "    returns: System object\n",
        "    \"\"\"\n",
        "    init = State(S=89, I=1, R=0)\n",
        "    init /= sum(init)\n",
        "\n",
        "    t0 = 0\n",
        "    t_end = 7 * 14\n",
        "\n",
        "    return System(init=init, t0=t0, t_end=t_end,\n",
        "                  beta=beta, gamma=gamma)"
      ],
      "execution_count": null,
      "outputs": []
    },
    {
      "cell_type": "code",
      "metadata": {
        "id": "EudV2ZM1dmaG"
      },
      "source": [
        "def update_func(state, t, system):\n",
        "    \"\"\"Update the SIR model.\n",
        "    \n",
        "    state: State with variables S, I, R\n",
        "    t: time step\n",
        "    system: System with beta and gamma\n",
        "    \n",
        "    returns: State object\n",
        "    \"\"\"\n",
        "    s, i, r = state\n",
        "\n",
        "    infected = system.beta * i * s    \n",
        "    recovered = system.gamma * i\n",
        "    \n",
        "    s -= infected\n",
        "    i += infected - recovered\n",
        "    r += recovered\n",
        "    \n",
        "    return State(S=s, I=i, R=r)"
      ],
      "execution_count": null,
      "outputs": []
    },
    {
      "cell_type": "code",
      "metadata": {
        "id": "B-Fq03ZRdmaG"
      },
      "source": [
        "def run_simulation(system, update_func):\n",
        "    \"\"\"Runs a simulation of the system.\n",
        "        \n",
        "    system: System object\n",
        "    update_func: function that updates state\n",
        "    \n",
        "    returns: TimeFrame\n",
        "    \"\"\"\n",
        "    frame = TimeFrame(columns=system.init.index)\n",
        "    frame.row[system.t0] = system.init\n",
        "    \n",
        "    for t in linrange(system.t0, system.t_end):\n",
        "        frame.row[t+1] = update_func(frame.row[t], t, system)\n",
        "    \n",
        "    return frame"
      ],
      "execution_count": null,
      "outputs": []
    },
    {
      "cell_type": "markdown",
      "metadata": {
        "id": "CtKXkUNidmaG"
      },
      "source": [
        "### Metrics"
      ]
    },
    {
      "cell_type": "markdown",
      "metadata": {
        "id": "WEJiTRFudmaH"
      },
      "source": [
        "Given the results, we can compute metrics that quantify whatever we are interested in, like the total number of sick students, for example."
      ]
    },
    {
      "cell_type": "code",
      "metadata": {
        "id": "FQ3qv2-odmaH"
      },
      "source": [
        "def calc_total_infected(results):\n",
        "    \"\"\"Fraction of population infected during the simulation.\n",
        "    \n",
        "    results: DataFrame with columns S, I, R\n",
        "    \n",
        "    returns: fraction of population\n",
        "    \"\"\"\n",
        "    return get_first_value(results.S) - get_last_value(results.S)"
      ],
      "execution_count": null,
      "outputs": []
    },
    {
      "cell_type": "markdown",
      "metadata": {
        "id": "aWRrSleTdmaH"
      },
      "source": [
        "Here's an example.|"
      ]
    },
    {
      "cell_type": "code",
      "metadata": {
        "id": "GQab1sSidmaH",
        "outputId": "a5f82415-4c57-4d00-e455-81f54be7dc22"
      },
      "source": [
        "beta = 0.333\n",
        "gamma = 0.25\n",
        "system = make_system(beta, gamma)\n",
        "\n",
        "results = run_simulation(system, update_func)\n",
        "print(beta, gamma, calc_total_infected(results))"
      ],
      "execution_count": null,
      "outputs": [
        {
          "output_type": "stream",
          "text": [
            "0.333 0.25 0.46716293183605073\n"
          ],
          "name": "stdout"
        }
      ]
    },
    {
      "cell_type": "markdown",
      "metadata": {
        "id": "fRrpUiABdmaI"
      },
      "source": [
        "**Exercise:** Write functions that take a `TimeFrame` object as a parameter and compute the other metrics mentioned in the book:\n",
        "\n",
        "1.  The fraction of students who are sick at the peak of the outbreak.\n",
        "\n",
        "2.  The day the outbreak peaks.\n",
        "\n",
        "3.  The fraction of students who are sick at the end of the semester.\n",
        "\n",
        "Note: Not all of these functions require the `System` object, but when you write a set of related functons, it is often convenient if they all take the same parameters.\n",
        "\n",
        "Hint:  If you have a `TimeSeries` called `I`, you can compute the largest value of the series like this:\n",
        "\n",
        "    I.max()\n",
        "\n",
        "And the index of the largest value like this:\n",
        "\n",
        "    I.idxmax()\n",
        "\n",
        "You can read about these functions in the `Series` [documentation](https://pandas.pydata.org/pandas-docs/stable/generated/pandas.Series.html)."
      ]
    },
    {
      "cell_type": "code",
      "metadata": {
        "id": "o1VugBXjdmaI"
      },
      "source": [
        "def calc_peak_infections(t):\n",
        "    return t.I.max()"
      ],
      "execution_count": null,
      "outputs": []
    },
    {
      "cell_type": "code",
      "metadata": {
        "id": "DfLELk1ddmaJ"
      },
      "source": [
        "def calc_peak_infection_day(t):\n",
        "    return t.I.idxmax()"
      ],
      "execution_count": null,
      "outputs": []
    },
    {
      "cell_type": "code",
      "metadata": {
        "id": "2LQknwWadmaJ"
      },
      "source": [
        "def calc_last_day_infections(t):\n",
        "    return t.I.idxmax()"
      ],
      "execution_count": null,
      "outputs": []
    },
    {
      "cell_type": "markdown",
      "metadata": {
        "id": "UHDU4nhkdmaJ"
      },
      "source": [
        "### What if?"
      ]
    },
    {
      "cell_type": "markdown",
      "metadata": {
        "id": "3wItAdzBdmaJ"
      },
      "source": [
        "We can use this model to evaluate \"what if\" scenarios.  For example, this function models the effect of immunization by moving some fraction of the population from S to R before the simulation starts."
      ]
    },
    {
      "cell_type": "code",
      "metadata": {
        "id": "8BZM4LLVdmaJ"
      },
      "source": [
        "def add_immunization(system, fraction):\n",
        "    \"\"\"Immunize a fraction of the population.\n",
        "    \n",
        "    Moves the given fraction from S to R.\n",
        "    \n",
        "    system: System object\n",
        "    fraction: number from 0 to 1\n",
        "    \"\"\"\n",
        "    system.init.S -= fraction\n",
        "    system.init.R += fraction"
      ],
      "execution_count": null,
      "outputs": []
    },
    {
      "cell_type": "markdown",
      "metadata": {
        "id": "GdfEHXUbdmaK"
      },
      "source": [
        "Let's start again with the system we used in the previous sections."
      ]
    },
    {
      "cell_type": "code",
      "metadata": {
        "id": "e5GV4WzZdmaK",
        "outputId": "13e93f93-1131-4931-b5bd-c2f192358335"
      },
      "source": [
        "tc = 3      # time between contacts in days \n",
        "tr = 4      # recovery time in days\n",
        "\n",
        "beta = 1 / tc      # contact rate in per day\n",
        "gamma = 1 / tr     # recovery rate in per day\n",
        "\n",
        "system = make_system(beta, gamma)"
      ],
      "execution_count": null,
      "outputs": [
        {
          "output_type": "execute_result",
          "data": {
            "text/html": [
              "<div>\n",
              "<style scoped>\n",
              "    .dataframe tbody tr th:only-of-type {\n",
              "        vertical-align: middle;\n",
              "    }\n",
              "\n",
              "    .dataframe tbody tr th {\n",
              "        vertical-align: top;\n",
              "    }\n",
              "\n",
              "    .dataframe thead th {\n",
              "        text-align: right;\n",
              "    }\n",
              "</style>\n",
              "<table border=\"1\" class=\"dataframe\">\n",
              "  <thead>\n",
              "    <tr style=\"text-align: right;\">\n",
              "      <th></th>\n",
              "      <th>values</th>\n",
              "    </tr>\n",
              "  </thead>\n",
              "  <tbody>\n",
              "    <tr>\n",
              "      <th>init</th>\n",
              "      <td>S    0.988889\n",
              "I    0.011111\n",
              "R    0.000000\n",
              "dtyp...</td>\n",
              "    </tr>\n",
              "    <tr>\n",
              "      <th>t0</th>\n",
              "      <td>0</td>\n",
              "    </tr>\n",
              "    <tr>\n",
              "      <th>t_end</th>\n",
              "      <td>98</td>\n",
              "    </tr>\n",
              "    <tr>\n",
              "      <th>beta</th>\n",
              "      <td>0.333333</td>\n",
              "    </tr>\n",
              "    <tr>\n",
              "      <th>gamma</th>\n",
              "      <td>0.25</td>\n",
              "    </tr>\n",
              "  </tbody>\n",
              "</table>\n",
              "</div>"
            ],
            "text/plain": [
              "init     S    0.988889\n",
              "I    0.011111\n",
              "R    0.000000\n",
              "dtyp...\n",
              "t0                                                       0\n",
              "t_end                                                   98\n",
              "beta                                              0.333333\n",
              "gamma                                                 0.25\n",
              "dtype: object"
            ]
          },
          "metadata": {
            "tags": []
          },
          "execution_count": 64
        }
      ]
    },
    {
      "cell_type": "markdown",
      "metadata": {
        "id": "KgQWB19WdmaK"
      },
      "source": [
        "And run the model without immunization."
      ]
    },
    {
      "cell_type": "code",
      "metadata": {
        "id": "ka6bviDZdmaK",
        "outputId": "49b23d68-79a1-430a-85c0-18799b053b56"
      },
      "source": [
        "results = run_simulation(system, update_func)\n",
        "calc_total_infected(results)"
      ],
      "execution_count": null,
      "outputs": [
        {
          "output_type": "execute_result",
          "data": {
            "text/plain": [
              "0.468320811028781"
            ]
          },
          "metadata": {
            "tags": []
          },
          "execution_count": 65
        }
      ]
    },
    {
      "cell_type": "markdown",
      "metadata": {
        "id": "CmJvwhG-dmaL"
      },
      "source": [
        "Now with 10% immunization."
      ]
    },
    {
      "cell_type": "code",
      "metadata": {
        "id": "ueFv-MG0dmaL",
        "outputId": "a4cf71f0-645d-4703-9876-72df1d58e556"
      },
      "source": [
        "system2 = make_system(beta, gamma)\n",
        "add_immunization(system2, 0.1)\n",
        "results2 = run_simulation(system2, update_func)\n",
        "calc_total_infected(results2)"
      ],
      "execution_count": null,
      "outputs": [
        {
          "output_type": "execute_result",
          "data": {
            "text/plain": [
              "0.30650802853979753"
            ]
          },
          "metadata": {
            "tags": []
          },
          "execution_count": 66
        }
      ]
    },
    {
      "cell_type": "markdown",
      "metadata": {
        "id": "YiyNiCeqdmaL"
      },
      "source": [
        "10% immunization leads to a drop in infections of 16 percentage points.\n",
        "\n",
        "Here's what the time series looks like for S, with and without immunization."
      ]
    },
    {
      "cell_type": "code",
      "metadata": {
        "id": "CRwJU7T6dmaL",
        "outputId": "8477f0cc-0066-4e2f-cbd6-f4f94a9134b4"
      },
      "source": [
        "plot(results.S, '-', label='No immunization')\n",
        "plot(results2.S, '--', label='10% immunization')\n",
        "\n",
        "decorate(xlabel='Time (days)',\n",
        "         ylabel='Fraction susceptible')\n",
        "\n",
        "savefig('C:\\\\Users\\\\arono\\\\CUNY\\\\DATA604_Python\\\\Homework\\\\chap12-fig01.pdf')"
      ],
      "execution_count": null,
      "outputs": [
        {
          "output_type": "stream",
          "text": [
            "Saving figure to file C:\\Users\\arono\\CUNY\\DATA604_Python\\Homework\\chap12-fig01.pdf\n"
          ],
          "name": "stdout"
        },
        {
          "output_type": "display_data",
          "data": {
            "image/png": "[encoded data removed]",
            "text/plain": [
              "<Figure size 432x288 with 1 Axes>"
            ]
          },
          "metadata": {
            "tags": [],
            "needs_background": "light"
          }
        }
      ]
    },
    {
      "cell_type": "markdown",
      "metadata": {
        "id": "9f70hdhhdmaM"
      },
      "source": [
        "Now we can sweep through a range of values for the fraction of the population who are immunized."
      ]
    },
    {
      "cell_type": "code",
      "metadata": {
        "id": "5PsYjt5jdmaM",
        "outputId": "c397fbbd-bc6c-4017-a72a-9149b00578c7"
      },
      "source": [
        "immunize_array = linspace(0, 1, 11)\n",
        "for fraction in immunize_array:\n",
        "    system = make_system(beta, gamma)\n",
        "    add_immunization(system, fraction)\n",
        "    results = run_simulation(system, update_func)\n",
        "    print(fraction, calc_total_infected(results))"
      ],
      "execution_count": null,
      "outputs": [
        {
          "output_type": "stream",
          "text": [
            "0.0 0.468320811028781\n",
            "0.1 0.30650802853979753\n",
            "0.2 0.16136545700638427\n",
            "0.30000000000000004 0.0728155898425179\n",
            "0.4 0.03552021675299155\n",
            "0.5 0.019688715782459176\n",
            "0.6000000000000001 0.011622057998337987\n",
            "0.7000000000000001 0.006838737800619332\n",
            "0.8 0.003696496253713877\n",
            "0.9 0.0014815326722661948\n",
            "1.0 -0.00016121210941239666\n"
          ],
          "name": "stdout"
        }
      ]
    },
    {
      "cell_type": "markdown",
      "metadata": {
        "id": "4bYv8vuwdmaM"
      },
      "source": [
        "This function does the same thing and stores the results in a `Sweep` object."
      ]
    },
    {
      "cell_type": "code",
      "metadata": {
        "id": "RJ5na-eRdmaM"
      },
      "source": [
        "def sweep_immunity(immunize_array):\n",
        "    \"\"\"Sweeps a range of values for immunity.\n",
        "    \n",
        "    immunize_array: array of fraction immunized\n",
        "    \n",
        "    returns: Sweep object\n",
        "    \"\"\"\n",
        "    sweep = SweepSeries()\n",
        "    \n",
        "    for fraction in immunize_array:\n",
        "        system = make_system(beta, gamma)\n",
        "        add_immunization(system, fraction)\n",
        "        results = run_simulation(system, update_func)\n",
        "        sweep[fraction] = calc_total_infected(results)\n",
        "        \n",
        "    return sweep"
      ],
      "execution_count": null,
      "outputs": []
    },
    {
      "cell_type": "markdown",
      "metadata": {
        "id": "d8SWq-tmdmaM"
      },
      "source": [
        "Here's how we run it."
      ]
    },
    {
      "cell_type": "code",
      "metadata": {
        "scrolled": true,
        "id": "N3KCJCDQdmaN",
        "outputId": "d4b98452-5e4b-4cad-f030-0cd282874d6a"
      },
      "source": [
        "immunize_array = linspace(0, 1, 21)\n",
        "infected_sweep = sweep_immunity(immunize_array)"
      ],
      "execution_count": null,
      "outputs": [
        {
          "output_type": "execute_result",
          "data": {
            "text/html": [
              "<div>\n",
              "<style scoped>\n",
              "    .dataframe tbody tr th:only-of-type {\n",
              "        vertical-align: middle;\n",
              "    }\n",
              "\n",
              "    .dataframe tbody tr th {\n",
              "        vertical-align: top;\n",
              "    }\n",
              "\n",
              "    .dataframe thead th {\n",
              "        text-align: right;\n",
              "    }\n",
              "</style>\n",
              "<table border=\"1\" class=\"dataframe\">\n",
              "  <thead>\n",
              "    <tr style=\"text-align: right;\">\n",
              "      <th></th>\n",
              "      <th>values</th>\n",
              "    </tr>\n",
              "  </thead>\n",
              "  <tbody>\n",
              "    <tr>\n",
              "      <th>0.00</th>\n",
              "      <td>0.468321</td>\n",
              "    </tr>\n",
              "    <tr>\n",
              "      <th>0.05</th>\n",
              "      <td>0.387288</td>\n",
              "    </tr>\n",
              "    <tr>\n",
              "      <th>0.10</th>\n",
              "      <td>0.306508</td>\n",
              "    </tr>\n",
              "    <tr>\n",
              "      <th>0.15</th>\n",
              "      <td>0.229234</td>\n",
              "    </tr>\n",
              "    <tr>\n",
              "      <th>0.20</th>\n",
              "      <td>0.161365</td>\n",
              "    </tr>\n",
              "    <tr>\n",
              "      <th>0.25</th>\n",
              "      <td>0.108791</td>\n",
              "    </tr>\n",
              "    <tr>\n",
              "      <th>0.30</th>\n",
              "      <td>0.072816</td>\n",
              "    </tr>\n",
              "    <tr>\n",
              "      <th>0.35</th>\n",
              "      <td>0.049938</td>\n",
              "    </tr>\n",
              "    <tr>\n",
              "      <th>0.40</th>\n",
              "      <td>0.035520</td>\n",
              "    </tr>\n",
              "    <tr>\n",
              "      <th>0.45</th>\n",
              "      <td>0.026121</td>\n",
              "    </tr>\n",
              "    <tr>\n",
              "      <th>0.50</th>\n",
              "      <td>0.019689</td>\n",
              "    </tr>\n",
              "    <tr>\n",
              "      <th>0.55</th>\n",
              "      <td>0.015072</td>\n",
              "    </tr>\n",
              "    <tr>\n",
              "      <th>0.60</th>\n",
              "      <td>0.011622</td>\n",
              "    </tr>\n",
              "    <tr>\n",
              "      <th>0.65</th>\n",
              "      <td>0.008956</td>\n",
              "    </tr>\n",
              "    <tr>\n",
              "      <th>0.70</th>\n",
              "      <td>0.006839</td>\n",
              "    </tr>\n",
              "    <tr>\n",
              "      <th>0.75</th>\n",
              "      <td>0.005119</td>\n",
              "    </tr>\n",
              "    <tr>\n",
              "      <th>0.80</th>\n",
              "      <td>0.003696</td>\n",
              "    </tr>\n",
              "    <tr>\n",
              "      <th>0.85</th>\n",
              "      <td>0.002500</td>\n",
              "    </tr>\n",
              "    <tr>\n",
              "      <th>0.90</th>\n",
              "      <td>0.001482</td>\n",
              "    </tr>\n",
              "    <tr>\n",
              "      <th>0.95</th>\n",
              "      <td>0.000603</td>\n",
              "    </tr>\n",
              "    <tr>\n",
              "      <th>1.00</th>\n",
              "      <td>-0.000161</td>\n",
              "    </tr>\n",
              "  </tbody>\n",
              "</table>\n",
              "</div>"
            ],
            "text/plain": [
              "0.00    0.468321\n",
              "0.05    0.387288\n",
              "0.10    0.306508\n",
              "0.15    0.229234\n",
              "0.20    0.161365\n",
              "0.25    0.108791\n",
              "0.30    0.072816\n",
              "0.35    0.049938\n",
              "0.40    0.035520\n",
              "0.45    0.026121\n",
              "0.50    0.019689\n",
              "0.55    0.015072\n",
              "0.60    0.011622\n",
              "0.65    0.008956\n",
              "0.70    0.006839\n",
              "0.75    0.005119\n",
              "0.80    0.003696\n",
              "0.85    0.002500\n",
              "0.90    0.001482\n",
              "0.95    0.000603\n",
              "1.00   -0.000161\n",
              "dtype: float64"
            ]
          },
          "metadata": {
            "tags": []
          },
          "execution_count": 70
        }
      ]
    },
    {
      "cell_type": "markdown",
      "metadata": {
        "id": "4Hw4FdYudmaN"
      },
      "source": [
        "And here's what the results look like."
      ]
    },
    {
      "cell_type": "code",
      "metadata": {
        "id": "6_WFXexTdmaN",
        "outputId": "9df9449a-3e86-4486-d0e1-4c73d8c8e815"
      },
      "source": [
        "plot(infected_sweep)\n",
        "\n",
        "decorate(xlabel='Fraction immunized',\n",
        "         ylabel='Total fraction infected',\n",
        "         title='Fraction infected vs. immunization rate',\n",
        "         legend=False)\n",
        "\n",
        "\n",
        "savefig('C:\\\\Users\\\\arono\\\\CUNY\\\\DATA604_Python\\\\Homework\\\\chap12-fig02.pdf')\n"
      ],
      "execution_count": null,
      "outputs": [
        {
          "output_type": "stream",
          "text": [
            "Saving figure to file C:\\Users\\arono\\CUNY\\DATA604_Python\\Homework\\chap12-fig02.pdf\n"
          ],
          "name": "stdout"
        },
        {
          "output_type": "display_data",
          "data": {
            "image/png": "[encoded data removed]",
            "text/plain": [
              "<Figure size 432x288 with 1 Axes>"
            ]
          },
          "metadata": {
            "tags": [],
            "needs_background": "light"
          }
        }
      ]
    },
    {
      "cell_type": "markdown",
      "metadata": {
        "id": "l0n6wwBpdmaN"
      },
      "source": [
        "If 40% of the population is immunized, less than 4% of the population gets sick."
      ]
    },
    {
      "cell_type": "markdown",
      "metadata": {
        "id": "7FBInxVddmaN"
      },
      "source": [
        "### Logistic function"
      ]
    },
    {
      "cell_type": "markdown",
      "metadata": {
        "id": "DC7Bw9i3dmaN"
      },
      "source": [
        "To model the effect of a hand-washing campaign, I'll use a [generalized logistic function](https://en.wikipedia.org/wiki/Generalised_logistic_function) (GLF), which is a convenient function for modeling curves that have a generally sigmoid shape.  The parameters of the GLF correspond to various features of the curve in a way that makes it easy to find a function that has the shape you want, based on data or background information about the scenario."
      ]
    },
    {
      "cell_type": "code",
      "metadata": {
        "id": "IeHXhuPGdmaO"
      },
      "source": [
        "def logistic(x, A=0, B=1, C=1, M=0, K=1, Q=1, nu=1):\n",
        "    \"\"\"Computes the generalize logistic function.\n",
        "    \n",
        "    A: controls the lower bound\n",
        "    B: controls the steepness of the transition \n",
        "    C: not all that useful, AFAIK\n",
        "    M: controls the location of the transition\n",
        "    K: controls the upper bound\n",
        "    Q: shift the transition left or right\n",
        "    nu: affects the symmetry of the transition\n",
        "    \n",
        "    returns: float or array\n",
        "    \"\"\"\n",
        "    exponent = -B * (x - M)\n",
        "    denom = C + Q * exp(exponent)\n",
        "    return A + (K-A) / denom ** (1/nu)"
      ],
      "execution_count": null,
      "outputs": []
    },
    {
      "cell_type": "markdown",
      "metadata": {
        "id": "Nj4132yTdmaO"
      },
      "source": [
        "The following array represents the range of possible spending."
      ]
    },
    {
      "cell_type": "code",
      "metadata": {
        "id": "tXZEwvKudmaO",
        "outputId": "5434e61e-2901-4e85-85cf-958f06c8197c"
      },
      "source": [
        "spending = linspace(0, 1200, 21)"
      ],
      "execution_count": null,
      "outputs": [
        {
          "output_type": "execute_result",
          "data": {
            "text/plain": [
              "array([   0.,   60.,  120.,  180.,  240.,  300.,  360.,  420.,  480.,\n",
              "        540.,  600.,  660.,  720.,  780.,  840.,  900.,  960., 1020.,\n",
              "       1080., 1140., 1200.])"
            ]
          },
          "metadata": {
            "tags": []
          },
          "execution_count": 73
        }
      ]
    },
    {
      "cell_type": "markdown",
      "metadata": {
        "id": "sIplXAsVdmaO"
      },
      "source": [
        "`compute_factor` computes the reduction in `beta` for a given level of campaign spending.\n",
        "\n",
        "`M` is chosen so the transition happens around \\$500.\n",
        "\n",
        "`K` is the maximum reduction in `beta`, 20%.\n",
        "\n",
        "`B` is chosen by trial and error to yield a curve that seems feasible."
      ]
    },
    {
      "cell_type": "code",
      "metadata": {
        "id": "-fhHYnw9dmaO"
      },
      "source": [
        "def compute_factor(spending):\n",
        "    \"\"\"Reduction factor as a function of spending.\n",
        "    \n",
        "    spending: dollars from 0 to 1200\n",
        "    \n",
        "    returns: fractional reduction in beta\n",
        "    \"\"\"\n",
        "    return logistic(spending, M=500, K=0.2, B=0.01)"
      ],
      "execution_count": null,
      "outputs": []
    },
    {
      "cell_type": "markdown",
      "metadata": {
        "id": "tI7usSnYdmaO"
      },
      "source": [
        "Here's what it looks like."
      ]
    },
    {
      "cell_type": "code",
      "metadata": {
        "id": "KNBcw8D5dmaP",
        "outputId": "b9444331-5f27-4218-bb4e-21ae5806b0f5"
      },
      "source": [
        "percent_reduction = compute_factor(spending) * 100\n",
        "\n",
        "plot(spending, percent_reduction)\n",
        "\n",
        "decorate(xlabel='Hand-washing campaign spending (USD)',\n",
        "         ylabel='Percent reduction in infection rate',\n",
        "         title='Effect of hand washing on infection rate',\n",
        "         legend=False)"
      ],
      "execution_count": null,
      "outputs": [
        {
          "output_type": "display_data",
          "data": {
            "image/png": "[encoded data removed]",
            "text/plain": [
              "<Figure size 432x288 with 1 Axes>"
            ]
          },
          "metadata": {
            "tags": [],
            "needs_background": "light"
          }
        }
      ]
    },
    {
      "cell_type": "markdown",
      "metadata": {
        "id": "c8e_LvdFdmaP"
      },
      "source": [
        "**Exercise:** Modify the parameters `M`, `K`, and `B`, and see what effect they have on the shape of the curve.  Read about the [generalized logistic function on Wikipedia](https://en.wikipedia.org/wiki/Generalised_logistic_function).  Modify the other parameters and see what effect they have."
      ]
    },
    {
      "cell_type": "code",
      "metadata": {
        "id": "_rLcC0FddmaP",
        "outputId": "6790653a-3d28-47e6-daf7-fca06c795e88"
      },
      "source": [
        "# B really does effect curvature\n",
        "# Q is a minor tweak\n",
        "\n",
        "def compute_factor(spending):\n",
        "    return logistic(spending, M=1000, K=0.2, B=0.85, Q=150)\n",
        "\n",
        "percent_reduction = compute_factor(spending) * 100\n",
        "\n",
        "plot(spending, percent_reduction)\n",
        "\n",
        "decorate(xlabel='Hand-washing campaign spending (USD)',\n",
        "         ylabel='Percent reduction in infection rate',\n",
        "         title='Effect of hand washing on infection rate',\n",
        "         legend=False)"
      ],
      "execution_count": null,
      "outputs": [
        {
          "output_type": "stream",
          "text": [
            "<ipython-input-72-3b865d4f12e7>:15: RuntimeWarning: overflow encountered in exp\n",
            "  denom = C + Q * exp(exponent)\n"
          ],
          "name": "stderr"
        },
        {
          "output_type": "display_data",
          "data": {
            "image/png": "[encoded data removed]",
            "text/plain": [
              "<Figure size 432x288 with 1 Axes>"
            ]
          },
          "metadata": {
            "tags": [],
            "needs_background": "light"
          }
        }
      ]
    },
    {
      "cell_type": "markdown",
      "metadata": {
        "id": "uwa9EF5sdmaP"
      },
      "source": [
        "### Hand washing"
      ]
    },
    {
      "cell_type": "markdown",
      "metadata": {
        "id": "Ca9MzGbkdmaQ"
      },
      "source": [
        "Now we can model the effect of a hand-washing campaign by modifying `beta`"
      ]
    },
    {
      "cell_type": "code",
      "metadata": {
        "id": "lA8-T8MMdmaQ"
      },
      "source": [
        "def add_hand_washing(system, spending):\n",
        "    \"\"\"Modifies system to model the effect of hand washing.\n",
        "    \n",
        "    system: System object\n",
        "    spending: campaign spending in USD\n",
        "    \"\"\"\n",
        "    factor = compute_factor(spending)\n",
        "    system.beta *= (1 - factor)"
      ],
      "execution_count": null,
      "outputs": []
    },
    {
      "cell_type": "markdown",
      "metadata": {
        "id": "4_b1qeeIdmaQ"
      },
      "source": [
        "Let's start with the same values of `beta` and `gamma` we've been using."
      ]
    },
    {
      "cell_type": "code",
      "metadata": {
        "id": "9n-S3QCjdmaQ",
        "outputId": "bca3c958-4668-486f-ef7f-6c7c430ddf65"
      },
      "source": [
        "tc = 3      # time between contacts in days \n",
        "tr = 4      # recovery time in days\n",
        "\n",
        "beta = 1 / tc      # contact rate in per day\n",
        "gamma = 1 / tr     # recovery rate in per day\n",
        "\n",
        "beta, gamma"
      ],
      "execution_count": null,
      "outputs": [
        {
          "output_type": "execute_result",
          "data": {
            "text/plain": [
              "(0.3333333333333333, 0.25)"
            ]
          },
          "metadata": {
            "tags": []
          },
          "execution_count": 78
        }
      ]
    },
    {
      "cell_type": "markdown",
      "metadata": {
        "id": "-xbMvUi8dmaQ"
      },
      "source": [
        "Now we can sweep different levels of campaign spending."
      ]
    },
    {
      "cell_type": "code",
      "metadata": {
        "id": "6WswkZwcdmaQ",
        "outputId": "e2b82b8f-4b46-462d-c699-734e81f36944"
      },
      "source": [
        "spending_array = linspace(0, 1200, 13)\n",
        "\n",
        "for spending in spending_array:\n",
        "    system = make_system(beta, gamma)\n",
        "    add_hand_washing(system, spending)\n",
        "    results = run_simulation(system, update_func)\n",
        "    print(spending, system.beta, calc_total_infected(results))"
      ],
      "execution_count": null,
      "outputs": [
        {
          "output_type": "stream",
          "text": [
            "<ipython-input-72-3b865d4f12e7>:15: RuntimeWarning: overflow encountered in exp\n",
            "  denom = C + Q * exp(exponent)\n"
          ],
          "name": "stderr"
        },
        {
          "output_type": "stream",
          "text": [
            "0.0 0.3333333333333333 0.468320811028781\n",
            "100.0 0.3333333333333333 0.468320811028781\n",
            "200.0 0.3333333333333333 0.468320811028781\n",
            "300.0 0.3333333333333333 0.468320811028781\n",
            "400.0 0.3333333333333333 0.468320811028781\n",
            "500.0 0.3333333333333333 0.468320811028781\n",
            "600.0 0.3333333333333333 0.468320811028781\n",
            "700.0 0.3333333333333333 0.468320811028781\n",
            "800.0 0.3333333333333333 0.468320811028781\n",
            "900.0 0.3333333333333333 0.468320811028781\n",
            "1000.0 0.3328918322295805 0.46678655394313107\n",
            "1100.0 0.26666666666666666 0.18734121837761575\n",
            "1200.0 0.26666666666666666 0.18734121837761575\n"
          ],
          "name": "stdout"
        }
      ]
    },
    {
      "cell_type": "markdown",
      "metadata": {
        "id": "8pxCe0zYdmaR"
      },
      "source": [
        "Here's a function that sweeps a range of spending and stores the results in a `SweepSeries`."
      ]
    },
    {
      "cell_type": "code",
      "metadata": {
        "id": "2OaA3NEFdmaR"
      },
      "source": [
        "def sweep_hand_washing(spending_array):\n",
        "    \"\"\"Run simulations with a range of spending.\n",
        "    \n",
        "    spending_array: array of dollars from 0 to 1200\n",
        "    \n",
        "    returns: Sweep object\n",
        "    \"\"\"\n",
        "    sweep = SweepSeries()\n",
        "    \n",
        "    for spending in spending_array:\n",
        "        system = make_system(beta, gamma)\n",
        "        add_hand_washing(system, spending)\n",
        "        results = run_simulation(system, update_func)\n",
        "        sweep[spending] = calc_total_infected(results)\n",
        "        \n",
        "    return sweep"
      ],
      "execution_count": null,
      "outputs": []
    },
    {
      "cell_type": "markdown",
      "metadata": {
        "id": "yzxeNGuxdmaR"
      },
      "source": [
        "Here's how we run it."
      ]
    },
    {
      "cell_type": "code",
      "metadata": {
        "id": "EiQcVtq9dmaR",
        "outputId": "b0785040-ff42-4773-bb9f-01a236f345cf"
      },
      "source": [
        "spending_array = linspace(0, 1200, 20)\n",
        "infected_sweep = sweep_hand_washing(spending_array)"
      ],
      "execution_count": null,
      "outputs": [
        {
          "output_type": "stream",
          "text": [
            "<ipython-input-72-3b865d4f12e7>:15: RuntimeWarning: overflow encountered in exp\n",
            "  denom = C + Q * exp(exponent)\n"
          ],
          "name": "stderr"
        },
        {
          "output_type": "execute_result",
          "data": {
            "text/html": [
              "<div>\n",
              "<style scoped>\n",
              "    .dataframe tbody tr th:only-of-type {\n",
              "        vertical-align: middle;\n",
              "    }\n",
              "\n",
              "    .dataframe tbody tr th {\n",
              "        vertical-align: top;\n",
              "    }\n",
              "\n",
              "    .dataframe thead th {\n",
              "        text-align: right;\n",
              "    }\n",
              "</style>\n",
              "<table border=\"1\" class=\"dataframe\">\n",
              "  <thead>\n",
              "    <tr style=\"text-align: right;\">\n",
              "      <th></th>\n",
              "      <th>values</th>\n",
              "    </tr>\n",
              "  </thead>\n",
              "  <tbody>\n",
              "    <tr>\n",
              "      <th>0.000000</th>\n",
              "      <td>0.468321</td>\n",
              "    </tr>\n",
              "    <tr>\n",
              "      <th>63.157895</th>\n",
              "      <td>0.468321</td>\n",
              "    </tr>\n",
              "    <tr>\n",
              "      <th>126.315789</th>\n",
              "      <td>0.468321</td>\n",
              "    </tr>\n",
              "    <tr>\n",
              "      <th>189.473684</th>\n",
              "      <td>0.468321</td>\n",
              "    </tr>\n",
              "    <tr>\n",
              "      <th>252.631579</th>\n",
              "      <td>0.468321</td>\n",
              "    </tr>\n",
              "    <tr>\n",
              "      <th>315.789474</th>\n",
              "      <td>0.468321</td>\n",
              "    </tr>\n",
              "    <tr>\n",
              "      <th>378.947368</th>\n",
              "      <td>0.468321</td>\n",
              "    </tr>\n",
              "    <tr>\n",
              "      <th>442.105263</th>\n",
              "      <td>0.468321</td>\n",
              "    </tr>\n",
              "    <tr>\n",
              "      <th>505.263158</th>\n",
              "      <td>0.468321</td>\n",
              "    </tr>\n",
              "    <tr>\n",
              "      <th>568.421053</th>\n",
              "      <td>0.468321</td>\n",
              "    </tr>\n",
              "    <tr>\n",
              "      <th>631.578947</th>\n",
              "      <td>0.468321</td>\n",
              "    </tr>\n",
              "    <tr>\n",
              "      <th>694.736842</th>\n",
              "      <td>0.468321</td>\n",
              "    </tr>\n",
              "    <tr>\n",
              "      <th>757.894737</th>\n",
              "      <td>0.468321</td>\n",
              "    </tr>\n",
              "    <tr>\n",
              "      <th>821.052632</th>\n",
              "      <td>0.468321</td>\n",
              "    </tr>\n",
              "    <tr>\n",
              "      <th>884.210526</th>\n",
              "      <td>0.468321</td>\n",
              "    </tr>\n",
              "    <tr>\n",
              "      <th>947.368421</th>\n",
              "      <td>0.468321</td>\n",
              "    </tr>\n",
              "    <tr>\n",
              "      <th>1010.526316</th>\n",
              "      <td>0.192718</td>\n",
              "    </tr>\n",
              "    <tr>\n",
              "      <th>1073.684211</th>\n",
              "      <td>0.187341</td>\n",
              "    </tr>\n",
              "    <tr>\n",
              "      <th>1136.842105</th>\n",
              "      <td>0.187341</td>\n",
              "    </tr>\n",
              "    <tr>\n",
              "      <th>1200.000000</th>\n",
              "      <td>0.187341</td>\n",
              "    </tr>\n",
              "  </tbody>\n",
              "</table>\n",
              "</div>"
            ],
            "text/plain": [
              "0.000000       0.468321\n",
              "63.157895      0.468321\n",
              "126.315789     0.468321\n",
              "189.473684     0.468321\n",
              "252.631579     0.468321\n",
              "315.789474     0.468321\n",
              "378.947368     0.468321\n",
              "442.105263     0.468321\n",
              "505.263158     0.468321\n",
              "568.421053     0.468321\n",
              "631.578947     0.468321\n",
              "694.736842     0.468321\n",
              "757.894737     0.468321\n",
              "821.052632     0.468321\n",
              "884.210526     0.468321\n",
              "947.368421     0.468321\n",
              "1010.526316    0.192718\n",
              "1073.684211    0.187341\n",
              "1136.842105    0.187341\n",
              "1200.000000    0.187341\n",
              "dtype: float64"
            ]
          },
          "metadata": {
            "tags": []
          },
          "execution_count": 81
        }
      ]
    },
    {
      "cell_type": "markdown",
      "metadata": {
        "id": "tChO9KbUdmaR"
      },
      "source": [
        "And here's what it looks like."
      ]
    },
    {
      "cell_type": "code",
      "metadata": {
        "id": "CAnzRio6dmaR",
        "outputId": "0fe584bf-0cc6-4ef0-9489-29ed3691bed5"
      },
      "source": [
        "plot(infected_sweep)\n",
        "\n",
        "decorate(xlabel='Hand-washing campaign spending (USD)',\n",
        "         ylabel='Total fraction infected',\n",
        "         title='Effect of hand washing on total infections',\n",
        "         legend=False)\n",
        "\n",
        "\n",
        "savefig('C:\\\\Users\\\\arono\\\\CUNY\\\\DATA604_Python\\\\Homework\\\\chap12-fig03.pdf')\n"
      ],
      "execution_count": null,
      "outputs": [
        {
          "output_type": "stream",
          "text": [
            "Saving figure to file C:\\Users\\arono\\CUNY\\DATA604_Python\\Homework\\chap12-fig03.pdf\n"
          ],
          "name": "stdout"
        },
        {
          "output_type": "display_data",
          "data": {
            "image/png": "[encoded data removed]",
            "text/plain": [
              "<Figure size 432x288 with 1 Axes>"
            ]
          },
          "metadata": {
            "tags": [],
            "needs_background": "light"
          }
        }
      ]
    },
    {
      "cell_type": "markdown",
      "metadata": {
        "id": "S9Jdk2htdmaS"
      },
      "source": [
        "Now let's put it all together to make some public health spending decisions."
      ]
    },
    {
      "cell_type": "markdown",
      "metadata": {
        "id": "QMJYp3O9dmaS"
      },
      "source": [
        "### Optimization"
      ]
    },
    {
      "cell_type": "markdown",
      "metadata": {
        "id": "nyxMebB4dmaS"
      },
      "source": [
        "Suppose we have \\$1200 to spend on any combination of vaccines and a hand-washing campaign."
      ]
    },
    {
      "cell_type": "code",
      "metadata": {
        "id": "5rAXD9FsdmaS",
        "outputId": "380f008e-93d4-4f93-ad9c-9d9a98236dbb"
      },
      "source": [
        "num_students = 90\n",
        "budget = 1200\n",
        "price_per_dose = 100\n",
        "max_doses = int(budget / price_per_dose)\n",
        "dose_array = linrange(max_doses, endpoint=True)\n",
        "max_doses"
      ],
      "execution_count": null,
      "outputs": [
        {
          "output_type": "execute_result",
          "data": {
            "text/plain": [
              "12"
            ]
          },
          "metadata": {
            "tags": []
          },
          "execution_count": 83
        }
      ]
    },
    {
      "cell_type": "markdown",
      "metadata": {
        "id": "Otk1rnhhdmaS"
      },
      "source": [
        "We can sweep through a range of doses from, 0 to `max_doses`, model the effects of immunization and the hand-washing campaign, and run simulations.\n",
        "\n",
        "For each scenario, we compute the fraction of students who get sick."
      ]
    },
    {
      "cell_type": "code",
      "metadata": {
        "id": "IIByqv_GdmaS",
        "outputId": "3ed88bd5-7703-48c5-a3b8-0bae36caa93e"
      },
      "source": [
        "for doses in dose_array:\n",
        "    fraction = doses / num_students\n",
        "    spending = budget - doses * price_per_dose\n",
        "    \n",
        "    system = make_system(beta, gamma)\n",
        "    add_immunization(system, fraction)\n",
        "    add_hand_washing(system, spending)\n",
        "    \n",
        "    results = run_simulation(system, update_func)\n",
        "    print(doses, system.init.S, system.beta, calc_total_infected(results))"
      ],
      "execution_count": null,
      "outputs": [
        {
          "output_type": "stream",
          "text": [
            "0 0.9888888888888889 0.26666666666666666 0.18734121837761575\n",
            "1 0.9777777777777779 0.26666666666666666 0.17392972747134083\n",
            "2 0.9666666666666667 0.3328918322295805 0.43083540644305984\n",
            "3 0.9555555555555556 0.3333333333333333 0.4143597787336031\n",
            "4 0.9444444444444445 0.3333333333333333 0.39631424767443335\n",
            "5 0.9333333333333333 0.3333333333333333 0.37826342202028507\n",
            "6 0.9222222222222223 0.3333333333333333 0.3602280147050887\n",
            "7 0.9111111111111112 0.3333333333333333 0.3422341649360747\n",
            "8 0.9 0.3333333333333333 0.32431431929947374\n",
            "9 0.888888888888889 0.3333333333333333 0.30650802853979753\n",
            "10 0.8777777777777778 0.3333333333333333 0.28886254536011957\n"
          ],
          "name": "stdout"
        },
        {
          "output_type": "stream",
          "text": [
            "<ipython-input-72-3b865d4f12e7>:15: RuntimeWarning: overflow encountered in exp\n",
            "  denom = C + Q * exp(exponent)\n"
          ],
          "name": "stderr"
        },
        {
          "output_type": "stream",
          "text": [
            "11 0.8666666666666667 0.3333333333333333 0.2714330833833193\n",
            "12 0.8555555555555556 0.3333333333333333 0.25428258490244493\n"
          ],
          "name": "stdout"
        }
      ]
    },
    {
      "cell_type": "markdown",
      "metadata": {
        "id": "-TnV1W7HdmaT"
      },
      "source": [
        "The following function wraps that loop and stores the results in a `Sweep` object."
      ]
    },
    {
      "cell_type": "code",
      "metadata": {
        "id": "wI7UEkAidmaT"
      },
      "source": [
        "def sweep_doses(dose_array):\n",
        "    \"\"\"Runs simulations with different doses and campaign spending.\n",
        "    \n",
        "    dose_array: range of values for number of vaccinations\n",
        "    \n",
        "    return: Sweep object with total number of infections \n",
        "    \"\"\"\n",
        "    sweep = SweepSeries()\n",
        "    \n",
        "    for doses in dose_array:\n",
        "        fraction = doses / num_students\n",
        "        spending = budget - doses * price_per_dose\n",
        "        \n",
        "        system = make_system(beta, gamma)\n",
        "        add_immunization(system, fraction)\n",
        "        add_hand_washing(system, spending)\n",
        "        \n",
        "        results = run_simulation(system, update_func)\n",
        "        sweep[doses] = calc_total_infected(results)\n",
        "\n",
        "    return sweep"
      ],
      "execution_count": null,
      "outputs": []
    },
    {
      "cell_type": "markdown",
      "metadata": {
        "id": "X3e4FiRRdmaT"
      },
      "source": [
        "Now we can compute the number of infected students for each possible allocation of the budget."
      ]
    },
    {
      "cell_type": "code",
      "metadata": {
        "id": "3-aQBQvVdmaT",
        "outputId": "a0908102-731c-421d-f0fd-04a427f1d187"
      },
      "source": [
        "infected_sweep = sweep_doses(dose_array)"
      ],
      "execution_count": null,
      "outputs": [
        {
          "output_type": "stream",
          "text": [
            "<ipython-input-72-3b865d4f12e7>:15: RuntimeWarning: overflow encountered in exp\n",
            "  denom = C + Q * exp(exponent)\n"
          ],
          "name": "stderr"
        },
        {
          "output_type": "execute_result",
          "data": {
            "text/html": [
              "<div>\n",
              "<style scoped>\n",
              "    .dataframe tbody tr th:only-of-type {\n",
              "        vertical-align: middle;\n",
              "    }\n",
              "\n",
              "    .dataframe tbody tr th {\n",
              "        vertical-align: top;\n",
              "    }\n",
              "\n",
              "    .dataframe thead th {\n",
              "        text-align: right;\n",
              "    }\n",
              "</style>\n",
              "<table border=\"1\" class=\"dataframe\">\n",
              "  <thead>\n",
              "    <tr style=\"text-align: right;\">\n",
              "      <th></th>\n",
              "      <th>values</th>\n",
              "    </tr>\n",
              "  </thead>\n",
              "  <tbody>\n",
              "    <tr>\n",
              "      <th>0</th>\n",
              "      <td>0.187341</td>\n",
              "    </tr>\n",
              "    <tr>\n",
              "      <th>1</th>\n",
              "      <td>0.173930</td>\n",
              "    </tr>\n",
              "    <tr>\n",
              "      <th>2</th>\n",
              "      <td>0.430835</td>\n",
              "    </tr>\n",
              "    <tr>\n",
              "      <th>3</th>\n",
              "      <td>0.414360</td>\n",
              "    </tr>\n",
              "    <tr>\n",
              "      <th>4</th>\n",
              "      <td>0.396314</td>\n",
              "    </tr>\n",
              "    <tr>\n",
              "      <th>5</th>\n",
              "      <td>0.378263</td>\n",
              "    </tr>\n",
              "    <tr>\n",
              "      <th>6</th>\n",
              "      <td>0.360228</td>\n",
              "    </tr>\n",
              "    <tr>\n",
              "      <th>7</th>\n",
              "      <td>0.342234</td>\n",
              "    </tr>\n",
              "    <tr>\n",
              "      <th>8</th>\n",
              "      <td>0.324314</td>\n",
              "    </tr>\n",
              "    <tr>\n",
              "      <th>9</th>\n",
              "      <td>0.306508</td>\n",
              "    </tr>\n",
              "    <tr>\n",
              "      <th>10</th>\n",
              "      <td>0.288863</td>\n",
              "    </tr>\n",
              "    <tr>\n",
              "      <th>11</th>\n",
              "      <td>0.271433</td>\n",
              "    </tr>\n",
              "    <tr>\n",
              "      <th>12</th>\n",
              "      <td>0.254283</td>\n",
              "    </tr>\n",
              "  </tbody>\n",
              "</table>\n",
              "</div>"
            ],
            "text/plain": [
              "0     0.187341\n",
              "1     0.173930\n",
              "2     0.430835\n",
              "3     0.414360\n",
              "4     0.396314\n",
              "5     0.378263\n",
              "6     0.360228\n",
              "7     0.342234\n",
              "8     0.324314\n",
              "9     0.306508\n",
              "10    0.288863\n",
              "11    0.271433\n",
              "12    0.254283\n",
              "dtype: float64"
            ]
          },
          "metadata": {
            "tags": []
          },
          "execution_count": 86
        }
      ]
    },
    {
      "cell_type": "markdown",
      "metadata": {
        "id": "vE_x92yGdmaT"
      },
      "source": [
        "And plot the results."
      ]
    },
    {
      "cell_type": "code",
      "metadata": {
        "id": "2o6Xw6QKdmaT",
        "outputId": "28f8d81f-b642-4bc4-a8ba-58948d7770fb"
      },
      "source": [
        "plot(infected_sweep)\n",
        "\n",
        "decorate(xlabel='Doses of vaccine',\n",
        "         ylabel='Total fraction infected',\n",
        "         title='Total infections vs. doses',\n",
        "         legend=False)\n",
        "\n",
        "\n",
        "savefig('C:\\\\Users\\\\arono\\\\CUNY\\\\DATA604_Python\\\\Homework\\\\chap12-fig04.pdf')\n"
      ],
      "execution_count": null,
      "outputs": [
        {
          "output_type": "stream",
          "text": [
            "Saving figure to file C:\\Users\\arono\\CUNY\\DATA604_Python\\Homework\\chap12-fig04.pdf\n"
          ],
          "name": "stdout"
        },
        {
          "output_type": "display_data",
          "data": {
            "image/png": "[encoded data removed]",
            "text/plain": [
              "<Figure size 432x288 with 1 Axes>"
            ]
          },
          "metadata": {
            "tags": [],
            "needs_background": "light"
          }
        }
      ]
    },
    {
      "cell_type": "markdown",
      "metadata": {
        "id": "f9qyEPoAdmaU"
      },
      "source": [
        "### Exercises\n",
        "\n",
        "**Exercise:** Suppose the price of the vaccine drops to $50 per dose.  How does that affect the optimal allocation of the spending?"
      ]
    },
    {
      "cell_type": "markdown",
      "metadata": {
        "id": "i9lvVIredmaU"
      },
      "source": [
        "# I would modify add_imunization to add a price factor, which might be .1 to represent a small increase in the immunized when prices are reduced."
      ]
    },
    {
      "cell_type": "code",
      "metadata": {
        "id": "xouP0bvNdmaU"
      },
      "source": [
        "def add_immunization(system, fraction, price_factor=0):\n",
        "    \"\"\"Immunize a fraction of the population.\n",
        "    \n",
        "    Moves the given fraction from S to R.\n",
        "    \n",
        "    system: System object\n",
        "    fraction: number from 0 to 1\n",
        "    \"\"\"\n",
        "    system.init.S -= fraction * (1 + price_factor)\n",
        "    system.init.R += fraction * (1 + price_factor)"
      ],
      "execution_count": null,
      "outputs": []
    },
    {
      "cell_type": "markdown",
      "metadata": {
        "id": "_WDZJSiGdmaU"
      },
      "source": [
        "**Exercise:** Suppose we have the option to quarantine infected students.  For example, a student who feels ill might be moved to an infirmary, or a private dorm room, until they are no longer infectious.\n",
        "\n",
        "How might you incorporate the effect of quarantine in the SIR model?"
      ]
    },
    {
      "cell_type": "markdown",
      "metadata": {
        "id": "h91FmKttdmaU"
      },
      "source": [
        "# I would modify the original system to hold Q for quarantine"
      ]
    },
    {
      "cell_type": "code",
      "metadata": {
        "id": "EGvWNwtPdmaU",
        "outputId": "c73d11c6-ea55-44f2-ffe9-c1ade438c975"
      },
      "source": [
        "\n",
        "from modsim import *\n",
        "\n",
        "\n",
        "def make_system(beta, gamma):\n",
        "    init = State(S=89, I=1, Q=0, R=0)\n",
        "    init /= sum(init)          # everything becomes a percentage\n",
        "\n",
        "    t0 = 0\n",
        "    t_end = 7\n",
        "\n",
        "    return System(init=init, t0=t0, t_end=t_end, \n",
        "                  beta=beta, gamma=gamma)\n",
        "\n",
        "\n",
        "def update_func(state, t, system, q_factor):\n",
        "    s, i, q, r = state\n",
        "    \n",
        " #   print(s,i,q,r, system.beta, q_factor)\n",
        "    \n",
        "    \n",
        "    infected = system.beta * i * s\n",
        "    \n",
        "    quarantined = i * q_factor * s\n",
        "    infected -= quarantined\n",
        "    \n",
        "    recovered = system.gamma * (i + q)\n",
        "    \n",
        "    s -= infected + quarantined\n",
        "    i += infected - recovered\n",
        "    q = quarantined\n",
        "    r += recovered\n",
        "    \n",
        "  \n",
        "    \n",
        "       \n",
        "    return State(S=s, I=i, Q=q, R=r)\n",
        "\n",
        " \n",
        "\n",
        "def run_simulation(system, update_func):\n",
        "    frame = TimeFrame(columns=system.init.index)\n",
        "    frame.row[system.t0] = system.init\n",
        "    \n",
        "    for t in linrange(system.t0, system.t_end):\n",
        "        frame.row[t+1] = update_func(frame.row[t], t, system,.01)\n",
        "    \n",
        "    return frame\n",
        "\n",
        "\n",
        "beta = 0.333\n",
        "gamma = 0.25\n",
        "system = make_system(beta, gamma)\n",
        "\n",
        "results = run_simulation(system, update_func)\n"
      ],
      "execution_count": null,
      "outputs": [
        {
          "output_type": "execute_result",
          "data": {
            "text/html": [
              "<div>\n",
              "<style scoped>\n",
              "    .dataframe tbody tr th:only-of-type {\n",
              "        vertical-align: middle;\n",
              "    }\n",
              "\n",
              "    .dataframe tbody tr th {\n",
              "        vertical-align: top;\n",
              "    }\n",
              "\n",
              "    .dataframe thead th {\n",
              "        text-align: right;\n",
              "    }\n",
              "</style>\n",
              "<table border=\"1\" class=\"dataframe\">\n",
              "  <thead>\n",
              "    <tr style=\"text-align: right;\">\n",
              "      <th></th>\n",
              "      <th>S</th>\n",
              "      <th>I</th>\n",
              "      <th>Q</th>\n",
              "      <th>R</th>\n",
              "    </tr>\n",
              "  </thead>\n",
              "  <tbody>\n",
              "    <tr>\n",
              "      <th>0</th>\n",
              "      <td>0.988889</td>\n",
              "      <td>0.011111</td>\n",
              "      <td>0.000000</td>\n",
              "      <td>0.000000</td>\n",
              "    </tr>\n",
              "    <tr>\n",
              "      <th>1</th>\n",
              "      <td>0.985230</td>\n",
              "      <td>0.011882</td>\n",
              "      <td>0.000110</td>\n",
              "      <td>0.002778</td>\n",
              "    </tr>\n",
              "    <tr>\n",
              "      <th>2</th>\n",
              "      <td>0.981332</td>\n",
              "      <td>0.012666</td>\n",
              "      <td>0.000117</td>\n",
              "      <td>0.005776</td>\n",
              "    </tr>\n",
              "    <tr>\n",
              "      <th>3</th>\n",
              "      <td>0.977193</td>\n",
              "      <td>0.013485</td>\n",
              "      <td>0.000124</td>\n",
              "      <td>0.008972</td>\n",
              "    </tr>\n",
              "    <tr>\n",
              "      <th>4</th>\n",
              "      <td>0.972805</td>\n",
              "      <td>0.014339</td>\n",
              "      <td>0.000132</td>\n",
              "      <td>0.012374</td>\n",
              "    </tr>\n",
              "    <tr>\n",
              "      <th>5</th>\n",
              "      <td>0.968160</td>\n",
              "      <td>0.015226</td>\n",
              "      <td>0.000139</td>\n",
              "      <td>0.015991</td>\n",
              "    </tr>\n",
              "    <tr>\n",
              "      <th>6</th>\n",
              "      <td>0.963251</td>\n",
              "      <td>0.016146</td>\n",
              "      <td>0.000147</td>\n",
              "      <td>0.019833</td>\n",
              "    </tr>\n",
              "    <tr>\n",
              "      <th>7</th>\n",
              "      <td>0.958072</td>\n",
              "      <td>0.017097</td>\n",
              "      <td>0.000156</td>\n",
              "      <td>0.023906</td>\n",
              "    </tr>\n",
              "  </tbody>\n",
              "</table>\n",
              "</div>"
            ],
            "text/plain": [
              "          S         I         Q         R\n",
              "0  0.988889  0.011111  0.000000  0.000000\n",
              "1  0.985230  0.011882  0.000110  0.002778\n",
              "2  0.981332  0.012666  0.000117  0.005776\n",
              "3  0.977193  0.013485  0.000124  0.008972\n",
              "4  0.972805  0.014339  0.000132  0.012374\n",
              "5  0.968160  0.015226  0.000139  0.015991\n",
              "6  0.963251  0.016146  0.000147  0.019833\n",
              "7  0.958072  0.017097  0.000156  0.023906"
            ]
          },
          "metadata": {
            "tags": []
          },
          "execution_count": 90
        }
      ]
    },
    {
      "cell_type": "code",
      "metadata": {
        "id": "K1SUgBoQdmaV"
      },
      "source": [
        ""
      ],
      "execution_count": null,
      "outputs": []
    }
  ]
}