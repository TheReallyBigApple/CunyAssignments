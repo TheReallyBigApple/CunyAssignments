{
  "nbformat": 4,
  "nbformat_minor": 0,
  "metadata": {
    "kernelspec": {
      "display_name": "Python 3",
      "language": "python",
      "name": "python3"
    },
    "language_info": {
      "codemirror_mode": {
        "name": "ipython",
        "version": 3
      },
      "file_extension": ".py",
      "mimetype": "text/x-python",
      "name": "python",
      "nbconvert_exporter": "python",
      "pygments_lexer": "ipython3",
      "version": "3.8.5"
    },
    "colab": {
      "name": "yoyo.ipynb",
      "provenance": [],
      "collapsed_sections": [],
      "include_colab_link": true
    }
  },
  "cells": [
    {
      "cell_type": "markdown",
      "metadata": {
        "id": "view-in-github",
        "colab_type": "text"
      },
      "source": [
        "<a href=\"https://colab.research.google.com/github/TheReallyBigApple/CunyAssignments/blob/main/Data604/yoyo.ipynb\" target=\"_parent\"><img src=\"https://colab.research.google.com/assets/colab-badge.svg\" alt=\"Open In Colab\"/></a>"
      ]
    },
    {
      "cell_type": "markdown",
      "metadata": {
        "id": "1auy0RchjDhL"
      },
      "source": [
        "\n",
        "#                       CUNY MSDS Data604 Week 7\n",
        "#                            Tom Buonora\n",
        "\n",
        "*This was a little advanced for me so I sought help from the solution and added a lot of notes.*\n",
        "\n",
        "# Modeling and Simulation in Python\n",
        "\n",
        "Case study\n",
        "\n",
        "Copyright 2017 Allen Downey\n",
        "\n",
        "License: [Creative Commons Attribution 4.0 International](https://creativecommons.org/licenses/by/4.0)\n"
      ]
    },
    {
      "cell_type": "code",
      "metadata": {
        "colab": {
          "base_uri": "https://localhost:8080/"
        },
        "id": "Yh88jUqijDhO",
        "outputId": "afc59ed6-77d1-47b7-de2b-dcb3d3bd532e"
      },
      "source": [
        "# Configure Jupyter so figures appear in the notebook\n",
        "%matplotlib inline\n",
        "\n",
        "# Configure Jupyter to display the assigned value after an assignment\n",
        "%config InteractiveShell.ast_node_interactivity='last_expr_or_assign'\n",
        "\n",
        "try:\n",
        "    import pint\n",
        "except ImportError:\n",
        "    !pip install pint\n",
        "    import pint\n",
        "    \n",
        "# import functions from the modsim.py module\n",
        "try:\n",
        "    from modsim import *\n",
        "except ImportError:\n",
        "    !pip install modsimpy\n",
        "    from modsim import *"
      ],
      "execution_count": 4,
      "outputs": [
        {
          "output_type": "stream",
          "text": [
            "ERROR:root:The 'ast_node_interactivity' trait of a Shell instance expected any of ['all', 'last', 'last_expr', 'none'], not the str 'last_expr_or_assign'.\n"
          ],
          "name": "stderr"
        }
      ]
    },
    {
      "cell_type": "markdown",
      "metadata": {
        "id": "90qTu-wKjDhP"
      },
      "source": [
        "## Yo-yo\n",
        "\n",
        "Suppose you are holding a yo-yo with a length of string wound around its axle, and you drop it while holding the end of the string stationary.  As gravity accelerates the yo-yo downward, tension in the string exerts a force upward.  Since this force acts on a point offset from the center of mass, it exerts a torque that causes the yo-yo to spin.\n",
        "\n",
        "![](diagrams/yoyo.png)\n",
        "\n",
        "This figure shows the forces on the yo-yo and the resulting torque.  The outer shaded area shows the body of the yo-yo.  The inner shaded area shows the rolled up string, the radius of which changes as the yo-yo unrolls.\n",
        "\n",
        "In this model, we can't figure out the linear and angular acceleration independently; we have to solve a system of equations:\n",
        "\n",
        "$\\sum F = m a $\n",
        "\n",
        "$\\sum \\tau = I \\alpha$\n",
        "\n",
        "where the summations indicate that we are adding up forces and torques.\n",
        "\n",
        "As in the previous examples, linear and angular velocity are related because of the way the string unrolls:\n",
        "\n",
        "$\\frac{dy}{dt} = -r \\frac{d \\theta}{dt} $\n",
        "\n",
        "In this example, the linear and angular accelerations have opposite sign.  As the yo-yo rotates counter-clockwise, $\\theta$ increases and $y$, which is the length of the rolled part of the string, decreases.\n",
        "\n",
        "Taking the derivative of both sides yields a similar relationship between linear and angular acceleration:\n",
        "\n",
        "$\\frac{d^2 y}{dt^2} = -r \\frac{d^2 \\theta}{dt^2} $\n",
        "\n",
        "Which we can write more concisely:\n",
        "\n",
        "$ a = -r \\alpha $\n",
        "\n",
        "This relationship is not a general law of nature; it is specific to scenarios like this where there is rolling without stretching or slipping.\n",
        "\n",
        "Because of the way we've set up the problem, $y$ actually has two meanings: it represents the length of the rolled string and the height of the yo-yo, which decreases as the yo-yo falls.  Similarly, $a$ represents acceleration in the length of the rolled string and the height of the yo-yo.\n",
        "\n",
        "We can compute the acceleration of the yo-yo by adding up the linear forces:\n",
        "\n",
        "$\\sum F = T - mg = ma $\n",
        "\n",
        "Where $T$ is positive because the tension force points up, and $mg$ is negative because gravity points down.\n",
        "\n",
        "Because gravity acts on the center of mass, it creates no torque, so the only torque is due to tension:\n",
        "\n",
        "$\\sum \\tau = T r = I \\alpha $\n",
        "\n",
        "Positive (upward) tension yields positive (counter-clockwise) angular acceleration.\n",
        "\n",
        "Now we have three equations in three unknowns, $T$, $a$, and $\\alpha$, with $I$, $m$, $g$, and $r$ as known parameters.  It is simple enough to solve these equations by hand, but we can also get SymPy to do it for us.\n",
        "\n"
      ]
    },
    {
      "cell_type": "code",
      "metadata": {
        "id": "AkZDqYrbjDhQ"
      },
      "source": [
        "from sympy import init_printing, symbols, Eq, solve\n",
        "\n",
        "init_printing()"
      ],
      "execution_count": 5,
      "outputs": []
    },
    {
      "cell_type": "code",
      "metadata": {
        "id": "-wDRrCmBjDhQ"
      },
      "source": [
        "T, a, alpha, I, m, g, r = symbols('T a alpha I m g r')"
      ],
      "execution_count": 6,
      "outputs": []
    },
    {
      "cell_type": "code",
      "metadata": {
        "id": "2GHi1OO2jDhQ"
      },
      "source": [
        "eq1 = Eq(a, -r * alpha)"
      ],
      "execution_count": 7,
      "outputs": []
    },
    {
      "cell_type": "code",
      "metadata": {
        "id": "2x_b1tzxjDhR"
      },
      "source": [
        "eq2 = Eq(T - m * g, m * a)"
      ],
      "execution_count": 8,
      "outputs": []
    },
    {
      "cell_type": "code",
      "metadata": {
        "id": "3p8XaxLYjDhS"
      },
      "source": [
        "eq3 = Eq(T * r, I * alpha)"
      ],
      "execution_count": 9,
      "outputs": []
    },
    {
      "cell_type": "code",
      "metadata": {
        "id": "_rRs7OL_jDhS"
      },
      "source": [
        "soln = solve([eq1, eq2, eq3], [T, a, alpha])"
      ],
      "execution_count": 10,
      "outputs": []
    },
    {
      "cell_type": "code",
      "metadata": {
        "colab": {
          "base_uri": "https://localhost:8080/",
          "height": 53
        },
        "id": "icFjB7tjjDhT",
        "outputId": "1108ab59-be03-450d-d8c2-3bfd78117abf"
      },
      "source": [
        "soln[T]"
      ],
      "execution_count": 11,
      "outputs": [
        {
          "output_type": "execute_result",
          "data": {
            "image/png": "[encoded data removed]",
            "text/latex": "$\\displaystyle \\frac{I g m}{I + m r^{2}}$",
            "text/plain": [
              " I⋅g⋅m  \n",
              "────────\n",
              "       2\n",
              "I + m⋅r "
            ]
          },
          "metadata": {
            "tags": []
          },
          "execution_count": 11
        }
      ]
    },
    {
      "cell_type": "code",
      "metadata": {
        "colab": {
          "base_uri": "https://localhost:8080/",
          "height": 55
        },
        "id": "9DXVzbjxjDhT",
        "outputId": "157e31a2-c969-4058-b1bf-5547ae24f5ec"
      },
      "source": [
        "soln[a]"
      ],
      "execution_count": 12,
      "outputs": [
        {
          "output_type": "execute_result",
          "data": {
            "image/png": "[encoded data removed]",
            "text/latex": "$\\displaystyle - \\frac{g m r^{2}}{I + m r^{2}}$",
            "text/plain": [
              "      2 \n",
              "-g⋅m⋅r  \n",
              "────────\n",
              "       2\n",
              "I + m⋅r "
            ]
          },
          "metadata": {
            "tags": []
          },
          "execution_count": 12
        }
      ]
    },
    {
      "cell_type": "code",
      "metadata": {
        "colab": {
          "base_uri": "https://localhost:8080/",
          "height": 48
        },
        "id": "grMlwX6cjDhU",
        "outputId": "ae3f867c-526e-4559-ac1f-1fd716aea745"
      },
      "source": [
        "soln[alpha]"
      ],
      "execution_count": 13,
      "outputs": [
        {
          "output_type": "execute_result",
          "data": {
            "image/png": "[encoded data removed]",
            "text/latex": "$\\displaystyle \\frac{g m r}{I + m r^{2}}$",
            "text/plain": [
              " g⋅m⋅r  \n",
              "────────\n",
              "       2\n",
              "I + m⋅r "
            ]
          },
          "metadata": {
            "tags": []
          },
          "execution_count": 13
        }
      ]
    },
    {
      "cell_type": "markdown",
      "metadata": {
        "id": "Wg7blpO8jDhU"
      },
      "source": [
        "\n",
        "The results are\n",
        "\n",
        "$T      = m g I / I^*   $\n",
        "\n",
        "$a      = -m g r^2 / I^* $\n",
        "\n",
        "$\\alpha = m g r / I^*    $\n",
        "\n",
        "where $I^*$ is the augmented moment of inertia, $I + m r^2$.\n",
        "\n",
        "You can also see [the derivation of these equations in this video](https://www.youtube.com/watch?v=chC7xVDKl4Q).\n",
        "\n",
        "To simulate the system, we don't really need $T$; we can plug $a$ and $\\alpha$ directly into the slope function."
      ]
    },
    {
      "cell_type": "code",
      "metadata": {
        "id": "q7hb2Ir7jDhU"
      },
      "source": [
        "radian = UNITS.radian\n",
        "m = UNITS.meter\n",
        "s = UNITS.second\n",
        "kg = UNITS.kilogram\n",
        "N = UNITS.newton"
      ],
      "execution_count": 14,
      "outputs": []
    },
    {
      "cell_type": "markdown",
      "metadata": {
        "id": "zSbzrMnzjDhV"
      },
      "source": [
        "**Exercise:**  Simulate the descent of a yo-yo.  How long does it take to reach the end of the string?\n",
        "\n",
        "I provide a `Params` object with the system parameters:\n",
        "\n",
        "* `Rmin` is the radius of the axle.  `Rmax` is the radius of the axle plus rolled string.\n",
        "\n",
        "* `Rout` is the radius of the yo-yo body.  `mass` is the total mass of the yo-yo, ignoring the string.  \n",
        "\n",
        "* `L` is the length of the string.\n",
        "\n",
        "* `g` is the acceleration of gravity."
      ]
    },
    {
      "cell_type": "code",
      "metadata": {
        "id": "TWYSpuEajDhV"
      },
      "source": [
        "params = Params(Rmin = 8e-3 * m,\n",
        "                Rmax = 16e-3 * m,\n",
        "                Rout = 35e-3 * m,\n",
        "                mass = 50e-3 * kg,\n",
        "                L = 1 * m,\n",
        "                g = 9.8 * m / s**2,\n",
        "                t_end = 1 * s)"
      ],
      "execution_count": 15,
      "outputs": []
    },
    {
      "cell_type": "markdown",
      "metadata": {
        "id": "saOGBu1ljDhV"
      },
      "source": [
        "Here's a `make_system` function that computes `I` and `k` based on the system parameters.\n",
        "\n",
        "I estimated `I` by modeling the yo-yo as a solid cylinder with uniform density ([see here](https://en.wikipedia.org/wiki/List_of_moments_of_inertia)).\n",
        "\n",
        "In reality, the distribution of weight in a yo-yo is often designed to achieve desired effects.  But we'll keep it simple."
      ]
    },
    {
      "cell_type": "code",
      "metadata": {
        "id": "ki5qhRB7jDhW"
      },
      "source": [
        "def make_system(params):\n",
        "    \"\"\"Make a system object.\n",
        "    \n",
        "    params: Params with Rmin, Rmax, Rout, \n",
        "                              mass, L, g, t_end\n",
        "    \n",
        "    returns: System with init, k, Rmin, Rmax, mass,\n",
        "                         I, g, ts\n",
        "    \"\"\"\n",
        "    L, mass = params.L, params.mass\n",
        "    Rout, Rmax, Rmin = params.Rout, params.Rmax, params.Rmin \n",
        "    \n",
        "    init = State(theta = 0 * radian,\n",
        "                 omega = 0 * radian/s,\n",
        "                 y = L,\n",
        "                 v = 0 * m / s)\n",
        "    \n",
        "    I = mass * Rout**2 / 2\n",
        "    k = (Rmax**2 - Rmin**2) / 2 / L / radian    \n",
        "    \n",
        "    return System(params, init=init, I=I, k=k)"
      ],
      "execution_count": 16,
      "outputs": []
    },
    {
      "cell_type": "markdown",
      "metadata": {
        "id": "QNpHrGTGjDhW"
      },
      "source": [
        "Testing `make_system`"
      ]
    },
    {
      "cell_type": "code",
      "metadata": {
        "id": "arnLWliyjDhW"
      },
      "source": [
        "system = make_system(params)"
      ],
      "execution_count": 17,
      "outputs": []
    },
    {
      "cell_type": "code",
      "metadata": {
        "colab": {
          "base_uri": "https://localhost:8080/",
          "height": 174
        },
        "id": "P0qujDTjjDhX",
        "outputId": "d6a38af7-dd96-4065-c786-3f2cba32c783"
      },
      "source": [
        "system.init"
      ],
      "execution_count": 18,
      "outputs": [
        {
          "output_type": "execute_result",
          "data": {
            "text/html": [
              "<div>\n",
              "<style scoped>\n",
              "    .dataframe tbody tr th:only-of-type {\n",
              "        vertical-align: middle;\n",
              "    }\n",
              "\n",
              "    .dataframe tbody tr th {\n",
              "        vertical-align: top;\n",
              "    }\n",
              "\n",
              "    .dataframe thead th {\n",
              "        text-align: right;\n",
              "    }\n",
              "</style>\n",
              "<table border=\"1\" class=\"dataframe\">\n",
              "  <thead>\n",
              "    <tr style=\"text-align: right;\">\n",
              "      <th></th>\n",
              "      <th>values</th>\n",
              "    </tr>\n",
              "  </thead>\n",
              "  <tbody>\n",
              "    <tr>\n",
              "      <th>theta</th>\n",
              "      <td>0 radian</td>\n",
              "    </tr>\n",
              "    <tr>\n",
              "      <th>omega</th>\n",
              "      <td>0.0 radian / second</td>\n",
              "    </tr>\n",
              "    <tr>\n",
              "      <th>y</th>\n",
              "      <td>1 meter</td>\n",
              "    </tr>\n",
              "    <tr>\n",
              "      <th>v</th>\n",
              "      <td>0.0 meter / second</td>\n",
              "    </tr>\n",
              "  </tbody>\n",
              "</table>\n",
              "</div>"
            ],
            "text/plain": [
              "theta               0 radian\n",
              "omega    0.0 radian / second\n",
              "y                    1 meter\n",
              "v         0.0 meter / second\n",
              "dtype: object"
            ]
          },
          "metadata": {
            "tags": []
          },
          "execution_count": 18
        }
      ]
    },
    {
      "cell_type": "markdown",
      "metadata": {
        "id": "IIUylg9CjDhX"
      },
      "source": [
        "Write a slope function for this system, using these results from the book:\n",
        "\n",
        "$ r = \\sqrt{2 k y + R_{min}^2} $ \n",
        "\n",
        "$ T      = m g I / I^*  $\n",
        "\n",
        "$ a      = -m g r^2 / I^* $\n",
        "\n",
        "$ \\alpha  = m g r / I^*  $\n",
        "\n",
        "where $I^*$ is the augmented moment of inertia, $I + m r^2$.\n"
      ]
    },
    {
      "cell_type": "markdown",
      "metadata": {
        "id": "8eUduJlhjDhX"
      },
      "source": [
        "**The classical mechanics of a yo-yo is a function of torque and force.**\n",
        "\n",
        "**It can also be described as a function of tension T and mass**\n",
        "\n",
        "**The video listed above is very helpful.**"
      ]
    },
    {
      "cell_type": "code",
      "metadata": {
        "id": "u6xufjLSjDhX"
      },
      "source": [
        "def slope_func(state, t, system):\n",
        "\n",
        "    theta, omega, y, v = state\n",
        "    \n",
        "    \n",
        "    # y and L are both Length\n",
        "    \n",
        "    # k is .00096 meters/radian\n",
        "    #    its the \"radious diff\" of the donut of the string divided by Length of string and radians\n",
        "    \n",
        "    \n",
        "    # g is the gravitational contant\n",
        "    \n",
        "    \n",
        "    g, k, Rmin = system.g, system.k, system.Rmin\n",
        "    I, mass = system.I, system.mass\n",
        "    \n",
        "    \n",
        "    # reproduce the 1st\n",
        "    r = sqrt(2*k*y + Rmin**2)\n",
        "    alpha = mass * g * r / (I + mass * r**2)\n",
        "    a = -r * alpha\n",
        "   #  print(\"t = \", t, \" y = \", y, \" alpha = \", alpha, \" r = \", r )    \n",
        "\n",
        "    return omega, alpha, v, a "
      ],
      "execution_count": 19,
      "outputs": []
    },
    {
      "cell_type": "markdown",
      "metadata": {
        "id": "Yby1ZTB3jDhY"
      },
      "source": [
        "Test your slope function with the initial paramss."
      ]
    },
    {
      "cell_type": "code",
      "metadata": {
        "colab": {
          "base_uri": "https://localhost:8080/"
        },
        "id": "xpUQvzF0jDhY",
        "outputId": "b6f91970-5f74-4942-db1b-79b7b29e6358"
      },
      "source": [
        "slope_func(system.init,0*s,system)"
      ],
      "execution_count": 21,
      "outputs": [
        {
          "output_type": "execute_result",
          "data": {
            "text/plain": [
              "(0.0 radian/second,\n",
              " 180.54116292458264 1/radian⁰⋅⁵/second²,\n",
              " 0.0 meter/second,\n",
              " -2.888658606793322 meter/radian/second²)"
            ]
          },
          "metadata": {
            "tags": []
          },
          "execution_count": 21
        }
      ]
    },
    {
      "cell_type": "markdown",
      "metadata": {
        "id": "Z9Vuu1uDjDhY"
      },
      "source": [
        "Write an event function that will stop the simulation when `y` is 0."
      ]
    },
    {
      "cell_type": "code",
      "metadata": {
        "id": "T5uMBTL1jDhY"
      },
      "source": [
        "def event_func(state, t, system):\n",
        "# y starts as length but gets smaller as the yo yo drops\n",
        "    theta, omega, y, v = state\n",
        "    return y"
      ],
      "execution_count": 22,
      "outputs": []
    },
    {
      "cell_type": "markdown",
      "metadata": {
        "id": "MDdtJ3tJjDhY"
      },
      "source": [
        "Test your event function:"
      ]
    },
    {
      "cell_type": "code",
      "metadata": {
        "scrolled": false,
        "colab": {
          "base_uri": "https://localhost:8080/",
          "height": 34
        },
        "id": "8TRuoPymjDhZ",
        "outputId": "2b9f91c8-a73d-4f42-ddf8-974c6649d49e"
      },
      "source": [
        "event_func(system.init, 0*s, system)"
      ],
      "execution_count": 23,
      "outputs": [
        {
          "output_type": "execute_result",
          "data": {
            "text/latex": "$1\\ \\mathrm{meter}$",
            "text/html": [
              "1 meter"
            ],
            "text/plain": [
              "1 meter"
            ]
          },
          "metadata": {
            "tags": []
          },
          "execution_count": 23
        }
      ]
    },
    {
      "cell_type": "markdown",
      "metadata": {
        "id": "3D5KV4BIjDhZ"
      },
      "source": [
        "Then run the simulation."
      ]
    },
    {
      "cell_type": "code",
      "metadata": {
        "scrolled": false,
        "colab": {
          "base_uri": "https://localhost:8080/",
          "height": 112
        },
        "id": "J93b8AvsjDhZ",
        "outputId": "6868e32c-b439-4a3a-a134-7a928daf3c37"
      },
      "source": [
        "results, details = run_ode_solver(system, slope_func, events=event_func, max_step=0.05)\n",
        "details"
      ],
      "execution_count": 24,
      "outputs": [
        {
          "output_type": "execute_result",
          "data": {
            "text/html": [
              "<div>\n",
              "<style scoped>\n",
              "    .dataframe tbody tr th:only-of-type {\n",
              "        vertical-align: middle;\n",
              "    }\n",
              "\n",
              "    .dataframe tbody tr th {\n",
              "        vertical-align: top;\n",
              "    }\n",
              "\n",
              "    .dataframe thead th {\n",
              "        text-align: right;\n",
              "    }\n",
              "</style>\n",
              "<table border=\"1\" class=\"dataframe\">\n",
              "  <thead>\n",
              "    <tr style=\"text-align: right;\">\n",
              "      <th></th>\n",
              "      <th>values</th>\n",
              "    </tr>\n",
              "  </thead>\n",
              "  <tbody>\n",
              "    <tr>\n",
              "      <th>success</th>\n",
              "      <td>True</td>\n",
              "    </tr>\n",
              "    <tr>\n",
              "      <th>message</th>\n",
              "      <td>A termination event occurred.</td>\n",
              "    </tr>\n",
              "  </tbody>\n",
              "</table>\n",
              "</div>"
            ],
            "text/plain": [
              "success                             True\n",
              "message    A termination event occurred.\n",
              "dtype: object"
            ]
          },
          "metadata": {
            "tags": []
          },
          "execution_count": 24
        }
      ]
    },
    {
      "cell_type": "markdown",
      "metadata": {
        "id": "r-bLKR5FjDhZ"
      },
      "source": [
        "Check the final state.  If things have gone according to plan, the final value of `y` should be close to 0."
      ]
    },
    {
      "cell_type": "code",
      "metadata": {
        "colab": {
          "base_uri": "https://localhost:8080/",
          "height": 422
        },
        "id": "lTIlEHEqjDhZ",
        "outputId": "4d75857c-1e54-4c0f-b87f-572e95e3732b"
      },
      "source": [
        "display(results)"
      ],
      "execution_count": 25,
      "outputs": [
        {
          "output_type": "display_data",
          "data": {
            "text/html": [
              "<div>\n",
              "<style scoped>\n",
              "    .dataframe tbody tr th:only-of-type {\n",
              "        vertical-align: middle;\n",
              "    }\n",
              "\n",
              "    .dataframe tbody tr th {\n",
              "        vertical-align: top;\n",
              "    }\n",
              "\n",
              "    .dataframe thead th {\n",
              "        text-align: right;\n",
              "    }\n",
              "</style>\n",
              "<table border=\"1\" class=\"dataframe\">\n",
              "  <thead>\n",
              "    <tr style=\"text-align: right;\">\n",
              "      <th></th>\n",
              "      <th>theta</th>\n",
              "      <th>omega</th>\n",
              "      <th>y</th>\n",
              "      <th>v</th>\n",
              "    </tr>\n",
              "  </thead>\n",
              "  <tbody>\n",
              "    <tr>\n",
              "      <th>0.00000</th>\n",
              "      <td>0 radian</td>\n",
              "      <td>0.0 radian / second</td>\n",
              "      <td>1 meter</td>\n",
              "      <td>0.0 meter / second</td>\n",
              "    </tr>\n",
              "    <tr>\n",
              "      <th>0.01000</th>\n",
              "      <td>0.009027058146229132 radian</td>\n",
              "      <td>1.8054116292458264 radian / second</td>\n",
              "      <td>0.9998555670696604 meter</td>\n",
              "      <td>-0.028886586067933224 meter / second</td>\n",
              "    </tr>\n",
              "    <tr>\n",
              "      <th>0.02000</th>\n",
              "      <td>0.03610803187170412 radian</td>\n",
              "      <td>3.6107429640351385 radian / second</td>\n",
              "      <td>0.9994222793129175 meter</td>\n",
              "      <td>-0.05776875826100397 meter / second</td>\n",
              "    </tr>\n",
              "    <tr>\n",
              "      <th>0.03000</th>\n",
              "      <td>0.08124171658491272 radian</td>\n",
              "      <td>5.415913623442199 radian / second</td>\n",
              "      <td>0.9987002029404574 meter</td>\n",
              "      <td>-0.0866421014952915 meter / second</td>\n",
              "    </tr>\n",
              "    <tr>\n",
              "      <th>0.04000</th>\n",
              "      <td>0.14442610326920963 radian</td>\n",
              "      <td>7.220843062232119 radian / second</td>\n",
              "      <td>0.9976894483214327 meter</td>\n",
              "      <td>-0.1155021986526808 meter / second</td>\n",
              "    </tr>\n",
              "    <tr>\n",
              "      <th>...</th>\n",
              "      <td>...</td>\n",
              "      <td>...</td>\n",
              "      <td>...</td>\n",
              "      <td>...</td>\n",
              "    </tr>\n",
              "    <tr>\n",
              "      <th>0.84000</th>\n",
              "      <td>61.535641480178484 radian</td>\n",
              "      <td>139.88374766222944 radian / second</td>\n",
              "      <td>0.07741605098224841 meter</td>\n",
              "      <td>-1.95457868789444 meter / second</td>\n",
              "    </tr>\n",
              "    <tr>\n",
              "      <th>0.85000</th>\n",
              "      <td>62.94077298185786 radian</td>\n",
              "      <td>141.13083075196482 radian / second</td>\n",
              "      <td>0.057814369800615766 meter</td>\n",
              "      <td>-1.9655210557907246 meter / second</td>\n",
              "    </tr>\n",
              "    <tr>\n",
              "      <th>0.86000</th>\n",
              "      <td>64.35825691544625 radian</td>\n",
              "      <td>142.35365189065445 radian / second</td>\n",
              "      <td>0.0381056409810772 meter</td>\n",
              "      <td>-1.975984271354837 meter / second</td>\n",
              "    </tr>\n",
              "    <tr>\n",
              "      <th>0.87000</th>\n",
              "      <td>65.78784476651106 radian</td>\n",
              "      <td>143.5509865731597 radian / second</td>\n",
              "      <td>0.01829469539155358 meter</td>\n",
              "      <td>-1.985960437473269 meter / second</td>\n",
              "    </tr>\n",
              "    <tr>\n",
              "      <th>0.87919</th>\n",
              "      <td>67.11244787132931 radian</td>\n",
              "      <td>144.62664059537983 radian / second</td>\n",
              "      <td>0.0 meter</td>\n",
              "      <td>-1.9946731580935435 meter / second</td>\n",
              "    </tr>\n",
              "  </tbody>\n",
              "</table>\n",
              "<p>89 rows × 4 columns</p>\n",
              "</div>"
            ],
            "text/plain": [
              "                               theta  ...                                     v\n",
              "0.00000                     0 radian  ...                    0.0 meter / second\n",
              "0.01000  0.009027058146229132 radian  ...  -0.028886586067933224 meter / second\n",
              "0.02000   0.03610803187170412 radian  ...   -0.05776875826100397 meter / second\n",
              "0.03000   0.08124171658491272 radian  ...    -0.0866421014952915 meter / second\n",
              "0.04000   0.14442610326920963 radian  ...    -0.1155021986526808 meter / second\n",
              "...                              ...  ...                                   ...\n",
              "0.84000    61.535641480178484 radian  ...      -1.95457868789444 meter / second\n",
              "0.85000     62.94077298185786 radian  ...    -1.9655210557907246 meter / second\n",
              "0.86000     64.35825691544625 radian  ...     -1.975984271354837 meter / second\n",
              "0.87000     65.78784476651106 radian  ...     -1.985960437473269 meter / second\n",
              "0.87919     67.11244787132931 radian  ...    -1.9946731580935435 meter / second\n",
              "\n",
              "[89 rows x 4 columns]"
            ]
          },
          "metadata": {
            "tags": []
          }
        }
      ]
    },
    {
      "cell_type": "markdown",
      "metadata": {
        "id": "vikc-V72jDha"
      },
      "source": [
        "Plot the results."
      ]
    },
    {
      "cell_type": "markdown",
      "metadata": {
        "id": "w1uuCZGnjDha"
      },
      "source": [
        "`theta` should increase and accelerate."
      ]
    },
    {
      "cell_type": "code",
      "metadata": {
        "colab": {
          "base_uri": "https://localhost:8080/",
          "height": 297
        },
        "id": "siUbA02ojDha",
        "outputId": "9f508f0d-1527-420e-b8a1-b92aa6019059"
      },
      "source": [
        "def plot_theta(results):\n",
        "    plot(results.theta, color='C0', label='theta')\n",
        "    decorate(xlabel='Time (s)',\n",
        "             ylabel='Angle (rad)')\n",
        "plot_theta(results)"
      ],
      "execution_count": 26,
      "outputs": [
        {
          "output_type": "display_data",
          "data": {
            "image/png": "[encoded data removed]",
            "text/plain": [
              "<Figure size 432x288 with 1 Axes>"
            ]
          },
          "metadata": {
            "tags": [],
            "needs_background": "light"
          }
        }
      ]
    },
    {
      "cell_type": "markdown",
      "metadata": {
        "id": "mwp-jW6LjDha"
      },
      "source": [
        "`y` should decrease and accelerate down."
      ]
    },
    {
      "cell_type": "code",
      "metadata": {
        "colab": {
          "base_uri": "https://localhost:8080/",
          "height": 297
        },
        "id": "hHwEypy6jDha",
        "outputId": "fbc9571f-ffed-4ba7-b7ca-bded60c8a2e1"
      },
      "source": [
        "def plot_y(results):\n",
        "    plot(results.y, color='C1', label='y')\n",
        "\n",
        "    decorate(xlabel='Time (s)',\n",
        "             ylabel='Length (m)')\n",
        "    \n",
        "plot_y(results)"
      ],
      "execution_count": 27,
      "outputs": [
        {
          "output_type": "display_data",
          "data": {
            "image/png": "[encoded data removed]",
            "text/plain": [
              "<Figure size 432x288 with 1 Axes>"
            ]
          },
          "metadata": {
            "tags": [],
            "needs_background": "light"
          }
        }
      ]
    },
    {
      "cell_type": "markdown",
      "metadata": {
        "id": "1HqiWZsxjDha"
      },
      "source": [
        "Plot velocity as a function of time; is the yo-yo accelerating?"
      ]
    },
    {
      "cell_type": "markdown",
      "metadata": {
        "id": "iIp77azLkEFG"
      },
      "source": [
        "*No its decelerating*"
      ]
    },
    {
      "cell_type": "code",
      "metadata": {
        "colab": {
          "base_uri": "https://localhost:8080/",
          "height": 297
        },
        "id": "_2LiAgmzjDhb",
        "outputId": "5983429d-62dd-4ff8-bca8-70d1293f1c47"
      },
      "source": [
        "v = results.v # m / s\n",
        "plot(v)\n",
        "decorate(xlabel='Time (s)',\n",
        "         ylabel='Velocity (m/s)')"
      ],
      "execution_count": 29,
      "outputs": [
        {
          "output_type": "display_data",
          "data": {
            "image/png": "[encoded data removed]",
            "text/plain": [
              "<Figure size 432x288 with 1 Axes>"
            ]
          },
          "metadata": {
            "tags": [],
            "needs_background": "light"
          }
        }
      ]
    },
    {
      "cell_type": "markdown",
      "metadata": {
        "id": "7S_OQvjCjDhb"
      },
      "source": [
        "Use `gradient` to estimate the derivative of `v`.  How does the acceleration of the yo-yo compare to `g`?"
      ]
    },
    {
      "cell_type": "code",
      "metadata": {
        "scrolled": true,
        "colab": {
          "base_uri": "https://localhost:8080/",
          "height": 297
        },
        "id": "8bZffZvsjDhb",
        "outputId": "fa67e178-2bc1-48f9-ceb9-2ac870ff51d7"
      },
      "source": [
        "a = gradient(v)\n",
        "plot(a)\n",
        "decorate(xlabel='Time (s)',\n",
        "         ylabel='Acceleration (m/$s^2$)')"
      ],
      "execution_count": 30,
      "outputs": [
        {
          "output_type": "display_data",
          "data": {
            "image/png": "[encoded data removed]",
            "text/plain": [
              "<Figure size 432x288 with 1 Axes>"
            ]
          },
          "metadata": {
            "tags": [],
            "needs_background": "light"
          }
        }
      ]
    },
    {
      "cell_type": "markdown",
      "metadata": {
        "id": "Gb5oWaKcjDhb"
      },
      "source": [
        "*For the concept of I or moment of Inertia, you can see [this wikepedia page](https://en.wikipedia.org/wiki/List_of_moments_of_inertia).*\n",
        "\n",
        "*For the concept of Torque, see [this wikepedia page](https://en.wikipedia.org/wiki/Torque).*"
      ]
    }
  ]
}