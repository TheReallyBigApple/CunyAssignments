{
  "nbformat": 4,
  "nbformat_minor": 0,
  "metadata": {
    "kernelspec": {
      "display_name": "Python 3",
      "language": "python",
      "name": "python3"
    },
    "language_info": {
      "codemirror_mode": {
        "name": "ipython",
        "version": 3
      },
      "file_extension": ".py",
      "mimetype": "text/x-python",
      "name": "python",
      "nbconvert_exporter": "python",
      "pygments_lexer": "ipython3",
      "version": "3.7.9"
    },
    "colab": {
      "name": "chap07.ipynb",
      "provenance": [],
      "collapsed_sections": [],
      "include_colab_link": true
    }
  },
  "cells": [
    {
      "cell_type": "markdown",
      "metadata": {
        "id": "view-in-github",
        "colab_type": "text"
      },
      "source": [
        "<a href=\"https://colab.research.google.com/github/TheReallyBigApple/CunyAssignments/blob/main/Data604/chap07.ipynb\" target=\"_parent\"><img src=\"https://colab.research.google.com/assets/colab-badge.svg\" alt=\"Open In Colab\"/></a>"
      ]
    },
    {
      "cell_type": "markdown",
      "metadata": {
        "id": "xDl55Mg9SgaJ"
      },
      "source": [
        "#                       CUNY MSDS Data604 Week 3\n",
        "#                            Tom Buonora\n",
        "\n",
        "# Chapter 7"
      ]
    },
    {
      "cell_type": "markdown",
      "metadata": {
        "tags": [],
        "id": "yLzXy4U8SgaL"
      },
      "source": [
        "*Modeling and Simulation in Python*\n",
        "\n",
        "Copyright 2021 Allen Downey\n",
        "\n",
        "License: [Creative Commons Attribution-NonCommercial-ShareAlike 4.0 International](https://creativecommons.org/licenses/by-nc-sa/4.0/)"
      ]
    },
    {
      "cell_type": "code",
      "metadata": {
        "tags": [],
        "id": "oPgEVE-pSgaM"
      },
      "source": [
        "# check if the libraries we need are installed\n",
        "\n",
        "try:\n",
        "    import pint\n",
        "except ImportError:\n",
        "    !pip install pint\n",
        "    import pint\n",
        "    \n",
        "try:\n",
        "    from modsim import *\n",
        "except ImportError:\n",
        "    !pip install modsimpy\n",
        "    from modsim import *"
      ],
      "execution_count": 22,
      "outputs": []
    },
    {
      "cell_type": "markdown",
      "metadata": {
        "id": "X1dcnnvbSgaM"
      },
      "source": [
        "### Code from the previous chapter"
      ]
    },
    {
      "cell_type": "code",
      "metadata": {
        "id": "JRS-M3cwSgaM"
      },
      "source": [
        "import os\n",
        "\n",
        "filename = 'World_population_estimates.html'\n",
        "\n",
        "if not os.path.exists(filename):\n",
        "    !wget https://raw.githubusercontent.com/AllenDowney/ModSimPy/master/data/World_population_estimates.html"
      ],
      "execution_count": 23,
      "outputs": []
    },
    {
      "cell_type": "code",
      "metadata": {
        "id": "KeVnlFuzSgaN"
      },
      "source": [
        "from pandas import read_html\n",
        "\n",
        "tables = read_html(filename, header=0, index_col=0, decimal='M')\n",
        "table2 = tables[2]\n",
        "table2.columns = ['census', 'prb', 'un', 'maddison', \n",
        "                  'hyde', 'tanton', 'biraben', 'mj', \n",
        "                  'thomlinson', 'durand', 'clark']"
      ],
      "execution_count": 24,
      "outputs": []
    },
    {
      "cell_type": "code",
      "metadata": {
        "colab": {
          "base_uri": "https://localhost:8080/"
        },
        "id": "vdOxrijWSgaN",
        "outputId": "f6724b85-10cb-4e9a-e5a2-d6aee25307c5"
      },
      "source": [
        "un = table2.un / 1e9\n",
        "un.head()"
      ],
      "execution_count": 25,
      "outputs": [
        {
          "output_type": "execute_result",
          "data": {
            "text/plain": [
              "Year\n",
              "1950    2.525149\n",
              "1951    2.572851\n",
              "1952    2.619292\n",
              "1953    2.665865\n",
              "1954    2.713172\n",
              "Name: un, dtype: float64"
            ]
          },
          "metadata": {
            "tags": []
          },
          "execution_count": 25
        }
      ]
    },
    {
      "cell_type": "code",
      "metadata": {
        "colab": {
          "base_uri": "https://localhost:8080/"
        },
        "id": "Z9oG8VlXSgaN",
        "outputId": "d7be8c39-549b-4f0a-f0b8-e305a50c4ae5"
      },
      "source": [
        "census = table2.census / 1e9\n",
        "census.head()"
      ],
      "execution_count": 26,
      "outputs": [
        {
          "output_type": "execute_result",
          "data": {
            "text/plain": [
              "Year\n",
              "1950    2.557629\n",
              "1951    2.594940\n",
              "1952    2.636772\n",
              "1953    2.682053\n",
              "1954    2.730228\n",
              "Name: census, dtype: float64"
            ]
          },
          "metadata": {
            "tags": []
          },
          "execution_count": 26
        }
      ]
    },
    {
      "cell_type": "code",
      "metadata": {
        "id": "De1BRODwSgaO"
      },
      "source": [
        "def plot_results(census, un, timeseries, title):\n",
        "    \"\"\"Plot the estimates and the model.\n",
        "    \n",
        "    census: TimeSeries of population estimates\n",
        "    un: TimeSeries of population estimates\n",
        "    timeseries: TimeSeries of simulation results\n",
        "    title: string\n",
        "    \"\"\"\n",
        "    plot(census, ':', label='US Census')\n",
        "    plot(un, '--', label='UN DESA')\n",
        "    plot(timeseries, color='gray', label='model')\n",
        "    \n",
        "    decorate(xlabel='Year', \n",
        "             ylabel='World population (billion)',\n",
        "             title=title)"
      ],
      "execution_count": 27,
      "outputs": []
    },
    {
      "cell_type": "code",
      "metadata": {
        "id": "ka2WUZVDSgaO"
      },
      "source": [
        "def run_simulation(system, update_func):\n",
        "    \"\"\"Simulate the system using any update function.\n",
        "    \n",
        "    system: System object\n",
        "    update_func: function that computes the population next year\n",
        "    \n",
        "    returns: TimeSeries\n",
        "    \"\"\"\n",
        "    results = TimeSeries()\n",
        "    results[system.t_0] = system.p_0\n",
        "    \n",
        "    for t in linrange(system.t_0, system.t_end):\n",
        "        results[t+1] = update_func(results[t], t, system)\n",
        "        \n",
        "    return results"
      ],
      "execution_count": 28,
      "outputs": []
    },
    {
      "cell_type": "markdown",
      "metadata": {
        "id": "2p77MfaWSgaO"
      },
      "source": [
        "### Quadratic growth"
      ]
    },
    {
      "cell_type": "markdown",
      "metadata": {
        "id": "PNlSQ5eRSgaO"
      },
      "source": [
        "Here's the implementation of the quadratic growth model."
      ]
    },
    {
      "cell_type": "code",
      "metadata": {
        "id": "2JVoSIL8SgaP"
      },
      "source": [
        "def update_func_quad(pop, t, system):\n",
        "    \"\"\"Compute the population next year with a quadratic model.\n",
        "    \n",
        "    pop: current population\n",
        "    t: current year\n",
        "    system: system object containing parameters of the model\n",
        "    \n",
        "    returns: population next year\n",
        "    \"\"\"\n",
        "    net_growth = system.alpha * pop + system.beta * pop**2\n",
        "    return pop + net_growth"
      ],
      "execution_count": 29,
      "outputs": []
    },
    {
      "cell_type": "markdown",
      "metadata": {
        "id": "jnn__-w0SgaP"
      },
      "source": [
        "Here's a `System` object with the parameters `alpha` and `beta`:"
      ]
    },
    {
      "cell_type": "code",
      "metadata": {
        "id": "vK_Pk9qQSgaP"
      },
      "source": [
        "t_0 = get_first_label(census)\n",
        "t_end = get_last_label(census)\n",
        "p_0 = census[t_0]\n",
        "\n",
        "system = System(t_0=t_0, \n",
        "                t_end=t_end,\n",
        "                p_0=p_0,\n",
        "                alpha=0.025,\n",
        "                beta=-0.0018)"
      ],
      "execution_count": 30,
      "outputs": []
    },
    {
      "cell_type": "markdown",
      "metadata": {
        "id": "xnq4zBwmSgaP"
      },
      "source": [
        "And here are the results."
      ]
    },
    {
      "cell_type": "code",
      "metadata": {
        "colab": {
          "base_uri": "https://localhost:8080/",
          "height": 288
        },
        "id": "wMVCpNI-SgaP",
        "outputId": "90fb36dc-0cdf-418d-b223-fe32ce07e210"
      },
      "source": [
        "results = run_simulation(system, update_func_quad)\n",
        "plot_results(census, un, results, 'Quadratic model')"
      ],
      "execution_count": 31,
      "outputs": [
        {
          "output_type": "display_data",
          "data": {
            "image/png": "[encoded data removed]",
            "text/plain": [
              "<Figure size 432x288 with 1 Axes>"
            ]
          },
          "metadata": {
            "tags": []
          }
        }
      ]
    },
    {
      "cell_type": "markdown",
      "metadata": {
        "id": "TYhWOIrxSgaQ"
      },
      "source": [
        "**Exercise:**  Can you find values for the parameters that make the model fit better?"
      ]
    },
    {
      "cell_type": "markdown",
      "metadata": {
        "id": "ns8-qEuGVO4V"
      },
      "source": [
        "<br><font color=\"purple\">The model already fit well, and its sensitive to changes to the coefficients. However if I reduce Beta a little, the line shifts lower which seems a bit better</font><br>"
      ]
    },
    {
      "cell_type": "code",
      "metadata": {
        "colab": {
          "base_uri": "https://localhost:8080/",
          "height": 288
        },
        "id": "wKLegUQEXa1O",
        "outputId": "06717b1e-b18a-4cc2-fcbf-6dd236d5e7e6"
      },
      "source": [
        "\n",
        "\n",
        "system = System(t_0=t_0, t_end=t_end,   p_0=p_0,\n",
        "                alpha=0.0247,\n",
        "                beta=-0.0018)\n",
        "\n",
        "\n",
        "results = run_simulation(system, update_func_quad)\n",
        "plot_results(census, un, results, 'Quadratic model')"
      ],
      "execution_count": 32,
      "outputs": [
        {
          "output_type": "display_data",
          "data": {
            "image/png": "[encoded data removed]",
            "text/plain": [
              "<Figure size 432x288 with 1 Axes>"
            ]
          },
          "metadata": {
            "tags": []
          }
        }
      ]
    },
    {
      "cell_type": "markdown",
      "metadata": {
        "id": "JqmWYSC2SgaQ"
      },
      "source": [
        "### Equilibrium\n",
        "\n",
        "To understand the quadratic model better, let's plot net growth as a function of population."
      ]
    },
    {
      "cell_type": "code",
      "metadata": {
        "id": "pYGnT2ZfSgaQ"
      },
      "source": [
        "pop_array = linspace(0, 15, 100)\n",
        "net_growth_array = system.alpha * pop_array + system.beta * pop_array**2\n",
        "None"
      ],
      "execution_count": 33,
      "outputs": []
    },
    {
      "cell_type": "markdown",
      "metadata": {
        "id": "QhSIskeASgaQ"
      },
      "source": [
        "Here's what it looks like."
      ]
    },
    {
      "cell_type": "code",
      "metadata": {
        "colab": {
          "base_uri": "https://localhost:8080/",
          "height": 288
        },
        "id": "dcwla-1ZSgaQ",
        "outputId": "84ac65a7-8e1e-47f6-e364-1dabb1bb2a19"
      },
      "source": [
        "sns.set_style('whitegrid')\n",
        "\n",
        "plot(pop_array, net_growth_array)\n",
        "decorate(xlabel='Population (billions)',\n",
        "         ylabel='Net growth (billions)')\n",
        "\n",
        "sns.set_style('white')"
      ],
      "execution_count": 34,
      "outputs": [
        {
          "output_type": "display_data",
          "data": {
            "image/png": "[encoded data removed]",
            "text/plain": [
              "<Figure size 432x288 with 1 Axes>"
            ]
          },
          "metadata": {
            "tags": []
          }
        }
      ]
    },
    {
      "cell_type": "markdown",
      "metadata": {
        "id": "YeD05AX4SgaQ"
      },
      "source": [
        "Here's what it looks like.  Remember that the x axis is population now, not time."
      ]
    },
    {
      "cell_type": "markdown",
      "metadata": {
        "id": "PvYE-AJ5SgaQ"
      },
      "source": [
        "It looks like the growth rate passes through 0 when the population is a little less than 14 billion.\n",
        "\n",
        "In the book we found that the net growth is 0 when the population is $-\\alpha/\\beta$:"
      ]
    },
    {
      "cell_type": "code",
      "metadata": {
        "colab": {
          "base_uri": "https://localhost:8080/"
        },
        "id": "-b20nctDSgaR",
        "outputId": "2881e98d-d683-4c51-89e4-1ffdc6ccec6d"
      },
      "source": [
        "-system.alpha / system.beta"
      ],
      "execution_count": 35,
      "outputs": [
        {
          "output_type": "execute_result",
          "data": {
            "text/plain": [
              "13.722222222222223"
            ]
          },
          "metadata": {
            "tags": []
          },
          "execution_count": 35
        }
      ]
    },
    {
      "cell_type": "markdown",
      "metadata": {
        "id": "wa013fE7SgaR"
      },
      "source": [
        "This is the equilibrium the population tends toward."
      ]
    },
    {
      "cell_type": "markdown",
      "metadata": {
        "id": "SW5ouVjdSgaR"
      },
      "source": [
        "`sns` is a library called Seaborn which provides functions that control the appearance of plots.  In this case I want a grid to make it easier to estimate the population where the growth rate crosses through 0."
      ]
    },
    {
      "cell_type": "markdown",
      "metadata": {
        "id": "JjDWFJC7SgaR"
      },
      "source": [
        "### Dysfunctions"
      ]
    },
    {
      "cell_type": "markdown",
      "metadata": {
        "id": "ba1gWlkKSgaR"
      },
      "source": [
        "When people first learn about functions, there are a few things they often find confusing.  In this section I present and explain some common problems with functions.\n",
        "\n",
        "As an example, suppose you want a function that takes a `System` object, with variables `alpha` and `beta`, as a parameter and computes the carrying capacity, `-alpha/beta`.  Here's a good solution:"
      ]
    },
    {
      "cell_type": "code",
      "metadata": {
        "colab": {
          "base_uri": "https://localhost:8080/"
        },
        "id": "zBXMw1AFSgaR",
        "outputId": "5df825f6-9417-425f-ee8a-53a9b30a1fa1"
      },
      "source": [
        "def carrying_capacity(system):\n",
        "    K = -system.alpha / system.beta\n",
        "    return K\n",
        "    \n",
        "sys1 = System(alpha=0.025, beta=-0.0018)\n",
        "pop = carrying_capacity(sys1)\n",
        "print(pop)"
      ],
      "execution_count": 36,
      "outputs": [
        {
          "output_type": "stream",
          "text": [
            "13.88888888888889\n"
          ],
          "name": "stdout"
        }
      ]
    },
    {
      "cell_type": "markdown",
      "metadata": {
        "id": "BJLCCNyISgaS"
      },
      "source": [
        "Now let's see all the ways that can go wrong.\n",
        "\n",
        "**Dysfunction #1:** Not using parameters.  In the following version, the function doesn't take any parameters; when `sys1` appears inside the function, it refers to the object we created outside the function.\n"
      ]
    },
    {
      "cell_type": "code",
      "metadata": {
        "colab": {
          "base_uri": "https://localhost:8080/"
        },
        "id": "u1xBfnLFSgaS",
        "outputId": "62903e78-99b3-41ac-b321-260cf1aba0c6"
      },
      "source": [
        "def carrying_capacity():\n",
        "    K = -sys1.alpha / sys1.beta\n",
        "    return K\n",
        "    \n",
        "sys1 = System(alpha=0.025, beta=-0.0018)\n",
        "pop = carrying_capacity()\n",
        "print(pop)"
      ],
      "execution_count": 37,
      "outputs": [
        {
          "output_type": "stream",
          "text": [
            "13.88888888888889\n"
          ],
          "name": "stdout"
        }
      ]
    },
    {
      "cell_type": "markdown",
      "metadata": {
        "id": "OcgGwSMZSgaS"
      },
      "source": [
        "This version actually works, but it is not as versatile as it could be.  If there are several `System` objects, this function can only work with one of them, and only if it is named `system`.\n",
        "\n",
        "**Dysfunction #2:** Clobbering the parameters.  When people first learn about parameters, they often write functions like this:"
      ]
    },
    {
      "cell_type": "code",
      "metadata": {
        "colab": {
          "base_uri": "https://localhost:8080/"
        },
        "id": "avnB9Wb5SgaS",
        "outputId": "2dfb98ea-5923-4459-8dce-a56a4eca8913"
      },
      "source": [
        "def carrying_capacity(system):\n",
        "    system = System(alpha=0.025, beta=-0.0018)\n",
        "    K = -system.alpha / system.beta\n",
        "    return K\n",
        "    \n",
        "sys1 = System(alpha=0.025, beta=-0.0018)\n",
        "pop = carrying_capacity(sys1)\n",
        "print(pop)"
      ],
      "execution_count": 38,
      "outputs": [
        {
          "output_type": "stream",
          "text": [
            "13.88888888888889\n"
          ],
          "name": "stdout"
        }
      ]
    },
    {
      "cell_type": "markdown",
      "metadata": {
        "id": "ZwEtYGU9SgaS"
      },
      "source": [
        "In this example, we have a `System` object named `sys1` that gets passed as an argument to `carrying_capacity`.  But when the function runs, it ignores the argument and immediately replaces it with a new `System` object.  As a result, this function always returns the same value, no matter what argument is passed.\n",
        "\n",
        "When you write a function, you generally don't know what the values of the parameters will be.  Your job is to write a function that works for any valid values.  If you assign your own values to the parameters, you defeat the whole purpose of functions.\n",
        "\n",
        "\n",
        "**Dysfunction #3:** No return value.  Here's a version that computes the value of `K` but doesn't return it."
      ]
    },
    {
      "cell_type": "code",
      "metadata": {
        "colab": {
          "base_uri": "https://localhost:8080/"
        },
        "id": "VeGFP8rHSgaT",
        "outputId": "c25bf8b2-d12f-4ba5-9dd8-0f66e1f80076"
      },
      "source": [
        "def carrying_capacity(system):\n",
        "    K = -system.alpha / system.beta\n",
        "    \n",
        "sys1 = System(alpha=0.025, beta=-0.0018)\n",
        "pop = carrying_capacity(sys1)\n",
        "print(pop)"
      ],
      "execution_count": 39,
      "outputs": [
        {
          "output_type": "stream",
          "text": [
            "None\n"
          ],
          "name": "stdout"
        }
      ]
    },
    {
      "cell_type": "markdown",
      "metadata": {
        "id": "VR6hpUthSgaT"
      },
      "source": [
        "A function that doesn't have a return statement always returns a special value called `None`, so in this example the value of `pop` is `None`.  If you are debugging a program and find that the value of a variable is `None` when it shouldn't be, a function without a return statement is a likely cause.\n",
        "\n",
        "**Dysfunction #4:** Ignoring the return value.  Finally, here's a version where the function is correct, but the way it's used is not."
      ]
    },
    {
      "cell_type": "code",
      "metadata": {
        "colab": {
          "base_uri": "https://localhost:8080/"
        },
        "id": "TaDfE0KsSgaT",
        "outputId": "474eb933-ac31-43cc-84b0-e919208cbb93"
      },
      "source": [
        "def carrying_capacity(system):\n",
        "    K = -system.alpha / system.beta\n",
        "    return K\n",
        "    \n",
        "sys2 = System(alpha=0.025, beta=-0.0018)\n",
        "carrying_capacity(sys2)\n",
        "\n",
        "# print(K)     This line won't work because K only exists inside the function."
      ],
      "execution_count": 40,
      "outputs": [
        {
          "output_type": "execute_result",
          "data": {
            "text/plain": [
              "13.88888888888889"
            ]
          },
          "metadata": {
            "tags": []
          },
          "execution_count": 40
        }
      ]
    },
    {
      "cell_type": "markdown",
      "metadata": {
        "id": "62xk5I6pSgaT"
      },
      "source": [
        "In this example, `carrying_capacity` runs and returns `K`, but the return value is dropped.\n",
        "\n",
        "When you call a function that returns a value, you should do something with the result.  Often you assign it to a variable, as in the previous examples, but you can also use it as part of an expression.\n",
        "\n",
        "For example, you could eliminate the temporary variable `pop` like this:"
      ]
    },
    {
      "cell_type": "code",
      "metadata": {
        "colab": {
          "base_uri": "https://localhost:8080/"
        },
        "id": "nSLtJc4xSgaT",
        "outputId": "5c197ec1-c990-4fac-8e06-4c1d0ec3a31f"
      },
      "source": [
        "print(carrying_capacity(sys1))"
      ],
      "execution_count": 41,
      "outputs": [
        {
          "output_type": "stream",
          "text": [
            "13.88888888888889\n"
          ],
          "name": "stdout"
        }
      ]
    },
    {
      "cell_type": "markdown",
      "metadata": {
        "id": "8J9XE9TwSgaT"
      },
      "source": [
        "Or if you had more than one system, you could compute the total carrying capacity like this:\n"
      ]
    },
    {
      "cell_type": "code",
      "metadata": {
        "colab": {
          "base_uri": "https://localhost:8080/"
        },
        "id": "_cqJCS6QSgaU",
        "outputId": "e28ccf62-010d-4ca7-d4ac-847bc1d49eef"
      },
      "source": [
        "total = carrying_capacity(sys1) + carrying_capacity(sys2)\n",
        "total"
      ],
      "execution_count": 42,
      "outputs": [
        {
          "output_type": "execute_result",
          "data": {
            "text/plain": [
              "27.77777777777778"
            ]
          },
          "metadata": {
            "tags": []
          },
          "execution_count": 42
        }
      ]
    },
    {
      "cell_type": "markdown",
      "metadata": {
        "id": "1_8xIdqYSgaU"
      },
      "source": [
        "## Exercises\n",
        "\n",
        "**Exercise:** In the book, I present a different way to parameterize the quadratic model:\n",
        "\n",
        "$ \\Delta p = r p (1 - p / K) $\n",
        "\n",
        "where $r=\\alpha$ and $K=-\\alpha/\\beta$.  Write a version of `update_func` that implements this version of the model.  Test it by computing the values of `r` and `K` that correspond to `alpha=0.025, beta=-0.0018`, and confirm that you get the same results. "
      ]
    },
    {
      "cell_type": "code",
      "metadata": {
        "id": "8SxsERIKSgaU"
      },
      "source": [
        "\n",
        "def update_func_quad2(pop, system):\n",
        "    \"\"\"Compute the population next year with a quadratic model.\n",
        "    \n",
        "    pop: current population\n",
        "    t: current year\n",
        "    system: system object containing parameters of the model\n",
        "    \n",
        "    returns: population next year\n",
        "    \"\"\"\n",
        "    r=system.alpha\n",
        "    p=pop\n",
        "    K=carrying_capacity(system)\n",
        "    net_growth=r * p * (1 - (p/K))\n",
        "    return net_growth\n",
        "\n"
      ],
      "execution_count": 46,
      "outputs": []
    },
    {
      "cell_type": "code",
      "metadata": {
        "id": "6Wk8_yDKSgaU"
      },
      "source": [
        "\n",
        "results = TimeSeries()\n",
        "\n",
        "for p in pop_array:\n",
        "        results[p] = update_func_quad2(p, sys2)\n",
        "\n",
        "\n"
      ],
      "execution_count": 47,
      "outputs": []
    },
    {
      "cell_type": "code",
      "metadata": {
        "colab": {
          "base_uri": "https://localhost:8080/",
          "height": 288
        },
        "id": "NxrrLg9eSgaU",
        "outputId": "f5f8e458-c509-400a-9f44-d28dfec2a8b7"
      },
      "source": [
        "\n",
        "sns.set_style('whitegrid')\n",
        "\n",
        "plot(results)\n",
        "decorate(xlabel='Population (billions)',\n",
        "         ylabel='Net growth (billions)')\n",
        "\n",
        "sns.set_style('white')"
      ],
      "execution_count": 45,
      "outputs": [
        {
          "output_type": "display_data",
          "data": {
            "image/png": "[encoded data removed]",
            "text/plain": [
              "<Figure size 432x288 with 1 Axes>"
            ]
          },
          "metadata": {
            "tags": []
          }
        }
      ]
    }
  ]
}