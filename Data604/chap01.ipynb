{
  "nbformat": 4,
  "nbformat_minor": 0,
  "metadata": {
    "kernelspec": {
      "display_name": "Python 3",
      "language": "python",
      "name": "python3"
    },
    "language_info": {
      "codemirror_mode": {
        "name": "ipython",
        "version": 3
      },
      "file_extension": ".py",
      "mimetype": "text/x-python",
      "name": "python",
      "nbconvert_exporter": "python",
      "pygments_lexer": "ipython3",
      "version": "3.7.9"
    },
    "colab": {
      "name": "chap01.ipynb",
      "provenance": [],
      "collapsed_sections": [],
      "include_colab_link": true
    }
  },
  "cells": [
    {
      "cell_type": "markdown",
      "metadata": {
        "id": "view-in-github",
        "colab_type": "text"
      },
      "source": [
        "<a href=\"https://colab.research.google.com/github/TheReallyBigApple/CunyAssignments/blob/main/Data604/chap01.ipynb\" target=\"_parent\"><img src=\"https://colab.research.google.com/assets/colab-badge.svg\" alt=\"Open In Colab\"/></a>"
      ]
    },
    {
      "cell_type": "markdown",
      "metadata": {
        "id": "7jIlMfrdQ9Yb"
      },
      "source": [
        "<h1><center>CUNY MSDS Data 604 Week 1</center></h1> \n",
        "\n",
        "\n",
        "# Chapter 1\n"
      ]
    },
    {
      "cell_type": "markdown",
      "metadata": {
        "tags": [],
        "id": "Edi1vwCnQ9Yd"
      },
      "source": [
        "*Modeling and Simulation in Python*\n",
        "\n",
        "Copyright 2021 Allen Downey\n",
        "\n",
        "License: [Creative Commons Attribution-NonCommercial-ShareAlike 4.0 International](https://creativecommons.org/licenses/by-nc-sa/4.0/)"
      ]
    },
    {
      "cell_type": "code",
      "metadata": {
        "tags": [],
        "id": "shwhHoJXQ9Yd"
      },
      "source": [
        "# check if the libraries we need are installed\n",
        "\n",
        "try:\n",
        "    import pint\n",
        "except ImportError:\n",
        "    !pip install pint\n",
        "    import pint\n",
        "    \n",
        "try:\n",
        "    from modsim import *\n",
        "except ImportError:\n",
        "    !pip install modsimpy\n",
        "    from modsim import *"
      ],
      "execution_count": 1,
      "outputs": []
    },
    {
      "cell_type": "markdown",
      "metadata": {
        "id": "zgj5pl6mQ9Ye"
      },
      "source": [
        "## Jupyter\n",
        "\n",
        "Welcome to *Modeling and Simulation in Python*, and welcome to Jupyter.\n",
        "\n",
        "This is a Jupyter notebook, which is a development environment where you can write and run Python code.  Each notebook is divided into cells.  Each cell contains either text (like this cell) or Python code."
      ]
    },
    {
      "cell_type": "markdown",
      "metadata": {
        "id": "2htRyeEfQ9Ye"
      },
      "source": [
        "### Selecting and running cells\n",
        "\n",
        "To select a cell, click in the left margin next to the cell.  You should see a blue frame surrounding the selected cell.\n",
        "\n",
        "To edit a code cell, click inside the cell.  You should see a green frame around the selected cell, and you should see a cursor inside the cell.\n",
        "\n",
        "To edit a text cell, double-click inside the cell.  Again, you should see a green frame around the selected cell, and you should see a cursor inside the cell.\n",
        "\n",
        "To run a cell, hold down SHIFT and press ENTER.  \n",
        "\n",
        "* If you run a text cell, Jupyter formats the text and displays the result.\n",
        "\n",
        "* If you run a code cell, Jupyter runs the Python code in the cell and displays the result, if any.\n",
        "\n",
        "To try it out, edit this cell, change some of the text, and then press SHIFT-ENTER to format it."
      ]
    },
    {
      "cell_type": "markdown",
      "metadata": {
        "id": "nVLOEmoZQ9Yf"
      },
      "source": [
        "### Adding and removing cells\n",
        "\n",
        "You can add and remove cells from a notebook using the buttons in the toolbar and the items in the menu, both of which you should see at the top of this notebook.\n",
        "\n",
        "Try the following exercises:\n",
        "\n",
        "1.  From the Insert menu select \"Insert cell below\" to add a cell below this one.  By default, you get a code cell, as you can see in the pulldown menu that says \"Code\".\n",
        "\n",
        "2.  In the new cell, add a print statement like `print('Hello')`, and run it.\n",
        "\n",
        "3.  Add another cell, select the new cell, and then click on the pulldown menu that says \"Code\" and select \"Markdown\".  This makes the new cell a text cell.\n",
        "\n",
        "4.  In the new cell, type some text, and then run it.\n",
        "\n",
        "5.  Use the arrow buttons in the toolbar to move cells up and down.\n",
        "\n",
        "6.  Use the cut, copy, and paste buttons to delete, add, and move cells.\n",
        "\n",
        "7.  As you make changes, Jupyter saves your notebook automatically, but if you want to make sure, you can press the save button, which looks like a floppy disk from the 1990s.\n",
        "\n",
        "8.  Finally, when you are done with a notebook, select \"Close and Halt\" from the File menu."
      ]
    },
    {
      "cell_type": "markdown",
      "metadata": {
        "id": "Y1377pehQ9Yf"
      },
      "source": [
        "### Installing modules\n",
        "\n",
        "These notebooks use standard Python modules like NumPy and SciPy.  I assume you already have them installed in your environment.\n",
        "\n",
        "They also use two less common modules: Pint, which provides units, and `modsimpy`, which contains code I wrote specifically for this book.\n",
        "\n",
        "The following cells check whether you have these modules already and tries to install them if you don't."
      ]
    },
    {
      "cell_type": "code",
      "metadata": {
        "id": "uwRacWMmQ9Yf"
      },
      "source": [
        "try:\n",
        "    import pint\n",
        "except ImportError:\n",
        "    !pip install pint\n",
        "    import pint"
      ],
      "execution_count": 2,
      "outputs": []
    },
    {
      "cell_type": "code",
      "metadata": {
        "id": "yGqlAaxYQ9Yg"
      },
      "source": [
        "try:\n",
        "    from modsim import *\n",
        "except ImportError:\n",
        "    !pip install modsimpy\n",
        "    from modsim import *"
      ],
      "execution_count": 3,
      "outputs": []
    },
    {
      "cell_type": "markdown",
      "metadata": {
        "id": "t1CvT25bQ9Yg"
      },
      "source": [
        "The first time you run this on a new installation of Python, it might produce a warning message in pink.  That's probably ok, but if you get a message that says `modsim.py depends on Python 3.7 features`, that means you have an older version of Python, and some features in `modsim.py` won't work correctly.\n",
        "\n",
        "If you need a newer version of Python, I recommend installing Anaconda.  You'll find more information in the preface of the book.\n",
        "\n",
        "You can find out what version of Python and Jupyter you have by running the following cells."
      ]
    },
    {
      "cell_type": "code",
      "metadata": {
        "colab": {
          "base_uri": "https://localhost:8080/"
        },
        "id": "WZKHPwRzQ9Yg",
        "outputId": "1bdeeaf1-babb-495a-e150-e2a89ccd7ec7"
      },
      "source": [
        "!python --version"
      ],
      "execution_count": 4,
      "outputs": [
        {
          "output_type": "stream",
          "text": [
            "Python 3.7.10\n"
          ],
          "name": "stdout"
        }
      ]
    },
    {
      "cell_type": "code",
      "metadata": {
        "colab": {
          "base_uri": "https://localhost:8080/"
        },
        "id": "-vePzBVMQ9Yg",
        "outputId": "9c2048c1-1664-438e-9e3f-b5dcefa81496"
      },
      "source": [
        "!jupyter-notebook --version"
      ],
      "execution_count": 5,
      "outputs": [
        {
          "output_type": "stream",
          "text": [
            "5.2.2\n"
          ],
          "name": "stdout"
        }
      ]
    },
    {
      "cell_type": "markdown",
      "metadata": {
        "id": "k4ZbkqwEQ9Yh"
      },
      "source": [
        "## The penny myth\n",
        "\n",
        "The following cells contain code from the beginning of Chapter 1.\n",
        "\n",
        "`modsim` defines `UNITS`, which contains variables representing pretty much every unit you've ever heard of.  It uses [Pint](https://pint.readthedocs.io/en/latest/), which is a Python library that provides tools for computing with units.\n",
        "\n",
        "The following lines create new variables named `meter` and `second`."
      ]
    },
    {
      "cell_type": "code",
      "metadata": {
        "id": "sYSzTPCyQ9Yh"
      },
      "source": [
        "meter = UNITS.meter"
      ],
      "execution_count": 6,
      "outputs": []
    },
    {
      "cell_type": "code",
      "metadata": {
        "id": "forJ4_0JQ9Yh"
      },
      "source": [
        "second = UNITS.second"
      ],
      "execution_count": 7,
      "outputs": []
    },
    {
      "cell_type": "markdown",
      "metadata": {
        "id": "gaUfpgXUQ9Yh"
      },
      "source": [
        "To find out what other units are defined, type `UNITS.` (including the period) in the next cell and then press TAB.  You should see a pop-up menu with a list of units."
      ]
    },
    {
      "cell_type": "code",
      "metadata": {
        "id": "VkYi2nnZQ9Yh"
      },
      "source": [
        ""
      ],
      "execution_count": 7,
      "outputs": []
    },
    {
      "cell_type": "markdown",
      "metadata": {
        "id": "b9WSK6qdQ9Yi"
      },
      "source": [
        "Create a variable named `a` and give it the value of acceleration due to gravity."
      ]
    },
    {
      "cell_type": "code",
      "metadata": {
        "id": "_8qZVltOQ9Yi"
      },
      "source": [
        "a = 9.8 * meter / second**2"
      ],
      "execution_count": 8,
      "outputs": []
    },
    {
      "cell_type": "markdown",
      "metadata": {
        "id": "bdm-jlurQ9Yi"
      },
      "source": [
        "Create `t` and give it the value 4 seconds."
      ]
    },
    {
      "cell_type": "code",
      "metadata": {
        "id": "BNy3ryrNQ9Yi"
      },
      "source": [
        "t = 4 * second"
      ],
      "execution_count": 9,
      "outputs": []
    },
    {
      "cell_type": "markdown",
      "metadata": {
        "id": "1hJurIXKQ9Yi"
      },
      "source": [
        "Compute the distance a penny would fall after `t` seconds with constant acceleration `a`.  Notice that the units of the result are correct."
      ]
    },
    {
      "cell_type": "code",
      "metadata": {
        "colab": {
          "base_uri": "https://localhost:8080/",
          "height": 34
        },
        "id": "jb2kFmtEQ9Yi",
        "outputId": "faa65d31-6db1-4adb-afa8-9911debe9526"
      },
      "source": [
        "a * t**2 / 2"
      ],
      "execution_count": 10,
      "outputs": [
        {
          "output_type": "execute_result",
          "data": {
            "text/latex": "$78.4\\ \\mathrm{meter}$",
            "text/html": [
              "78.4 meter"
            ],
            "text/plain": [
              "78.4 meter"
            ]
          },
          "metadata": {
            "tags": []
          },
          "execution_count": 10
        }
      ]
    },
    {
      "cell_type": "markdown",
      "metadata": {
        "id": "Wj-LrOaUQ9Yj"
      },
      "source": [
        "**Exercise**: Compute the velocity of the penny after `t` seconds.  Check that the units of the result are correct.\n",
        "\n",
        "\n",
        "<br><font color=\"purple\">The simple equation for velocity is $v = at$</font><br>"
      ]
    },
    {
      "cell_type": "code",
      "metadata": {
        "colab": {
          "base_uri": "https://localhost:8080/",
          "height": 34
        },
        "id": "HM9GGkyJQ9Yj",
        "outputId": "f2a93e95-d04b-46d1-ed66-3f4c22315ff9"
      },
      "source": [
        "v = a*t\n",
        "v"
      ],
      "execution_count": 11,
      "outputs": [
        {
          "output_type": "execute_result",
          "data": {
            "text/latex": "$39.2\\ \\frac{\\mathrm{meter}}{\\mathrm{second}}$",
            "text/html": [
              "39.2 meter/second"
            ],
            "text/plain": [
              "39.2 meter/second"
            ]
          },
          "metadata": {
            "tags": []
          },
          "execution_count": 11
        }
      ]
    },
    {
      "cell_type": "markdown",
      "metadata": {
        "id": "DzZjzGuJQ9Yj"
      },
      "source": [
        "**Exercise**: Why would it be nonsensical to add `a` and `t`? What happens if you try?\n",
        "\n",
        "\n",
        "<br><font color=\"purple\">\"Meters per second\" is a discrete unit. You can add \"Meters per second\" to \"Meters per second\" but the pint package is not making the assumption that t is factor of \"Meters per second\". It sees a and t as incompatible units.  </font><br>"
      ]
    },
    {
      "cell_type": "code",
      "metadata": {
        "id": "tg_GMS2MQ9Yj"
      },
      "source": [
        "# a+t  # DimensionalityError: Cannot convert from 'meter / second ** 2' ([length] / [time] ** 2) to 'second' ([time])"
      ],
      "execution_count": 12,
      "outputs": []
    },
    {
      "cell_type": "markdown",
      "metadata": {
        "id": "ecOkofApQ9Yj"
      },
      "source": [
        "The error messages you get from Python are big and scary, but if you read them carefully, they contain a lot of useful information.\n",
        "\n",
        "1.  Start from the bottom and read up.\n",
        "2.  The last line usually tells you what type of error happened, and sometimes additional information.\n",
        "3.  The previous lines are a \"traceback\" of what was happening when the error occurred.  The first section of the traceback shows the code you wrote.  The following sections are often from Python libraries.\n",
        "\n",
        "In this example, you should get a `DimensionalityError`, which is defined by Pint to indicate that you have violated a rules of dimensional analysis: you cannot add quantities with different dimensions.\n",
        "\n",
        "Before you go on, you might want to delete the erroneous code so the notebook can run without errors."
      ]
    },
    {
      "cell_type": "markdown",
      "metadata": {
        "id": "PaLOp1uvQ9Yj"
      },
      "source": [
        "## Falling pennies\n",
        "\n",
        "Now let's solve the falling penny problem.\n",
        "\n",
        "Set `h` to the height of the Empire State Building:"
      ]
    },
    {
      "cell_type": "code",
      "metadata": {
        "id": "0CxpPYRbQ9Yj"
      },
      "source": [
        "h = 381 * meter"
      ],
      "execution_count": 13,
      "outputs": []
    },
    {
      "cell_type": "markdown",
      "metadata": {
        "id": "-mjbYUUSQ9Yk"
      },
      "source": [
        "Compute the time it would take a penny to fall, assuming constant acceleration.\n",
        "\n",
        "$ a t^2 / 2 = h $\n",
        "\n",
        "$ t = \\sqrt{2 h / a}$"
      ]
    },
    {
      "cell_type": "code",
      "metadata": {
        "colab": {
          "base_uri": "https://localhost:8080/",
          "height": 34
        },
        "id": "DR7wXv50Q9Yk",
        "outputId": "710ae166-ed3d-4b1f-a0da-3361d0c2ea44"
      },
      "source": [
        "t = sqrt(2 * h / a)\n",
        "t"
      ],
      "execution_count": 14,
      "outputs": [
        {
          "output_type": "execute_result",
          "data": {
            "text/latex": "$8.817885349720552\\ \\mathrm{second}$",
            "text/html": [
              "8.817885349720552 second"
            ],
            "text/plain": [
              "8.817885349720552 second"
            ]
          },
          "metadata": {
            "tags": []
          },
          "execution_count": 14
        }
      ]
    },
    {
      "cell_type": "markdown",
      "metadata": {
        "id": "FzoEwWr9Q9Yk"
      },
      "source": [
        "Given `t`, we can compute the velocity of the penny when it lands.\n",
        "\n",
        "$v = a t$"
      ]
    },
    {
      "cell_type": "code",
      "metadata": {
        "colab": {
          "base_uri": "https://localhost:8080/",
          "height": 34
        },
        "id": "_R6x4ANyQ9Yk",
        "outputId": "e846b558-b3e7-4b3a-d6c2-3d2dfe2a96db"
      },
      "source": [
        "v = a * t\n",
        "v"
      ],
      "execution_count": 15,
      "outputs": [
        {
          "output_type": "execute_result",
          "data": {
            "text/latex": "$86.41527642726142\\ \\frac{\\mathrm{meter}}{\\mathrm{second}}$",
            "text/html": [
              "86.41527642726142 meter/second"
            ],
            "text/plain": [
              "86.41527642726142 meter/second"
            ]
          },
          "metadata": {
            "tags": []
          },
          "execution_count": 15
        }
      ]
    },
    {
      "cell_type": "markdown",
      "metadata": {
        "id": "hHaX63OCQ9Yk"
      },
      "source": [
        "We can convert from one set of units to another like this:"
      ]
    },
    {
      "cell_type": "code",
      "metadata": {
        "id": "CndhG2XVQ9Yk"
      },
      "source": [
        "mile = UNITS.mile\n",
        "hour = UNITS.hour"
      ],
      "execution_count": 16,
      "outputs": []
    },
    {
      "cell_type": "code",
      "metadata": {
        "colab": {
          "base_uri": "https://localhost:8080/",
          "height": 34
        },
        "id": "5YQlKKR7Q9Yk",
        "outputId": "de552d9d-4356-4970-deee-8658ec797310"
      },
      "source": [
        "v.to(mile/hour)"
      ],
      "execution_count": 17,
      "outputs": [
        {
          "output_type": "execute_result",
          "data": {
            "text/latex": "$193.30546802805432\\ \\frac{\\mathrm{mile}}{\\mathrm{hour}}$",
            "text/html": [
              "193.30546802805432 mile/hour"
            ],
            "text/plain": [
              "193.30546802805432 mile/hour"
            ]
          },
          "metadata": {
            "tags": []
          },
          "execution_count": 17
        }
      ]
    },
    {
      "cell_type": "markdown",
      "metadata": {
        "id": "S9-YJMykQ9Yl"
      },
      "source": [
        "**Exercise:** Suppose you bring a 10 foot pole to the top of the Empire State Building and use it to drop the penny from `h` plus 10 feet.\n",
        "\n",
        "Define a variable named `foot` that contains the unit `foot` provided by `UNITS`.  Define a variable named `pole_height` and give it the value 10 feet.\n",
        "\n",
        "What happens if you add `h`, which is in units of meters, to `pole_height`, which is in units of feet?  What happens if you write the addition the other way around?\n",
        "\n",
        "\n",
        "<br><font color=\"purple\">The pint package uses the unit of the first operand as the base unit.  </font><br>"
      ]
    },
    {
      "cell_type": "code",
      "metadata": {
        "id": "LWFa_I0OQ9Yl"
      },
      "source": [
        "foot = UNITS.foot\n",
        "pole_height = 10 * foot"
      ],
      "execution_count": 18,
      "outputs": []
    },
    {
      "cell_type": "code",
      "metadata": {
        "colab": {
          "base_uri": "https://localhost:8080/"
        },
        "id": "1KAywR3IQ9Yl",
        "outputId": "8af4f32f-d22c-413d-8751-f4d096902f06"
      },
      "source": [
        "\n",
        "print(\"Adding feet + meters :\", pole_height + h)\n",
        "print(\"Adding meters + feet :\", h + pole_height)"
      ],
      "execution_count": 19,
      "outputs": [
        {
          "output_type": "stream",
          "text": [
            "Adding feet + meters : 1260.0 foot\n",
            "Adding meters + feet : 384.048 meter\n"
          ],
          "name": "stdout"
        }
      ]
    },
    {
      "cell_type": "markdown",
      "metadata": {
        "id": "9SreTB0MQ9Yl"
      },
      "source": [
        "**Exercise:** In reality, air resistance limits the velocity of the penny.  At about 18 m/s, the force of air resistance equals the force of gravity and the penny stops accelerating.\n",
        "\n",
        "As a simplification, let's assume that the acceleration of the penny is `a` until the penny reaches 18 m/s, and then 0 afterwards.  What is the total time for the penny to fall 381 m?\n",
        "\n",
        "You can break this question into three parts:\n",
        "\n",
        "1. How long until the penny reaches 18 m/s with constant acceleration `a`.\n",
        "2. How far would the penny fall during that time?\n",
        "3. How long to fall the remaining distance with constant velocity 18 m/s?\n",
        "\n",
        "Suggestion: Assign each intermediate result to a variable with a meaningful name.  And assign units to all quantities!"
      ]
    },
    {
      "cell_type": "code",
      "metadata": {
        "colab": {
          "base_uri": "https://localhost:8080/"
        },
        "id": "3HNU-F3XQ9Yl",
        "outputId": "5c856c21-8c1e-4f91-92f9-e8968b33e0a6"
      },
      "source": [
        "\n",
        "a = 9.80665* meter / second**2    # a.units = meters/second\n",
        "\n",
        "v = 18 * meter / second**2        # v.units = meters/second\n",
        "\n",
        "t = 1 * second * (v/a)            # t.units = second\n",
        "\n",
        "\n",
        "\n",
        "\n",
        "print(\"After \", round(t.magnitude,2),  \" seconds the penny has reached terminal velocity.\")\n"
      ],
      "execution_count": 20,
      "outputs": [
        {
          "output_type": "stream",
          "text": [
            "After  1.84  seconds the penny has reached terminal velocity.\n"
          ],
          "name": "stdout"
        }
      ]
    },
    {
      "cell_type": "code",
      "metadata": {
        "colab": {
          "base_uri": "https://localhost:8080/"
        },
        "id": "GgJf8aybQ9Yl",
        "outputId": "52c0cac4-133a-46fb-8938-d5d48067e221"
      },
      "source": [
        "d = .5 * a * t**2                 # d = meters\n",
        "print(\"It  has travelled \", round(d.magnitude,2), \" meters\")"
      ],
      "execution_count": 21,
      "outputs": [
        {
          "output_type": "stream",
          "text": [
            "It  has travelled  16.52  meters\n"
          ],
          "name": "stdout"
        }
      ]
    },
    {
      "cell_type": "code",
      "metadata": {
        "colab": {
          "base_uri": "https://localhost:8080/"
        },
        "id": "TJkBWgXeQ9Yl",
        "outputId": "30c95ced-98f0-4f3a-e809-9bc4012fe984"
      },
      "source": [
        "\n",
        "new_h = h - d\n",
        "new_t = new_h / v\n",
        "\n",
        "\n",
        "print(\"With \", round(new_h.magnitude,2),  \" meters to go, it will take \", round(new_t.magnitude,2), \" seconds to hit the ground\")\n",
        "\n"
      ],
      "execution_count": 22,
      "outputs": [
        {
          "output_type": "stream",
          "text": [
            "With  364.48  meters to go, it will take  20.25  seconds to hit the ground\n"
          ],
          "name": "stdout"
        }
      ]
    },
    {
      "cell_type": "markdown",
      "metadata": {
        "id": "GLljVFBDQ9Ym"
      },
      "source": [
        "### Restart and run all\n",
        "\n",
        "When you change the contents of a cell, you have to run it again for those changes to have an effect.  If you forget to do that, the results can be confusing, because the code you are looking at is not the code you ran.\n",
        "\n",
        "If you ever lose track of which cells have run, and in what order, you should go to the Kernel menu and select \"Restart & Run All\".  Restarting the kernel means that all of your variables get deleted, and running all the cells means all of your code will run again, in the right order.\n",
        "\n",
        "**Exercise:**  Select \"Restart & Run All\" now and confirm that it does what you want."
      ]
    },
    {
      "cell_type": "code",
      "metadata": {
        "id": "nV9pF7FAQ9Ym"
      },
      "source": [
        ""
      ],
      "execution_count": 22,
      "outputs": []
    }
  ]
}