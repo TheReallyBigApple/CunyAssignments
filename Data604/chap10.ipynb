{
  "nbformat": 4,
  "nbformat_minor": 5,
  "metadata": {
    "celltoolbar": "Tags",
    "kernelspec": {
      "display_name": "Python 3",
      "language": "python",
      "name": "python3"
    },
    "language_info": {
      "codemirror_mode": {
        "name": "ipython",
        "version": 3
      },
      "file_extension": ".py",
      "mimetype": "text/x-python",
      "name": "python",
      "nbconvert_exporter": "python",
      "pygments_lexer": "ipython3",
      "version": "3.8.5"
    },
    "colab": {
      "name": "chap10.ipynb",
      "provenance": [],
      "collapsed_sections": [],
      "include_colab_link": true
    }
  },
  "cells": [
    {
      "cell_type": "markdown",
      "metadata": {
        "id": "view-in-github",
        "colab_type": "text"
      },
      "source": [
        "<a href=\"https://colab.research.google.com/github/TheReallyBigApple/CunyAssignments/blob/main/Data604/chap10.ipynb\" target=\"_parent\"><img src=\"https://colab.research.google.com/assets/colab-badge.svg\" alt=\"Open In Colab\"/></a>"
      ]
    },
    {
      "cell_type": "markdown",
      "metadata": {
        "id": "3wbgDrAkQMpI"
      },
      "source": [
        "# Chapter 10"
      ],
      "id": "3wbgDrAkQMpI"
    },
    {
      "cell_type": "markdown",
      "metadata": {
        "tags": [],
        "id": "e2q2PZKFQMpK"
      },
      "source": [
        "*Modeling and Simulation in Python*\n",
        "\n",
        "Copyright 2021 Allen Downey\n",
        "\n",
        "License: [Creative Commons Attribution-NonCommercial-ShareAlike 4.0 International](https://creativecommons.org/licenses/by-nc-sa/4.0/)"
      ],
      "id": "e2q2PZKFQMpK"
    },
    {
      "cell_type": "code",
      "metadata": {
        "tags": [],
        "id": "a1nt7-JsQMpL"
      },
      "source": [
        "# download modsim.py if necessary\n",
        "\n",
        "from os.path import basename, exists\n",
        "\n",
        "def download(url):\n",
        "    filename = basename(url)\n",
        "    if not exists(filename):\n",
        "        from urllib.request import urlretrieve\n",
        "        local, _ = urlretrieve(url, filename)\n",
        "        print('Downloaded ' + local)\n",
        "    \n",
        "download('https://raw.githubusercontent.com/AllenDowney/' +\n",
        "         'ModSimPy/master/modsim.py')"
      ],
      "id": "a1nt7-JsQMpL",
      "execution_count": null,
      "outputs": []
    },
    {
      "cell_type": "code",
      "metadata": {
        "tags": [],
        "id": "NwOzDt_eQMpL"
      },
      "source": [
        "# import functions from modsim\n",
        "\n",
        "from modsim import *"
      ],
      "id": "NwOzDt_eQMpL",
      "execution_count": null,
      "outputs": []
    },
    {
      "cell_type": "markdown",
      "metadata": {
        "id": "FGKxjDheQMpM"
      },
      "source": [
        "[Click here to run this chapter on Colab](https://colab.research.google.com/github/AllenDowney/ModSimPy/blob/master//chapters/chap10.ipynb)"
      ],
      "id": "FGKxjDheQMpM"
    },
    {
      "cell_type": "markdown",
      "metadata": {
        "id": "1V3sfLCRQMpM"
      },
      "source": [
        "This chapter presents case studies where you can apply the tools we have learned so far to problems involving the growth of human and salmon populations, queueing systems, and a model of tree growth. "
      ],
      "id": "1V3sfLCRQMpM"
    },
    {
      "cell_type": "markdown",
      "metadata": {
        "id": "iAoiLYnuQMpM"
      },
      "source": [
        "## Prehistoric World Population\n",
        "\n",
        "On the Wikipedia page about world population growth, the second table contains estimates for prehistoric populations."
      ],
      "id": "iAoiLYnuQMpM"
    },
    {
      "cell_type": "code",
      "metadata": {
        "tags": [],
        "id": "WPE46sxTQMpM"
      },
      "source": [
        "download('https://raw.githubusercontent.com/AllenDowney/' +\n",
        "         'ModSimPy/master/data/World_population_estimates.html')"
      ],
      "id": "WPE46sxTQMpM",
      "execution_count": null,
      "outputs": []
    },
    {
      "cell_type": "code",
      "metadata": {
        "tags": [],
        "id": "Zs-D7ibMQMpN",
        "outputId": "d36b77e5-e1a6-4d84-f755-afe34cf78ca5"
      },
      "source": [
        "from pandas import read_html\n",
        "\n",
        "filename = 'World_population_estimates.html'\n",
        "tables = read_html(filename, header=0, index_col=0, decimal='M')\n",
        "len(tables)"
      ],
      "id": "Zs-D7ibMQMpN",
      "execution_count": null,
      "outputs": [
        {
          "output_type": "execute_result",
          "data": {
            "text/plain": [
              "6"
            ]
          },
          "metadata": {
            "tags": []
          },
          "execution_count": 6
        }
      ]
    },
    {
      "cell_type": "markdown",
      "metadata": {
        "tags": [],
        "id": "dtYqj81EQMpN"
      },
      "source": [
        "Select `tables[1]`, which is the second table on the page."
      ],
      "id": "dtYqj81EQMpN"
    },
    {
      "cell_type": "code",
      "metadata": {
        "tags": [],
        "id": "yqSYcvlwQMpO",
        "outputId": "b3643ebc-49bc-4cbe-d637-a02282a6f139"
      },
      "source": [
        "table1 = tables[1]\n",
        "table1.head()"
      ],
      "id": "yqSYcvlwQMpO",
      "execution_count": null,
      "outputs": [
        {
          "output_type": "execute_result",
          "data": {
            "text/html": [
              "<div>\n",
              "<style scoped>\n",
              "    .dataframe tbody tr th:only-of-type {\n",
              "        vertical-align: middle;\n",
              "    }\n",
              "\n",
              "    .dataframe tbody tr th {\n",
              "        vertical-align: top;\n",
              "    }\n",
              "\n",
              "    .dataframe thead th {\n",
              "        text-align: right;\n",
              "    }\n",
              "</style>\n",
              "<table border=\"1\" class=\"dataframe\">\n",
              "  <thead>\n",
              "    <tr style=\"text-align: right;\">\n",
              "      <th></th>\n",
              "      <th>Population Reference Bureau (1973–2016)[15]</th>\n",
              "      <th>United Nations Department of Economic and Social Affairs (2015)[16]</th>\n",
              "      <th>Maddison (2008)[17]</th>\n",
              "      <th>HYDE (2010)[citation needed]</th>\n",
              "      <th>Tanton (1994)[18]</th>\n",
              "      <th>Biraben (1980)[19]</th>\n",
              "      <th>McEvedy &amp; Jones (1978)[20]</th>\n",
              "      <th>Thomlinson (1975)[21]</th>\n",
              "      <th>Durand (1974)[22]</th>\n",
              "      <th>Clark (1967)[23]</th>\n",
              "    </tr>\n",
              "    <tr>\n",
              "      <th>Year</th>\n",
              "      <th></th>\n",
              "      <th></th>\n",
              "      <th></th>\n",
              "      <th></th>\n",
              "      <th></th>\n",
              "      <th></th>\n",
              "      <th></th>\n",
              "      <th></th>\n",
              "      <th></th>\n",
              "      <th></th>\n",
              "    </tr>\n",
              "  </thead>\n",
              "  <tbody>\n",
              "    <tr>\n",
              "      <th>-10000</th>\n",
              "      <td>NaN</td>\n",
              "      <td>NaN</td>\n",
              "      <td>NaN</td>\n",
              "      <td>2M[24]</td>\n",
              "      <td>NaN</td>\n",
              "      <td>NaN</td>\n",
              "      <td>4.0</td>\n",
              "      <td>1–10M</td>\n",
              "      <td>NaN</td>\n",
              "      <td>NaN</td>\n",
              "    </tr>\n",
              "    <tr>\n",
              "      <th>-9000</th>\n",
              "      <td>NaN</td>\n",
              "      <td>NaN</td>\n",
              "      <td>NaN</td>\n",
              "      <td>4.</td>\n",
              "      <td>NaN</td>\n",
              "      <td>NaN</td>\n",
              "      <td>NaN</td>\n",
              "      <td>NaN</td>\n",
              "      <td>NaN</td>\n",
              "      <td>NaN</td>\n",
              "    </tr>\n",
              "    <tr>\n",
              "      <th>-8000</th>\n",
              "      <td>5.</td>\n",
              "      <td>NaN</td>\n",
              "      <td>NaN</td>\n",
              "      <td>5.</td>\n",
              "      <td>NaN</td>\n",
              "      <td>NaN</td>\n",
              "      <td>NaN</td>\n",
              "      <td>NaN</td>\n",
              "      <td>5–10M</td>\n",
              "      <td>NaN</td>\n",
              "    </tr>\n",
              "    <tr>\n",
              "      <th>-7000</th>\n",
              "      <td>NaN</td>\n",
              "      <td>NaN</td>\n",
              "      <td>NaN</td>\n",
              "      <td>8.</td>\n",
              "      <td>NaN</td>\n",
              "      <td>NaN</td>\n",
              "      <td>NaN</td>\n",
              "      <td>NaN</td>\n",
              "      <td>NaN</td>\n",
              "      <td>NaN</td>\n",
              "    </tr>\n",
              "    <tr>\n",
              "      <th>-6000</th>\n",
              "      <td>NaN</td>\n",
              "      <td>NaN</td>\n",
              "      <td>NaN</td>\n",
              "      <td>11.</td>\n",
              "      <td>NaN</td>\n",
              "      <td>NaN</td>\n",
              "      <td>NaN</td>\n",
              "      <td>NaN</td>\n",
              "      <td>NaN</td>\n",
              "      <td>NaN</td>\n",
              "    </tr>\n",
              "  </tbody>\n",
              "</table>\n",
              "</div>"
            ],
            "text/plain": [
              "       Population Reference Bureau (1973–2016)[15]  \\\n",
              "Year                                                 \n",
              "-10000                                         NaN   \n",
              "-9000                                          NaN   \n",
              "-8000                                           5.   \n",
              "-7000                                          NaN   \n",
              "-6000                                          NaN   \n",
              "\n",
              "        United Nations Department of Economic and Social Affairs (2015)[16]  \\\n",
              "Year                                                                          \n",
              "-10000                                                NaN                     \n",
              "-9000                                                 NaN                     \n",
              "-8000                                                 NaN                     \n",
              "-7000                                                 NaN                     \n",
              "-6000                                                 NaN                     \n",
              "\n",
              "       Maddison (2008)[17] HYDE (2010)[citation needed]  Tanton (1994)[18]  \\\n",
              "Year                                                                         \n",
              "-10000                 NaN                       2M[24]                NaN   \n",
              "-9000                  NaN                           4.                NaN   \n",
              "-8000                  NaN                           5.                NaN   \n",
              "-7000                  NaN                           8.                NaN   \n",
              "-6000                  NaN                          11.                NaN   \n",
              "\n",
              "        Biraben (1980)[19]  McEvedy & Jones (1978)[20] Thomlinson (1975)[21]  \\\n",
              "Year                                                                           \n",
              "-10000                 NaN                         4.0                 1–10M   \n",
              "-9000                  NaN                         NaN                   NaN   \n",
              "-8000                  NaN                         NaN                   NaN   \n",
              "-7000                  NaN                         NaN                   NaN   \n",
              "-6000                  NaN                         NaN                   NaN   \n",
              "\n",
              "       Durand (1974)[22] Clark (1967)[23]  \n",
              "Year                                       \n",
              "-10000               NaN              NaN  \n",
              "-9000                NaN              NaN  \n",
              "-8000              5–10M              NaN  \n",
              "-7000                NaN              NaN  \n",
              "-6000                NaN              NaN  "
            ]
          },
          "metadata": {
            "tags": []
          },
          "execution_count": 7
        }
      ]
    },
    {
      "cell_type": "markdown",
      "metadata": {
        "tags": [],
        "id": "bQgolP6EQMpO"
      },
      "source": [
        "Some of the values are null because not all researchers provide estimates for the same dates.\n",
        "\n",
        "Again, we'll replace the long column names with more convenient abbreviations."
      ],
      "id": "bQgolP6EQMpO"
    },
    {
      "cell_type": "code",
      "metadata": {
        "tags": [],
        "id": "6toYnAuDQMpO"
      },
      "source": [
        "table1.columns = ['PRB', 'UN', 'Maddison', 'HYDE', 'Tanton', \n",
        "                  'Biraben', 'McEvedy & Jones', 'Thomlinson', 'Durand', 'Clark']"
      ],
      "id": "6toYnAuDQMpO",
      "execution_count": null,
      "outputs": []
    },
    {
      "cell_type": "markdown",
      "metadata": {
        "tags": [],
        "id": "rUPMHg-9QMpO"
      },
      "source": [
        "Some of the estimates are in a form Pandas doesn't recognize as numbers, but we can coerce them to be numeric."
      ],
      "id": "rUPMHg-9QMpO"
    },
    {
      "cell_type": "code",
      "metadata": {
        "tags": [],
        "id": "udo2Cn1-QMpP"
      },
      "source": [
        "for col in table1.columns:\n",
        "    table1[col] = pd.to_numeric(table1[col], errors='coerce')"
      ],
      "id": "udo2Cn1-QMpP",
      "execution_count": null,
      "outputs": []
    },
    {
      "cell_type": "markdown",
      "metadata": {
        "tags": [],
        "id": "t7AhYc24QMpP"
      },
      "source": [
        "Here are the results.  Notice that we are working in millions now, not billions."
      ],
      "id": "t7AhYc24QMpP"
    },
    {
      "cell_type": "code",
      "metadata": {
        "scrolled": false,
        "tags": [],
        "id": "moghqo5yQMpP",
        "outputId": "1e9bc6ef-e4ce-4f7f-dad8-10ec19f89057"
      },
      "source": [
        "table1.plot()\n",
        "decorate(xlim=[-10000, 2000], xlabel='Year', \n",
        "         ylabel='World population (millions)',\n",
        "         title='Prehistoric population estimates')\n",
        "plt.legend(fontsize='small');"
      ],
      "id": "moghqo5yQMpP",
      "execution_count": null,
      "outputs": [
        {
          "output_type": "display_data",
          "data": {
            "image/png": "[encoded data removed]",
            "text/plain": [
              "<Figure size 432x288 with 1 Axes>"
            ]
          },
          "metadata": {
            "tags": [],
            "needs_background": "light"
          }
        }
      ]
    },
    {
      "cell_type": "markdown",
      "metadata": {
        "tags": [],
        "id": "ry9ZO3m5QMpP"
      },
      "source": [
        "We can use `xlim` to zoom in on everything after Year 0."
      ],
      "id": "ry9ZO3m5QMpP"
    },
    {
      "cell_type": "markdown",
      "metadata": {
        "id": "svgh4GuTQMpP"
      },
      "source": [
        "The following figure shows the estimates of several research groups from 1 CE to the near present."
      ],
      "id": "svgh4GuTQMpP"
    },
    {
      "cell_type": "code",
      "metadata": {
        "id": "mwgPozp3QMpQ",
        "outputId": "9af5e7de-d34d-41b5-b36d-e1663741acdb"
      },
      "source": [
        "table1.plot()\n",
        "decorate(xlim=[0, 2000], xlabel='Year', \n",
        "         ylabel='World population (millions)',\n",
        "         title='CE population estimates')"
      ],
      "id": "mwgPozp3QMpQ",
      "execution_count": null,
      "outputs": [
        {
          "output_type": "display_data",
          "data": {
            "image/png": "[encoded data removed]",
            "text/plain": [
              "<Figure size 432x288 with 1 Axes>"
            ]
          },
          "metadata": {
            "tags": [],
            "needs_background": "light"
          }
        }
      ]
    },
    {
      "cell_type": "markdown",
      "metadata": {
        "id": "KThxQcLjQMpQ"
      },
      "source": [
        "See if you can find a model that fits these estimates.\n",
        "How well does your best model predict actual population growth from 1940 to the present?"
      ],
      "id": "KThxQcLjQMpQ"
    },
    {
      "cell_type": "code",
      "metadata": {
        "id": "aZUe3m2KQMpQ"
      },
      "source": [
        ""
      ],
      "id": "aZUe3m2KQMpQ",
      "execution_count": null,
      "outputs": []
    },
    {
      "cell_type": "markdown",
      "metadata": {
        "id": "sa9y3hBgQMpQ"
      },
      "source": [
        "<br><font color=\"purple\">I show 2 equations for annual rate.</font><br>\n",
        "<br>\n",
        "<br><font color=\"purple\">Each uses a single annual growth rate.</font><br>\n",
        "<br>\n",
        "<br><font color=\"purple\">The first back calculates from the end population.</font><br>\n",
        "<br>\n",
        "<br><font color=\"purple\">The second calculates from the mean population.</font><br>"
      ],
      "id": "sa9y3hBgQMpQ"
    },
    {
      "cell_type": "code",
      "metadata": {
        "tags": [],
        "id": "wdhfKoWIQMpQ"
      },
      "source": [
        "tables = read_html(filename, header=0, index_col=0, decimal='M')\n",
        "table2 = tables[2]\n",
        "table2.columns = ['census', 'prb', 'un', 'maddison', \n",
        "                  'hyde', 'tanton', 'biraben', 'mj', \n",
        "                  'thomlinson', 'durand', 'clark']"
      ],
      "id": "wdhfKoWIQMpQ",
      "execution_count": null,
      "outputs": []
    },
    {
      "cell_type": "code",
      "metadata": {
        "tags": [],
        "id": "B3t4OgL3QMpQ"
      },
      "source": [
        "un = table2.un / 1e9\n",
        "census = table2.census / 1e9"
      ],
      "id": "B3t4OgL3QMpQ",
      "execution_count": null,
      "outputs": []
    },
    {
      "cell_type": "code",
      "metadata": {
        "id": "NJvtGW9PQMpR"
      },
      "source": [
        "# SOLUTION 1A calculate rate\n",
        "\n",
        "pop_0=table2.census[1950]\n",
        "pop_end=table2.census[2016]\n",
        "\n",
        "agr=(pop_end/pop_0) ** (1/67) \n"
      ],
      "id": "NJvtGW9PQMpR",
      "execution_count": null,
      "outputs": []
    },
    {
      "cell_type": "code",
      "metadata": {
        "scrolled": true,
        "id": "nLk0L4tgQMpR",
        "outputId": "cde26603-40a1-4f61-85a2-9a9d4496b8ca"
      },
      "source": [
        "# SOLUTION 1B plot results\n",
        "\n",
        "ts=TimeSeries(table2.census.index)\n",
        "pop_next=pop_0/1e9\n",
        "\n",
        "results=TimeSeries()\n",
        "    \n",
        "for y in ts:\n",
        "        pop_next = pop_next*agr\n",
        "        results[y]=pop_next\n",
        "        \n",
        "    \n",
        "\n",
        "newdf = pd.DataFrame(columns=('census', 'mymodel'))\n",
        "newdf.census=census\n",
        "newdf.mymodel=results\n",
        "\n",
        "newdf.plot()\n",
        "decorate(\n",
        "         ylabel='World population (millions)',\n",
        "         title='My population estimates')"
      ],
      "id": "nLk0L4tgQMpR",
      "execution_count": null,
      "outputs": [
        {
          "output_type": "display_data",
          "data": {
            "image/png": "[encoded data removed]",
            "text/plain": [
              "<Figure size 432x288 with 1 Axes>"
            ]
          },
          "metadata": {
            "tags": [],
            "needs_background": "light"
          }
        }
      ]
    },
    {
      "cell_type": "code",
      "metadata": {
        "id": "c-4-yP4_QMpR"
      },
      "source": [
        "# SOLUTION 2A calculate rate\n",
        "\n",
        "\n",
        "total_growth = pop_end - pop_0       \n",
        "annual_growth = total_growth / 67 /1e9  \n",
        "mean_pop=np.mean(census)\n",
        "agr2=1+annual_growth/mean_pop\n",
        "\n"
      ],
      "id": "c-4-yP4_QMpR",
      "execution_count": null,
      "outputs": []
    },
    {
      "cell_type": "code",
      "metadata": {
        "id": "Bg9t3jlQQMpR",
        "outputId": "8e927a79-cc47-41c1-e328-ee69ca297f24"
      },
      "source": [
        "print(agr)\n",
        "print(agr2)\n",
        "\n",
        "\n",
        "results2=TimeSeries()\n",
        "pop_next=pop_0/1e9\n",
        "\n",
        "for y in ts:\n",
        "        pop_next = pop_next*agr2\n",
        "        results2[y]=round(pop_next,4)\n",
        "#        print(round(pop_next,4), \" \", census[y], \" \", y)\n",
        "\n",
        "    \n",
        "    \n",
        "df2 = pd.DataFrame(columns=('census', 'mymodel'))\n",
        "df2.census=census\n",
        "df2.mymodel=results2\n",
        "\n",
        "# print(df2.mymodel)\n",
        "\n",
        "\n",
        "df2.plot()\n",
        "decorate(         ylabel='World population (millions)',         title='My population estimates')"
      ],
      "id": "Bg9t3jlQQMpR",
      "execution_count": null,
      "outputs": [
        {
          "output_type": "stream",
          "text": [
            "1.015830695425531\n",
            "1.0148943810541893\n"
          ],
          "name": "stdout"
        },
        {
          "output_type": "display_data",
          "data": {
            "image/png": "[encoded data removed]",
            "text/plain": [
              "<Figure size 432x288 with 1 Axes>"
            ]
          },
          "metadata": {
            "tags": [],
            "needs_background": "light"
          }
        }
      ]
    },
    {
      "cell_type": "markdown",
      "metadata": {
        "id": "FaavDL5aQUvs"
      },
      "source": [
        "<br><font color=\"purple\">Ill upload the below seperately.</font><br>"
      ],
      "id": "FaavDL5aQUvs"
    },
    {
      "cell_type": "markdown",
      "metadata": {
        "id": "mu-n8J-PQMpS"
      },
      "source": [
        "## One queue or two?\n",
        "\n",
        "This case study is related to **queueing theory**, which is the study of systems that involve waiting in lines, also known as \"queues\".\n",
        "\n",
        "Suppose you are designing the checkout area for a new store. There is\n",
        "enough room in the store for two checkout counters and a waiting area\n",
        "for customers. You can make two lines, one for each counter, or one line that feeds both counters.\n",
        "\n",
        "In theory, you might expect a single line to be better, but it has some practical drawbacks: in order to maintain a single line, you might have to install barriers, and customers might be put off by what seems to be a longer line, even if it moves faster.\n",
        "\n",
        "So you'd like to check whether the single line is really better and by\n",
        "how much. Simulation can help answer this question.\n",
        "\n",
        "This figure shows the three scenarios we'll consider:\n",
        "\n",
        "![One queue, one server (left), one queue, two servers (middle), two\n",
        "queues, two servers (right).](https://github.com/AllenDowney/ModSim/raw/main/figs/queue.png)\n",
        "*One queue, one server (left), one queue, two servers (middle), two\n",
        "queues, two servers (right).*\n",
        "\n",
        "As we did in the bike share model, we'll divide time into discrete time steps of one minute.\n",
        "And we'll assume that a customer is equally likely to arrive during any time step. \n",
        "I'll denote this probability using the Greek letter lambda, $\\lambda$, or the variable name `lam`. The value of $\\lambda$ probably varies from day to day, so we'll have to consider a range of possibilities.\n",
        "\n",
        "Based on data from other stores, you know that it takes 5 minutes for a customer to check out, on average. But checkout times are variable: most customers take less than 5 minutes, but some take substantially more. A simple way to model this variability is to assume that when a customer is checking out, they always have the same probability of finishing during the next time step, regardless of how long they have been checking out. I'll denote this probability using the Greek letter mu, $\\mu$, or the variable name `mu`.\n",
        "\n",
        "If we choose $\\mu=1/5$ per minute, the average time for each checkout\n",
        "will be 5 minutes, which is consistent with the data. Most people takes less than 5 minutes, but a few take substantially longer, which is probably not a bad model of the distribution in real stores.\n",
        "\n",
        "Now we're ready to implement the model. In the repository for this book, you'll find a notebook called `queue.ipynb` that contains some code to get you started and instructions.\n",
        "\n",
        "As always, you should practice incremental development: write no more\n",
        "than one or two lines of code a time, and test as you go!"
      ],
      "id": "mu-n8J-PQMpS"
    },
    {
      "cell_type": "markdown",
      "metadata": {
        "id": "S9JcV9nSQMpS"
      },
      "source": [
        "[Click here to download it](https://github.com/AllenDowney/ModSimPy/raw/master/examples/queue.ipynb) or\n",
        "[click here to run it on Colab](https://colab.research.google.com/github/AllenDowney/ModSimPy/blob/master/examples/queue.ipynb)."
      ],
      "id": "S9JcV9nSQMpS"
    },
    {
      "cell_type": "markdown",
      "metadata": {
        "id": "apDaS37BQMpS"
      },
      "source": [
        "## Predicting salmon populations\n",
        "\n",
        "Each year the U.S. Atlantic Salmon Assessment Committee reports\n",
        "estimates of salmon populations in oceans and rivers in the northeastern United States. The reports are useful for monitoring changes in these populations, but they generally do not include predictions.\n",
        "\n",
        "The goal of this case study is to model year-to-year changes in\n",
        "population, evaluate how predictable these changes are, and estimate the probability that a particular population will increase or decrease in the next 10 years.\n",
        "\n",
        "As an example, I use data from the 2017 report, which provides population estimates for the Narraguagus and Sheepscot Rivers\n",
        "in Maine.\n",
        "\n",
        "In the repository for this book, you'll find a notebook called\n",
        "`salmon.ipynb` that contains this data and some code to get you started.\n",
        "\n",
        "You should take my instructions as suggestions; if you want to try\n",
        "something different, please do!"
      ],
      "id": "apDaS37BQMpS"
    },
    {
      "cell_type": "markdown",
      "metadata": {
        "id": "4xKYXJBQQMpT"
      },
      "source": [
        "[Click here to download it](https://github.com/AllenDowney/ModSimPy/raw/master/examples/salmon.ipynb) or\n",
        "[click here to run it on Colab](https://colab.research.google.com/github/AllenDowney/ModSimPy/blob/master/examples/salmon.ipynb)"
      ],
      "id": "4xKYXJBQQMpT"
    },
    {
      "cell_type": "markdown",
      "metadata": {
        "id": "fuv8aAi-QMpT"
      },
      "source": [
        "## Tree growth\n",
        "\n",
        "This case study is based on \"Height-Age Curves for Planted Stands of\n",
        "Douglas Fir, with Adjustments for Density\", a working paper by\n",
        "Flewelling et al.\n",
        "\n",
        "It provides \"site index curves\", which are curves that show the\n",
        "expected height of the tallest tree in a stand of Douglas fir as a\n",
        "function of age, for a stand where the trees are the same age.\n",
        "\n",
        "Depending on the quality of the site, the trees might grow more quickly or slowly. So each curve is identified by a \"site index\" that indicates the quality of the site.\n",
        "\n",
        "The goal of this case study is to explain the shape of these\n",
        "curves, that is, why trees grow the way they do.\n",
        "The answer I propose involves fractal dimensions, so you might find it interesting.\n",
        "\n",
        "In the repository for this book, you'll find a notebook called\n",
        "`trees.ipynb` that incrementally develops a model of tree growth and uses it to fit the data.\n",
        "\n",
        "There are no exercises in this case study, but it is an example of what you can do with the tools we have so far and a preview of what you will be able to do with the tools in the next few chapters."
      ],
      "id": "fuv8aAi-QMpT"
    },
    {
      "cell_type": "markdown",
      "metadata": {
        "id": "-2mqIHE9QMpT"
      },
      "source": [
        "[Click here to download it](https://github.com/AllenDowney/ModSimPy/raw/master/examples/trees.ipynb) or\n",
        "[click here to run it on Colab](https://colab.research.google.com/github/AllenDowney/ModSimPy/blob/master/examples/trees.ipynb)"
      ],
      "id": "-2mqIHE9QMpT"
    },
    {
      "cell_type": "code",
      "metadata": {
        "id": "MYA2MXN0QMpT"
      },
      "source": [
        ""
      ],
      "id": "MYA2MXN0QMpT",
      "execution_count": null,
      "outputs": []
    }
  ]
}