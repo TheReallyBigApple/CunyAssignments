{
  "nbformat": 4,
  "nbformat_minor": 0,
  "metadata": {
    "colab": {
      "name": "Week2_PythonMath.ipynb",
      "provenance": [],
      "authorship_tag": "ABX9TyMhyTZ7Kbfk1J56DcFheq16",
      "include_colab_link": true
    },
    "kernelspec": {
      "name": "python3",
      "display_name": "Python 3"
    }
  },
  "cells": [
    {
      "cell_type": "markdown",
      "metadata": {
        "id": "view-in-github",
        "colab_type": "text"
      },
      "source": [
        "<a href=\"https://colab.research.google.com/github/TheReallyBigApple/CunyAssignments/blob/main/Week2_PythonMath.ipynb\" target=\"_parent\"><img src=\"https://colab.research.google.com/assets/colab-badge.svg\" alt=\"Open In Colab\"/></a>"
      ]
    },
    {
      "cell_type": "markdown",
      "metadata": {
        "id": "ymfBHw5RX9dx"
      },
      "source": [
        "<h1><center><b>CUNY MSDS PythonMath Week 2 Assignment</b></center></h1>\r\n",
        "<br>\r\n",
        "<h2><center>Exercises in the multiplication of Square Matrices</center></h2>\r\n",
        "<br>\r\n",
        "\r\n",
        "\r\n",
        "<hr>\r\n",
        "<br><br>\r\n",
        " <font color=\"purple\"> 1. Write a Python program to compute the  multiplication of any 2 matrices.  Return \"not possible\" if they cannot be multiplied. </ font>\r\n",
        " <br><br>\r\n",
        " "
      ]
    },
    {
      "cell_type": "code",
      "metadata": {
        "id": "317O8T09YGGr"
      },
      "source": [
        "\r\n",
        "import numpy as np\r\n",
        "\r\n",
        "def multiply_matrices(A,B):\r\n",
        "    if (A.shape[1] != B.shape[0]):\r\n",
        "        print(\"\\nnot possible\")\r\n",
        "        return None\r\n",
        "    \r\n",
        "    C=A@B\r\n",
        "    \r\n",
        "    # output the dimensions\r\n",
        "    print (\"Dimensions : \", A.shape[0], \"X\", A.shape[1], \" @ \", end=\" \")\r\n",
        "    print (B.shape[0], \"X\", B.shape[1], \" = \", C.shape[0], \"X\", C.shape[1])\r\n",
        "    \r\n",
        "    return C    "
      ],
      "execution_count": 2,
      "outputs": []
    },
    {
      "cell_type": "markdown",
      "metadata": {
        "id": "XrwwJtq63Xir"
      },
      "source": [
        "Case 1: Call multiply_matrices with incompatible matrix dimensions"
      ]
    },
    {
      "cell_type": "code",
      "metadata": {
        "colab": {
          "base_uri": "https://localhost:8080/"
        },
        "id": "mQbywrEg3lpy",
        "outputId": "6c1da5b8-cb24-4471-8533-0b4a464a8977"
      },
      "source": [
        "m1=np.matrix('2 -8 0;  3 4 3')               # 2X3 \r\n",
        "m2=np.matrix('1 2 4; 4 5 6; 7 8 9; 10 11 12')    # 4X3\r\n",
        "\r\n",
        "m3 = multiply_matrices(m1,m2)\r\n",
        "\r\n",
        "if m3 is not None:\r\n",
        "    print (\"\\nResult = \", m3)"
      ],
      "execution_count": 3,
      "outputs": [
        {
          "output_type": "stream",
          "text": [
            "\n",
            "not possible\n"
          ],
          "name": "stdout"
        }
      ]
    },
    {
      "cell_type": "markdown",
      "metadata": {
        "id": "1mt8JaN_3y29"
      },
      "source": [
        "Case 2: Call multiply_matrices passing the identy matrix"
      ]
    },
    {
      "cell_type": "code",
      "metadata": {
        "colab": {
          "base_uri": "https://localhost:8080/"
        },
        "id": "hR_EheoY4DKJ",
        "outputId": "40584441-9430-46b9-d85c-33f4f9beb27b"
      },
      "source": [
        "from pprint import pprint\r\n",
        "\r\n",
        "m1=np.matrix('2 -8 0 1;  3 4 3 0; 8 2 3 1; 9 8 7 6')      # 4X4 \r\n",
        "m2=np.matrix('1 0 0 0; 0 1 0 0; 0 0 1 0; 0 0 0 1')    # 4X4\r\n",
        "\r\n",
        "m3 = multiply_matrices(m1,m2)\r\n",
        "\r\n",
        "if m3 is not None:\r\n",
        "    pprint (m3)"
      ],
      "execution_count": 6,
      "outputs": [
        {
          "output_type": "stream",
          "text": [
            "Dimensions :  4 X 4  @  4 X 4  =  4 X 4\n",
            "matrix([[ 2, -8,  0,  1],\n",
            "        [ 3,  4,  3,  0],\n",
            "        [ 8,  2,  3,  1],\n",
            "        [ 9,  8,  7,  6]])\n"
          ],
          "name": "stdout"
        }
      ]
    },
    {
      "cell_type": "markdown",
      "metadata": {
        "id": "0wLpzlyK5fJn"
      },
      "source": [
        "<br><br>\r\n",
        "<hr>\r\n",
        "<br><br>\r\n",
        " <font color=\"purple\"> 2. Write a Python program to compute the inverse of a 2 x 2 matrix. Return \"singular\" if it cannot be inverted. </ font>\r\n",
        " <br><br>"
      ]
    },
    {
      "cell_type": "code",
      "metadata": {
        "colab": {
          "base_uri": "https://localhost:8080/"
        },
        "id": "aav8yPHE5xLa",
        "outputId": "4239ab27-ecf8-4aa7-f620-a94eb4e8b22a"
      },
      "source": [
        "def compute_matrix_inverse(A):\r\n",
        "    try:\r\n",
        "        C=np.linalg.inv(A)\r\n",
        "    except:\r\n",
        "        return \"singular\"\r\n",
        "    else:\r\n",
        "        return C\r\n",
        "    \r\n",
        " \r\n",
        "    "
      ],
      "execution_count": 7,
      "outputs": [
        {
          "output_type": "stream",
          "text": [
            "'singular'\n"
          ],
          "name": "stdout"
        }
      ]
    },
    {
      "cell_type": "markdown",
      "metadata": {
        "id": "LIJm1xBc6DDV"
      },
      "source": [
        "Case 1: Call compute_matrix_inverse with a non-square matrix"
      ]
    },
    {
      "cell_type": "code",
      "metadata": {
        "id": "K9EwbljY6JtL"
      },
      "source": [
        "\r\n",
        "m1=np.matrix('2 -8 0 1;  3 4 3 0; 1 4 2 2') \r\n",
        "\r\n",
        "\r\n",
        "m2 = compute_matrix_inverse(m1)\r\n",
        "\r\n",
        "pprint(m2)"
      ],
      "execution_count": null,
      "outputs": []
    },
    {
      "cell_type": "markdown",
      "metadata": {
        "id": "W2S5gTst6Wil"
      },
      "source": [
        "Case 2: Call compute_matrix_inverse with a square matrix"
      ]
    },
    {
      "cell_type": "code",
      "metadata": {
        "colab": {
          "base_uri": "https://localhost:8080/"
        },
        "id": "VprEEmc06aLB",
        "outputId": "cf1cf3ef-bcc6-47d2-ac34-083121c3fa95"
      },
      "source": [
        "m1=np.matrix('2 -8 0 1;  3 4 3 0; 1 4 2 2; -4 3 2 5') \r\n",
        "\r\n",
        "\r\n",
        "m2 = compute_matrix_inverse(m1)\r\n",
        "\r\n",
        "pprint(m2)"
      ],
      "execution_count": 8,
      "outputs": [
        {
          "output_type": "stream",
          "text": [
            "matrix([[ 0.07929515, -0.20264317,  0.53303965, -0.22907489],\n",
            "        [-0.09251101, -0.0969163 ,  0.21145374, -0.0660793 ],\n",
            "        [ 0.04405286,  0.66519824, -0.81497797,  0.31718062],\n",
            "        [ 0.10132159, -0.37004405,  0.62555066, -0.07048458]])\n"
          ],
          "name": "stdout"
        }
      ]
    },
    {
      "cell_type": "markdown",
      "metadata": {
        "id": "92G7BZye6nxR"
      },
      "source": [
        "The inverse of matrix A is just $\\frac{1}{A}$  and $A@A^{-1}$ equals the identity matrix (or 1)\r\n",
        "\r\n",
        "Below is the equation to calculate the inverse of a 2X2 matrix\r\n",
        "<br><br>\r\n",
        "$$A^{-1} = \\frac{1}{ad-bc}\r\n",
        "\\begin{vmatrix}\r\n",
        "d&-b\\\\\r\n",
        "-c&a\\\\\r\n",
        "\\end{vmatrix}\r\n",
        "$$\r\n",
        "\r\n",
        "The <b>ad-bc</b> portion is known as the determinant and is denoted as |A|. \r\n",
        "If A was a 3X3 matrix, then\r\n",
        "|A| = a(ei - fh)- b(di-fg) - c(dh-eg) \r\n",
        "and this pattern expands as the size of the matrix expands.\r\n"
      ]
    },
    {
      "cell_type": "markdown",
      "metadata": {
        "id": "H0GImt1p9VGN"
      },
      "source": [
        "<hr>\r\n",
        "<br><br>\r\n",
        " <font color=\"purple\"> 3.  Write a Python program to compute the determinant of 3 x 3 matrix. </ font>\r\n",
        " <br><br>"
      ]
    },
    {
      "cell_type": "code",
      "metadata": {
        "colab": {
          "base_uri": "https://localhost:8080/"
        },
        "id": "vOcOEbYW9kQJ",
        "outputId": "2520c30b-0a5a-459d-f3d4-9404e5750638"
      },
      "source": [
        "import inspect\r\n",
        "\r\n",
        "def compute_3X3_matrix_determinant(A):\r\n",
        "    if (A.shape[0] !=3) or (A.shape[1] != 3):\r\n",
        "            raise Exception(inspect.stack()[1], \"compute_3X3_matrix_determinant: Error matrix must be 3X3\")\r\n",
        "    \r\n",
        "    return np.linalg.det(A)\r\n",
        "  \r\n",
        " \r\n",
        "    \r\n",
        "m1=np.matrix('2 -8 0;  3 4 0; 1 2 2') \r\n",
        "   \r\n",
        "m2 = compute_3X3_matrix_determinant(m1)\r\n",
        "\r\n",
        "print (\"\\n\\nDeterminant = \", \"{:.{}f}\".format( m2, 4 ))"
      ],
      "execution_count": 10,
      "outputs": [
        {
          "output_type": "stream",
          "text": [
            "\n",
            "\n",
            "Determinant =  64.0000\n"
          ],
          "name": "stdout"
        }
      ]
    }
  ]
}