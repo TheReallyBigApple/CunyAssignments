{
 "cells": [
  {
   "cell_type": "code",
   "execution_count": 3,
   "metadata": {
    "id": "3NKRaVqd-ZGg"
   },
   "outputs": [],
   "source": []
  },
  {
   "cell_type": "markdown",
   "metadata": {
    "id": "EvjRrovu-fLf"
   },
   "source": [
    "<h1><center>CUNY MSDS PythonMath Week 1 Assignment</center></h1> "
   ]
  },
  {
   "cell_type": "markdown",
   "metadata": {
    "id": "VDDVNDcq-rAe"
   },
   "source": [
    "\n",
    "\n",
    "##Below are the source/output from 6 challenge assignments from *Doing Math with Python*, which is available in pdf format [here](http://index-of.es/Varios-2/Doing%20Math%20with%20Python.pdf)\n",
    "\n",
    "### Most of the code was done without looking at the solutions **except** for chapters 4 and 7 which were too advanced for me at this time so that code is an exact copy of the solution.\n",
    "\n",
    "\n",
    "\n",
    "\n",
    "\n",
    "\n"
   ]
  },
  {
   "cell_type": "markdown",
   "metadata": {
    "id": "nctjOc5MIMzd"
   },
   "source": [
    "Issues that I faced :\n",
    "<ol>\n",
    "<li> I didnt see how executing a Colab notebook could access a text file on my hard drive so I replaced the file load with a hardcoded list. (Points scored this year by the Kansas City Chiefs)\n",
    "<li> I read many articles about converting a Colab notebook to html and none of them worked. Finally, I just clicked on the web page and saved as html\n",
    "</ol>"
   ]
  },
  {
   "cell_type": "markdown",
   "metadata": {
    "id": "rXUf7rQX_-19"
   },
   "source": [
    "<center><u>Chapter 1 Even Odd Vending Machine</u></center>\n",
    "\n",
    "\n"
   ]
  },
  {
   "cell_type": "code",
   "execution_count": 4,
   "metadata": {
    "colab": {
     "base_uri": "https://localhost:8080/"
    },
    "id": "yMWu2RrwCLTU",
    "outputId": "750b4905-618a-4420-dc2e-b35afe8bff14"
   },
   "outputs": [
    {
     "name": "stdout",
     "output_type": "stream",
     "text": [
      "odd \t 3\t5\t7\t9\t11\t13\t15\t17\t19\t21\t\n",
      "odd \t 53\t55\t57\t59\t61\t63\t65\t67\t69\t71\t\n",
      "even\t 6\t8\t10\t12\t14\t16\t18\t20\t22\t24\t\n",
      "odd \t 1\t3\t5\t7\t9\t11\t13\t15\t17\t19\t\n",
      "odd \t 11\t13\t15\t17\t19\t21\t23\t25\t27\t29\t\n",
      "even\t 10\t12\t14\t16\t18\t20\t22\t24\t26\t28\t\n"
     ]
    }
   ],
   "source": [
    "\"\"\"\n",
    "Try writing an “even-odd vending machine,” which will take a number as\n",
    "input and do two things:\n",
    "     1.   Print whether the number is even or odd.\n",
    "     2.   Display the number followed by the next 9 even or odd numbers.\n",
    "    \n",
    "\"\"\"\n",
    "\n",
    "\n",
    "\n",
    "def even_odd_vending_machine(x):\n",
    "    if (x%2==0):\n",
    "        print(\"even\\t\", end=' ')\n",
    "    else:\n",
    "        print(\"odd \\t\", end=' ')\n",
    "    \n",
    "    for i in range(10):\n",
    "        print(x+i*2, end='\\t')\n",
    "    print()\n",
    "        \n",
    "\n",
    "\n",
    "for z in [3,53,6,1,11,10]:\n",
    "    even_odd_vending_machine(z)\n",
    "        \n",
    "    \n",
    "\n"
   ]
  },
  {
   "cell_type": "markdown",
   "metadata": {
    "id": "crkIfDIHDD4X"
   },
   "source": [
    "<center><u>Chapter 2 Graph of a Quadratic Function</u></center>"
   ]
  },
  {
   "cell_type": "code",
   "execution_count": 5,
   "metadata": {
    "colab": {
     "base_uri": "https://localhost:8080/",
     "height": 265
    },
    "id": "ijBhoUqQDedu",
    "outputId": "b7bbc518-beb0-4540-ed9b-6d5d7d712d88"
   },
   "outputs": [
    {
     "data": {
      "image/png": "[encoded data removed]",
      "text/plain": [
       "<Figure size 432x288 with 1 Axes>"
      ]
     },
     "metadata": {
      "needs_background": "light",
      "tags": []
     },
     "output_type": "display_data"
    }
   ],
   "source": [
    "\"\"\"\n",
    "\n",
    "Create a graph of the function f(x)=x**2 + 2*x + 1\n",
    "\n",
    "Try using at least 10 values for x instead of the 6\n",
    "above. Calculate the corresponding y values using the function and then\n",
    "create a graph using these two sets of values.\n",
    "Once you’ve created the graph, spend some time analyzing how the\n",
    "value of y varies with respect to x. Is the variation linear or nonlinear?\n",
    "\n",
    "\"\"\"\n",
    "\n",
    "from pylab import plot, show\n",
    "\n",
    "\n",
    "# create a series of 100 even #s\n",
    "x_values = range(-100,100,2)\n",
    "y_values = []\n",
    "\n",
    "for x in x_values:\n",
    "    y_values.append(x**2 + 2*x + 1)\n",
    "\n",
    "    # the variation is exponential, not linear\n",
    "plot(x_values, y_values, marker='+')\n",
    "show()"
   ]
  },
  {
   "cell_type": "markdown",
   "metadata": {
    "id": "7lmFd-wXDtZa"
   },
   "source": [
    "<center><u>Chapter 3 Statisics Calculator</u></center>"
   ]
  },
  {
   "cell_type": "code",
   "execution_count": 6,
   "metadata": {
    "colab": {
     "base_uri": "https://localhost:8080/"
    },
    "id": "GromYxFODxzV",
    "outputId": "0836c84e-ad44-401f-ec68-b238e0da5580"
   },
   "outputs": [
    {
     "name": "stdout",
     "output_type": "stream",
     "text": [
      "The calculate_median is  33\n",
      "The mumpy median is  33.0\n",
      "The calculate_mean is  31\n",
      "The numpy mean    is  31\n",
      "The calculate_mode is  26\n",
      "The statistics.mode does not handle multiple modes\n",
      "The calculate_variance is  31\n",
      "The statistics variance    is  34\n",
      "The std deviation is  5\n"
     ]
    }
   ],
   "source": [
    "\n",
    " # #2: Statistics Calculator\n",
    "# Implement a statistics calculator that takes a list of numbers in the file\n",
    "# mydata.txt and then calculates and prints their mean, median, mode,\n",
    "# variance, and standard deviation using the functions we wrote earlier in\n",
    "# this chapter.\n",
    "\n",
    "\n",
    "# Note the instructions say to use the functions from the book\n",
    "#  but I will add the numpy/statistics methods to verify the results\n",
    "\n",
    "import numpy\n",
    "import statistics\n",
    "from collections import Counter\n",
    "\n",
    "def find_differences(numbers):\n",
    "    # Find the mean\n",
    "    mean = calculate_mean(numbers)\n",
    "    # Find the differences from the mean\n",
    "    diff = []\n",
    "    for num in numbers:\n",
    "        diff.append(num-mean)\n",
    "    return diff\n",
    "\n",
    "\n",
    "def calculate_variance(numbers):\n",
    "    # Find the list of differences\n",
    "    diff = find_differences(numbers)\n",
    "    #Find the squared differences\n",
    "    squared_diff = []\n",
    "    for d in diff:\n",
    "        squared_diff.append(d**2)\n",
    "    \n",
    "    # Find the variance\n",
    "    sum_squared_diff = sum(squared_diff)\n",
    "    variance = sum_squared_diff/len(numbers)\n",
    "    return variance\n",
    "\n",
    "def calculate_mode(numbers):\n",
    "    c = Counter(numbers)\n",
    "    mode = c.most_common(1)\n",
    "    return mode[0][0]\n",
    "\n",
    "def calculate_median (numbers):\n",
    "        \n",
    "    N = len(numbers)\n",
    "    numbers.sort()\n",
    "    m=0\n",
    "        # Find the median\n",
    "    if N % 2 == 0:\n",
    "\n",
    "        # if N is even\n",
    "        m1 = N/2\n",
    "        m2 = (N/2) + 1\n",
    "\n",
    "        # Convert to integer, match position\n",
    "        m1 = int(m1) - 1\n",
    "        m2 = int(m2) - 1\n",
    "        median = (numbers[m1] + numbers[m2])/2\n",
    "    else:\n",
    "        m = (N+1)/2\n",
    "        \n",
    "        # Convert to integer, match position\n",
    "        m = int(m) - 1\n",
    "        median = numbers[m]\n",
    "        \n",
    "   \n",
    "    return median\n",
    "      \n",
    "def calculate_mean(numbers):\n",
    "    s = sum(numbers)\n",
    "    N = len(numbers)\n",
    "    # Calculate the mean\n",
    "    mean = s/N\n",
    "    return mean\n",
    "\n",
    "\n",
    "# infile = open(\"C:\\_InProgress\\Work\\Math\\CUNY\\PythonMath\\Top100_RunningBacks.txt\")\n",
    "\n",
    "# allnumbs = infile.readlines()\n",
    "\n",
    "# dont think google colab supports reading my text file\n",
    "num_list=[34,23,34,26,32,26,43,35,33,35,27,22,33]\n",
    "\n",
    "# for line in allnumbs: \n",
    "#    num_list.append(int(line.strip()))\n",
    "   \n",
    "    \n",
    "print(\"The calculate_median is \",calculate_median(num_list))\n",
    "print(\"The mumpy median is \",numpy.median(num_list))\n",
    "\n",
    "print(\"The calculate_mean is \",calculate_mean(num_list).__int__())\n",
    "print(\"The numpy mean    is \",numpy.mean(num_list).__int__())\n",
    "\n",
    "print(\"The calculate_mode is \",calculate_mode(num_list))\n",
    "try:\n",
    "  print(\"The statistics mode    is \", statistics.mode(num_list))\n",
    "except statistics.StatisticsError:\n",
    "  print(\"The statistics.mode does not handle multiple modes\")\n",
    "  \n",
    "\n",
    "print(\"The calculate_variance is \",calculate_variance(num_list).__int__())\n",
    "print(\"The statistics variance    is \",statistics.variance(num_list).__int__())\n",
    "\n",
    "    # interesting way to calculate square root\n",
    "print(\"The std deviation is \", (calculate_variance(num_list) ** .5).__int__() )\n",
    "\n",
    "\n",
    "\n",
    "\n",
    "\n",
    "\n",
    "\n",
    "\n",
    "\n",
    "\n",
    "\n"
   ]
  },
  {
   "cell_type": "markdown",
   "metadata": {
    "id": "va2v6GGuD-u_"
   },
   "source": [
    "<center><u>Chapter 4 Solving Univariate Inequalities</u></center>"
   ]
  },
  {
   "cell_type": "code",
   "execution_count": 7,
   "metadata": {
    "colab": {
     "base_uri": "https://localhost:8080/"
    },
    "id": "sV0gbThAEUd7",
    "outputId": "a2716eb1-085e-44c1-f063-aa5203231a31"
   },
   "outputs": [
    {
     "name": "stdout",
     "output_type": "stream",
     "text": [
      "Enter the inequality to solve: 3*x**2 - 45x < 12\n",
      "Invalid inequality\n"
     ]
    }
   ],
   "source": [
    "\"\"\"\n",
    "\n",
    "The challenge is (1) to create a function, isolve(), that\n",
    "will take any inequality and (2) to choose one of the appropriate functions\n",
    "discussed in this section to solve it and return the solution\n",
    "\n",
    "NOTE: I didnt code this. I copied it and reviewed it and tested it.\n",
    "\n",
    "\"\"\"\n",
    "\n",
    "from sympy import Symbol, sympify, SympifyError\n",
    "from sympy import solve_poly_inequality, solve_rational_inequalities, solve_univariate_inequality, Poly\n",
    "from sympy.core.relational import Relational, Equality\n",
    "\n",
    "def isolve(ineq_obj):\n",
    "    x = Symbol('x')\n",
    "\n",
    "    expr = ineq_obj.lhs\n",
    "    rel = ineq_obj.rel_op\n",
    "    \n",
    "    if expr.is_polynomial():\n",
    "        p = Poly(expr, x)\n",
    "        return solve_poly_inequality(p, rel)\n",
    "    elif expr.is_rational_function():\n",
    "        p1, p2 = expr.as_numer_denom()\n",
    "        num  = Poly(p1)\n",
    "        denom = Poly(p2)\n",
    "        return solve_rational_inequalities([[((num, denom), rel)]])\n",
    "    else:\n",
    "        return solve_univariate_inequality(ineq_obj , x, relational=False)\n",
    "\n",
    "if __name__ == '__main__':\n",
    "    ineq = input('Enter the inequality to solve: ')\n",
    "    try:\n",
    "        ineq_obj = sympify(ineq)\n",
    "    except SympifyError:\n",
    "        print('Invalid inequality')\n",
    "    else:\n",
    "        # We check if the input expression is an inequality here\n",
    "        if isinstance(ineq_obj, Relational) and not isinstance(ineq_obj, Equality):\n",
    "            print(isolve(ineq_obj))\n",
    "        else:\n",
    "            print('Invalid inequality')"
   ]
  },
  {
   "cell_type": "markdown",
   "metadata": {
    "id": "XETW05TeEkTR"
   },
   "source": [
    "<center><u>Law of Large Numbers</u></center>"
   ]
  },
  {
   "cell_type": "code",
   "execution_count": 8,
   "metadata": {
    "colab": {
     "base_uri": "https://localhost:8080/"
    },
    "id": "uRrHfSvsErui",
    "outputId": "2719448a-c444-4cbd-bcd7-6d7e806d863d"
   },
   "outputs": [
    {
     "name": "stdout",
     "output_type": "stream",
     "text": [
      "The average roll from \t 100 \t tosses is  3.61\n",
      "The average roll from \t 1000 \t tosses is  3.9\n",
      "The average roll from \t 10000 \t tosses is  3.43\n",
      "The average roll from \t 100000 \t tosses is  3.61\n",
      "The average roll from \t 500000 \t tosses is  3.82\n"
     ]
    }
   ],
   "source": [
    "\"\"\"\n",
    "Simulate x number of dice rolls to see how close\n",
    "they are to the expected value of a dice roll (3.5)\n",
    "\n",
    "@author: arono\n",
    "\n",
    "\"\"\"\n",
    "import random\n",
    "\n",
    "def calc_dice_roll_average(dice_rolls):\n",
    "    rolls = []\n",
    "    for t in range(dice_rolls):\n",
    "        rolls.append(random.randint(1, 6))\n",
    "    return sum(rolls)/dice_rolls\n",
    "\n",
    "trials=[100, 1000, 10000, 100000, 500000]\n",
    "\n",
    "for t in trials:\n",
    "    print(\"The average roll from \\t\", t, \"\\t tosses is \", calc_dice_roll_average(100))\n",
    "    "
   ]
  },
  {
   "cell_type": "markdown",
   "metadata": {
    "id": "HYSLOZ-nFUQN"
   },
   "source": [
    "** Here is the Expected Value formulat formatted in Latex\n",
    "\n",
    "$$ \\mathbf{E} = x_1P(x_1) + x_2P(x_2) ... + x_nP(x_n) $$"
   ]
  },
  {
   "cell_type": "markdown",
   "metadata": {
    "id": "Sz-Dw9pcHmZ8"
   },
   "source": [
    "<center><u>Chapter 7 Implement the Gradient Descent</u></center>"
   ]
  },
  {
   "cell_type": "code",
   "execution_count": 9,
   "metadata": {
    "colab": {
     "base_uri": "https://localhost:8080/",
     "height": 351
    },
    "id": "UK7jxr72Hylw",
    "outputId": "6816d371-b997-4924-afe9-f9f74c2c7d49"
   },
   "outputs": [
    {
     "name": "stdout",
     "output_type": "stream",
     "text": [
      "Enter a function in one variable: x**2 - 9\n",
      "Enter the variable to differentiate with respect to: x\n",
      "Enter the initial value of the variable: 1\n",
      "x: 0.00499893759237415\n",
      "Minimum value: -8.99997501062295\n"
     ]
    },
    {
     "data": {
      "image/png": "[encoded data removed]",
      "text/plain": [
       "<Figure size 432x288 with 1 Axes>"
      ]
     },
     "metadata": {
      "needs_background": "light",
      "tags": []
     },
     "output_type": "display_data"
    }
   ],
   "source": [
    "\n",
    "\"\"\"\n",
    "\n",
    "The challenge is to implement a generic program using the gradient\n",
    "descent algorithm to find the minimum value of a single-variable function\n",
    "specified as input by the user. The program should also create a graph\n",
    "of the function and show all the intermediate values it found before finding\n",
    "the minimum.\n",
    "\n",
    "Example:\n",
    "    Enter a function in one variable: x**2 - 9\n",
    "    Enter the variable to differentiate with respect to: x\n",
    "    Enter the initial value of the variable: 1\n",
    "\n",
    "x: 0.00499893759237415\n",
    "Minimum value: -8.99997501062295\n",
    "\n",
    "\"\"\"\n",
    "\n",
    "\n",
    "from sympy import Derivative, Symbol, sympify, solve\n",
    "import matplotlib.pyplot as plt\n",
    "\n",
    "def grad_descent(x0, f1x, x):\n",
    "    # check if f1x=0 has a solution\n",
    "    if not solve(f1x):\n",
    "        print('Cannot continue, solution for {0}=0 does not exist'.format(f1x))\n",
    "        return None\n",
    "    epsilon =  1e-6\n",
    "    step_size = 1e-4\n",
    "    x_old = x0\n",
    "    x_new = x_old - step_size*f1x.subs({x:x_old}).evalf()\n",
    "\n",
    "    # list to store the X values traversed\n",
    "    X_traversed = []\n",
    "    while abs(x_old - x_new) > epsilon:\n",
    "        X_traversed.append(x_new)\n",
    "        x_old = x_new\n",
    "        x_new = x_old-step_size*f1x.subs({x:x_old}).evalf()\n",
    "\n",
    "    return x_new, X_traversed\n",
    "\n",
    "def frange(start, final, interval):\n",
    "\n",
    "    numbers = []\n",
    "    while start < final:\n",
    "        numbers.append(start)\n",
    "        start = start + interval\n",
    "    \n",
    "    return numbers\n",
    "\n",
    "def create_plot(X_traversed, f, var):\n",
    "    # First create the graph of the function itself\n",
    "    x_val = frange(-1, 1, 0.01)\n",
    "    f_val = [f.subs({var:x}) for x in x_val]\n",
    "    plt.plot(x_val, f_val, 'bo')\n",
    "    # calculate the function value at each of the intermediate\n",
    "    # points traversed\n",
    "    f_traversed = [f.subs({var:x}) for x in X_traversed]\n",
    "    plt.plot(X_traversed, f_traversed, 'r.')\n",
    "    plt.legend(['Function', 'Intermediate points'], loc='best')\n",
    "    plt.show()\n",
    "\n",
    "if __name__ == '__main__':\n",
    "\n",
    "    f = input('Enter a function in one variable: ')\n",
    "    var = input('Enter the variable to differentiate with respect to: ')\n",
    "    var0 = float(input('Enter the initial value of the variable: '))\n",
    "    try:\n",
    "        f = sympify(f)\n",
    "    except SympifyError:\n",
    "        print('Invalid function entered')\n",
    "    else:\n",
    "        var = Symbol(var)\n",
    "        d = Derivative(f, var).doit()\n",
    "        var_min, X_traversed = grad_descent(var0, d, var)\n",
    "        if var_min:\n",
    "            print('{0}: {1}'.format(var.name, var_min))\n",
    "            print('Minimum value: {0}'.format(f.subs({var:var_min})))\n",
    "            create_plot(X_traversed, f, var)\n",
    "\n",
    "\n"
   ]
  }
 ],
 "metadata": {
  "colab": {
   "name": "Week1_PythonMath.ipynb",
   "provenance": []
  },
  "kernelspec": {
   "display_name": "Python 3",
   "language": "python",
   "name": "python3"
  },
  "language_info": {
   "codemirror_mode": {
    "name": "ipython",
    "version": 3
   },
   "file_extension": ".py",
   "mimetype": "text/x-python",
   "name": "python",
   "nbconvert_exporter": "python",
   "pygments_lexer": "ipython3",
   "version": "3.8.5"
  }
 },
 "nbformat": 4,
 "nbformat_minor": 1
}
