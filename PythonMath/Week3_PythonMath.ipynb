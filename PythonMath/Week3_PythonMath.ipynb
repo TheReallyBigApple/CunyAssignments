{
  "nbformat": 4,
  "nbformat_minor": 0,
  "metadata": {
    "colab": {
      "name": "Week3_PythonMath.ipynb",
      "provenance": [],
      "collapsed_sections": [],
      "authorship_tag": "ABX9TyPu2aOkVjjwNNwaImQDGFVe",
      "include_colab_link": true
    },
    "kernelspec": {
      "name": "python3",
      "display_name": "Python 3"
    }
  },
  "cells": [
    {
      "cell_type": "markdown",
      "metadata": {
        "id": "view-in-github",
        "colab_type": "text"
      },
      "source": [
        "<a href=\"https://colab.research.google.com/github/TheReallyBigApple/CunyAssignments/blob/main/PythonMath/Week3_PythonMath.ipynb\" target=\"_parent\"><img src=\"https://colab.research.google.com/assets/colab-badge.svg\" alt=\"Open In Colab\"/></a>"
      ]
    },
    {
      "cell_type": "markdown",
      "metadata": {
        "id": "gv5dn-PDcjq5"
      },
      "source": [
        " <h1><center><b>CUNY MSDS PythonMath Week 3 Assignment</b></center></h1>\r\n",
        "        <br>\r\n",
        "        <h2><center>Exercises in Statistics</center></h2>\r\n",
        "        <br>\r\n",
        "        \r\n",
        "        \r\n",
        "    "
      ]
    },
    {
      "cell_type": "markdown",
      "metadata": {
        "id": "aIuxpDr_nk0w"
      },
      "source": [
        " <br><br>   <br><br>\r\n",
        "        First define the imports.\r\n",
        "           <br><br>"
      ]
    },
    {
      "cell_type": "code",
      "metadata": {
        "id": "p3m53cHwcnry"
      },
      "source": [
        "\r\n",
        "import numpy as np\r\n",
        "from math import sqrt\r\n",
        "# from statistics import NormalDist\r\n",
        "from statistics import stdev\r\n",
        "from scipy.stats import bernoulli\r\n",
        "from scipy.stats import norm\r\n",
        "from scipy.stats import t"
      ],
      "execution_count": 79,
      "outputs": []
    },
    {
      "cell_type": "markdown",
      "metadata": {
        "id": "H2EvcQQndDHq"
      },
      "source": [
        "<br><br>\r\n",
        "Now the functions\r\n",
        "<br><br>"
      ]
    },
    {
      "cell_type": "code",
      "metadata": {
        "id": "mu3ImlPIdKYQ"
      },
      "source": [
        "\r\n",
        "# define a CI for when a value is between + or - a critical value\r\n",
        "# pp_or_mean can be either a population proportion or a mean\r\n",
        "\r\n",
        "def calculate_two_tailed_confidence_interval(pp_or_mean, crtical_value,standard_error):\r\n",
        "    lcb = pp_or_mean - critical_value * standard_error;\r\n",
        "    ucb = pp_or_mean + critical_value * standard_error;\r\n",
        "    return [lcb,ucb]\r\n",
        "\r\n",
        "# similar, uses ppf which is inverse of cdf\r\n",
        "def calculate_two_tailed_confidence_interval2(mu, sigma, a):\r\n",
        "    alpha = a/2\r\n",
        "    upper_critical = 1-alpha\r\n",
        "    lower_critical = alpha\r\n",
        "    df = norm(loc=mu, scale=sigma)\r\n",
        "    lcb = df.ppf(upper_critical);\r\n",
        "    ucb = df.ppf(lower_critical);\r\n",
        "    return [lcb,ucb]\r\n",
        "\r\n",
        "\r\n",
        "def calculate_standard_error_of_mean(sigma,n):\r\n",
        "    return sigma / np.sqrt(n)\r\n",
        "\r\n",
        "# pp is population proportion\r\n",
        "def calculate_standard_error_of_pp(pp,n):\r\n",
        "    se_pp = sqrt(pp) * ( (1-pp) / n )\r\n",
        "    return se_pp\r\n",
        "\r\n",
        "\r\n",
        "# ppf takes a % like alpha and returns a value based on mean and standard deviation\r\n",
        "def calculate_value_from_pct(mu,sigma,alpha):\r\n",
        "    df = norm(loc=mu, scale=sigma)\r\n",
        "    pct = df.ppf(alpha)\r\n",
        "    return pct\r\n",
        "\r\n",
        "\r\n",
        "\r\n",
        "# cdf takes a value and returns a % like probability based on mean and standard deviation\r\n",
        "# the caller should subtract from 1 if necessary depending if over/under is required\r\n",
        "def calculate_pct_from_value(mu,sigma,x):\r\n",
        "    df = norm(loc=mu, scale=sigma)\r\n",
        "    pct = df.cdf(x)\r\n",
        "    return pct\r\n"
      ],
      "execution_count": 80,
      "outputs": []
    },
    {
      "cell_type": "markdown",
      "metadata": {
        "id": "XwjYuVHpdPOM"
      },
      "source": [
        "<br><br>\r\n",
        "1. \tThe weights of steers in a herd are distributed normally.  The variance is 40,000 and the mean steer weight is 1300 lbs.  Find the probability that the weight of a randomly selected steer is greater than 979 lbs. \r\n",
        "<br><br>"
      ]
    },
    {
      "cell_type": "code",
      "metadata": {
        "colab": {
          "base_uri": "https://localhost:8080/"
        },
        "id": "sySNqB_KddLE",
        "outputId": "07839dad-9ea7-4b31-a608-367c80797175"
      },
      "source": [
        "\r\n",
        "mu=1300  \r\n",
        "var=40000\r\n",
        "x=979\r\n",
        "sigma=sqrt(var)\r\n",
        " \r\n",
        "p = calculate_pct_from_value(mu,sigma,x)\r\n",
        "# the percent is now 5% so everything over is the 95%\r\n",
        "p_over_weight = 1 - p\r\n",
        "print(\"Probabiltiy that the steer is heavier than 979 lbs is {:0.4%}\".format(p_over_weight))\r\n"
      ],
      "execution_count": 81,
      "outputs": [
        {
          "output_type": "stream",
          "text": [
            "Probabiltiy that the steer is heavier than 979 lbs is 94.5753%\n"
          ],
          "name": "stdout"
        }
      ]
    },
    {
      "cell_type": "markdown",
      "metadata": {
        "id": "sJefSfmOd906"
      },
      "source": [
        "<br><br>\r\n",
        "2. SVGA monitors manufactured by TSI Electronics have life spans that have a normal distribution with a variance of 1,960,000 and a mean life span of 11,000 hours.  If a SVGA monitor is selected at random, find the probability that the life span of the monitor will be more than 8340 hours. (Round your answer to 4 decimal places)\r\n",
        "<br><br>"
      ]
    },
    {
      "cell_type": "code",
      "metadata": {
        "colab": {
          "base_uri": "https://localhost:8080/"
        },
        "id": "LaT-q-wUeGE8",
        "outputId": "dfeb9a2a-1ccc-4cc0-efd1-28aea9ec0911"
      },
      "source": [
        "\r\n",
        "var = 1960000\r\n",
        "sigma = var ** .5    # or math.sqrt(var)\r\n",
        "mu=11000\r\n",
        "x=8340\r\n",
        "\r\n",
        "p = calculate_pct_from_value(mu,sigma,x)\r\n",
        "p_life_over = 1 - p\r\n",
        "print(\"Probabiltiy that the monitor will last more than \", x, \" is {:0.4%}\".format(p_life_over))\r\n"
      ],
      "execution_count": 82,
      "outputs": [
        {
          "output_type": "stream",
          "text": [
            "Probabiltiy that the monitor will last more than  8340  is 97.1283%\n"
          ],
          "name": "stdout"
        }
      ]
    },
    {
      "cell_type": "markdown",
      "metadata": {
        "id": "FQTRYbSBeOAM"
      },
      "source": [
        "<br><br>\r\n",
        "3. Suppose the mean income of firms in the industry for a year is 80 million dollars with a standard deviation of 3 million dollars.  If incomes for the industry are distributed normally, what is the probability that a randomly selected firm will earn between 83 and 85 million dollars? (Round your answer to 4 decimal places)\r\n",
        "<br><br>\r\n"
      ]
    },
    {
      "cell_type": "code",
      "metadata": {
        "colab": {
          "base_uri": "https://localhost:8080/"
        },
        "id": "rtuG-rsDeUXX",
        "outputId": "7fcd86a9-1cfe-48c1-bc3f-817fa692dd1d"
      },
      "source": [
        "\r\n",
        "mu=80000000\r\n",
        "sigma=3000000\r\n",
        "dist = norm(mu, sigma)\r\n",
        "\r\n",
        "p = dist.cdf(85000000)-dist.cdf(83000000)  \r\n",
        "print(\"Probabiltiy of being between 88 and 90 is \", x, \" is {:0.4%}\".format(p ))\r\n"
      ],
      "execution_count": 83,
      "outputs": [
        {
          "output_type": "stream",
          "text": [
            "Probabiltiy of being between 88 and 90 is  8340  is 11.0865%\n"
          ],
          "name": "stdout"
        }
      ]
    },
    {
      "cell_type": "markdown",
      "metadata": {
        "id": "h3IQb69geYqI"
      },
      "source": [
        "<br><br>\r\n",
        "4. Suppose GRE Verbal scores are normally distributed with a mean of 456 and a standard deviation of 123.  A university plans to offer tutoring jobs to students whose scores are in the top 14%.  What is the minimum score required for the job offer?  Round your answer to the nearest whole number, if necessary.\r\n",
        "<br><br>"
      ]
    },
    {
      "cell_type": "code",
      "metadata": {
        "colab": {
          "base_uri": "https://localhost:8080/"
        },
        "id": "kkze3QiKejr2",
        "outputId": "66eb4179-f1fc-4e5e-8dd3-86a1c3ba71fa"
      },
      "source": [
        "\r\n",
        "mu=456\r\n",
        "sigma=123\r\n",
        "x=.86\r\n",
        "\r\n",
        "p = calculate_value_from_pct(mu,sigma,x)\r\n",
        "print(\"The minimum score to be in the top 14% is \", round(p))\r\n"
      ],
      "execution_count": 84,
      "outputs": [
        {
          "output_type": "stream",
          "text": [
            "The minimum score to be in the top 14% is  589\n"
          ],
          "name": "stdout"
        }
      ]
    },
    {
      "cell_type": "markdown",
      "metadata": {
        "id": "Sz4CoAEjepNI"
      },
      "source": [
        "\r\n",
        "<br><br>\r\n",
        "5. The lengths of nails produced in a factory are normally distributed with a mean of 6.13 centimeters and a standard deviation of 0.06 centimeters.  Find the two lengths that separate the top 7% and the bottom 7%.  These lengths could serve as limits used to identify which nails should be rejected.  Round your answer to the nearest hundredth, if necessary.\r\n",
        "<br><br>\r\n"
      ]
    },
    {
      "cell_type": "code",
      "metadata": {
        "colab": {
          "base_uri": "https://localhost:8080/"
        },
        "id": "MNr8diQ_e6m3",
        "outputId": "cd707074-c4c8-423a-ae0f-f3ec04bde66b"
      },
      "source": [
        "\r\n",
        "mu=6.13\r\n",
        "sigma=.06\r\n",
        "a=.14\r\n",
        "    \r\n",
        "critical_values=calculate_two_tailed_confidence_interval2(mu, sigma, a)\r\n",
        "\r\n",
        "print(\"We want to reject any nail less than {:0.3}\".format(critical_values[0]), \r\n",
        "      \" or greater than {:0.3}\".format(critical_values[1]))\r\n"
      ],
      "execution_count": 85,
      "outputs": [
        {
          "output_type": "stream",
          "text": [
            "We want to reject any nail less than 6.22  or greater than 6.04\n"
          ],
          "name": "stdout"
        }
      ]
    },
    {
      "cell_type": "markdown",
      "metadata": {
        "id": "dG0AcxX0fDp-"
      },
      "source": [
        "\r\n",
        "<br><br>\r\n",
        "6. An English professor assigns letter grades on a test according to the following scheme.\r\n",
        "\tA:  Top 13% of scores\r\n",
        "\tB:  Scores below the top 13% and above the bottom 55%\r\n",
        "\tC:  Scores below the top 45% and above the bottom 20%\r\n",
        "\tD:  Scores below the top 80% and above the bottom 9%\r\n",
        "\tF:  Bottom 9% of scores\r\n",
        "\tScores on the test are normally distributed with a mean of 78.8 and a standard deviation of 9.8.  Find the numerical limits for a C grade.  Round your answers to the nearest whole number, if necessary.\r\n",
        "\r\n",
        "<br><br>"
      ]
    },
    {
      "cell_type": "code",
      "metadata": {
        "colab": {
          "base_uri": "https://localhost:8080/"
        },
        "id": "T17liqM6fKZU",
        "outputId": "8f7e7507-ec0c-4d01-b1d7-c63194b11c3a"
      },
      "source": [
        "\r\n",
        "mu=78.8\r\n",
        "sigma=9.8\r\n",
        "p1=.20\r\n",
        "p2=.55\r\n",
        "df = norm(loc=mu, scale=sigma)   \r\n",
        "    \r\n",
        "c_lower = df.ppf(p1)\r\n",
        "c_upper = df.ppf(p2)\r\n",
        "print(\"The limits for a C are \", round(c_lower), \" and \", round(c_upper))\r\n"
      ],
      "execution_count": 86,
      "outputs": [
        {
          "output_type": "stream",
          "text": [
            "The limits for a C are  71  and  80\n"
          ],
          "name": "stdout"
        }
      ]
    },
    {
      "cell_type": "markdown",
      "metadata": {
        "id": "EZmx6dZSfPqC"
      },
      "source": [
        "<br><br>\r\n",
        "7. \tSuppose ACT Composite scores are normally distributed with a mean of 21.2 and a standard deviation of 5.4.  A university plans to admit students whose scores are in the top 45%.  What is the minimum score required for admission?  Round your answer to the nearest tenth, if necessary.\r\n",
        "<br><br>"
      ]
    },
    {
      "cell_type": "code",
      "metadata": {
        "colab": {
          "base_uri": "https://localhost:8080/"
        },
        "id": "tm0DoktlfVpI",
        "outputId": "cf9eb793-db2b-4fcd-bb74-d645c9e1cbc4"
      },
      "source": [
        "\r\n",
        "mu=21.2\r\n",
        "sigma=5.4\r\n",
        "p=.55\r\n",
        "\r\n",
        "  \r\n",
        "min_score = calculate_value_from_pct(mu,sigma,p)\r\n",
        "print(\"The minimum score to be in the top 45% is {:0.3}\".format(min_score))\r\n",
        "\r\n"
      ],
      "execution_count": 87,
      "outputs": [
        {
          "output_type": "stream",
          "text": [
            "The minimum score to be in the top 45% is 21.9\n"
          ],
          "name": "stdout"
        }
      ]
    },
    {
      "cell_type": "markdown",
      "metadata": {
        "id": "SrLWnRT4fkNx"
      },
      "source": [
        "<br><br>\r\n",
        "8. \tConsider the probability that less than 11 out of 151 students will not graduate on time.  Assume the probability that a given student will not graduate on time is 9%.  Approximate the probability using the normal distribution. (Round your answer to 4 decimal places.)\r\n",
        "<br><br>"
      ]
    },
    {
      "cell_type": "code",
      "metadata": {
        "colab": {
          "base_uri": "https://localhost:8080/"
        },
        "id": "ScepCPWvftnw",
        "outputId": "bc7dc574-b94b-4b9c-99dd-daab610abb5e"
      },
      "source": [
        "\r\n",
        "n=151\r\n",
        "s=11\r\n",
        "pp_no_graduate = s/n\r\n",
        "print(\"To Do\")"
      ],
      "execution_count": 88,
      "outputs": [
        {
          "output_type": "stream",
          "text": [
            "To Do\n"
          ],
          "name": "stdout"
        }
      ]
    },
    {
      "cell_type": "markdown",
      "metadata": {
        "id": "37Jn_VW_gT0v"
      },
      "source": [
        "\r\n",
        "<br><br>\r\n",
        "9. \tThe mean lifetime of a tire is 48 months with a standard deviation of 7.  If 147 tires are sampled, what is the probability that the mean of the sample would be greater than 48.83 months? (Round your answer to 4 decimal places)\r\n",
        "<br><br>"
      ]
    },
    {
      "cell_type": "code",
      "metadata": {
        "colab": {
          "base_uri": "https://localhost:8080/"
        },
        "id": "6toK-lwQggMG",
        "outputId": "2b6926a3-41b5-4768-c159-5e7706329bd5"
      },
      "source": [
        "\r\n",
        "mu=48\r\n",
        "sigma=7\r\n",
        "x=48.83\r\n",
        "\r\n",
        "df = norm(loc=mu, scale=sigma)   \r\n",
        "    \r\n",
        "pct = df.cdf(x)\r\n",
        "print(\"The probability of any one tire being > 48.83 is {:0.4}\".format(1-pct))\r\n"
      ],
      "execution_count": 89,
      "outputs": [
        {
          "output_type": "stream",
          "text": [
            "The probability of any one tire being > 48.83 is 0.4528\n"
          ],
          "name": "stdout"
        }
      ]
    },
    {
      "cell_type": "markdown",
      "metadata": {
        "id": "7UnSN74BgsQO"
      },
      "source": [
        "<br><br>\r\n",
        "\r\n",
        "10. \tThe quality control manager at a computer manufacturing company believes that the mean life of a computer is 91 months, with a standard deviation of 10.  <br>\r\n",
        "If he is correct, what is the probability that the mean of a sample of 68 computers would be greater than 93.54 months? (Round your answer to 4 decimal places)\r\n",
        "<br><br>"
      ]
    },
    {
      "cell_type": "code",
      "metadata": {
        "colab": {
          "base_uri": "https://localhost:8080/"
        },
        "id": "WEQHETIWg_CL",
        "outputId": "563f6b9a-6500-47e6-b7d3-168111fd0975"
      },
      "source": [
        "\r\n",
        "mu=91\r\n",
        "sigma=10\r\n",
        "x=93.54\r\n",
        "\r\n",
        "df = norm(loc=mu, scale=sigma)   \r\n",
        "    \r\n",
        "pct = df.cdf(x)\r\n",
        "print(\"The probability of any one computer being > 93.54 is {:0.4}\".format(1-pct))\r\n"
      ],
      "execution_count": 90,
      "outputs": [
        {
          "output_type": "stream",
          "text": [
            "The probability of any one computer being > 93.54 is 0.3997\n"
          ],
          "name": "stdout"
        }
      ]
    },
    {
      "cell_type": "markdown",
      "metadata": {
        "id": "yqgNFVNRhG30"
      },
      "source": [
        "<br><br>\r\n",
        "11. \tA director of reservations believes that 7% of the ticketed passengers are no-shows.  If the director is right, what is the probability that the proportion of no-shows in a sample of 540 ticketed passengers would differ from the population proportion by less than 3%? (Round your answer to 4 decimal places)\r\n",
        "<br><br>"
      ]
    },
    {
      "cell_type": "code",
      "metadata": {
        "colab": {
          "base_uri": "https://localhost:8080/"
        },
        "id": "jYAblMrBhcEZ",
        "outputId": "451e4683-d3b8-48be-8bb4-12743e9596ed"
      },
      "source": [
        "\r\n",
        "n=540\r\n",
        "pp_no_show = .07\r\n",
        "no_shows = n * pp_no_show\r\n",
        "print(\"To Do\")"
      ],
      "execution_count": 91,
      "outputs": [
        {
          "output_type": "stream",
          "text": [
            "To Do\n"
          ],
          "name": "stdout"
        }
      ]
    },
    {
      "cell_type": "markdown",
      "metadata": {
        "id": "ionQC27Dhepk"
      },
      "source": [
        "\r\n",
        "<br><br>\r\n",
        "12. \tA bottle maker believes that 23% of his bottles are defective.  If the bottle maker is accurate, what is the probability that the proportion of defective bottles in a sample of 602 bottles would differ from the population proportion by greater than 4%? (Round your answer to 4 decimal places)\r\n",
        "<br><br>"
      ]
    },
    {
      "cell_type": "code",
      "metadata": {
        "colab": {
          "base_uri": "https://localhost:8080/"
        },
        "id": "ocBw4BF9hl1o",
        "outputId": "17355259-351c-418b-8a8a-8796cdced18a"
      },
      "source": [
        "n=602\r\n",
        "pp_defects = .23\r\n",
        "defects=n * pp_defects\r\n",
        "print(\"To Do\")"
      ],
      "execution_count": 92,
      "outputs": [
        {
          "output_type": "stream",
          "text": [
            "To Do\n"
          ],
          "name": "stdout"
        }
      ]
    },
    {
      "cell_type": "markdown",
      "metadata": {
        "id": "p4ZpqQk6h5_Z"
      },
      "source": [
        "<br><br>\r\n",
        "13. \tA research company desires to know the mean consumption of beef per week among males over age 48.  Suppose a sample of size 208 is drawn with x ̅  = 3.9.  Assume ® = 0.8 .  Construct the 80% confidence interval for the mean number of lb. of beef per week among males over 48. (Round your answers to 1 decimal place) \r\n",
        "<br><br>"
      ]
    },
    {
      "cell_type": "code",
      "metadata": {
        "colab": {
          "base_uri": "https://localhost:8080/"
        },
        "id": "g73lNldZh_vc",
        "outputId": "620a601e-53f8-4e44-bb35-cbb9f60182a1"
      },
      "source": [
        "\r\n",
        "n=208\r\n",
        "mu = 3.9\r\n",
        "sigma = .08\r\n",
        "confidence_level = .8\r\n",
        "\r\n",
        "z_pct = (1 + confidence_level) / 2\r\n",
        "\r\n",
        "    # a zscore is the # of stdev's from the mean\r\n",
        "     # this translates a percent to a zscore\r\n",
        "critical_value = norm.ppf(z_pct)\r\n",
        "\r\n",
        "se_mean = calculate_standard_error_of_mean(sigma,n)\r\n",
        "\r\n",
        "confidence_interval = calculate_two_tailed_confidence_interval(mu, critical_value,se_mean)\r\n",
        "\r\n",
        "\r\n",
        "print ( \" The {:0.0%}\".format(confidence_level), \\\r\n",
        "       \"  confidence interval is between {:0.4}\".format(confidence_interval[0]), \\\r\n",
        "           \" and {:0.4}\".format(confidence_interval[1]))"
      ],
      "execution_count": 93,
      "outputs": [
        {
          "output_type": "stream",
          "text": [
            " The 80%   confidence interval is between 3.893  and 3.907\n"
          ],
          "name": "stdout"
        }
      ]
    },
    {
      "cell_type": "markdown",
      "metadata": {
        "id": "-ZxGnrhPjfBb"
      },
      "source": [
        "<br><br>\r\n",
        "14. \tAn economist wants to estimate the mean per capita income (in thousands of dollars) in a major city in California.  Suppose a sample of size 7472 is drawn with mean of x = 16.6.  Assume std dev = 11 .  Construct the 98% confidence interval for the mean per capita income. (Round your answers to 1 decimal place) \r\n",
        "<br><br>"
      ]
    },
    {
      "cell_type": "code",
      "metadata": {
        "colab": {
          "base_uri": "https://localhost:8080/"
        },
        "id": "9fRxH5Ozjpqn",
        "outputId": "e3edbfac-6bd2-45c0-985b-25b6c02fe659"
      },
      "source": [
        "\r\n",
        "n=7472\r\n",
        "mu = 16.6\r\n",
        "sigma = 11\r\n",
        "confidence_level = .98\r\n",
        "a = 1 - confidence_level\r\n",
        "alpha = a/2              # CL for a mean is an inner range\r\n",
        "z_pct = (1 + confidence_level) / 2\r\n",
        "\r\n",
        "\r\n",
        "    # a zscore is the # of stdev's from the mean\r\n",
        "     # this translates a percent to a zscore\r\n",
        "critical_value = norm.ppf(z_pct)\r\n",
        "\r\n",
        "se_mean = calculate_standard_error_of_mean(sigma,n)\r\n",
        "\r\n",
        "confidence_interval = calculate_two_tailed_confidence_interval(mu, critical_value,se_mean)\r\n",
        "\r\n",
        "\r\n",
        "print ( \" The {:0.0%}\".format(confidence_level), \\\r\n",
        "       \"  confidence interval is between \", round(confidence_interval[0],1), \\\r\n",
        "           \" and \", round(confidence_interval[1],1))\r\n"
      ],
      "execution_count": 94,
      "outputs": [
        {
          "output_type": "stream",
          "text": [
            " The 98%   confidence interval is between  16.3  and  16.9\n"
          ],
          "name": "stdout"
        }
      ]
    },
    {
      "cell_type": "markdown",
      "metadata": {
        "id": "iqaYE5vFksnD"
      },
      "source": [
        "\r\n",
        "<br><br>\r\n",
        "15. \tFind the value of t such that 0.05 of the area under the curve is to the left of t.  Assume the degrees of freedom equals 26<br>\r\n",
        "Step 1. Choose the picture which best describes the problem.\r\n",
        "<br><br>"
      ]
    },
    {
      "cell_type": "code",
      "metadata": {
        "colab": {
          "base_uri": "https://localhost:8080/"
        },
        "id": "4Rz89or1o-Z7",
        "outputId": "b6685083-1161-42f0-a81d-645b6b9fd954"
      },
      "source": [
        "print(\"The lop left picture is a left tail\")"
      ],
      "execution_count": 95,
      "outputs": [
        {
          "output_type": "stream",
          "text": [
            "The lop left picture is a left tail\n"
          ],
          "name": "stdout"
        }
      ]
    },
    {
      "cell_type": "markdown",
      "metadata": {
        "id": "7vqO13SdlK9O"
      },
      "source": [
        "<br><br>\r\n",
        "Step 2. Write your answer below. \r\n",
        "<br><br>\r\n"
      ]
    },
    {
      "cell_type": "code",
      "metadata": {
        "colab": {
          "base_uri": "https://localhost:8080/"
        },
        "id": "3unZKnRblWC-",
        "outputId": "cff17921-edbb-4aa8-c241-7eca8a01c388"
      },
      "source": [
        "guess = t.cdf(.05,df=26)\r\n",
        "print(\"My guess is \", guess, \"Im not sure how t works. Ill check back on this\")"
      ],
      "execution_count": 96,
      "outputs": [
        {
          "output_type": "stream",
          "text": [
            "My guess is  0.5197477359459028 Im not sure how t works. Ill check back on this\n"
          ],
          "name": "stdout"
        }
      ]
    },
    {
      "cell_type": "markdown",
      "metadata": {
        "id": "QTQEfoDglvCC"
      },
      "source": [
        "<br><br>\r\n",
        "16. \tThe following measurements ( in picocuries per liter ) were recorded by a set of helium gas detectors installed in a laboratory facility:  \r\n",
        "\t     383.6, 347.1, 371.9, 347.6, 325.8, 337\r\n",
        "\tUsing these measurements, construct a 90% confidence interval for the mean level of helium gas present in the facility.  Assume the population is normally distributed.  \r\n",
        "\r\n",
        "Step 1. Calculate the sample mean for the given sample data. (Round answer to 2 decimal places) \r\n",
        "\r\n",
        "\r\n",
        "Step 2. Calculate the sample standard deviation for the given sample data. (Round answer to 2 decimal places) \r\n",
        "\r\n",
        "\r\n",
        "Step 3. Find the critical value that should be used in constructing the confidence interval. (Round answer to 3 decimal places) \r\n",
        "\r\n",
        "\r\n",
        "Step 4. Construct the 90% confidence interval. (Round answer to 2 decimal places)\r\n",
        "\r\n",
        "<br><br>"
      ]
    },
    {
      "cell_type": "code",
      "metadata": {
        "colab": {
          "base_uri": "https://localhost:8080/"
        },
        "id": "XI27b2lul4t-",
        "outputId": "21cf0316-179f-48e7-ef38-b9503491879e"
      },
      "source": [
        "\r\n",
        "nums = [383.6, 347.1, 371.9, 347.6, 325.8, 337]\r\n",
        "\r\n",
        "mu = np.mean(nums)\r\n",
        "sigma = np.std(nums)\r\n",
        "confidence_level = .90\r\n",
        "a = 1 - confidence_level\r\n",
        "alpha = a/2              # CL for a mean is an inner range\r\n",
        "z_pct = (1 + confidence_level) / 2\r\n",
        "\r\n",
        "# in a normal distribution,\r\n",
        "#   critical_value = z score = the # of standard deviations we are confident about\r\n",
        "critical_value = norm.ppf(z_pct)\r\n",
        "\r\n",
        "# SE of mean\r\n",
        "se_mean = calculate_standard_error_of_mean(sigma,n)\r\n",
        "\r\n",
        "critical_value = norm.ppf(z_pct)\r\n",
        "\r\n",
        "se_mean = calculate_standard_error_of_mean(sigma,n)\r\n",
        "\r\n",
        "confidence_interval = calculate_two_tailed_confidence_interval(mu, critical_value,se_mean)\r\n",
        "\r\n",
        "\r\n",
        "    \r\n",
        "# The critical value for a 95% two-tailed test is ± 1.96\r\n",
        "\r\n",
        "print (\"The mean is \", round(mu,2))\r\n",
        "print (\"The stdev is \", round(sigma,2))\r\n",
        "print (\"The critical value  is {:0.3}\".format(critical_value))\r\n",
        "\r\n",
        "print ( \" The {:0.0%}\".format(confidence_level), \\\r\n",
        "       \"  confidence interval is between \", round(confidence_interval[0],1), \\\r\n",
        "           \" and \", round(confidence_interval[1],1))"
      ],
      "execution_count": 97,
      "outputs": [
        {
          "output_type": "stream",
          "text": [
            "The mean is  352.17\n",
            "The stdev is  19.79\n",
            "The critical value  is 1.64\n",
            " The 90%   confidence interval is between  351.8  and  352.5\n"
          ],
          "name": "stdout"
        }
      ]
    },
    {
      "cell_type": "markdown",
      "metadata": {
        "id": "nF9Kh_FZmUlF"
      },
      "source": [
        "\r\n",
        "<br><br>\r\n",
        "17. \tA random sample of 16 fields of spring wheat has a mean yield of 46.4 bushels per acre and standard deviation of 2.45 bushels per acre.  Determine the 80% confidence interval for the true mean yield.  Assume the population is normally distributed.  \r\n",
        "\r\n",
        "Step 1. Find the critical value that should be used in constructing the confidence interval. (Round answer to 3 decimal places) \r\n",
        "\r\n",
        "\r\n",
        "Step 2. Construct the 80% confidence interval. (Round answer to 1 decimal place)\r\n",
        "\r\n",
        "<br><br>"
      ]
    },
    {
      "cell_type": "code",
      "metadata": {
        "colab": {
          "base_uri": "https://localhost:8080/"
        },
        "id": "T3MOavtjmflk",
        "outputId": "bc05638c-b7c0-4869-e3ff-5059122b5ebd"
      },
      "source": [
        "\r\n",
        "n=16\r\n",
        "mu = 46.4\r\n",
        "sigma = 2.45\r\n",
        "confidence_level = .8\r\n",
        "\r\n",
        "z_pct = (1 + confidence_level) / 2\r\n",
        "\r\n",
        "  \r\n",
        "# in a normal distribution,\r\n",
        "#   critical_value = z score = the # of standard deviations we are confident about\r\n",
        "critical_value = norm.ppf(z_pct)\r\n",
        "\r\n",
        "\r\n",
        "se_mean = calculate_standard_error_of_mean(sigma,n)\r\n",
        "\r\n",
        "confidence_interval = calculate_two_tailed_confidence_interval(mu, critical_value,se_mean)\r\n",
        "\r\n",
        "\r\n",
        "print ( \" The {:0.0%}\".format(confidence_level), \\\r\n",
        "       \"  confidence interval is between {:0.4}\".format(confidence_interval[0]), \\\r\n",
        "           \" and {:0.4}\".format(confidence_interval[1]))"
      ],
      "execution_count": 98,
      "outputs": [
        {
          "output_type": "stream",
          "text": [
            " The 80%   confidence interval is between 45.62  and 47.18\n"
          ],
          "name": "stdout"
        }
      ]
    },
    {
      "cell_type": "markdown",
      "metadata": {
        "id": "4ZqaxT2umkoP"
      },
      "source": [
        "\r\n",
        "<br><br>\r\n",
        "18. \tA toy manufacturer wants to know how many new toys children buy each year.  She thinks the mean is 8 toys per year.  Assume a previous study found the standard deviation to be 1.9.  How large of a sample would be required in order to estimate the mean number of toys bought per child at the 99% confidence level with an error of at most 0.13 toys? (Round your answer up to the next integer)\r\n",
        "<br><br>\r\n"
      ]
    },
    {
      "cell_type": "code",
      "metadata": {
        "colab": {
          "base_uri": "https://localhost:8080/"
        },
        "id": "3KTul3cqmqXW",
        "outputId": "67a6bba0-f662-4273-cc67-76c2d6e10bc7"
      },
      "source": [
        "print(\"To Do\")"
      ],
      "execution_count": 99,
      "outputs": [
        {
          "output_type": "stream",
          "text": [
            "To Do\n"
          ],
          "name": "stdout"
        }
      ]
    },
    {
      "cell_type": "markdown",
      "metadata": {
        "id": "zJ7TZz74mwbm"
      },
      "source": [
        "<br><br>\r\n",
        "19. \tA research scientist wants to know how many times per hour a certain strand of bacteria reproduces.  He believes that the mean is 12.6.  Assume the variance is known to be 3.61.  How large of a sample would be required in order to estimate the mean number of reproductions per hour at the 95% confidence level with an error of at most 0.19 reproductions? (Round your answer up to the next integer)\r\n",
        "\r\n",
        "\r\n",
        "<br><br>\r\n"
      ]
    },
    {
      "cell_type": "code",
      "metadata": {
        "colab": {
          "base_uri": "https://localhost:8080/"
        },
        "id": "qaSngI4rm5t2",
        "outputId": "36d6db61-a840-4f7a-8b62-6fc19345ea72"
      },
      "source": [
        "print(\"To Do\")"
      ],
      "execution_count": 100,
      "outputs": [
        {
          "output_type": "stream",
          "text": [
            "To Do\n"
          ],
          "name": "stdout"
        }
      ]
    },
    {
      "cell_type": "markdown",
      "metadata": {
        "id": "YoPem1DIm6bD"
      },
      "source": [
        "<br><br>20. \tThe state education commission wants to estimate the fraction of tenth grade students that have reading skills at or below the eighth grade level.\r\n",
        "\r\n",
        "Step 1. Suppose a sample of 2089 tenth graders is drawn. Of the students sampled, 1734 read above the eighth grade level.  Using the data, estimate the proportion of tenth graders reading at or below the eighth grade level. (Write your answer as a fraction or a decimal number rounded to 3 decimal places) \r\n",
        "\r\n",
        "\r\n",
        "Step 2. Suppose a sample of 2089 tenth graders is drawn.  Of the students sampled, 1734 read above the eighth grade level.  Using the data, construct the 98% confidence interval for the population proportion of tenth graders reading at or below the eighth grade level. (Round your answers to 3 decimal places)\r\n",
        "<br><br>"
      ]
    },
    {
      "cell_type": "code",
      "metadata": {
        "colab": {
          "base_uri": "https://localhost:8080/"
        },
        "id": "k7MG1JP6nAzF",
        "outputId": "2b150ef9-3435-4491-9150-9f88cae0085c"
      },
      "source": [
        "print(\"To Do\")"
      ],
      "execution_count": 101,
      "outputs": [
        {
          "output_type": "stream",
          "text": [
            "To Do\n"
          ],
          "name": "stdout"
        }
      ]
    },
    {
      "cell_type": "markdown",
      "metadata": {
        "id": "YbwtS9oHnCnf"
      },
      "source": [
        "<br><br>\r\n",
        "21. \tAn environmentalist wants to find out the fraction of oil tankers that have spills each month.\r\n",
        "\r\n",
        "Step 1. Suppose a sample of 474 tankers is drawn.  Of these ships, 156 had spills.  Using the data, estimate the proportion of oil tankers that had spills. (Write your answer as a fraction or a decimal number rounded to 3 decimal places) \r\n",
        "\r\n",
        "\r\n",
        "\r\n",
        "Step 2. Suppose a sample of 474 tankers is drawn.  Of these ships, 156 had spills.  Using the data, construct the 95% confidence interval for the population proportion of oil tankers that have spills each month. (Round your answers to 3 decimal places)\r\n",
        "<br><br>"
      ]
    },
    {
      "cell_type": "code",
      "metadata": {
        "colab": {
          "base_uri": "https://localhost:8080/"
        },
        "id": "a5CQK0RLnLMu",
        "outputId": "0a878ad2-4081-4dc1-b955-3d5bf10bfc54"
      },
      "source": [
        "\r\n",
        "n = 474\r\n",
        "sample_pp = 156/n\r\n",
        "\r\n",
        "print ( \" The sample  proportion of oil tankers that had spills is {:0.3}\".format(sample_pp))\r\n",
        " \r\n",
        "confidence_level = .95\r\n",
        "\r\n",
        "se_pp = calculate_standard_error_of_pp(sample_pp,n)\r\n",
        "critical_value = norm.ppf(confidence_level)\r\n",
        "\r\n",
        "\r\n",
        "confidence_interval = calculate_two_tailed_confidence_interval(sample_pp, critical_value,se_pp)\r\n",
        "\r\n",
        "\r\n",
        "print ( \" The {:0.0%}\".format(confidence_level), \\\r\n",
        "       \"  confidence interval is between {:0.3}\".format(confidence_interval[0]), \\\r\n",
        "           \" and {:0.3}\".format(confidence_interval[1]))\r\n"
      ],
      "execution_count": 102,
      "outputs": [
        {
          "output_type": "stream",
          "text": [
            " The sample  proportion of oil tankers that had spills is 0.329\n",
            " The 95%   confidence interval is between 0.328  and 0.33\n"
          ],
          "name": "stdout"
        }
      ]
    }
  ]
}